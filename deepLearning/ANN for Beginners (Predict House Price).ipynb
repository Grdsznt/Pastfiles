{
 "cells": [
  {
   "cell_type": "markdown",
   "metadata": {},
   "source": [
    "# Artificial Neural Network for Beginners"
   ]
  },
  {
   "cell_type": "markdown",
   "metadata": {},
   "source": [
    "In this notebook, we'll go through the code to create your very first neural network to <span class=\"mark\">predict whether the house price is below or above median value</span>. We will go through the following in this notebook:\n",
    "\n",
    "- Exploring and Processing the Data\n",
    "- Building and Training our Neural Network\n",
    "- Visualizing Loss and Accuracy\n",
    "- Adding Regularization to our Neural Network\n",
    "\n",
    "The code is annotated throughout the notebook and you simply need to download the dataset [here](https://drive.google.com/file/d/1GfvKA0qznNVknghV4botnNxyH-KvODOC/view), put the dataset in the same folder as this notebook and run the code cells below or you may use the github raw file given in the notebook below. Note that the results you get might differ slightly as there is a degree of randomness in the way we split our dataset as well as the initialization of our neural network."
   ]
  },
  {
   "cell_type": "markdown",
   "metadata": {},
   "source": [
    "# Exploring and Processing the Data"
   ]
  },
  {
   "cell_type": "markdown",
   "metadata": {},
   "source": [
    "We first have to read in the CSV file that we've been given. We'll use a package called pandas for that:"
   ]
  },
  {
   "cell_type": "code",
   "execution_count": 1,
   "metadata": {
    "ExecuteTime": {
     "end_time": "2020-06-16T16:09:47.516686Z",
     "start_time": "2020-06-16T16:09:47.111029Z"
    }
   },
   "outputs": [],
   "source": [
    "import pandas as pd"
   ]
  },
  {
   "cell_type": "code",
   "execution_count": 2,
   "metadata": {
    "ExecuteTime": {
     "end_time": "2020-06-16T16:09:48.029425Z",
     "start_time": "2020-06-16T16:09:48.022364Z"
    }
   },
   "outputs": [],
   "source": [
    "df = pd.read_csv('https://raw.githubusercontent.com/dphi-official/Datasets/master/housepricedata.csv')"
   ]
  },
  {
   "cell_type": "code",
   "execution_count": 3,
   "metadata": {
    "ExecuteTime": {
     "end_time": "2020-06-16T16:09:49.092819Z",
     "start_time": "2020-06-16T16:09:49.078441Z"
    },
    "scrolled": true
   },
   "outputs": [
    {
     "data": {
      "text/plain": "      LotArea  OverallQual  OverallCond  TotalBsmtSF  FullBath  HalfBath  \\\n0        8450            7            5          856         2         1   \n1        9600            6            8         1262         2         0   \n2       11250            7            5          920         2         1   \n3        9550            7            5          756         1         0   \n4       14260            8            5         1145         2         1   \n...       ...          ...          ...          ...       ...       ...   \n1455     7917            6            5          953         2         1   \n1456    13175            6            6         1542         2         0   \n1457     9042            7            9         1152         2         0   \n1458     9717            5            6         1078         1         0   \n1459     9937            5            6         1256         1         1   \n\n      BedroomAbvGr  TotRmsAbvGrd  Fireplaces  GarageArea  AboveMedianPrice  \n0                3             8           0         548                 1  \n1                3             6           1         460                 1  \n2                3             6           1         608                 1  \n3                3             7           1         642                 0  \n4                4             9           1         836                 1  \n...            ...           ...         ...         ...               ...  \n1455             3             7           1         460                 1  \n1456             3             7           2         500                 1  \n1457             4             9           2         252                 1  \n1458             2             5           0         240                 0  \n1459             3             6           0         276                 0  \n\n[1460 rows x 11 columns]",
      "text/html": "<div>\n<style scoped>\n    .dataframe tbody tr th:only-of-type {\n        vertical-align: middle;\n    }\n\n    .dataframe tbody tr th {\n        vertical-align: top;\n    }\n\n    .dataframe thead th {\n        text-align: right;\n    }\n</style>\n<table border=\"1\" class=\"dataframe\">\n  <thead>\n    <tr style=\"text-align: right;\">\n      <th></th>\n      <th>LotArea</th>\n      <th>OverallQual</th>\n      <th>OverallCond</th>\n      <th>TotalBsmtSF</th>\n      <th>FullBath</th>\n      <th>HalfBath</th>\n      <th>BedroomAbvGr</th>\n      <th>TotRmsAbvGrd</th>\n      <th>Fireplaces</th>\n      <th>GarageArea</th>\n      <th>AboveMedianPrice</th>\n    </tr>\n  </thead>\n  <tbody>\n    <tr>\n      <th>0</th>\n      <td>8450</td>\n      <td>7</td>\n      <td>5</td>\n      <td>856</td>\n      <td>2</td>\n      <td>1</td>\n      <td>3</td>\n      <td>8</td>\n      <td>0</td>\n      <td>548</td>\n      <td>1</td>\n    </tr>\n    <tr>\n      <th>1</th>\n      <td>9600</td>\n      <td>6</td>\n      <td>8</td>\n      <td>1262</td>\n      <td>2</td>\n      <td>0</td>\n      <td>3</td>\n      <td>6</td>\n      <td>1</td>\n      <td>460</td>\n      <td>1</td>\n    </tr>\n    <tr>\n      <th>2</th>\n      <td>11250</td>\n      <td>7</td>\n      <td>5</td>\n      <td>920</td>\n      <td>2</td>\n      <td>1</td>\n      <td>3</td>\n      <td>6</td>\n      <td>1</td>\n      <td>608</td>\n      <td>1</td>\n    </tr>\n    <tr>\n      <th>3</th>\n      <td>9550</td>\n      <td>7</td>\n      <td>5</td>\n      <td>756</td>\n      <td>1</td>\n      <td>0</td>\n      <td>3</td>\n      <td>7</td>\n      <td>1</td>\n      <td>642</td>\n      <td>0</td>\n    </tr>\n    <tr>\n      <th>4</th>\n      <td>14260</td>\n      <td>8</td>\n      <td>5</td>\n      <td>1145</td>\n      <td>2</td>\n      <td>1</td>\n      <td>4</td>\n      <td>9</td>\n      <td>1</td>\n      <td>836</td>\n      <td>1</td>\n    </tr>\n    <tr>\n      <th>...</th>\n      <td>...</td>\n      <td>...</td>\n      <td>...</td>\n      <td>...</td>\n      <td>...</td>\n      <td>...</td>\n      <td>...</td>\n      <td>...</td>\n      <td>...</td>\n      <td>...</td>\n      <td>...</td>\n    </tr>\n    <tr>\n      <th>1455</th>\n      <td>7917</td>\n      <td>6</td>\n      <td>5</td>\n      <td>953</td>\n      <td>2</td>\n      <td>1</td>\n      <td>3</td>\n      <td>7</td>\n      <td>1</td>\n      <td>460</td>\n      <td>1</td>\n    </tr>\n    <tr>\n      <th>1456</th>\n      <td>13175</td>\n      <td>6</td>\n      <td>6</td>\n      <td>1542</td>\n      <td>2</td>\n      <td>0</td>\n      <td>3</td>\n      <td>7</td>\n      <td>2</td>\n      <td>500</td>\n      <td>1</td>\n    </tr>\n    <tr>\n      <th>1457</th>\n      <td>9042</td>\n      <td>7</td>\n      <td>9</td>\n      <td>1152</td>\n      <td>2</td>\n      <td>0</td>\n      <td>4</td>\n      <td>9</td>\n      <td>2</td>\n      <td>252</td>\n      <td>1</td>\n    </tr>\n    <tr>\n      <th>1458</th>\n      <td>9717</td>\n      <td>5</td>\n      <td>6</td>\n      <td>1078</td>\n      <td>1</td>\n      <td>0</td>\n      <td>2</td>\n      <td>5</td>\n      <td>0</td>\n      <td>240</td>\n      <td>0</td>\n    </tr>\n    <tr>\n      <th>1459</th>\n      <td>9937</td>\n      <td>5</td>\n      <td>6</td>\n      <td>1256</td>\n      <td>1</td>\n      <td>1</td>\n      <td>3</td>\n      <td>6</td>\n      <td>0</td>\n      <td>276</td>\n      <td>0</td>\n    </tr>\n  </tbody>\n</table>\n<p>1460 rows × 11 columns</p>\n</div>"
     },
     "execution_count": 3,
     "metadata": {},
     "output_type": "execute_result"
    }
   ],
   "source": [
    "df"
   ]
  },
  {
   "cell_type": "markdown",
   "metadata": {},
   "source": [
    "The dataset that we have now is in what we call a pandas dataframe. To convert it to an array, simply access its values:"
   ]
  },
  {
   "cell_type": "code",
   "execution_count": 4,
   "metadata": {
    "ExecuteTime": {
     "end_time": "2020-06-16T16:10:44.855057Z",
     "start_time": "2020-06-16T16:10:44.852607Z"
    }
   },
   "outputs": [],
   "source": [
    "dataset = df.values"
   ]
  },
  {
   "cell_type": "code",
   "execution_count": 5,
   "metadata": {
    "ExecuteTime": {
     "end_time": "2020-06-16T16:10:45.668296Z",
     "start_time": "2020-06-16T16:10:45.664574Z"
    }
   },
   "outputs": [
    {
     "data": {
      "text/plain": "array([[ 8450,     7,     5, ...,     0,   548,     1],\n       [ 9600,     6,     8, ...,     1,   460,     1],\n       [11250,     7,     5, ...,     1,   608,     1],\n       ...,\n       [ 9042,     7,     9, ...,     2,   252,     1],\n       [ 9717,     5,     6, ...,     0,   240,     0],\n       [ 9937,     5,     6, ...,     0,   276,     0]], dtype=int64)"
     },
     "execution_count": 5,
     "metadata": {},
     "output_type": "execute_result"
    }
   ],
   "source": [
    "dataset"
   ]
  },
  {
   "cell_type": "markdown",
   "metadata": {},
   "source": [
    "Now, we split the dataset into our input features and the label we wish to predict."
   ]
  },
  {
   "cell_type": "code",
   "execution_count": 6,
   "metadata": {
    "ExecuteTime": {
     "end_time": "2020-06-16T16:10:46.995675Z",
     "start_time": "2020-06-16T16:10:46.992894Z"
    }
   },
   "outputs": [],
   "source": [
    "X = dataset[:,0:10]\n",
    "Y = dataset[:,10]"
   ]
  },
  {
   "cell_type": "markdown",
   "metadata": {},
   "source": [
    "Normalizing our data is very important, as we want the input features to be on the same order of magnitude to make our training easier. We'll use a min-max scaler from scikit-learn which scales our data to be between 0 and 1."
   ]
  },
  {
   "cell_type": "code",
   "execution_count": 7,
   "metadata": {
    "ExecuteTime": {
     "end_time": "2020-06-16T16:10:51.909448Z",
     "start_time": "2020-06-16T16:10:49.654766Z"
    }
   },
   "outputs": [],
   "source": [
    "from sklearn import preprocessing"
   ]
  },
  {
   "cell_type": "code",
   "execution_count": 8,
   "metadata": {
    "ExecuteTime": {
     "end_time": "2020-06-16T16:10:53.376932Z",
     "start_time": "2020-06-16T16:10:53.373614Z"
    }
   },
   "outputs": [],
   "source": [
    "min_max_scaler = preprocessing.MinMaxScaler()\n",
    "X_scale = min_max_scaler.fit_transform(X)"
   ]
  },
  {
   "cell_type": "code",
   "execution_count": 9,
   "metadata": {
    "ExecuteTime": {
     "end_time": "2020-06-16T16:10:53.650962Z",
     "start_time": "2020-06-16T16:10:53.646873Z"
    }
   },
   "outputs": [
    {
     "data": {
      "text/plain": "array([[0.0334198 , 0.66666667, 0.5       , ..., 0.5       , 0.        ,\n        0.3864598 ],\n       [0.03879502, 0.55555556, 0.875     , ..., 0.33333333, 0.33333333,\n        0.32440056],\n       [0.04650728, 0.66666667, 0.5       , ..., 0.33333333, 0.33333333,\n        0.42877292],\n       ...,\n       [0.03618687, 0.66666667, 1.        , ..., 0.58333333, 0.66666667,\n        0.17771509],\n       [0.03934189, 0.44444444, 0.625     , ..., 0.25      , 0.        ,\n        0.16925247],\n       [0.04037019, 0.44444444, 0.625     , ..., 0.33333333, 0.        ,\n        0.19464034]])"
     },
     "execution_count": 9,
     "metadata": {},
     "output_type": "execute_result"
    }
   ],
   "source": [
    "X_scale"
   ]
  },
  {
   "cell_type": "markdown",
   "metadata": {},
   "source": [
    "Lastly, we wish to set aside some parts of our dataset for a validation set and a test set. We use the function train_test_split from scikit-learn to do that."
   ]
  },
  {
   "cell_type": "code",
   "execution_count": 10,
   "metadata": {
    "ExecuteTime": {
     "end_time": "2020-06-16T16:10:58.154952Z",
     "start_time": "2020-06-16T16:10:55.363926Z"
    }
   },
   "outputs": [],
   "source": [
    "from sklearn.model_selection import train_test_split"
   ]
  },
  {
   "cell_type": "code",
   "execution_count": 11,
   "metadata": {
    "ExecuteTime": {
     "end_time": "2020-06-16T16:10:58.184749Z",
     "start_time": "2020-06-16T16:10:58.181110Z"
    }
   },
   "outputs": [],
   "source": [
    "X_train, X_val_and_test, Y_train, Y_val_and_test = train_test_split(X_scale, Y, test_size=0.3)"
   ]
  },
  {
   "cell_type": "code",
   "execution_count": 12,
   "metadata": {
    "ExecuteTime": {
     "end_time": "2020-06-16T16:10:58.216082Z",
     "start_time": "2020-06-16T16:10:58.212374Z"
    }
   },
   "outputs": [],
   "source": [
    "X_val, X_test, Y_val, Y_test = train_test_split(X_val_and_test, Y_val_and_test, test_size=0.5)"
   ]
  },
  {
   "cell_type": "code",
   "execution_count": 13,
   "metadata": {
    "ExecuteTime": {
     "end_time": "2020-06-16T16:10:58.251601Z",
     "start_time": "2020-06-16T16:10:58.248348Z"
    }
   },
   "outputs": [
    {
     "name": "stdout",
     "output_type": "stream",
     "text": [
      "(1022, 10) (219, 10) (219, 10) (1022,) (219,) (219,)\n"
     ]
    }
   ],
   "source": [
    "print(X_train.shape, X_val.shape, X_test.shape, Y_train.shape, Y_val.shape, Y_test.shape)"
   ]
  },
  {
   "cell_type": "markdown",
   "metadata": {},
   "source": [
    "# Building and Training Our First Neural Network"
   ]
  },
  {
   "cell_type": "markdown",
   "metadata": {},
   "source": [
    "We will be using Keras to build our architecture. Let's import the code from Keras that we will need to use:"
   ]
  },
  {
   "cell_type": "code",
   "execution_count": 14,
   "metadata": {
    "scrolled": true
   },
   "outputs": [
    {
     "name": "stdout",
     "output_type": "stream",
     "text": [
      "Collecting tensorflow\n",
      "  Downloading tensorflow-2.13.0-cp38-cp38-win_amd64.whl (1.9 kB)\n",
      "Collecting tensorflow-intel==2.13.0\n",
      "  Downloading tensorflow_intel-2.13.0-cp38-cp38-win_amd64.whl (276.5 MB)\n",
      "     ------------------------------------- 276.5/276.5 MB 13.3 MB/s eta 0:00:00\n",
      "Requirement already satisfied: packaging in c:\\users\\edwin\\anaconda3\\envs\\financevenv\\lib\\site-packages (from tensorflow-intel==2.13.0->tensorflow) (21.3)\n",
      "Collecting gast<=0.4.0,>=0.2.1\n",
      "  Downloading gast-0.4.0-py3-none-any.whl (9.8 kB)\n",
      "Collecting opt-einsum>=2.3.2\n",
      "  Downloading opt_einsum-3.3.0-py3-none-any.whl (65 kB)\n",
      "     ---------------------------------------- 65.5/65.5 kB ? eta 0:00:00\n",
      "Collecting astunparse>=1.6.0\n",
      "  Downloading astunparse-1.6.3-py2.py3-none-any.whl (12 kB)\n",
      "Collecting protobuf!=4.21.0,!=4.21.1,!=4.21.2,!=4.21.3,!=4.21.4,!=4.21.5,<5.0.0dev,>=3.20.3\n",
      "  Downloading protobuf-4.24.0-cp38-cp38-win_amd64.whl (430 kB)\n",
      "     ------------------------------------- 430.6/430.6 kB 28.0 MB/s eta 0:00:00\n",
      "Collecting keras<2.14,>=2.13.1\n",
      "  Downloading keras-2.13.1-py3-none-any.whl (1.7 MB)\n",
      "     ---------------------------------------- 1.7/1.7 MB 54.6 MB/s eta 0:00:00\n",
      "Requirement already satisfied: six>=1.12.0 in c:\\users\\edwin\\anaconda3\\envs\\financevenv\\lib\\site-packages (from tensorflow-intel==2.13.0->tensorflow) (1.16.0)\n",
      "Collecting libclang>=13.0.0\n",
      "  Downloading libclang-16.0.6-py2.py3-none-win_amd64.whl (24.4 MB)\n",
      "     --------------------------------------- 24.4/24.4 MB 46.9 MB/s eta 0:00:00\n",
      "Requirement already satisfied: numpy<=1.24.3,>=1.22 in c:\\users\\edwin\\anaconda3\\envs\\financevenv\\lib\\site-packages (from tensorflow-intel==2.13.0->tensorflow) (1.23.4)\n",
      "Collecting h5py>=2.9.0\n",
      "  Downloading h5py-3.9.0-cp38-cp38-win_amd64.whl (2.7 MB)\n",
      "     ---------------------------------------- 2.7/2.7 MB 57.2 MB/s eta 0:00:00\n",
      "Collecting absl-py>=1.0.0\n",
      "  Downloading absl_py-1.4.0-py3-none-any.whl (126 kB)\n",
      "     ---------------------------------------- 126.5/126.5 kB ? eta 0:00:00\n",
      "Collecting tensorboard<2.14,>=2.13\n",
      "  Downloading tensorboard-2.13.0-py3-none-any.whl (5.6 MB)\n",
      "     ---------------------------------------- 5.6/5.6 MB 71.3 MB/s eta 0:00:00\n",
      "Collecting grpcio<2.0,>=1.24.3\n",
      "  Downloading grpcio-1.57.0-cp38-cp38-win_amd64.whl (4.3 MB)\n",
      "     ---------------------------------------- 4.3/4.3 MB 68.2 MB/s eta 0:00:00\n",
      "Collecting tensorflow-io-gcs-filesystem>=0.23.1\n",
      "  Downloading tensorflow_io_gcs_filesystem-0.31.0-cp38-cp38-win_amd64.whl (1.5 MB)\n",
      "     ---------------------------------------- 1.5/1.5 MB 47.6 MB/s eta 0:00:00\n",
      "Collecting wrapt>=1.11.0\n",
      "  Downloading wrapt-1.15.0-cp38-cp38-win_amd64.whl (36 kB)\n",
      "Collecting tensorflow-estimator<2.14,>=2.13.0\n",
      "  Downloading tensorflow_estimator-2.13.0-py2.py3-none-any.whl (440 kB)\n",
      "     ---------------------------------------- 440.8/440.8 kB ? eta 0:00:00\n",
      "Collecting flatbuffers>=23.1.21\n",
      "  Downloading flatbuffers-23.5.26-py2.py3-none-any.whl (26 kB)\n",
      "Collecting termcolor>=1.1.0\n",
      "  Downloading termcolor-2.3.0-py3-none-any.whl (6.9 kB)\n",
      "Requirement already satisfied: setuptools in c:\\users\\edwin\\anaconda3\\envs\\financevenv\\lib\\site-packages (from tensorflow-intel==2.13.0->tensorflow) (65.5.0)\n",
      "Requirement already satisfied: typing-extensions<4.6.0,>=3.6.6 in c:\\users\\edwin\\anaconda3\\envs\\financevenv\\lib\\site-packages (from tensorflow-intel==2.13.0->tensorflow) (4.3.0)\n",
      "Collecting google-pasta>=0.1.1\n",
      "  Downloading google_pasta-0.2.0-py3-none-any.whl (57 kB)\n",
      "     ---------------------------------------- 57.5/57.5 kB ? eta 0:00:00\n",
      "Requirement already satisfied: wheel<1.0,>=0.23.0 in c:\\users\\edwin\\anaconda3\\envs\\financevenv\\lib\\site-packages (from astunparse>=1.6.0->tensorflow-intel==2.13.0->tensorflow) (0.37.1)\n",
      "Collecting tensorboard-data-server<0.8.0,>=0.7.0\n",
      "  Downloading tensorboard_data_server-0.7.1-py3-none-any.whl (2.4 kB)\n",
      "Collecting werkzeug>=1.0.1\n",
      "  Downloading werkzeug-2.3.7-py3-none-any.whl (242 kB)\n",
      "     ------------------------------------- 242.2/242.2 kB 14.5 MB/s eta 0:00:00\n",
      "Collecting markdown>=2.6.8\n",
      "  Downloading Markdown-3.4.4-py3-none-any.whl (94 kB)\n",
      "     ---------------------------------------- 94.2/94.2 kB ? eta 0:00:00\n",
      "Collecting google-auth-oauthlib<1.1,>=0.5\n",
      "  Downloading google_auth_oauthlib-1.0.0-py2.py3-none-any.whl (18 kB)\n",
      "Collecting google-auth<3,>=1.6.3\n",
      "  Downloading google_auth-2.22.0-py2.py3-none-any.whl (181 kB)\n",
      "     ---------------------------------------- 181.8/181.8 kB ? eta 0:00:00\n",
      "Requirement already satisfied: requests<3,>=2.21.0 in c:\\users\\edwin\\anaconda3\\envs\\financevenv\\lib\\site-packages (from tensorboard<2.14,>=2.13->tensorflow-intel==2.13.0->tensorflow) (2.28.1)\n",
      "Requirement already satisfied: pyparsing!=3.0.5,>=2.0.2 in c:\\users\\edwin\\anaconda3\\envs\\financevenv\\lib\\site-packages (from packaging->tensorflow-intel==2.13.0->tensorflow) (3.0.9)\n",
      "Collecting cachetools<6.0,>=2.0.0\n",
      "  Downloading cachetools-5.3.1-py3-none-any.whl (9.3 kB)\n",
      "Requirement already satisfied: urllib3<2.0 in c:\\users\\edwin\\anaconda3\\envs\\financevenv\\lib\\site-packages (from google-auth<3,>=1.6.3->tensorboard<2.14,>=2.13->tensorflow-intel==2.13.0->tensorflow) (1.26.12)\n",
      "Collecting pyasn1-modules>=0.2.1\n",
      "  Downloading pyasn1_modules-0.3.0-py2.py3-none-any.whl (181 kB)\n",
      "     ---------------------------------------- 181.3/181.3 kB ? eta 0:00:00\n",
      "Collecting rsa<5,>=3.1.4\n",
      "  Downloading rsa-4.9-py3-none-any.whl (34 kB)\n",
      "Collecting requests-oauthlib>=0.7.0\n",
      "  Downloading requests_oauthlib-1.3.1-py2.py3-none-any.whl (23 kB)\n",
      "Requirement already satisfied: importlib-metadata>=4.4 in c:\\users\\edwin\\anaconda3\\envs\\financevenv\\lib\\site-packages (from markdown>=2.6.8->tensorboard<2.14,>=2.13->tensorflow-intel==2.13.0->tensorflow) (4.11.3)\n",
      "Requirement already satisfied: charset-normalizer<3,>=2 in c:\\users\\edwin\\anaconda3\\envs\\financevenv\\lib\\site-packages (from requests<3,>=2.21.0->tensorboard<2.14,>=2.13->tensorflow-intel==2.13.0->tensorflow) (2.0.4)\n",
      "Requirement already satisfied: idna<4,>=2.5 in c:\\users\\edwin\\anaconda3\\envs\\financevenv\\lib\\site-packages (from requests<3,>=2.21.0->tensorboard<2.14,>=2.13->tensorflow-intel==2.13.0->tensorflow) (3.4)\n",
      "Requirement already satisfied: certifi>=2017.4.17 in c:\\users\\edwin\\anaconda3\\envs\\financevenv\\lib\\site-packages (from requests<3,>=2.21.0->tensorboard<2.14,>=2.13->tensorflow-intel==2.13.0->tensorflow) (2023.5.7)\n",
      "Requirement already satisfied: MarkupSafe>=2.1.1 in c:\\users\\edwin\\anaconda3\\envs\\financevenv\\lib\\site-packages (from werkzeug>=1.0.1->tensorboard<2.14,>=2.13->tensorflow-intel==2.13.0->tensorflow) (2.1.1)\n",
      "Requirement already satisfied: zipp>=0.5 in c:\\users\\edwin\\anaconda3\\envs\\financevenv\\lib\\site-packages (from importlib-metadata>=4.4->markdown>=2.6.8->tensorboard<2.14,>=2.13->tensorflow-intel==2.13.0->tensorflow) (3.8.0)\n",
      "Collecting pyasn1<0.6.0,>=0.4.6\n",
      "  Downloading pyasn1-0.5.0-py2.py3-none-any.whl (83 kB)\n",
      "     ---------------------------------------- 83.9/83.9 kB ? eta 0:00:00\n",
      "Collecting oauthlib>=3.0.0\n",
      "  Downloading oauthlib-3.2.2-py3-none-any.whl (151 kB)\n",
      "     -------------------------------------- 151.7/151.7 kB 8.8 MB/s eta 0:00:00\n",
      "Installing collected packages: libclang, flatbuffers, wrapt, werkzeug, termcolor, tensorflow-io-gcs-filesystem, tensorflow-estimator, tensorboard-data-server, pyasn1, protobuf, opt-einsum, oauthlib, keras, h5py, grpcio, google-pasta, gast, cachetools, astunparse, absl-py, rsa, requests-oauthlib, pyasn1-modules, markdown, google-auth, google-auth-oauthlib, tensorboard, tensorflow-intel, tensorflow\n",
      "Successfully installed absl-py-1.4.0 astunparse-1.6.3 cachetools-5.3.1 flatbuffers-23.5.26 gast-0.4.0 google-auth-2.22.0 google-auth-oauthlib-1.0.0 google-pasta-0.2.0 grpcio-1.57.0 h5py-3.9.0 keras-2.13.1 libclang-16.0.6 markdown-3.4.4 oauthlib-3.2.2 opt-einsum-3.3.0 protobuf-4.24.0 pyasn1-0.5.0 pyasn1-modules-0.3.0 requests-oauthlib-1.3.1 rsa-4.9 tensorboard-2.13.0 tensorboard-data-server-0.7.1 tensorflow-2.13.0 tensorflow-estimator-2.13.0 tensorflow-intel-2.13.0 tensorflow-io-gcs-filesystem-0.31.0 termcolor-2.3.0 werkzeug-2.3.7 wrapt-1.15.0\n"
     ]
    }
   ],
   "source": [
    "!pip install tensorflow"
   ]
  },
  {
   "cell_type": "code",
   "execution_count": 15,
   "metadata": {
    "ExecuteTime": {
     "end_time": "2020-06-16T16:15:27.786058Z",
     "start_time": "2020-06-16T16:15:27.783646Z"
    }
   },
   "outputs": [],
   "source": [
    "import tensorflow as tf\n",
    "from tensorflow import keras"
   ]
  },
  {
   "cell_type": "code",
   "execution_count": 16,
   "metadata": {
    "ExecuteTime": {
     "end_time": "2020-06-16T16:15:39.336308Z",
     "start_time": "2020-06-16T16:15:39.333969Z"
    }
   },
   "outputs": [],
   "source": [
    "from tensorflow.keras import layers"
   ]
  },
  {
   "cell_type": "markdown",
   "metadata": {},
   "source": [
    "We will be using the Sequential model, which means that we merely need to describe the layers above in sequence. Our neural network has three layers:\n",
    "\n",
    "- Hidden layer 1: 32 neurons, ReLU activation\n",
    "- Hidden layer 2: 32 neurons, ReLU activation\n",
    "- Output Layer: 1 neuron, Sigmoid activation"
   ]
  },
  {
   "cell_type": "code",
   "execution_count": 17,
   "metadata": {
    "ExecuteTime": {
     "end_time": "2020-06-16T16:16:24.208233Z",
     "start_time": "2020-06-16T16:16:24.153952Z"
    }
   },
   "outputs": [],
   "source": [
    "model = tf.keras.Sequential([\n",
    "    layers.Dense(32, activation='relu', input_shape=(10,)),\n",
    "    layers.Dense(32, activation='relu'),\n",
    "    layers.Dense(1, activation='sigmoid'),\n",
    "])"
   ]
  },
  {
   "cell_type": "markdown",
   "metadata": {},
   "source": [
    "Now that we've got our architecture specified, we need to find the best numbers for it. Before we start our training, we have to configure the model by\n",
    "- Telling it what algorithm you want to use to do the optimization (we'll use stochastic gradient descent)\n",
    "- Telling it what loss function to use (for binary classification, we will use binary cross entropy)\n",
    "- Telling it what other metrics you want to track apart from the loss function (we want to track accuracy as well)\n",
    "\n",
    "We do so below:"
   ]
  },
  {
   "cell_type": "code",
   "execution_count": 20,
   "metadata": {
    "ExecuteTime": {
     "end_time": "2020-06-16T16:16:28.599400Z",
     "start_time": "2020-06-16T16:16:28.589787Z"
    }
   },
   "outputs": [],
   "source": [
    "model.compile(optimizer='sgd',\n",
    "              loss='binary_crossentropy',\n",
    "              metrics=['accuracy'])"
   ]
  },
  {
   "cell_type": "markdown",
   "metadata": {},
   "source": [
    "Training on the data is pretty straightforward and requires us to write one line of code. The function is called 'fit' as we are fitting the parameters to the data. We specify:\n",
    "- what data we are training on, which is X_train and Y_train\n",
    "- the size of our mini-batch \n",
    "- how long we want to train it for (epochs)\n",
    "- what our validation data is so that the model will tell us how we are doing on the validation data at each point.\n",
    "\n",
    "This function will output a history, which we save under the variable hist. We'll use this variable a little later."
   ]
  },
  {
   "cell_type": "code",
   "execution_count": 21,
   "metadata": {
    "ExecuteTime": {
     "end_time": "2020-06-16T16:16:41.363963Z",
     "start_time": "2020-06-16T16:16:35.871263Z"
    }
   },
   "outputs": [
    {
     "name": "stdout",
     "output_type": "stream",
     "text": [
      "Epoch 1/100\n",
      "32/32 [==============================] - 1s 6ms/step - loss: 0.7049 - accuracy: 0.4892 - val_loss: 0.6998 - val_accuracy: 0.4932\n",
      "Epoch 2/100\n",
      "32/32 [==============================] - 0s 1ms/step - loss: 0.6961 - accuracy: 0.5137 - val_loss: 0.6930 - val_accuracy: 0.5251\n",
      "Epoch 3/100\n",
      "32/32 [==============================] - 0s 1ms/step - loss: 0.6897 - accuracy: 0.5734 - val_loss: 0.6878 - val_accuracy: 0.5753\n",
      "Epoch 4/100\n",
      "32/32 [==============================] - 0s 1ms/step - loss: 0.6845 - accuracy: 0.5920 - val_loss: 0.6830 - val_accuracy: 0.6164\n",
      "Epoch 5/100\n",
      "32/32 [==============================] - 0s 2ms/step - loss: 0.6797 - accuracy: 0.6438 - val_loss: 0.6782 - val_accuracy: 0.6347\n",
      "Epoch 6/100\n",
      "32/32 [==============================] - 0s 2ms/step - loss: 0.6746 - accuracy: 0.6438 - val_loss: 0.6731 - val_accuracy: 0.6712\n",
      "Epoch 7/100\n",
      "32/32 [==============================] - 0s 1ms/step - loss: 0.6698 - accuracy: 0.6673 - val_loss: 0.6683 - val_accuracy: 0.6712\n",
      "Epoch 8/100\n",
      "32/32 [==============================] - 0s 1ms/step - loss: 0.6652 - accuracy: 0.6732 - val_loss: 0.6635 - val_accuracy: 0.7215\n",
      "Epoch 9/100\n",
      "32/32 [==============================] - 0s 1ms/step - loss: 0.6606 - accuracy: 0.7221 - val_loss: 0.6587 - val_accuracy: 0.7352\n",
      "Epoch 10/100\n",
      "32/32 [==============================] - 0s 1ms/step - loss: 0.6561 - accuracy: 0.7270 - val_loss: 0.6536 - val_accuracy: 0.7489\n",
      "Epoch 11/100\n",
      "32/32 [==============================] - 0s 1ms/step - loss: 0.6513 - accuracy: 0.7730 - val_loss: 0.6485 - val_accuracy: 0.7671\n",
      "Epoch 12/100\n",
      "32/32 [==============================] - 0s 1ms/step - loss: 0.6463 - accuracy: 0.7838 - val_loss: 0.6431 - val_accuracy: 0.7854\n",
      "Epoch 13/100\n",
      "32/32 [==============================] - 0s 1ms/step - loss: 0.6412 - accuracy: 0.7877 - val_loss: 0.6374 - val_accuracy: 0.8082\n",
      "Epoch 14/100\n",
      "32/32 [==============================] - 0s 1ms/step - loss: 0.6356 - accuracy: 0.8151 - val_loss: 0.6317 - val_accuracy: 0.8037\n",
      "Epoch 15/100\n",
      "32/32 [==============================] - 0s 1ms/step - loss: 0.6297 - accuracy: 0.8023 - val_loss: 0.6254 - val_accuracy: 0.8128\n",
      "Epoch 16/100\n",
      "32/32 [==============================] - 0s 1ms/step - loss: 0.6236 - accuracy: 0.8239 - val_loss: 0.6188 - val_accuracy: 0.8265\n",
      "Epoch 17/100\n",
      "32/32 [==============================] - 0s 1ms/step - loss: 0.6172 - accuracy: 0.8297 - val_loss: 0.6119 - val_accuracy: 0.8311\n",
      "Epoch 18/100\n",
      "32/32 [==============================] - 0s 2ms/step - loss: 0.6105 - accuracy: 0.8395 - val_loss: 0.6049 - val_accuracy: 0.8311\n",
      "Epoch 19/100\n",
      "32/32 [==============================] - 0s 2ms/step - loss: 0.6036 - accuracy: 0.8395 - val_loss: 0.5974 - val_accuracy: 0.8311\n",
      "Epoch 20/100\n",
      "32/32 [==============================] - 0s 1ms/step - loss: 0.5962 - accuracy: 0.8434 - val_loss: 0.5896 - val_accuracy: 0.8402\n",
      "Epoch 21/100\n",
      "32/32 [==============================] - 0s 1ms/step - loss: 0.5886 - accuracy: 0.8444 - val_loss: 0.5815 - val_accuracy: 0.8493\n",
      "Epoch 22/100\n",
      "32/32 [==============================] - 0s 1ms/step - loss: 0.5807 - accuracy: 0.8474 - val_loss: 0.5731 - val_accuracy: 0.8539\n",
      "Epoch 23/100\n",
      "32/32 [==============================] - 0s 2ms/step - loss: 0.5728 - accuracy: 0.8493 - val_loss: 0.5645 - val_accuracy: 0.8539\n",
      "Epoch 24/100\n",
      "32/32 [==============================] - 0s 2ms/step - loss: 0.5641 - accuracy: 0.8542 - val_loss: 0.5557 - val_accuracy: 0.8539\n",
      "Epoch 25/100\n",
      "32/32 [==============================] - 0s 1ms/step - loss: 0.5556 - accuracy: 0.8513 - val_loss: 0.5464 - val_accuracy: 0.8584\n",
      "Epoch 26/100\n",
      "32/32 [==============================] - 0s 2ms/step - loss: 0.5467 - accuracy: 0.8523 - val_loss: 0.5371 - val_accuracy: 0.8584\n",
      "Epoch 27/100\n",
      "32/32 [==============================] - 0s 2ms/step - loss: 0.5376 - accuracy: 0.8571 - val_loss: 0.5276 - val_accuracy: 0.8584\n",
      "Epoch 28/100\n",
      "32/32 [==============================] - 0s 2ms/step - loss: 0.5284 - accuracy: 0.8650 - val_loss: 0.5184 - val_accuracy: 0.8447\n",
      "Epoch 29/100\n",
      "32/32 [==============================] - 0s 2ms/step - loss: 0.5191 - accuracy: 0.8552 - val_loss: 0.5081 - val_accuracy: 0.8676\n",
      "Epoch 30/100\n",
      "32/32 [==============================] - 0s 1ms/step - loss: 0.5096 - accuracy: 0.8601 - val_loss: 0.4985 - val_accuracy: 0.8584\n",
      "Epoch 31/100\n",
      "32/32 [==============================] - 0s 1ms/step - loss: 0.5002 - accuracy: 0.8562 - val_loss: 0.4882 - val_accuracy: 0.8767\n",
      "Epoch 32/100\n",
      "32/32 [==============================] - 0s 2ms/step - loss: 0.4908 - accuracy: 0.8650 - val_loss: 0.4791 - val_accuracy: 0.8539\n",
      "Epoch 33/100\n",
      "32/32 [==============================] - 0s 2ms/step - loss: 0.4815 - accuracy: 0.8562 - val_loss: 0.4685 - val_accuracy: 0.8721\n",
      "Epoch 34/100\n",
      "32/32 [==============================] - 0s 2ms/step - loss: 0.4724 - accuracy: 0.8620 - val_loss: 0.4591 - val_accuracy: 0.8767\n",
      "Epoch 35/100\n",
      "32/32 [==============================] - 0s 2ms/step - loss: 0.4636 - accuracy: 0.8689 - val_loss: 0.4500 - val_accuracy: 0.8721\n",
      "Epoch 36/100\n",
      "32/32 [==============================] - 0s 2ms/step - loss: 0.4545 - accuracy: 0.8620 - val_loss: 0.4401 - val_accuracy: 0.8767\n",
      "Epoch 37/100\n",
      "32/32 [==============================] - 0s 2ms/step - loss: 0.4460 - accuracy: 0.8659 - val_loss: 0.4310 - val_accuracy: 0.8813\n",
      "Epoch 38/100\n",
      "32/32 [==============================] - 0s 2ms/step - loss: 0.4382 - accuracy: 0.8689 - val_loss: 0.4229 - val_accuracy: 0.8767\n",
      "Epoch 39/100\n",
      "32/32 [==============================] - 0s 2ms/step - loss: 0.4301 - accuracy: 0.8689 - val_loss: 0.4148 - val_accuracy: 0.8767\n",
      "Epoch 40/100\n",
      "32/32 [==============================] - 0s 2ms/step - loss: 0.4223 - accuracy: 0.8708 - val_loss: 0.4057 - val_accuracy: 0.8858\n",
      "Epoch 41/100\n",
      "32/32 [==============================] - 0s 2ms/step - loss: 0.4151 - accuracy: 0.8689 - val_loss: 0.3982 - val_accuracy: 0.8858\n",
      "Epoch 42/100\n",
      "32/32 [==============================] - 0s 2ms/step - loss: 0.4085 - accuracy: 0.8708 - val_loss: 0.3913 - val_accuracy: 0.8813\n",
      "Epoch 43/100\n",
      "32/32 [==============================] - 0s 2ms/step - loss: 0.4021 - accuracy: 0.8708 - val_loss: 0.3840 - val_accuracy: 0.8858\n",
      "Epoch 44/100\n",
      "32/32 [==============================] - 0s 2ms/step - loss: 0.3961 - accuracy: 0.8699 - val_loss: 0.3771 - val_accuracy: 0.8858\n",
      "Epoch 45/100\n",
      "32/32 [==============================] - 0s 2ms/step - loss: 0.3900 - accuracy: 0.8689 - val_loss: 0.3707 - val_accuracy: 0.8767\n",
      "Epoch 46/100\n",
      "32/32 [==============================] - 0s 2ms/step - loss: 0.3849 - accuracy: 0.8708 - val_loss: 0.3650 - val_accuracy: 0.8858\n",
      "Epoch 47/100\n",
      "32/32 [==============================] - 0s 2ms/step - loss: 0.3797 - accuracy: 0.8718 - val_loss: 0.3593 - val_accuracy: 0.8767\n",
      "Epoch 48/100\n",
      "32/32 [==============================] - 0s 2ms/step - loss: 0.3750 - accuracy: 0.8718 - val_loss: 0.3545 - val_accuracy: 0.8813\n",
      "Epoch 49/100\n",
      "32/32 [==============================] - 0s 2ms/step - loss: 0.3704 - accuracy: 0.8689 - val_loss: 0.3498 - val_accuracy: 0.8813\n",
      "Epoch 50/100\n",
      "32/32 [==============================] - 0s 2ms/step - loss: 0.3666 - accuracy: 0.8708 - val_loss: 0.3453 - val_accuracy: 0.8813\n",
      "Epoch 51/100\n",
      "32/32 [==============================] - 0s 2ms/step - loss: 0.3626 - accuracy: 0.8689 - val_loss: 0.3403 - val_accuracy: 0.8858\n",
      "Epoch 52/100\n",
      "32/32 [==============================] - 0s 2ms/step - loss: 0.3588 - accuracy: 0.8708 - val_loss: 0.3368 - val_accuracy: 0.8813\n",
      "Epoch 53/100\n",
      "32/32 [==============================] - 0s 2ms/step - loss: 0.3557 - accuracy: 0.8708 - val_loss: 0.3322 - val_accuracy: 0.8858\n",
      "Epoch 54/100\n",
      "32/32 [==============================] - 0s 2ms/step - loss: 0.3517 - accuracy: 0.8738 - val_loss: 0.3283 - val_accuracy: 0.8904\n",
      "Epoch 55/100\n",
      "32/32 [==============================] - 0s 2ms/step - loss: 0.3491 - accuracy: 0.8738 - val_loss: 0.3253 - val_accuracy: 0.8858\n",
      "Epoch 56/100\n",
      "32/32 [==============================] - 0s 2ms/step - loss: 0.3460 - accuracy: 0.8738 - val_loss: 0.3214 - val_accuracy: 0.8950\n",
      "Epoch 57/100\n",
      "32/32 [==============================] - 0s 2ms/step - loss: 0.3434 - accuracy: 0.8787 - val_loss: 0.3197 - val_accuracy: 0.8767\n",
      "Epoch 58/100\n",
      "32/32 [==============================] - 0s 2ms/step - loss: 0.3411 - accuracy: 0.8708 - val_loss: 0.3154 - val_accuracy: 0.8995\n",
      "Epoch 59/100\n",
      "32/32 [==============================] - 0s 2ms/step - loss: 0.3385 - accuracy: 0.8738 - val_loss: 0.3124 - val_accuracy: 0.8904\n",
      "Epoch 60/100\n",
      "32/32 [==============================] - 0s 2ms/step - loss: 0.3365 - accuracy: 0.8787 - val_loss: 0.3105 - val_accuracy: 0.8950\n",
      "Epoch 61/100\n",
      "32/32 [==============================] - 0s 2ms/step - loss: 0.3342 - accuracy: 0.8748 - val_loss: 0.3086 - val_accuracy: 0.8904\n",
      "Epoch 62/100\n",
      "32/32 [==============================] - 0s 2ms/step - loss: 0.3319 - accuracy: 0.8718 - val_loss: 0.3049 - val_accuracy: 0.8950\n",
      "Epoch 63/100\n",
      "32/32 [==============================] - 0s 2ms/step - loss: 0.3303 - accuracy: 0.8728 - val_loss: 0.3034 - val_accuracy: 0.8950\n",
      "Epoch 64/100\n",
      "32/32 [==============================] - 0s 2ms/step - loss: 0.3285 - accuracy: 0.8738 - val_loss: 0.3012 - val_accuracy: 0.8950\n",
      "Epoch 65/100\n",
      "32/32 [==============================] - 0s 2ms/step - loss: 0.3265 - accuracy: 0.8748 - val_loss: 0.3008 - val_accuracy: 0.8904\n",
      "Epoch 66/100\n",
      "32/32 [==============================] - 0s 2ms/step - loss: 0.3255 - accuracy: 0.8767 - val_loss: 0.2968 - val_accuracy: 0.8904\n",
      "Epoch 67/100\n",
      "32/32 [==============================] - 0s 2ms/step - loss: 0.3237 - accuracy: 0.8767 - val_loss: 0.2973 - val_accuracy: 0.8904\n",
      "Epoch 68/100\n",
      "32/32 [==============================] - 0s 2ms/step - loss: 0.3228 - accuracy: 0.8738 - val_loss: 0.2947 - val_accuracy: 0.8950\n",
      "Epoch 69/100\n",
      "32/32 [==============================] - 0s 2ms/step - loss: 0.3208 - accuracy: 0.8757 - val_loss: 0.2920 - val_accuracy: 0.8904\n",
      "Epoch 70/100\n",
      "32/32 [==============================] - 0s 2ms/step - loss: 0.3190 - accuracy: 0.8767 - val_loss: 0.2915 - val_accuracy: 0.8950\n",
      "Epoch 71/100\n",
      "32/32 [==============================] - 0s 2ms/step - loss: 0.3181 - accuracy: 0.8777 - val_loss: 0.2877 - val_accuracy: 0.8904\n",
      "Epoch 72/100\n",
      "32/32 [==============================] - 0s 2ms/step - loss: 0.3175 - accuracy: 0.8728 - val_loss: 0.2885 - val_accuracy: 0.8950\n",
      "Epoch 73/100\n",
      "32/32 [==============================] - 0s 2ms/step - loss: 0.3157 - accuracy: 0.8757 - val_loss: 0.2862 - val_accuracy: 0.8904\n",
      "Epoch 74/100\n",
      "32/32 [==============================] - 0s 2ms/step - loss: 0.3146 - accuracy: 0.8777 - val_loss: 0.2836 - val_accuracy: 0.8950\n",
      "Epoch 75/100\n",
      "32/32 [==============================] - 0s 2ms/step - loss: 0.3132 - accuracy: 0.8806 - val_loss: 0.2823 - val_accuracy: 0.8950\n",
      "Epoch 76/100\n",
      "32/32 [==============================] - 0s 2ms/step - loss: 0.3126 - accuracy: 0.8777 - val_loss: 0.2810 - val_accuracy: 0.8950\n",
      "Epoch 77/100\n",
      "32/32 [==============================] - 0s 2ms/step - loss: 0.3112 - accuracy: 0.8826 - val_loss: 0.2798 - val_accuracy: 0.8950\n",
      "Epoch 78/100\n",
      "32/32 [==============================] - 0s 2ms/step - loss: 0.3109 - accuracy: 0.8806 - val_loss: 0.2779 - val_accuracy: 0.8950\n",
      "Epoch 79/100\n",
      "32/32 [==============================] - 0s 2ms/step - loss: 0.3089 - accuracy: 0.8777 - val_loss: 0.2767 - val_accuracy: 0.8950\n",
      "Epoch 80/100\n",
      "32/32 [==============================] - 0s 2ms/step - loss: 0.3078 - accuracy: 0.8806 - val_loss: 0.2797 - val_accuracy: 0.8950\n",
      "Epoch 81/100\n",
      "32/32 [==============================] - 0s 2ms/step - loss: 0.3078 - accuracy: 0.8816 - val_loss: 0.2753 - val_accuracy: 0.8950\n",
      "Epoch 82/100\n",
      "32/32 [==============================] - 0s 2ms/step - loss: 0.3066 - accuracy: 0.8777 - val_loss: 0.2755 - val_accuracy: 0.8950\n",
      "Epoch 83/100\n",
      "32/32 [==============================] - 0s 2ms/step - loss: 0.3062 - accuracy: 0.8806 - val_loss: 0.2726 - val_accuracy: 0.8950\n",
      "Epoch 84/100\n",
      "32/32 [==============================] - 0s 2ms/step - loss: 0.3045 - accuracy: 0.8777 - val_loss: 0.2747 - val_accuracy: 0.8995\n",
      "Epoch 85/100\n",
      "32/32 [==============================] - 0s 2ms/step - loss: 0.3043 - accuracy: 0.8826 - val_loss: 0.2730 - val_accuracy: 0.8995\n",
      "Epoch 86/100\n",
      "32/32 [==============================] - 0s 2ms/step - loss: 0.3039 - accuracy: 0.8806 - val_loss: 0.2703 - val_accuracy: 0.8950\n",
      "Epoch 87/100\n",
      "32/32 [==============================] - 0s 2ms/step - loss: 0.3022 - accuracy: 0.8796 - val_loss: 0.2689 - val_accuracy: 0.8950\n",
      "Epoch 88/100\n",
      "32/32 [==============================] - 0s 2ms/step - loss: 0.3019 - accuracy: 0.8826 - val_loss: 0.2676 - val_accuracy: 0.9041\n",
      "Epoch 89/100\n",
      "32/32 [==============================] - 0s 2ms/step - loss: 0.3007 - accuracy: 0.8816 - val_loss: 0.2665 - val_accuracy: 0.9041\n",
      "Epoch 90/100\n",
      "32/32 [==============================] - 0s 2ms/step - loss: 0.3005 - accuracy: 0.8826 - val_loss: 0.2657 - val_accuracy: 0.9041\n",
      "Epoch 91/100\n",
      "32/32 [==============================] - 0s 1ms/step - loss: 0.3001 - accuracy: 0.8826 - val_loss: 0.2651 - val_accuracy: 0.9041\n",
      "Epoch 92/100\n",
      "32/32 [==============================] - 0s 2ms/step - loss: 0.2992 - accuracy: 0.8816 - val_loss: 0.2654 - val_accuracy: 0.9087\n",
      "Epoch 93/100\n",
      "32/32 [==============================] - 0s 1ms/step - loss: 0.2981 - accuracy: 0.8796 - val_loss: 0.2633 - val_accuracy: 0.9041\n",
      "Epoch 94/100\n",
      "32/32 [==============================] - 0s 2ms/step - loss: 0.2976 - accuracy: 0.8816 - val_loss: 0.2634 - val_accuracy: 0.9087\n",
      "Epoch 95/100\n",
      "32/32 [==============================] - 0s 2ms/step - loss: 0.2967 - accuracy: 0.8836 - val_loss: 0.2619 - val_accuracy: 0.9087\n",
      "Epoch 96/100\n",
      "32/32 [==============================] - 0s 2ms/step - loss: 0.2959 - accuracy: 0.8796 - val_loss: 0.2651 - val_accuracy: 0.8995\n",
      "Epoch 97/100\n",
      "32/32 [==============================] - 0s 1ms/step - loss: 0.2957 - accuracy: 0.8806 - val_loss: 0.2605 - val_accuracy: 0.9087\n",
      "Epoch 98/100\n",
      "32/32 [==============================] - 0s 1ms/step - loss: 0.2945 - accuracy: 0.8806 - val_loss: 0.2595 - val_accuracy: 0.9041\n",
      "Epoch 99/100\n",
      "32/32 [==============================] - 0s 2ms/step - loss: 0.2947 - accuracy: 0.8845 - val_loss: 0.2602 - val_accuracy: 0.9132\n",
      "Epoch 100/100\n",
      "32/32 [==============================] - 0s 2ms/step - loss: 0.2939 - accuracy: 0.8826 - val_loss: 0.2609 - val_accuracy: 0.9132\n"
     ]
    }
   ],
   "source": [
    "hist = model.fit(X_train, Y_train,\n",
    "          batch_size=32, epochs=100,\n",
    "          validation_data=(X_val, Y_val))"
   ]
  },
  {
   "cell_type": "markdown",
   "metadata": {},
   "source": [
    "Evaluating our data on the test set:"
   ]
  },
  {
   "cell_type": "code",
   "execution_count": 22,
   "metadata": {
    "ExecuteTime": {
     "end_time": "2020-06-16T16:16:46.025765Z",
     "start_time": "2020-06-16T16:16:45.988977Z"
    }
   },
   "outputs": [
    {
     "name": "stdout",
     "output_type": "stream",
     "text": [
      "7/7 [==============================] - 0s 1ms/step - loss: 0.2727 - accuracy: 0.9041\n"
     ]
    },
    {
     "data": {
      "text/plain": "0.9041095972061157"
     },
     "execution_count": 22,
     "metadata": {},
     "output_type": "execute_result"
    }
   ],
   "source": [
    "model.evaluate(X_test, Y_test)[1]"
   ]
  },
  {
   "cell_type": "markdown",
   "metadata": {},
   "source": [
    "# Visualizing Loss and Accuracy"
   ]
  },
  {
   "cell_type": "markdown",
   "metadata": {},
   "source": [
    "Import the relevant package we need to do the visualization"
   ]
  },
  {
   "cell_type": "code",
   "execution_count": 23,
   "metadata": {
    "ExecuteTime": {
     "end_time": "2020-06-16T16:16:49.560381Z",
     "start_time": "2020-06-16T16:16:49.209638Z"
    }
   },
   "outputs": [],
   "source": [
    "import matplotlib.pyplot as plt"
   ]
  },
  {
   "cell_type": "markdown",
   "metadata": {},
   "source": [
    "We want to visualize the training loss and the validation loss like this:"
   ]
  },
  {
   "cell_type": "code",
   "execution_count": 24,
   "metadata": {
    "ExecuteTime": {
     "end_time": "2020-06-16T16:19:34.628432Z",
     "start_time": "2020-06-16T16:19:34.624829Z"
    }
   },
   "outputs": [
    {
     "data": {
      "text/plain": "dict_keys(['loss', 'accuracy', 'val_loss', 'val_accuracy'])"
     },
     "execution_count": 24,
     "metadata": {},
     "output_type": "execute_result"
    }
   ],
   "source": [
    "hist.history.keys()"
   ]
  },
  {
   "cell_type": "code",
   "execution_count": 25,
   "metadata": {
    "ExecuteTime": {
     "end_time": "2020-06-16T16:16:51.545102Z",
     "start_time": "2020-06-16T16:16:50.677000Z"
    }
   },
   "outputs": [
    {
     "data": {
      "text/plain": "<Figure size 640x480 with 1 Axes>",
      "image/png": "[encoded data removed]"
     },
     "metadata": {},
     "output_type": "display_data"
    }
   ],
   "source": [
    "plt.plot(hist.history['loss'])\n",
    "plt.plot(hist.history['val_loss'])\n",
    "plt.title('Model loss')\n",
    "plt.ylabel('Loss')\n",
    "plt.xlabel('Epoch')\n",
    "plt.legend(['Train', 'Val'], loc='upper right')\n",
    "plt.show()"
   ]
  },
  {
   "cell_type": "markdown",
   "metadata": {},
   "source": [
    "We can also visualize the training accuracy and the validation accuracy like this:"
   ]
  },
  {
   "cell_type": "code",
   "execution_count": 26,
   "metadata": {
    "ExecuteTime": {
     "end_time": "2020-06-16T16:19:59.663094Z",
     "start_time": "2020-06-16T16:19:59.533681Z"
    }
   },
   "outputs": [
    {
     "data": {
      "text/plain": "<Figure size 640x480 with 1 Axes>",
      "image/png": "[encoded data removed]"
     },
     "metadata": {},
     "output_type": "display_data"
    }
   ],
   "source": [
    "plt.plot(hist.history['accuracy'])\n",
    "plt.plot(hist.history['val_accuracy'])\n",
    "plt.title('Model accuracy')\n",
    "plt.ylabel('Accuracy')\n",
    "plt.xlabel('Epoch')\n",
    "plt.legend(['Train', 'Val'], loc='lower right')\n",
    "plt.show()"
   ]
  },
  {
   "cell_type": "markdown",
   "metadata": {},
   "source": [
    "# Adding Regularization to our Neural Network"
   ]
  },
  {
   "cell_type": "markdown",
   "metadata": {},
   "source": [
    "We'll train a model which will overfit, which we call Model 2. This might take a few minutes."
   ]
  },
  {
   "cell_type": "code",
   "execution_count": 27,
   "metadata": {
    "ExecuteTime": {
     "end_time": "2020-06-16T16:21:41.275565Z",
     "start_time": "2020-06-16T16:20:52.141373Z"
    },
    "scrolled": true
   },
   "outputs": [
    {
     "name": "stdout",
     "output_type": "stream",
     "text": [
      "Epoch 1/100\n",
      "32/32 [==============================] - 2s 35ms/step - loss: 0.4729 - accuracy: 0.7867 - val_loss: 0.3169 - val_accuracy: 0.8721\n",
      "Epoch 2/100\n",
      "32/32 [==============================] - 1s 33ms/step - loss: 0.3587 - accuracy: 0.8591 - val_loss: 0.3311 - val_accuracy: 0.8630\n",
      "Epoch 3/100\n",
      "32/32 [==============================] - 1s 34ms/step - loss: 0.3320 - accuracy: 0.8650 - val_loss: 0.3513 - val_accuracy: 0.8676\n",
      "Epoch 4/100\n",
      "32/32 [==============================] - 1s 33ms/step - loss: 0.3146 - accuracy: 0.8748 - val_loss: 0.2590 - val_accuracy: 0.8813\n",
      "Epoch 5/100\n",
      "32/32 [==============================] - 1s 37ms/step - loss: 0.2993 - accuracy: 0.8904 - val_loss: 0.3145 - val_accuracy: 0.8447\n",
      "Epoch 6/100\n",
      "32/32 [==============================] - 1s 35ms/step - loss: 0.2843 - accuracy: 0.8865 - val_loss: 0.2309 - val_accuracy: 0.9132\n",
      "Epoch 7/100\n",
      "32/32 [==============================] - 1s 34ms/step - loss: 0.2640 - accuracy: 0.8924 - val_loss: 0.2220 - val_accuracy: 0.9087\n",
      "Epoch 8/100\n",
      "32/32 [==============================] - 1s 35ms/step - loss: 0.2499 - accuracy: 0.9012 - val_loss: 0.2458 - val_accuracy: 0.8813\n",
      "Epoch 9/100\n",
      "32/32 [==============================] - 1s 32ms/step - loss: 0.2458 - accuracy: 0.8982 - val_loss: 0.2379 - val_accuracy: 0.9132\n",
      "Epoch 10/100\n",
      "32/32 [==============================] - 1s 33ms/step - loss: 0.2367 - accuracy: 0.8992 - val_loss: 0.2181 - val_accuracy: 0.8858\n",
      "Epoch 11/100\n",
      "32/32 [==============================] - 1s 33ms/step - loss: 0.2270 - accuracy: 0.9022 - val_loss: 0.2510 - val_accuracy: 0.8721\n",
      "Epoch 12/100\n",
      "32/32 [==============================] - 1s 31ms/step - loss: 0.2437 - accuracy: 0.9061 - val_loss: 0.3967 - val_accuracy: 0.8219\n",
      "Epoch 13/100\n",
      "32/32 [==============================] - 1s 33ms/step - loss: 0.2410 - accuracy: 0.9012 - val_loss: 0.2327 - val_accuracy: 0.9132\n",
      "Epoch 14/100\n",
      "32/32 [==============================] - 1s 34ms/step - loss: 0.2310 - accuracy: 0.9110 - val_loss: 0.2575 - val_accuracy: 0.8904\n",
      "Epoch 15/100\n",
      "32/32 [==============================] - 1s 40ms/step - loss: 0.2145 - accuracy: 0.9110 - val_loss: 0.2000 - val_accuracy: 0.8995\n",
      "Epoch 16/100\n",
      "32/32 [==============================] - 1s 43ms/step - loss: 0.2222 - accuracy: 0.9051 - val_loss: 0.2189 - val_accuracy: 0.8950\n",
      "Epoch 17/100\n",
      "32/32 [==============================] - 1s 33ms/step - loss: 0.2076 - accuracy: 0.9110 - val_loss: 0.2146 - val_accuracy: 0.8904\n",
      "Epoch 18/100\n",
      "32/32 [==============================] - 1s 37ms/step - loss: 0.2309 - accuracy: 0.9070 - val_loss: 0.2426 - val_accuracy: 0.8813\n",
      "Epoch 19/100\n",
      "32/32 [==============================] - 1s 37ms/step - loss: 0.2350 - accuracy: 0.9022 - val_loss: 0.2372 - val_accuracy: 0.8950\n",
      "Epoch 20/100\n",
      "32/32 [==============================] - 1s 34ms/step - loss: 0.2192 - accuracy: 0.9041 - val_loss: 0.1948 - val_accuracy: 0.9178\n",
      "Epoch 21/100\n",
      "32/32 [==============================] - 1s 35ms/step - loss: 0.2207 - accuracy: 0.9051 - val_loss: 0.2176 - val_accuracy: 0.9041\n",
      "Epoch 22/100\n",
      "32/32 [==============================] - 1s 33ms/step - loss: 0.2017 - accuracy: 0.9178 - val_loss: 0.2551 - val_accuracy: 0.9178\n",
      "Epoch 23/100\n",
      "32/32 [==============================] - 1s 33ms/step - loss: 0.2022 - accuracy: 0.9139 - val_loss: 0.2180 - val_accuracy: 0.8767\n",
      "Epoch 24/100\n",
      "32/32 [==============================] - 1s 33ms/step - loss: 0.2069 - accuracy: 0.9168 - val_loss: 0.2189 - val_accuracy: 0.8995\n",
      "Epoch 25/100\n",
      "32/32 [==============================] - 1s 33ms/step - loss: 0.2119 - accuracy: 0.9198 - val_loss: 0.2191 - val_accuracy: 0.9132\n",
      "Epoch 26/100\n",
      "32/32 [==============================] - 1s 33ms/step - loss: 0.2090 - accuracy: 0.9100 - val_loss: 0.2227 - val_accuracy: 0.8904\n",
      "Epoch 27/100\n",
      "32/32 [==============================] - 1s 34ms/step - loss: 0.1968 - accuracy: 0.9129 - val_loss: 0.2204 - val_accuracy: 0.8995\n",
      "Epoch 28/100\n",
      "32/32 [==============================] - 1s 33ms/step - loss: 0.1836 - accuracy: 0.9207 - val_loss: 0.2450 - val_accuracy: 0.8950\n",
      "Epoch 29/100\n",
      "32/32 [==============================] - 1s 35ms/step - loss: 0.1988 - accuracy: 0.9139 - val_loss: 0.3023 - val_accuracy: 0.8950\n",
      "Epoch 30/100\n",
      "32/32 [==============================] - 1s 34ms/step - loss: 0.1916 - accuracy: 0.9217 - val_loss: 0.2343 - val_accuracy: 0.9041\n",
      "Epoch 31/100\n",
      "32/32 [==============================] - 1s 33ms/step - loss: 0.1928 - accuracy: 0.9247 - val_loss: 0.2335 - val_accuracy: 0.9087\n",
      "Epoch 32/100\n",
      "32/32 [==============================] - 1s 33ms/step - loss: 0.1988 - accuracy: 0.9178 - val_loss: 0.2120 - val_accuracy: 0.8950\n",
      "Epoch 33/100\n",
      "32/32 [==============================] - 1s 33ms/step - loss: 0.1879 - accuracy: 0.9159 - val_loss: 0.2509 - val_accuracy: 0.9041\n",
      "Epoch 34/100\n",
      "32/32 [==============================] - 1s 33ms/step - loss: 0.1859 - accuracy: 0.9247 - val_loss: 0.2051 - val_accuracy: 0.9087\n",
      "Epoch 35/100\n",
      "32/32 [==============================] - 1s 32ms/step - loss: 0.1791 - accuracy: 0.9286 - val_loss: 0.2510 - val_accuracy: 0.8904\n",
      "Epoch 36/100\n",
      "32/32 [==============================] - 1s 32ms/step - loss: 0.1891 - accuracy: 0.9227 - val_loss: 0.2435 - val_accuracy: 0.8858\n",
      "Epoch 37/100\n",
      "32/32 [==============================] - 1s 33ms/step - loss: 0.2026 - accuracy: 0.9139 - val_loss: 0.2368 - val_accuracy: 0.9178\n",
      "Epoch 38/100\n",
      "32/32 [==============================] - 1s 34ms/step - loss: 0.1861 - accuracy: 0.9286 - val_loss: 0.2512 - val_accuracy: 0.8904\n",
      "Epoch 39/100\n",
      "32/32 [==============================] - 1s 32ms/step - loss: 0.1863 - accuracy: 0.9256 - val_loss: 0.2533 - val_accuracy: 0.8904\n",
      "Epoch 40/100\n",
      "32/32 [==============================] - 1s 32ms/step - loss: 0.1733 - accuracy: 0.9276 - val_loss: 0.2485 - val_accuracy: 0.8904\n",
      "Epoch 41/100\n",
      "32/32 [==============================] - 1s 32ms/step - loss: 0.1877 - accuracy: 0.9217 - val_loss: 0.2497 - val_accuracy: 0.8950\n",
      "Epoch 42/100\n",
      "32/32 [==============================] - 1s 33ms/step - loss: 0.1808 - accuracy: 0.9237 - val_loss: 0.2752 - val_accuracy: 0.8950\n",
      "Epoch 43/100\n",
      "32/32 [==============================] - 1s 32ms/step - loss: 0.1764 - accuracy: 0.9286 - val_loss: 0.2567 - val_accuracy: 0.8950\n",
      "Epoch 44/100\n",
      "32/32 [==============================] - 1s 36ms/step - loss: 0.1779 - accuracy: 0.9227 - val_loss: 0.2450 - val_accuracy: 0.9087\n",
      "Epoch 45/100\n",
      "32/32 [==============================] - 1s 38ms/step - loss: 0.1798 - accuracy: 0.9168 - val_loss: 0.2397 - val_accuracy: 0.8950\n",
      "Epoch 46/100\n",
      "32/32 [==============================] - 1s 34ms/step - loss: 0.1777 - accuracy: 0.9217 - val_loss: 0.2387 - val_accuracy: 0.8858\n",
      "Epoch 47/100\n",
      "32/32 [==============================] - 1s 33ms/step - loss: 0.1807 - accuracy: 0.9237 - val_loss: 0.2435 - val_accuracy: 0.9041\n",
      "Epoch 48/100\n",
      "32/32 [==============================] - 1s 33ms/step - loss: 0.1659 - accuracy: 0.9335 - val_loss: 0.2612 - val_accuracy: 0.8858\n",
      "Epoch 49/100\n",
      "32/32 [==============================] - 1s 33ms/step - loss: 0.1563 - accuracy: 0.9335 - val_loss: 0.2300 - val_accuracy: 0.8995\n",
      "Epoch 50/100\n",
      "32/32 [==============================] - 1s 33ms/step - loss: 0.1542 - accuracy: 0.9393 - val_loss: 0.2487 - val_accuracy: 0.8995\n",
      "Epoch 51/100\n",
      "32/32 [==============================] - 1s 33ms/step - loss: 0.1442 - accuracy: 0.9403 - val_loss: 0.2928 - val_accuracy: 0.8995\n",
      "Epoch 52/100\n",
      "32/32 [==============================] - 1s 33ms/step - loss: 0.1704 - accuracy: 0.9276 - val_loss: 0.2816 - val_accuracy: 0.9041\n",
      "Epoch 53/100\n",
      "32/32 [==============================] - 1s 33ms/step - loss: 0.1600 - accuracy: 0.9325 - val_loss: 0.2389 - val_accuracy: 0.8950\n",
      "Epoch 54/100\n",
      "32/32 [==============================] - 1s 32ms/step - loss: 0.1593 - accuracy: 0.9335 - val_loss: 0.2654 - val_accuracy: 0.8950\n",
      "Epoch 55/100\n",
      "32/32 [==============================] - 1s 33ms/step - loss: 0.1557 - accuracy: 0.9286 - val_loss: 0.2761 - val_accuracy: 0.8858\n",
      "Epoch 56/100\n",
      "32/32 [==============================] - 1s 32ms/step - loss: 0.1764 - accuracy: 0.9295 - val_loss: 0.3099 - val_accuracy: 0.8858\n",
      "Epoch 57/100\n",
      "32/32 [==============================] - 1s 33ms/step - loss: 0.1526 - accuracy: 0.9403 - val_loss: 0.3449 - val_accuracy: 0.9087\n",
      "Epoch 58/100\n",
      "32/32 [==============================] - 1s 36ms/step - loss: 0.1520 - accuracy: 0.9393 - val_loss: 0.3638 - val_accuracy: 0.8995\n",
      "Epoch 59/100\n",
      "32/32 [==============================] - 1s 32ms/step - loss: 0.1632 - accuracy: 0.9315 - val_loss: 0.2885 - val_accuracy: 0.8904\n",
      "Epoch 60/100\n",
      "32/32 [==============================] - 1s 32ms/step - loss: 0.1475 - accuracy: 0.9423 - val_loss: 0.3030 - val_accuracy: 0.8721\n",
      "Epoch 61/100\n",
      "32/32 [==============================] - 1s 32ms/step - loss: 0.1480 - accuracy: 0.9344 - val_loss: 0.2830 - val_accuracy: 0.8767\n",
      "Epoch 62/100\n",
      "32/32 [==============================] - 1s 32ms/step - loss: 0.1455 - accuracy: 0.9393 - val_loss: 0.2847 - val_accuracy: 0.8813\n",
      "Epoch 63/100\n",
      "32/32 [==============================] - 1s 32ms/step - loss: 0.1331 - accuracy: 0.9481 - val_loss: 0.3079 - val_accuracy: 0.8858\n",
      "Epoch 64/100\n",
      "32/32 [==============================] - 1s 37ms/step - loss: 0.1441 - accuracy: 0.9295 - val_loss: 0.3074 - val_accuracy: 0.8813\n",
      "Epoch 65/100\n",
      "32/32 [==============================] - 1s 35ms/step - loss: 0.1590 - accuracy: 0.9344 - val_loss: 0.3261 - val_accuracy: 0.8721\n",
      "Epoch 66/100\n",
      "32/32 [==============================] - 1s 35ms/step - loss: 0.1506 - accuracy: 0.9364 - val_loss: 0.2818 - val_accuracy: 0.8813\n",
      "Epoch 67/100\n",
      "32/32 [==============================] - 1s 33ms/step - loss: 0.1418 - accuracy: 0.9413 - val_loss: 0.3366 - val_accuracy: 0.8950\n",
      "Epoch 68/100\n",
      "32/32 [==============================] - 1s 33ms/step - loss: 0.1330 - accuracy: 0.9472 - val_loss: 0.2992 - val_accuracy: 0.8721\n",
      "Epoch 69/100\n",
      "32/32 [==============================] - 1s 32ms/step - loss: 0.1285 - accuracy: 0.9462 - val_loss: 0.3342 - val_accuracy: 0.8950\n",
      "Epoch 70/100\n",
      "32/32 [==============================] - 1s 34ms/step - loss: 0.1508 - accuracy: 0.9374 - val_loss: 0.2860 - val_accuracy: 0.8995\n",
      "Epoch 71/100\n",
      "32/32 [==============================] - 1s 34ms/step - loss: 0.1823 - accuracy: 0.9276 - val_loss: 0.2589 - val_accuracy: 0.8950\n",
      "Epoch 72/100\n",
      "32/32 [==============================] - 1s 33ms/step - loss: 0.1584 - accuracy: 0.9295 - val_loss: 0.3205 - val_accuracy: 0.8767\n",
      "Epoch 73/100\n",
      "32/32 [==============================] - 1s 33ms/step - loss: 0.1340 - accuracy: 0.9472 - val_loss: 0.2829 - val_accuracy: 0.8721\n",
      "Epoch 74/100\n",
      "32/32 [==============================] - 1s 33ms/step - loss: 0.1403 - accuracy: 0.9393 - val_loss: 0.2707 - val_accuracy: 0.8767\n",
      "Epoch 75/100\n",
      "32/32 [==============================] - 1s 32ms/step - loss: 0.1400 - accuracy: 0.9393 - val_loss: 0.2721 - val_accuracy: 0.8950\n",
      "Epoch 76/100\n",
      "32/32 [==============================] - 1s 33ms/step - loss: 0.1331 - accuracy: 0.9403 - val_loss: 0.3015 - val_accuracy: 0.8813\n",
      "Epoch 77/100\n",
      "32/32 [==============================] - 1s 33ms/step - loss: 0.1410 - accuracy: 0.9354 - val_loss: 0.2885 - val_accuracy: 0.8813\n",
      "Epoch 78/100\n",
      "32/32 [==============================] - 1s 32ms/step - loss: 0.1244 - accuracy: 0.9521 - val_loss: 0.3857 - val_accuracy: 0.8721\n",
      "Epoch 79/100\n",
      "32/32 [==============================] - 1s 32ms/step - loss: 0.1212 - accuracy: 0.9481 - val_loss: 0.2814 - val_accuracy: 0.9041\n",
      "Epoch 80/100\n",
      "32/32 [==============================] - 1s 32ms/step - loss: 0.1314 - accuracy: 0.9393 - val_loss: 0.2997 - val_accuracy: 0.8813\n",
      "Epoch 81/100\n",
      "32/32 [==============================] - 1s 32ms/step - loss: 0.1383 - accuracy: 0.9432 - val_loss: 0.5686 - val_accuracy: 0.8584\n",
      "Epoch 82/100\n",
      "32/32 [==============================] - 1s 32ms/step - loss: 0.2186 - accuracy: 0.9159 - val_loss: 0.2794 - val_accuracy: 0.8995\n",
      "Epoch 83/100\n",
      "32/32 [==============================] - 1s 33ms/step - loss: 0.1441 - accuracy: 0.9442 - val_loss: 0.2904 - val_accuracy: 0.8767\n",
      "Epoch 84/100\n",
      "32/32 [==============================] - 1s 33ms/step - loss: 0.1443 - accuracy: 0.9442 - val_loss: 0.3279 - val_accuracy: 0.8584\n",
      "Epoch 85/100\n",
      "32/32 [==============================] - 1s 33ms/step - loss: 0.1642 - accuracy: 0.9315 - val_loss: 0.3092 - val_accuracy: 0.8767\n",
      "Epoch 86/100\n",
      "32/32 [==============================] - 1s 32ms/step - loss: 0.1411 - accuracy: 0.9481 - val_loss: 0.3214 - val_accuracy: 0.8995\n",
      "Epoch 87/100\n",
      "32/32 [==============================] - 1s 32ms/step - loss: 0.1222 - accuracy: 0.9442 - val_loss: 0.3514 - val_accuracy: 0.8904\n",
      "Epoch 88/100\n",
      "32/32 [==============================] - 1s 33ms/step - loss: 0.1218 - accuracy: 0.9501 - val_loss: 0.3063 - val_accuracy: 0.8904\n",
      "Epoch 89/100\n",
      "32/32 [==============================] - 1s 34ms/step - loss: 0.1088 - accuracy: 0.9530 - val_loss: 0.3850 - val_accuracy: 0.8721\n",
      "Epoch 90/100\n",
      "32/32 [==============================] - 1s 32ms/step - loss: 0.1279 - accuracy: 0.9501 - val_loss: 0.3421 - val_accuracy: 0.8858\n",
      "Epoch 91/100\n",
      "32/32 [==============================] - 1s 32ms/step - loss: 0.1195 - accuracy: 0.9481 - val_loss: 0.3768 - val_accuracy: 0.8813\n",
      "Epoch 92/100\n",
      "32/32 [==============================] - 1s 33ms/step - loss: 0.1141 - accuracy: 0.9511 - val_loss: 0.3370 - val_accuracy: 0.8904\n",
      "Epoch 93/100\n",
      "32/32 [==============================] - 1s 33ms/step - loss: 0.1084 - accuracy: 0.9521 - val_loss: 0.4078 - val_accuracy: 0.8767\n",
      "Epoch 94/100\n",
      "32/32 [==============================] - 1s 33ms/step - loss: 0.1185 - accuracy: 0.9462 - val_loss: 0.5405 - val_accuracy: 0.8858\n",
      "Epoch 95/100\n",
      "32/32 [==============================] - 1s 33ms/step - loss: 0.1395 - accuracy: 0.9344 - val_loss: 0.3909 - val_accuracy: 0.8995\n",
      "Epoch 96/100\n",
      "32/32 [==============================] - 1s 33ms/step - loss: 0.1189 - accuracy: 0.9501 - val_loss: 0.3553 - val_accuracy: 0.9041\n",
      "Epoch 97/100\n",
      "32/32 [==============================] - 1s 33ms/step - loss: 0.1010 - accuracy: 0.9511 - val_loss: 0.4385 - val_accuracy: 0.8630\n",
      "Epoch 98/100\n",
      "32/32 [==============================] - 1s 33ms/step - loss: 0.1043 - accuracy: 0.9491 - val_loss: 0.4042 - val_accuracy: 0.8630\n",
      "Epoch 99/100\n",
      "32/32 [==============================] - 1s 32ms/step - loss: 0.1092 - accuracy: 0.9384 - val_loss: 0.4159 - val_accuracy: 0.8813\n",
      "Epoch 100/100\n",
      "32/32 [==============================] - 1s 32ms/step - loss: 0.1352 - accuracy: 0.9452 - val_loss: 0.4096 - val_accuracy: 0.8904\n"
     ]
    }
   ],
   "source": [
    "model_2 = tf.keras.Sequential([\n",
    "    layers.Dense(1000, activation='relu', input_shape=(10,)),\n",
    "    layers.Dense(1000, activation='relu'),\n",
    "    layers.Dense(1000, activation='relu'),\n",
    "    layers.Dense(1000, activation='relu'),\n",
    "    layers.Dense(1, activation='sigmoid'),\n",
    "])\n",
    "model_2.compile(optimizer='adam',\n",
    "              loss='binary_crossentropy',\n",
    "              metrics=['accuracy'])\n",
    "hist_2 = model_2.fit(X_train, Y_train,\n",
    "          batch_size=32, epochs=100,\n",
    "          validation_data=(X_val, Y_val))"
   ]
  },
  {
   "cell_type": "markdown",
   "metadata": {},
   "source": [
    " Let's do the same visualization to see what overfitting looks like in terms of the loss and accuracy."
   ]
  },
  {
   "cell_type": "code",
   "execution_count": 27,
   "metadata": {
    "ExecuteTime": {
     "end_time": "2020-06-16T16:21:52.268743Z",
     "start_time": "2020-06-16T16:21:52.130719Z"
    }
   },
   "outputs": [
    {
     "data": {
      "image/png": "[encoded data removed]",
      "text/plain": [
       "<Figure size 432x288 with 1 Axes>"
      ]
     },
     "metadata": {
      "needs_background": "light"
     },
     "output_type": "display_data"
    }
   ],
   "source": [
    "plt.plot(hist_2.history['loss'])\n",
    "plt.plot(hist_2.history['val_loss'])\n",
    "plt.title('Model loss')\n",
    "plt.ylabel('Loss')\n",
    "plt.xlabel('Epoch')\n",
    "plt.legend(['Train', 'Val'], loc='upper right')\n",
    "plt.show()"
   ]
  },
  {
   "cell_type": "code",
   "execution_count": 28,
   "metadata": {
    "ExecuteTime": {
     "end_time": "2020-06-16T16:22:00.091660Z",
     "start_time": "2020-06-16T16:21:59.957852Z"
    }
   },
   "outputs": [
    {
     "data": {
      "image/png": "[encoded data removed]",
      "text/plain": [
       "<Figure size 432x288 with 1 Axes>"
      ]
     },
     "metadata": {
      "needs_background": "light"
     },
     "output_type": "display_data"
    }
   ],
   "source": [
    "plt.plot(hist_2.history['accuracy'])\n",
    "plt.plot(hist_2.history['val_accuracy'])\n",
    "plt.title('Model accuracy')\n",
    "plt.ylabel('Accuracy')\n",
    "plt.xlabel('Epoch')\n",
    "plt.legend(['Train', 'Val'], loc='lower right')\n",
    "plt.show()"
   ]
  },
  {
   "cell_type": "markdown",
   "metadata": {},
   "source": [
    "To address the overfitting we see in Model 2, we'll incorporate L2 regularization and dropout in our third model here (Model 3)."
   ]
  },
  {
   "cell_type": "code",
   "execution_count": 29,
   "metadata": {
    "ExecuteTime": {
     "end_time": "2020-06-16T16:24:40.720562Z",
     "start_time": "2020-06-16T16:24:40.613385Z"
    }
   },
   "outputs": [],
   "source": [
    "model_3 = tf.keras.Sequential([\n",
    "    layers.Dense(1000, activation='relu', kernel_regularizer=keras.regularizers.l2(0.01), input_shape=(10,)),\n",
    "    layers.Dropout(0.3),\n",
    "    layers.Dense(1000, activation='relu', kernel_regularizer=keras.regularizers.l2(0.01)),\n",
    "    layers.Dropout(0.3),\n",
    "    layers.Dense(1000, activation='relu', kernel_regularizer=keras.regularizers.l2(0.01)),\n",
    "    layers.Dropout(0.3),\n",
    "    layers.Dense(1000, activation='relu', kernel_regularizer=keras.regularizers.l2(0.01)),\n",
    "    layers.Dropout(0.3),\n",
    "    layers.Dense(1, activation='sigmoid', kernel_regularizer=keras.regularizers.l2(0.01)),\n",
    "])"
   ]
  },
  {
   "cell_type": "code",
   "execution_count": 30,
   "metadata": {
    "ExecuteTime": {
     "end_time": "2020-06-16T16:26:05.792672Z",
     "start_time": "2020-06-16T16:24:49.245098Z"
    },
    "scrolled": true
   },
   "outputs": [
    {
     "name": "stdout",
     "output_type": "stream",
     "text": [
      "Epoch 1/100\n",
      "32/32 [==============================] - 1s 36ms/step - loss: 14.2264 - accuracy: 0.6536 - val_loss: 3.9054 - val_accuracy: 0.7215\n",
      "Epoch 2/100\n",
      "32/32 [==============================] - 1s 32ms/step - loss: 1.6832 - accuracy: 0.8209 - val_loss: 0.6508 - val_accuracy: 0.8767\n",
      "Epoch 3/100\n",
      "32/32 [==============================] - 1s 32ms/step - loss: 0.5691 - accuracy: 0.8669 - val_loss: 0.5043 - val_accuracy: 0.8721\n",
      "Epoch 4/100\n",
      "32/32 [==============================] - 1s 32ms/step - loss: 0.5271 - accuracy: 0.8571 - val_loss: 0.4739 - val_accuracy: 0.9087\n",
      "Epoch 5/100\n",
      "32/32 [==============================] - 1s 33ms/step - loss: 0.5157 - accuracy: 0.8630 - val_loss: 0.4607 - val_accuracy: 0.9087\n",
      "Epoch 6/100\n",
      "32/32 [==============================] - 1s 33ms/step - loss: 0.5008 - accuracy: 0.8611 - val_loss: 0.4539 - val_accuracy: 0.9087\n",
      "Epoch 7/100\n",
      "32/32 [==============================] - 1s 32ms/step - loss: 0.4931 - accuracy: 0.8689 - val_loss: 0.4805 - val_accuracy: 0.8676\n",
      "Epoch 8/100\n",
      "32/32 [==============================] - 1s 32ms/step - loss: 0.4877 - accuracy: 0.8699 - val_loss: 0.4615 - val_accuracy: 0.8858\n",
      "Epoch 9/100\n",
      "32/32 [==============================] - 1s 32ms/step - loss: 0.4844 - accuracy: 0.8650 - val_loss: 0.4340 - val_accuracy: 0.9041\n",
      "Epoch 10/100\n",
      "32/32 [==============================] - 1s 32ms/step - loss: 0.4979 - accuracy: 0.8532 - val_loss: 0.4404 - val_accuracy: 0.9087\n",
      "Epoch 11/100\n",
      "32/32 [==============================] - 1s 32ms/step - loss: 0.4613 - accuracy: 0.8757 - val_loss: 0.5014 - val_accuracy: 0.8493\n",
      "Epoch 12/100\n",
      "32/32 [==============================] - 1s 32ms/step - loss: 0.4802 - accuracy: 0.8669 - val_loss: 0.4498 - val_accuracy: 0.8904\n",
      "Epoch 13/100\n",
      "32/32 [==============================] - 1s 34ms/step - loss: 0.4730 - accuracy: 0.8699 - val_loss: 0.4699 - val_accuracy: 0.8676\n",
      "Epoch 14/100\n",
      "32/32 [==============================] - 1s 32ms/step - loss: 0.4752 - accuracy: 0.8640 - val_loss: 0.4264 - val_accuracy: 0.9041\n",
      "Epoch 15/100\n",
      "32/32 [==============================] - 1s 34ms/step - loss: 0.4613 - accuracy: 0.8738 - val_loss: 0.4237 - val_accuracy: 0.9224\n",
      "Epoch 16/100\n",
      "32/32 [==============================] - 1s 32ms/step - loss: 0.4516 - accuracy: 0.8806 - val_loss: 0.4223 - val_accuracy: 0.9178\n",
      "Epoch 17/100\n",
      "32/32 [==============================] - 1s 32ms/step - loss: 0.4465 - accuracy: 0.8826 - val_loss: 0.4499 - val_accuracy: 0.8767\n",
      "Epoch 18/100\n",
      "32/32 [==============================] - 1s 33ms/step - loss: 0.4450 - accuracy: 0.8836 - val_loss: 0.4241 - val_accuracy: 0.9087\n",
      "Epoch 19/100\n",
      "32/32 [==============================] - 1s 32ms/step - loss: 0.4544 - accuracy: 0.8689 - val_loss: 0.4913 - val_accuracy: 0.8584\n",
      "Epoch 20/100\n",
      "32/32 [==============================] - 1s 32ms/step - loss: 0.4527 - accuracy: 0.8767 - val_loss: 0.4240 - val_accuracy: 0.9041\n",
      "Epoch 21/100\n",
      "32/32 [==============================] - 1s 32ms/step - loss: 0.4543 - accuracy: 0.8777 - val_loss: 0.4173 - val_accuracy: 0.9041\n",
      "Epoch 22/100\n",
      "32/32 [==============================] - 1s 33ms/step - loss: 0.4616 - accuracy: 0.8757 - val_loss: 0.4185 - val_accuracy: 0.9041\n",
      "Epoch 23/100\n",
      "32/32 [==============================] - 1s 33ms/step - loss: 0.5080 - accuracy: 0.8493 - val_loss: 0.4317 - val_accuracy: 0.8950\n",
      "Epoch 24/100\n",
      "32/32 [==============================] - 1s 32ms/step - loss: 0.4426 - accuracy: 0.8728 - val_loss: 0.4228 - val_accuracy: 0.9132\n",
      "Epoch 25/100\n",
      "32/32 [==============================] - 1s 32ms/step - loss: 0.4527 - accuracy: 0.8777 - val_loss: 0.4564 - val_accuracy: 0.8676\n",
      "Epoch 26/100\n",
      "32/32 [==============================] - 1s 32ms/step - loss: 0.4569 - accuracy: 0.8757 - val_loss: 0.4282 - val_accuracy: 0.8995\n",
      "Epoch 27/100\n",
      "32/32 [==============================] - 1s 32ms/step - loss: 0.4473 - accuracy: 0.8728 - val_loss: 0.4115 - val_accuracy: 0.9041\n",
      "Epoch 28/100\n",
      "32/32 [==============================] - 1s 33ms/step - loss: 0.4534 - accuracy: 0.8718 - val_loss: 0.4377 - val_accuracy: 0.8858\n",
      "Epoch 29/100\n",
      "32/32 [==============================] - 1s 35ms/step - loss: 0.4507 - accuracy: 0.8816 - val_loss: 0.4240 - val_accuracy: 0.9041\n",
      "Epoch 30/100\n",
      "32/32 [==============================] - 1s 32ms/step - loss: 0.4460 - accuracy: 0.8806 - val_loss: 0.4682 - val_accuracy: 0.8676\n",
      "Epoch 31/100\n",
      "32/32 [==============================] - 1s 32ms/step - loss: 0.4572 - accuracy: 0.8699 - val_loss: 0.4242 - val_accuracy: 0.8904\n",
      "Epoch 32/100\n",
      "32/32 [==============================] - 1s 33ms/step - loss: 0.4435 - accuracy: 0.8748 - val_loss: 0.4176 - val_accuracy: 0.8995\n",
      "Epoch 33/100\n",
      "32/32 [==============================] - ETA: 0s - loss: 0.4464 - accuracy: 0.87 - 1s 32ms/step - loss: 0.4461 - accuracy: 0.8767 - val_loss: 0.4122 - val_accuracy: 0.9087\n",
      "Epoch 34/100\n",
      "32/32 [==============================] - 1s 32ms/step - loss: 0.4523 - accuracy: 0.8787 - val_loss: 0.4120 - val_accuracy: 0.9041\n",
      "Epoch 35/100\n",
      "32/32 [==============================] - 1s 33ms/step - loss: 0.4519 - accuracy: 0.8767 - val_loss: 0.4235 - val_accuracy: 0.9178\n",
      "Epoch 36/100\n",
      "32/32 [==============================] - 1s 32ms/step - loss: 0.4479 - accuracy: 0.8650 - val_loss: 0.4240 - val_accuracy: 0.8950\n",
      "Epoch 37/100\n",
      "32/32 [==============================] - 1s 33ms/step - loss: 0.4487 - accuracy: 0.8728 - val_loss: 0.4221 - val_accuracy: 0.9178\n",
      "Epoch 38/100\n",
      "32/32 [==============================] - 1s 32ms/step - loss: 0.4473 - accuracy: 0.8816 - val_loss: 0.4137 - val_accuracy: 0.9178\n",
      "Epoch 39/100\n",
      "32/32 [==============================] - 1s 33ms/step - loss: 0.4427 - accuracy: 0.8777 - val_loss: 0.4126 - val_accuracy: 0.9087\n",
      "Epoch 40/100\n",
      "32/32 [==============================] - 1s 33ms/step - loss: 0.4398 - accuracy: 0.8885 - val_loss: 0.4102 - val_accuracy: 0.9087\n",
      "Epoch 41/100\n",
      "32/32 [==============================] - 1s 33ms/step - loss: 0.4568 - accuracy: 0.8679 - val_loss: 0.4140 - val_accuracy: 0.9041\n",
      "Epoch 42/100\n",
      "32/32 [==============================] - 1s 32ms/step - loss: 0.4615 - accuracy: 0.8708 - val_loss: 0.4102 - val_accuracy: 0.9041\n",
      "Epoch 43/100\n",
      "32/32 [==============================] - 1s 33ms/step - loss: 0.4539 - accuracy: 0.8708 - val_loss: 0.4225 - val_accuracy: 0.9041\n",
      "Epoch 44/100\n",
      "32/32 [==============================] - 1s 32ms/step - loss: 0.4383 - accuracy: 0.8845 - val_loss: 0.4078 - val_accuracy: 0.9041\n",
      "Epoch 45/100\n",
      "32/32 [==============================] - 1s 33ms/step - loss: 0.4440 - accuracy: 0.8806 - val_loss: 0.4306 - val_accuracy: 0.8995\n",
      "Epoch 46/100\n",
      "32/32 [==============================] - 1s 33ms/step - loss: 0.4327 - accuracy: 0.8826 - val_loss: 0.4086 - val_accuracy: 0.9041\n",
      "Epoch 47/100\n",
      "32/32 [==============================] - 1s 33ms/step - loss: 0.4524 - accuracy: 0.8620 - val_loss: 0.4098 - val_accuracy: 0.9041\n",
      "Epoch 48/100\n",
      "32/32 [==============================] - 1s 33ms/step - loss: 0.4479 - accuracy: 0.8748 - val_loss: 0.4083 - val_accuracy: 0.9041\n",
      "Epoch 49/100\n",
      "32/32 [==============================] - 1s 33ms/step - loss: 0.4462 - accuracy: 0.8757 - val_loss: 0.4411 - val_accuracy: 0.8858\n",
      "Epoch 50/100\n",
      "32/32 [==============================] - 1s 32ms/step - loss: 0.4686 - accuracy: 0.8620 - val_loss: 0.4386 - val_accuracy: 0.8858\n",
      "Epoch 51/100\n",
      "32/32 [==============================] - 1s 33ms/step - loss: 0.4381 - accuracy: 0.8748 - val_loss: 0.4105 - val_accuracy: 0.9041\n",
      "Epoch 52/100\n",
      "32/32 [==============================] - 1s 33ms/step - loss: 0.4549 - accuracy: 0.8728 - val_loss: 0.4101 - val_accuracy: 0.9087\n",
      "Epoch 53/100\n",
      "32/32 [==============================] - 1s 32ms/step - loss: 0.4410 - accuracy: 0.8689 - val_loss: 0.4680 - val_accuracy: 0.8676\n",
      "Epoch 54/100\n",
      "32/32 [==============================] - 1s 33ms/step - loss: 0.4722 - accuracy: 0.8777 - val_loss: 0.4261 - val_accuracy: 0.8858\n",
      "Epoch 55/100\n",
      "32/32 [==============================] - 1s 33ms/step - loss: 0.4409 - accuracy: 0.8748 - val_loss: 0.4191 - val_accuracy: 0.8995\n",
      "Epoch 56/100\n",
      "32/32 [==============================] - 1s 36ms/step - loss: 0.4451 - accuracy: 0.8738 - val_loss: 0.4167 - val_accuracy: 0.9132\n",
      "Epoch 57/100\n",
      "32/32 [==============================] - 1s 34ms/step - loss: 0.4378 - accuracy: 0.8787 - val_loss: 0.4334 - val_accuracy: 0.8950\n",
      "Epoch 58/100\n"
     ]
    },
    {
     "name": "stdout",
     "output_type": "stream",
     "text": [
      "32/32 [==============================] - 1s 33ms/step - loss: 0.4603 - accuracy: 0.8601 - val_loss: 0.4188 - val_accuracy: 0.9178\n",
      "Epoch 59/100\n",
      "32/32 [==============================] - 1s 34ms/step - loss: 0.4298 - accuracy: 0.8845 - val_loss: 0.4790 - val_accuracy: 0.8539\n",
      "Epoch 60/100\n",
      "32/32 [==============================] - 1s 33ms/step - loss: 0.4504 - accuracy: 0.8718 - val_loss: 0.4117 - val_accuracy: 0.9132\n",
      "Epoch 61/100\n",
      "32/32 [==============================] - 1s 32ms/step - loss: 0.4832 - accuracy: 0.8474 - val_loss: 0.4282 - val_accuracy: 0.8950\n",
      "Epoch 62/100\n",
      "32/32 [==============================] - 1s 32ms/step - loss: 0.4492 - accuracy: 0.8787 - val_loss: 0.4111 - val_accuracy: 0.9041\n",
      "Epoch 63/100\n",
      "32/32 [==============================] - 1s 32ms/step - loss: 0.4479 - accuracy: 0.8738 - val_loss: 0.4101 - val_accuracy: 0.9087\n",
      "Epoch 64/100\n",
      "32/32 [==============================] - 1s 33ms/step - loss: 0.4329 - accuracy: 0.8865 - val_loss: 0.4282 - val_accuracy: 0.8950\n",
      "Epoch 65/100\n",
      "32/32 [==============================] - 1s 32ms/step - loss: 0.4580 - accuracy: 0.8748 - val_loss: 0.4244 - val_accuracy: 0.8950\n",
      "Epoch 66/100\n",
      "32/32 [==============================] - 1s 32ms/step - loss: 0.4815 - accuracy: 0.8708 - val_loss: 0.4188 - val_accuracy: 0.9087\n",
      "Epoch 67/100\n",
      "32/32 [==============================] - 1s 32ms/step - loss: 0.4310 - accuracy: 0.8933 - val_loss: 0.4215 - val_accuracy: 0.9041\n",
      "Epoch 68/100\n",
      "32/32 [==============================] - 1s 33ms/step - loss: 0.4520 - accuracy: 0.8748 - val_loss: 0.4428 - val_accuracy: 0.8813\n",
      "Epoch 69/100\n",
      "32/32 [==============================] - 1s 33ms/step - loss: 0.4661 - accuracy: 0.8708 - val_loss: 0.4198 - val_accuracy: 0.9041\n",
      "Epoch 70/100\n",
      "32/32 [==============================] - 1s 32ms/step - loss: 0.4333 - accuracy: 0.8865 - val_loss: 0.4348 - val_accuracy: 0.8858\n",
      "Epoch 71/100\n",
      "32/32 [==============================] - 1s 32ms/step - loss: 0.4420 - accuracy: 0.8748 - val_loss: 0.4264 - val_accuracy: 0.8995\n",
      "Epoch 72/100\n",
      "32/32 [==============================] - 1s 33ms/step - loss: 0.4464 - accuracy: 0.8836 - val_loss: 0.4111 - val_accuracy: 0.9041\n",
      "Epoch 73/100\n",
      "32/32 [==============================] - 1s 32ms/step - loss: 0.4313 - accuracy: 0.8845 - val_loss: 0.4096 - val_accuracy: 0.9132\n",
      "Epoch 74/100\n",
      "32/32 [==============================] - 1s 32ms/step - loss: 0.4409 - accuracy: 0.8669 - val_loss: 0.4121 - val_accuracy: 0.9224\n",
      "Epoch 75/100\n",
      "32/32 [==============================] - 1s 33ms/step - loss: 0.4325 - accuracy: 0.8875 - val_loss: 0.4112 - val_accuracy: 0.8950\n",
      "Epoch 76/100\n",
      "32/32 [==============================] - 1s 32ms/step - loss: 0.4374 - accuracy: 0.8865 - val_loss: 0.4158 - val_accuracy: 0.8904\n",
      "Epoch 77/100\n",
      "32/32 [==============================] - 1s 32ms/step - loss: 0.4314 - accuracy: 0.8787 - val_loss: 0.4195 - val_accuracy: 0.9087\n",
      "Epoch 78/100\n",
      "32/32 [==============================] - 1s 32ms/step - loss: 0.4677 - accuracy: 0.8552 - val_loss: 0.4303 - val_accuracy: 0.8950s - loss: 0.4773 - \n",
      "Epoch 79/100\n",
      "32/32 [==============================] - 1s 32ms/step - loss: 0.4399 - accuracy: 0.8845 - val_loss: 0.4156 - val_accuracy: 0.8950\n",
      "Epoch 80/100\n",
      "32/32 [==============================] - 1s 32ms/step - loss: 0.4476 - accuracy: 0.8836 - val_loss: 0.4128 - val_accuracy: 0.9041\n",
      "Epoch 81/100\n",
      "32/32 [==============================] - 1s 33ms/step - loss: 0.4445 - accuracy: 0.8816 - val_loss: 0.4365 - val_accuracy: 0.8858\n",
      "Epoch 82/100\n",
      "32/32 [==============================] - 1s 32ms/step - loss: 0.4303 - accuracy: 0.8885 - val_loss: 0.4290 - val_accuracy: 0.8950\n",
      "Epoch 83/100\n",
      "32/32 [==============================] - 1s 32ms/step - loss: 0.4449 - accuracy: 0.8855 - val_loss: 0.5011 - val_accuracy: 0.8584\n",
      "Epoch 84/100\n",
      "32/32 [==============================] - 1s 32ms/step - loss: 0.4491 - accuracy: 0.8699 - val_loss: 0.4255 - val_accuracy: 0.8950\n",
      "Epoch 85/100\n",
      "32/32 [==============================] - 1s 32ms/step - loss: 0.4397 - accuracy: 0.8787 - val_loss: 0.4089 - val_accuracy: 0.9178\n",
      "Epoch 86/100\n",
      "32/32 [==============================] - 1s 32ms/step - loss: 0.4325 - accuracy: 0.8894 - val_loss: 0.4221 - val_accuracy: 0.8950\n",
      "Epoch 87/100\n",
      "32/32 [==============================] - 1s 32ms/step - loss: 0.4407 - accuracy: 0.8748 - val_loss: 0.4203 - val_accuracy: 0.9178\n",
      "Epoch 88/100\n",
      "32/32 [==============================] - 1s 32ms/step - loss: 0.4398 - accuracy: 0.8865 - val_loss: 0.4163 - val_accuracy: 0.8904\n",
      "Epoch 89/100\n",
      "32/32 [==============================] - 1s 32ms/step - loss: 0.4629 - accuracy: 0.8767 - val_loss: 0.4343 - val_accuracy: 0.8858\n",
      "Epoch 90/100\n",
      "32/32 [==============================] - 1s 32ms/step - loss: 0.4375 - accuracy: 0.8796 - val_loss: 0.4175 - val_accuracy: 0.9132\n",
      "Epoch 91/100\n",
      "32/32 [==============================] - 1s 32ms/step - loss: 0.4324 - accuracy: 0.8826 - val_loss: 0.4146 - val_accuracy: 0.9087\n",
      "Epoch 92/100\n",
      "32/32 [==============================] - 1s 32ms/step - loss: 0.4399 - accuracy: 0.8767 - val_loss: 0.4452 - val_accuracy: 0.8813\n",
      "Epoch 93/100\n",
      "32/32 [==============================] - 1s 33ms/step - loss: 0.4470 - accuracy: 0.8699 - val_loss: 0.4138 - val_accuracy: 0.9132\n",
      "Epoch 94/100\n",
      "32/32 [==============================] - 1s 33ms/step - loss: 0.4379 - accuracy: 0.8816 - val_loss: 0.4070 - val_accuracy: 0.9041\n",
      "Epoch 95/100\n",
      "32/32 [==============================] - 1s 32ms/step - loss: 0.4431 - accuracy: 0.8718 - val_loss: 0.4215 - val_accuracy: 0.8950\n",
      "Epoch 96/100\n",
      "32/32 [==============================] - 1s 32ms/step - loss: 0.4316 - accuracy: 0.8855 - val_loss: 0.4095 - val_accuracy: 0.9132\n",
      "Epoch 97/100\n",
      "32/32 [==============================] - 1s 33ms/step - loss: 0.4522 - accuracy: 0.8650 - val_loss: 0.4168 - val_accuracy: 0.9178\n",
      "Epoch 98/100\n",
      "32/32 [==============================] - 1s 33ms/step - loss: 0.4425 - accuracy: 0.8796 - val_loss: 0.4187 - val_accuracy: 0.9041\n",
      "Epoch 99/100\n",
      "32/32 [==============================] - 1s 32ms/step - loss: 0.4503 - accuracy: 0.8826 - val_loss: 0.4249 - val_accuracy: 0.8904\n",
      "Epoch 100/100\n",
      "32/32 [==============================] - 1s 32ms/step - loss: 0.4353 - accuracy: 0.8816 - val_loss: 0.4370 - val_accuracy: 0.8858\n"
     ]
    }
   ],
   "source": [
    "model_3.compile(optimizer='adam',\n",
    "              loss='binary_crossentropy',\n",
    "              metrics=['accuracy'])\n",
    "hist_3 = model_3.fit(X_train, Y_train,\n",
    "          batch_size=32, epochs=100,\n",
    "          validation_data=(X_val, Y_val))"
   ]
  },
  {
   "cell_type": "markdown",
   "metadata": {},
   "source": [
    "We'll now plot the loss and accuracy graphs for Model 3. You'll notice that the loss is a lot higher at the start, and that's because we've changed our loss function. To plot such that the window is zoomed in between 0 and 1.2 for the loss, we add an additional line of code (plt.ylim) when plotting"
   ]
  },
  {
   "cell_type": "code",
   "execution_count": 31,
   "metadata": {
    "ExecuteTime": {
     "end_time": "2020-06-16T16:26:05.949596Z",
     "start_time": "2020-06-16T16:26:05.825300Z"
    }
   },
   "outputs": [
    {
     "data": {
      "image/png": "[encoded data removed]",
      "text/plain": [
       "<Figure size 432x288 with 1 Axes>"
      ]
     },
     "metadata": {
      "needs_background": "light"
     },
     "output_type": "display_data"
    }
   ],
   "source": [
    "plt.plot(hist_3.history['loss'])\n",
    "plt.plot(hist_3.history['val_loss'])\n",
    "plt.title('Model loss')\n",
    "plt.ylabel('Loss')\n",
    "plt.xlabel('Epoch')\n",
    "plt.legend(['Train', 'Val'], loc='upper right')\n",
    "plt.ylim(top=1.2, bottom=0)\n",
    "plt.show()"
   ]
  },
  {
   "cell_type": "code",
   "execution_count": 32,
   "metadata": {
    "ExecuteTime": {
     "end_time": "2020-06-16T16:26:06.115636Z",
     "start_time": "2020-06-16T16:26:05.975704Z"
    }
   },
   "outputs": [
    {
     "data": {
      "image/png": "[encoded data removed]",
      "text/plain": [
       "<Figure size 432x288 with 1 Axes>"
      ]
     },
     "metadata": {
      "needs_background": "light"
     },
     "output_type": "display_data"
    }
   ],
   "source": [
    "plt.plot(hist_3.history['accuracy'])\n",
    "plt.plot(hist_3.history['val_accuracy'])\n",
    "plt.title('Model accuracy')\n",
    "plt.ylabel('Accuracy')\n",
    "plt.xlabel('Epoch')\n",
    "plt.legend(['Train', 'Val'], loc='lower right')\n",
    "plt.show()"
   ]
  },
  {
   "cell_type": "markdown",
   "metadata": {},
   "source": [
    "As compared to Model 2, you should see that there's less overfitting!"
   ]
  }
 ],
 "metadata": {
  "kernelspec": {
   "display_name": "Python 3",
   "language": "python",
   "name": "python3"
  },
  "language_info": {
   "codemirror_mode": {
    "name": "ipython",
    "version": 3
   },
   "file_extension": ".py",
   "mimetype": "text/x-python",
   "name": "python",
   "nbconvert_exporter": "python",
   "pygments_lexer": "ipython3",
   "version": "3.7.6"
  },
  "toc": {
   "base_numbering": 1,
   "nav_menu": {},
   "number_sections": true,
   "sideBar": true,
   "skip_h1_title": false,
   "title_cell": "Table of Contents",
   "title_sidebar": "Contents",
   "toc_cell": false,
   "toc_position": {},
   "toc_section_display": true,
   "toc_window_display": true
  },
  "varInspector": {
   "cols": {
    "lenName": 16,
    "lenType": 16,
    "lenVar": 40
   },
   "kernels_config": {
    "python": {
     "delete_cmd_postfix": "",
     "delete_cmd_prefix": "del ",
     "library": "var_list.py",
     "varRefreshCmd": "print(var_dic_list())"
    },
    "r": {
     "delete_cmd_postfix": ") ",
     "delete_cmd_prefix": "rm(",
     "library": "var_list.r",
     "varRefreshCmd": "cat(var_dic_list()) "
    }
   },
   "types_to_exclude": [
    "module",
    "function",
    "builtin_function_or_method",
    "instance",
    "_Feature"
   ],
   "window_display": false
  }
 },
 "nbformat": 4,
 "nbformat_minor": 2
}
