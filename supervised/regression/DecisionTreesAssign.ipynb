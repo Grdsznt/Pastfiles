{
 "cells": [
  {
   "cell_type": "code",
   "execution_count": 1,
   "metadata": {
    "collapsed": true
   },
   "outputs": [],
   "source": [
    "import numpy as np\n",
    "import pandas as pd\n",
    "import seaborn as sns\n",
    "from sklearn.tree import DecisionTreeRegressor\n",
    "from sklearn.model_selection import train_test_split\n"
   ]
  },
  {
   "cell_type": "code",
   "execution_count": 2,
   "outputs": [
    {
     "data": {
      "text/plain": "   land_area  percent_city  percent_senior  physicians  hospital_beds  \\\n0       1384          78.1            12.3       25627          69678   \n1       3719          43.9             9.4       13326          43292   \n2       3553          37.4            10.7        9724          33731   \n3       3916          29.9             8.8        6402          24167   \n4       2480          31.5            10.5        8502          16751   \n\n   graduates  work_force  income  region  crime_rate  \n0       50.1      4083.9   72100       1       75.55  \n1       53.9      3305.9   54542       2       56.03  \n2       50.6      2066.3   33216       1       41.32  \n3       52.2      1966.7   32906       2       67.38  \n4       66.1      1514.5   26573       4       80.19  ",
      "text/html": "<div>\n<style scoped>\n    .dataframe tbody tr th:only-of-type {\n        vertical-align: middle;\n    }\n\n    .dataframe tbody tr th {\n        vertical-align: top;\n    }\n\n    .dataframe thead th {\n        text-align: right;\n    }\n</style>\n<table border=\"1\" class=\"dataframe\">\n  <thead>\n    <tr style=\"text-align: right;\">\n      <th></th>\n      <th>land_area</th>\n      <th>percent_city</th>\n      <th>percent_senior</th>\n      <th>physicians</th>\n      <th>hospital_beds</th>\n      <th>graduates</th>\n      <th>work_force</th>\n      <th>income</th>\n      <th>region</th>\n      <th>crime_rate</th>\n    </tr>\n  </thead>\n  <tbody>\n    <tr>\n      <th>0</th>\n      <td>1384</td>\n      <td>78.1</td>\n      <td>12.3</td>\n      <td>25627</td>\n      <td>69678</td>\n      <td>50.1</td>\n      <td>4083.9</td>\n      <td>72100</td>\n      <td>1</td>\n      <td>75.55</td>\n    </tr>\n    <tr>\n      <th>1</th>\n      <td>3719</td>\n      <td>43.9</td>\n      <td>9.4</td>\n      <td>13326</td>\n      <td>43292</td>\n      <td>53.9</td>\n      <td>3305.9</td>\n      <td>54542</td>\n      <td>2</td>\n      <td>56.03</td>\n    </tr>\n    <tr>\n      <th>2</th>\n      <td>3553</td>\n      <td>37.4</td>\n      <td>10.7</td>\n      <td>9724</td>\n      <td>33731</td>\n      <td>50.6</td>\n      <td>2066.3</td>\n      <td>33216</td>\n      <td>1</td>\n      <td>41.32</td>\n    </tr>\n    <tr>\n      <th>3</th>\n      <td>3916</td>\n      <td>29.9</td>\n      <td>8.8</td>\n      <td>6402</td>\n      <td>24167</td>\n      <td>52.2</td>\n      <td>1966.7</td>\n      <td>32906</td>\n      <td>2</td>\n      <td>67.38</td>\n    </tr>\n    <tr>\n      <th>4</th>\n      <td>2480</td>\n      <td>31.5</td>\n      <td>10.5</td>\n      <td>8502</td>\n      <td>16751</td>\n      <td>66.1</td>\n      <td>1514.5</td>\n      <td>26573</td>\n      <td>4</td>\n      <td>80.19</td>\n    </tr>\n  </tbody>\n</table>\n</div>"
     },
     "execution_count": 2,
     "metadata": {},
     "output_type": "execute_result"
    }
   ],
   "source": [
    "df = pd.read_csv('Day1Assign6.csv')\n",
    "df.head()"
   ],
   "metadata": {
    "collapsed": false
   }
  },
  {
   "cell_type": "code",
   "execution_count": 4,
   "outputs": [
    {
     "name": "stdout",
     "output_type": "stream",
     "text": [
      "<class 'pandas.core.frame.DataFrame'>\n",
      "RangeIndex: 99 entries, 0 to 98\n",
      "Data columns (total 10 columns):\n",
      " #   Column          Non-Null Count  Dtype  \n",
      "---  ------          --------------  -----  \n",
      " 0   land_area       99 non-null     int64  \n",
      " 1   percent_city    99 non-null     float64\n",
      " 2   percent_senior  99 non-null     float64\n",
      " 3   physicians      99 non-null     int64  \n",
      " 4   hospital_beds   99 non-null     int64  \n",
      " 5   graduates       99 non-null     float64\n",
      " 6   work_force      99 non-null     float64\n",
      " 7   income          99 non-null     int64  \n",
      " 8   region          99 non-null     int64  \n",
      " 9   crime_rate      99 non-null     float64\n",
      "dtypes: float64(5), int64(5)\n",
      "memory usage: 7.9 KB\n"
     ]
    }
   ],
   "source": [
    "df.info()"
   ],
   "metadata": {
    "collapsed": false
   }
  },
  {
   "cell_type": "code",
   "execution_count": 5,
   "outputs": [
    {
     "name": "stdout",
     "output_type": "stream",
     "text": [
      "land_area : 0.020202020202020204\n",
      "percent_city : 0.020202020202020204\n",
      "percent_senior : 0.06060606060606061\n",
      "physicians : 0.020202020202020204\n",
      "hospital_beds : 0.010101010101010102\n",
      "graduates : 0.030303030303030304\n",
      "work_force : 0.020202020202020204\n",
      "income : 0.010101010101010102\n",
      "region : 0.36363636363636365\n",
      "crime_rate : 0.020202020202020204\n"
     ]
    }
   ],
   "source": [
    "for col in df.columns:\n",
    "    dupl_pcnt = (df[col].value_counts(dropna=False)/len(df.index)).iloc[0]\n",
    "    print(col + \" : \" + str(dupl_pcnt))"
   ],
   "metadata": {
    "collapsed": false
   }
  },
  {
   "cell_type": "code",
   "execution_count": 15,
   "outputs": [
    {
     "data": {
      "text/plain": "36"
     },
     "execution_count": 15,
     "metadata": {},
     "output_type": "execute_result"
    }
   ],
   "source": [
    "len(df.region[df.region == 3])"
   ],
   "metadata": {
    "collapsed": false
   }
  },
  {
   "cell_type": "code",
   "execution_count": 16,
   "outputs": [],
   "source": [
    "df = pd.get_dummies(df, columns=['region'])"
   ],
   "metadata": {
    "collapsed": false
   }
  },
  {
   "cell_type": "code",
   "execution_count": 17,
   "outputs": [
    {
     "data": {
      "text/plain": "   land_area  percent_city  percent_senior  physicians  hospital_beds  \\\n0       1384          78.1            12.3       25627          69678   \n1       3719          43.9             9.4       13326          43292   \n2       3553          37.4            10.7        9724          33731   \n3       3916          29.9             8.8        6402          24167   \n4       2480          31.5            10.5        8502          16751   \n\n   graduates  work_force  income  crime_rate  region_1  region_2  region_3  \\\n0       50.1      4083.9   72100       75.55         1         0         0   \n1       53.9      3305.9   54542       56.03         0         1         0   \n2       50.6      2066.3   33216       41.32         1         0         0   \n3       52.2      1966.7   32906       67.38         0         1         0   \n4       66.1      1514.5   26573       80.19         0         0         0   \n\n   region_4  \n0         0  \n1         0  \n2         0  \n3         0  \n4         1  ",
      "text/html": "<div>\n<style scoped>\n    .dataframe tbody tr th:only-of-type {\n        vertical-align: middle;\n    }\n\n    .dataframe tbody tr th {\n        vertical-align: top;\n    }\n\n    .dataframe thead th {\n        text-align: right;\n    }\n</style>\n<table border=\"1\" class=\"dataframe\">\n  <thead>\n    <tr style=\"text-align: right;\">\n      <th></th>\n      <th>land_area</th>\n      <th>percent_city</th>\n      <th>percent_senior</th>\n      <th>physicians</th>\n      <th>hospital_beds</th>\n      <th>graduates</th>\n      <th>work_force</th>\n      <th>income</th>\n      <th>crime_rate</th>\n      <th>region_1</th>\n      <th>region_2</th>\n      <th>region_3</th>\n      <th>region_4</th>\n    </tr>\n  </thead>\n  <tbody>\n    <tr>\n      <th>0</th>\n      <td>1384</td>\n      <td>78.1</td>\n      <td>12.3</td>\n      <td>25627</td>\n      <td>69678</td>\n      <td>50.1</td>\n      <td>4083.9</td>\n      <td>72100</td>\n      <td>75.55</td>\n      <td>1</td>\n      <td>0</td>\n      <td>0</td>\n      <td>0</td>\n    </tr>\n    <tr>\n      <th>1</th>\n      <td>3719</td>\n      <td>43.9</td>\n      <td>9.4</td>\n      <td>13326</td>\n      <td>43292</td>\n      <td>53.9</td>\n      <td>3305.9</td>\n      <td>54542</td>\n      <td>56.03</td>\n      <td>0</td>\n      <td>1</td>\n      <td>0</td>\n      <td>0</td>\n    </tr>\n    <tr>\n      <th>2</th>\n      <td>3553</td>\n      <td>37.4</td>\n      <td>10.7</td>\n      <td>9724</td>\n      <td>33731</td>\n      <td>50.6</td>\n      <td>2066.3</td>\n      <td>33216</td>\n      <td>41.32</td>\n      <td>1</td>\n      <td>0</td>\n      <td>0</td>\n      <td>0</td>\n    </tr>\n    <tr>\n      <th>3</th>\n      <td>3916</td>\n      <td>29.9</td>\n      <td>8.8</td>\n      <td>6402</td>\n      <td>24167</td>\n      <td>52.2</td>\n      <td>1966.7</td>\n      <td>32906</td>\n      <td>67.38</td>\n      <td>0</td>\n      <td>1</td>\n      <td>0</td>\n      <td>0</td>\n    </tr>\n    <tr>\n      <th>4</th>\n      <td>2480</td>\n      <td>31.5</td>\n      <td>10.5</td>\n      <td>8502</td>\n      <td>16751</td>\n      <td>66.1</td>\n      <td>1514.5</td>\n      <td>26573</td>\n      <td>80.19</td>\n      <td>0</td>\n      <td>0</td>\n      <td>0</td>\n      <td>1</td>\n    </tr>\n  </tbody>\n</table>\n</div>"
     },
     "execution_count": 17,
     "metadata": {},
     "output_type": "execute_result"
    }
   ],
   "source": [
    "df.head()"
   ],
   "metadata": {
    "collapsed": false
   }
  },
  {
   "cell_type": "code",
   "execution_count": 24,
   "outputs": [],
   "source": [
    "x = df[df.columns[df.columns != 'crime_rate']]\n",
    "y = df['crime_rate']\n",
    "\n"
   ],
   "metadata": {
    "collapsed": false
   }
  },
  {
   "cell_type": "code",
   "execution_count": 26,
   "outputs": [],
   "source": [
    "xTrain, xTest, yTrain, yTest = train_test_split(x, y, test_size=0.3)"
   ],
   "metadata": {
    "collapsed": false
   }
  },
  {
   "cell_type": "code",
   "execution_count": 27,
   "outputs": [
    {
     "data": {
      "text/plain": "DecisionTreeRegressor()",
      "text/html": "<style>#sk-container-id-1 {color: black;background-color: white;}#sk-container-id-1 pre{padding: 0;}#sk-container-id-1 div.sk-toggleable {background-color: white;}#sk-container-id-1 label.sk-toggleable__label {cursor: pointer;display: block;width: 100%;margin-bottom: 0;padding: 0.3em;box-sizing: border-box;text-align: center;}#sk-container-id-1 label.sk-toggleable__label-arrow:before {content: \"▸\";float: left;margin-right: 0.25em;color: #696969;}#sk-container-id-1 label.sk-toggleable__label-arrow:hover:before {color: black;}#sk-container-id-1 div.sk-estimator:hover label.sk-toggleable__label-arrow:before {color: black;}#sk-container-id-1 div.sk-toggleable__content {max-height: 0;max-width: 0;overflow: hidden;text-align: left;background-color: #f0f8ff;}#sk-container-id-1 div.sk-toggleable__content pre {margin: 0.2em;color: black;border-radius: 0.25em;background-color: #f0f8ff;}#sk-container-id-1 input.sk-toggleable__control:checked~div.sk-toggleable__content {max-height: 200px;max-width: 100%;overflow: auto;}#sk-container-id-1 input.sk-toggleable__control:checked~label.sk-toggleable__label-arrow:before {content: \"▾\";}#sk-container-id-1 div.sk-estimator input.sk-toggleable__control:checked~label.sk-toggleable__label {background-color: #d4ebff;}#sk-container-id-1 div.sk-label input.sk-toggleable__control:checked~label.sk-toggleable__label {background-color: #d4ebff;}#sk-container-id-1 input.sk-hidden--visually {border: 0;clip: rect(1px 1px 1px 1px);clip: rect(1px, 1px, 1px, 1px);height: 1px;margin: -1px;overflow: hidden;padding: 0;position: absolute;width: 1px;}#sk-container-id-1 div.sk-estimator {font-family: monospace;background-color: #f0f8ff;border: 1px dotted black;border-radius: 0.25em;box-sizing: border-box;margin-bottom: 0.5em;}#sk-container-id-1 div.sk-estimator:hover {background-color: #d4ebff;}#sk-container-id-1 div.sk-parallel-item::after {content: \"\";width: 100%;border-bottom: 1px solid gray;flex-grow: 1;}#sk-container-id-1 div.sk-label:hover label.sk-toggleable__label {background-color: #d4ebff;}#sk-container-id-1 div.sk-serial::before {content: \"\";position: absolute;border-left: 1px solid gray;box-sizing: border-box;top: 0;bottom: 0;left: 50%;z-index: 0;}#sk-container-id-1 div.sk-serial {display: flex;flex-direction: column;align-items: center;background-color: white;padding-right: 0.2em;padding-left: 0.2em;position: relative;}#sk-container-id-1 div.sk-item {position: relative;z-index: 1;}#sk-container-id-1 div.sk-parallel {display: flex;align-items: stretch;justify-content: center;background-color: white;position: relative;}#sk-container-id-1 div.sk-item::before, #sk-container-id-1 div.sk-parallel-item::before {content: \"\";position: absolute;border-left: 1px solid gray;box-sizing: border-box;top: 0;bottom: 0;left: 50%;z-index: -1;}#sk-container-id-1 div.sk-parallel-item {display: flex;flex-direction: column;z-index: 1;position: relative;background-color: white;}#sk-container-id-1 div.sk-parallel-item:first-child::after {align-self: flex-end;width: 50%;}#sk-container-id-1 div.sk-parallel-item:last-child::after {align-self: flex-start;width: 50%;}#sk-container-id-1 div.sk-parallel-item:only-child::after {width: 0;}#sk-container-id-1 div.sk-dashed-wrapped {border: 1px dashed gray;margin: 0 0.4em 0.5em 0.4em;box-sizing: border-box;padding-bottom: 0.4em;background-color: white;}#sk-container-id-1 div.sk-label label {font-family: monospace;font-weight: bold;display: inline-block;line-height: 1.2em;}#sk-container-id-1 div.sk-label-container {text-align: center;}#sk-container-id-1 div.sk-container {/* jupyter's `normalize.less` sets `[hidden] { display: none; }` but bootstrap.min.css set `[hidden] { display: none !important; }` so we also need the `!important` here to be able to override the default hidden behavior on the sphinx rendered scikit-learn.org. See: https://github.com/scikit-learn/scikit-learn/issues/21755 */display: inline-block !important;position: relative;}#sk-container-id-1 div.sk-text-repr-fallback {display: none;}</style><div id=\"sk-container-id-1\" class=\"sk-top-container\"><div class=\"sk-text-repr-fallback\"><pre>DecisionTreeRegressor()</pre><b>In a Jupyter environment, please rerun this cell to show the HTML representation or trust the notebook. <br />On GitHub, the HTML representation is unable to render, please try loading this page with nbviewer.org.</b></div><div class=\"sk-container\" hidden><div class=\"sk-item\"><div class=\"sk-estimator sk-toggleable\"><input class=\"sk-toggleable__control sk-hidden--visually\" id=\"sk-estimator-id-1\" type=\"checkbox\" checked><label for=\"sk-estimator-id-1\" class=\"sk-toggleable__label sk-toggleable__label-arrow\">DecisionTreeRegressor</label><div class=\"sk-toggleable__content\"><pre>DecisionTreeRegressor()</pre></div></div></div></div></div>"
     },
     "execution_count": 27,
     "metadata": {},
     "output_type": "execute_result"
    }
   ],
   "source": [
    "model = DecisionTreeRegressor()\n",
    "model.fit(xTrain, yTrain)"
   ],
   "metadata": {
    "collapsed": false
   }
  },
  {
   "cell_type": "code",
   "execution_count": 33,
   "outputs": [
    {
     "name": "stdout",
     "output_type": "stream",
     "text": [
      "Training MSE... 196.67639666666668\n"
     ]
    }
   ],
   "source": [
    "from sklearn.metrics import mean_squared_error\n",
    "print('Training MSE...', mean_squared_error(yTest, model.predict(xTest)))\n"
   ],
   "metadata": {
    "collapsed": false
   }
  },
  {
   "cell_type": "code",
   "execution_count": 36,
   "outputs": [
    {
     "data": {
      "text/plain": "0     75.55\n1     56.03\n2     41.32\n3     67.38\n4     80.19\n      ...  \n94    70.66\n95    36.36\n96    60.16\n97    36.33\n98    68.76\nName: crime_rate, Length: 99, dtype: float64"
     },
     "execution_count": 36,
     "metadata": {},
     "output_type": "execute_result"
    }
   ],
   "source": [
    "y"
   ],
   "metadata": {
    "collapsed": false
   }
  },
  {
   "cell_type": "code",
   "execution_count": 33,
   "outputs": [],
   "source": [],
   "metadata": {
    "collapsed": false
   }
  }
 ],
 "metadata": {
  "kernelspec": {
   "display_name": "Python 3",
   "language": "python",
   "name": "python3"
  },
  "language_info": {
   "codemirror_mode": {
    "name": "ipython",
    "version": 2
   },
   "file_extension": ".py",
   "mimetype": "text/x-python",
   "name": "python",
   "nbconvert_exporter": "python",
   "pygments_lexer": "ipython2",
   "version": "2.7.6"
  }
 },
 "nbformat": 4,
 "nbformat_minor": 0
}
