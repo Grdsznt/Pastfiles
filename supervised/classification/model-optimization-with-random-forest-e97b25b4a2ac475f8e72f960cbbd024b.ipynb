{
 "nbformat": 4,
 "nbformat_minor": 0,
 "metadata": {
  "colab": {
   "name": "model-optimization-with-random-forest-db41a665dbb340d99d00e2821ea36a32.ipynb",
   "provenance": [],
   "collapsed_sections": [
    "qjdy3vG5BmER",
    "qKO21Qg8NSQc",
    "DQPCxfdDn0d5",
    "--K223wHPMZe",
    "CFooIZrR4q4B",
    "Fh2gSYBB7q9t"
   ]
  },
  "kernelspec": {
   "name": "python3",
   "display_name": "Python 3"
  }
 },
 "cells": [
  {
   "cell_type": "markdown",
   "metadata": {
    "id": "view-in-github"
   },
   "source": [
    "<a href=\"https://colab.research.google.com/github/dphi-official/Data_Science_Bootcamp/blob/master/Week4/Model_Optimization_with_Random_Forest.ipynb\" target=\"_parent\"><img src=\"https://colab.research.google.com/assets/colab-badge.svg\" alt=\"Open In Colab\"/></a>"
   ]
  },
  {
   "cell_type": "markdown",
   "metadata": {
    "id": "jn2WK-EnvdaQ"
   },
   "source": [
    "## Introduction\n",
    "The dataset used in this notebook is of '[IEEE-CIS Fraud Detection](https://www.kaggle.com/c/ieee-fraud-detection/data)'. This notebook will introduce you to class imbalance problem.\n",
    "\n",
    "Data set link: [Fraud Dataset](https://drive.google.com/file/d/1q8SYcjOJULdSkETv5S_gd7xNq1GrBHAO/view)\n",
    "\n",
    "#### Imbalanced Problem\n",
    "Imbalanced classes are a common problem in machine learning classification where there are a disproportionate ratio of observations in each class. Class imbalance can be found in many different areas including medical diagnosis, spam filtering, and fraud detection.\n",
    "\n",
    "#### Agenda\n",
    "*  Loading Libraries\n",
    "*  Loading Data\n",
    "*  Getting Basic Idea About Data\n",
    "*  Missing Values and Dealing with Missing Values\n",
    "*  One Hot Encoding (Creating dummies for categorical columns)\n",
    "*  Standardization / Normalization\n",
    "*  Splitting the dataset into train and test data\n",
    "*  Dealing with Imbalanced Data\n",
    "    *  Generate Synthetic Samples\n",
    "\n"
   ]
  },
  {
   "cell_type": "markdown",
   "metadata": {
    "id": "89IQeG9VuUpM"
   },
   "source": [
    "## Loading Libraries\n",
    "All Python capabilities are not loaded to our working environment by default (even they are already installed in your system). So, we import each and every library that we want to use.\n",
    "\n",
    "In data science, numpy and pandas are most commonly used libraries. Numpy is required for calculations like means, medians, square roots, etc. Pandas is used for data processin and data frames. We chose alias names for our libraries for the sake of our convenience (numpy --> np and pandas --> pd)."
   ]
  },
  {
   "cell_type": "code",
   "metadata": {
    "id": "L_lWWBjGvNP1",
    "outputId": "39b19f43-5dae-48a0-eaa6-a16e4ef04af8",
    "colab": {
     "base_uri": "https://localhost:8080/",
     "height": 71
    }
   },
   "source": [
    "import pandas as pd                  # A fundamental package for linear algebra and multidimensional arrays\n",
    "import numpy as np                   # Data analysis and data manipulating tool\n",
    "import random                        # Library to generate random numbers\n",
    "from collections import Counter      # Collection is a Python module that implements specialized container datatypes providing \n",
    "                                     # alternatives to Python’s general purpose built-in containers, dict, list, set, and tuple.\n",
    "                                     # Counter is a dict subclass for counting hashable objects\n",
    "# Visualization libraries\n",
    "import matplotlib.pyplot as plt\n",
    "import seaborn as sns\n",
    "\n",
    "# To ignore warnings in the notebook\n",
    "import warnings\n",
    "warnings.filterwarnings(\"ignore\")"
   ],
   "execution_count": 1,
   "outputs": []
  },
  {
   "cell_type": "markdown",
   "metadata": {
    "id": "2jIwY1OGvr7A"
   },
   "source": [
    "## Loading Data\n",
    "Pandas module is used for reading files. We have our data in '.csv' format. We will use 'read_csv()' function for loading the data.\n",
    "\n",
    "**Disclaimer:** Loading fraud data might take time due to the nature of its size"
   ]
  },
  {
   "cell_type": "code",
   "metadata": {
    "id": "G_bYGjBvvkVv"
   },
   "source": [
    "fraud_data = pd.read_csv(\"IEEEfrauddata.csv\")"
   ],
   "execution_count": 3,
   "outputs": []
  },
  {
   "cell_type": "markdown",
   "metadata": {
    "id": "kvyUn8YG8wyC"
   },
   "source": [
    "### Getting Basic Idea About Data"
   ]
  },
  {
   "cell_type": "code",
   "metadata": {
    "id": "8CmggKjE8ZUk",
    "outputId": "adbfe24d-340f-4a0c-b756-5a5fb350fb9f",
    "colab": {
     "base_uri": "https://localhost:8080/",
     "height": 321
    }
   },
   "source": [
    "fraud_data.head()"
   ],
   "execution_count": 4,
   "outputs": [
    {
     "data": {
      "text/plain": "   TransactionID  isFraud  TransactionDT  TransactionAmt ProductCD  card1  \\\n0        2994681        0         242834          25.000         H   9803   \n1        3557242        0       15123000         117.000         W   7919   \n2        3327470        0        8378575          73.773         C  12778   \n3        3118781        0        2607840         400.000         R  12316   \n4        3459772        0       12226544          31.950         W   9002   \n\n   card2  card3       card4  card5  ...                  id_31  id_32  \\\n0  583.0  150.0        visa  226.0  ...           firefox 56.0   24.0   \n1  194.0  150.0  mastercard  166.0  ...                    NaN    NaN   \n2  500.0  185.0  mastercard  224.0  ...                    NaN    NaN   \n3  548.0  150.0        visa  195.0  ...  mobile safari generic   32.0   \n4  453.0  150.0        visa  226.0  ...                    NaN    NaN   \n\n       id_33           id_34  id_35 id_36 id_37  id_38  DeviceType  DeviceInfo  \n0  1920x1080  match_status:2      T     F     T      T     desktop     rv:56.0  \n1        NaN             NaN    NaN   NaN   NaN    NaN         NaN         NaN  \n2        NaN             NaN    NaN   NaN   NaN    NaN         NaN         NaN  \n3   1136x640  match_status:2      T     F     T      F      mobile  iOS Device  \n4        NaN             NaN    NaN   NaN   NaN    NaN         NaN         NaN  \n\n[5 rows x 434 columns]",
      "text/html": "<div>\n<style scoped>\n    .dataframe tbody tr th:only-of-type {\n        vertical-align: middle;\n    }\n\n    .dataframe tbody tr th {\n        vertical-align: top;\n    }\n\n    .dataframe thead th {\n        text-align: right;\n    }\n</style>\n<table border=\"1\" class=\"dataframe\">\n  <thead>\n    <tr style=\"text-align: right;\">\n      <th></th>\n      <th>TransactionID</th>\n      <th>isFraud</th>\n      <th>TransactionDT</th>\n      <th>TransactionAmt</th>\n      <th>ProductCD</th>\n      <th>card1</th>\n      <th>card2</th>\n      <th>card3</th>\n      <th>card4</th>\n      <th>card5</th>\n      <th>...</th>\n      <th>id_31</th>\n      <th>id_32</th>\n      <th>id_33</th>\n      <th>id_34</th>\n      <th>id_35</th>\n      <th>id_36</th>\n      <th>id_37</th>\n      <th>id_38</th>\n      <th>DeviceType</th>\n      <th>DeviceInfo</th>\n    </tr>\n  </thead>\n  <tbody>\n    <tr>\n      <th>0</th>\n      <td>2994681</td>\n      <td>0</td>\n      <td>242834</td>\n      <td>25.000</td>\n      <td>H</td>\n      <td>9803</td>\n      <td>583.0</td>\n      <td>150.0</td>\n      <td>visa</td>\n      <td>226.0</td>\n      <td>...</td>\n      <td>firefox 56.0</td>\n      <td>24.0</td>\n      <td>1920x1080</td>\n      <td>match_status:2</td>\n      <td>T</td>\n      <td>F</td>\n      <td>T</td>\n      <td>T</td>\n      <td>desktop</td>\n      <td>rv:56.0</td>\n    </tr>\n    <tr>\n      <th>1</th>\n      <td>3557242</td>\n      <td>0</td>\n      <td>15123000</td>\n      <td>117.000</td>\n      <td>W</td>\n      <td>7919</td>\n      <td>194.0</td>\n      <td>150.0</td>\n      <td>mastercard</td>\n      <td>166.0</td>\n      <td>...</td>\n      <td>NaN</td>\n      <td>NaN</td>\n      <td>NaN</td>\n      <td>NaN</td>\n      <td>NaN</td>\n      <td>NaN</td>\n      <td>NaN</td>\n      <td>NaN</td>\n      <td>NaN</td>\n      <td>NaN</td>\n    </tr>\n    <tr>\n      <th>2</th>\n      <td>3327470</td>\n      <td>0</td>\n      <td>8378575</td>\n      <td>73.773</td>\n      <td>C</td>\n      <td>12778</td>\n      <td>500.0</td>\n      <td>185.0</td>\n      <td>mastercard</td>\n      <td>224.0</td>\n      <td>...</td>\n      <td>NaN</td>\n      <td>NaN</td>\n      <td>NaN</td>\n      <td>NaN</td>\n      <td>NaN</td>\n      <td>NaN</td>\n      <td>NaN</td>\n      <td>NaN</td>\n      <td>NaN</td>\n      <td>NaN</td>\n    </tr>\n    <tr>\n      <th>3</th>\n      <td>3118781</td>\n      <td>0</td>\n      <td>2607840</td>\n      <td>400.000</td>\n      <td>R</td>\n      <td>12316</td>\n      <td>548.0</td>\n      <td>150.0</td>\n      <td>visa</td>\n      <td>195.0</td>\n      <td>...</td>\n      <td>mobile safari generic</td>\n      <td>32.0</td>\n      <td>1136x640</td>\n      <td>match_status:2</td>\n      <td>T</td>\n      <td>F</td>\n      <td>T</td>\n      <td>F</td>\n      <td>mobile</td>\n      <td>iOS Device</td>\n    </tr>\n    <tr>\n      <th>4</th>\n      <td>3459772</td>\n      <td>0</td>\n      <td>12226544</td>\n      <td>31.950</td>\n      <td>W</td>\n      <td>9002</td>\n      <td>453.0</td>\n      <td>150.0</td>\n      <td>visa</td>\n      <td>226.0</td>\n      <td>...</td>\n      <td>NaN</td>\n      <td>NaN</td>\n      <td>NaN</td>\n      <td>NaN</td>\n      <td>NaN</td>\n      <td>NaN</td>\n      <td>NaN</td>\n      <td>NaN</td>\n      <td>NaN</td>\n      <td>NaN</td>\n    </tr>\n  </tbody>\n</table>\n<p>5 rows × 434 columns</p>\n</div>"
     },
     "execution_count": 4,
     "metadata": {},
     "output_type": "execute_result"
    }
   ]
  },
  {
   "cell_type": "code",
   "metadata": {
    "id": "jwNQSckh83QZ",
    "outputId": "ea49d8b3-fff8-487c-e97f-7cda744f10da",
    "colab": {
     "base_uri": "https://localhost:8080/",
     "height": 102
    }
   },
   "source": [
    "fraud_data.info()"
   ],
   "execution_count": 5,
   "outputs": [
    {
     "name": "stdout",
     "output_type": "stream",
     "text": [
      "<class 'pandas.core.frame.DataFrame'>\n",
      "RangeIndex: 59054 entries, 0 to 59053\n",
      "Columns: 434 entries, TransactionID to DeviceInfo\n",
      "dtypes: float64(385), int64(18), object(31)\n",
      "memory usage: 195.5+ MB\n"
     ]
    }
   ]
  },
  {
   "cell_type": "markdown",
   "metadata": {
    "id": "6FjL68CPABH7"
   },
   "source": [
    "There are 434 columns with 59054 observations."
   ]
  },
  {
   "cell_type": "code",
   "metadata": {
    "id": "1mqIdBU-M_mT",
    "outputId": "d92a24e6-b367-4775-eb34-e3f7c253f2b3",
    "colab": {
     "base_uri": "https://localhost:8080/",
     "height": 346
    }
   },
   "source": [
    "fraud_data.describe()"
   ],
   "execution_count": 6,
   "outputs": [
    {
     "data": {
      "text/plain": "       TransactionID       isFraud  TransactionDT  TransactionAmt  \\\ncount   5.905400e+04  59054.000000   5.905400e+04    59054.000000   \nmean    3.282166e+06      0.033952   7.368220e+06      134.142888   \nstd     1.702573e+05      0.181107   4.612063e+06      233.112295   \nmin     2.987019e+06      0.000000   8.673000e+04        0.292000   \n25%     3.135748e+06      0.000000   3.074217e+06       42.950000   \n50%     3.282062e+06      0.000000   7.288450e+06       68.017000   \n75%     3.429699e+06      0.000000   1.123918e+07      117.000000   \nmax     3.577536e+06      1.000000   1.581105e+07     5279.950000   \n\n              card1         card2         card3         card5         addr1  \\\ncount  59054.000000  58139.000000  58896.000000  58610.000000  52326.000000   \nmean    9910.366360    362.438054    153.264551    199.104231    290.653939   \nstd     4893.704524    157.360648     11.395609     41.296438    101.796538   \nmin     1008.000000    100.000000    100.000000    100.000000    100.000000   \n25%     6019.000000    215.000000    150.000000    166.000000    204.000000   \n50%     9749.000000    361.000000    150.000000    226.000000    299.000000   \n75%    14223.000000    512.000000    150.000000    226.000000    330.000000   \nmax    18390.000000    600.000000    229.000000    237.000000    536.000000   \n\n              addr2  ...        id_17        id_18         id_19  \\\ncount  52326.000000  ...  14061.00000  4511.000000  14059.000000   \nmean      86.806616  ...    189.89958    14.238750    351.767622   \nstd        2.639572  ...     30.34787     1.524658    141.600677   \nmin       13.000000  ...    100.00000    11.000000    100.000000   \n25%       87.000000  ...    166.00000    13.000000    266.000000   \n50%       87.000000  ...    166.00000    15.000000    339.000000   \n75%       87.000000  ...    225.00000    15.000000    427.000000   \nmax      102.000000  ...    225.00000    29.000000    670.000000   \n\n              id_20       id_21       id_22       id_24       id_25  \\\ncount  14054.000000  525.000000  525.000000  487.000000  524.000000   \nmean     404.594777  385.257143   15.748571   12.739220  326.225191   \nstd      152.201538  213.565534    6.496154    2.275238   97.662855   \nmin      100.000000  114.000000   14.000000   11.000000  100.000000   \n25%      256.000000  252.000000   14.000000   11.000000  321.000000   \n50%      484.000000  252.000000   14.000000   11.000000  321.000000   \n75%      533.000000  554.000000   14.000000   15.000000  361.000000   \nmax      660.000000  854.000000   43.000000   24.000000  548.000000   \n\n            id_26        id_32  \ncount  525.000000  7715.000000  \nmean   148.794286    26.499028  \nstd     31.168092     3.739140  \nmin    100.000000     0.000000  \n25%    119.000000    24.000000  \n50%    147.000000    24.000000  \n75%    169.000000    32.000000  \nmax    216.000000    32.000000  \n\n[8 rows x 403 columns]",
      "text/html": "<div>\n<style scoped>\n    .dataframe tbody tr th:only-of-type {\n        vertical-align: middle;\n    }\n\n    .dataframe tbody tr th {\n        vertical-align: top;\n    }\n\n    .dataframe thead th {\n        text-align: right;\n    }\n</style>\n<table border=\"1\" class=\"dataframe\">\n  <thead>\n    <tr style=\"text-align: right;\">\n      <th></th>\n      <th>TransactionID</th>\n      <th>isFraud</th>\n      <th>TransactionDT</th>\n      <th>TransactionAmt</th>\n      <th>card1</th>\n      <th>card2</th>\n      <th>card3</th>\n      <th>card5</th>\n      <th>addr1</th>\n      <th>addr2</th>\n      <th>...</th>\n      <th>id_17</th>\n      <th>id_18</th>\n      <th>id_19</th>\n      <th>id_20</th>\n      <th>id_21</th>\n      <th>id_22</th>\n      <th>id_24</th>\n      <th>id_25</th>\n      <th>id_26</th>\n      <th>id_32</th>\n    </tr>\n  </thead>\n  <tbody>\n    <tr>\n      <th>count</th>\n      <td>5.905400e+04</td>\n      <td>59054.000000</td>\n      <td>5.905400e+04</td>\n      <td>59054.000000</td>\n      <td>59054.000000</td>\n      <td>58139.000000</td>\n      <td>58896.000000</td>\n      <td>58610.000000</td>\n      <td>52326.000000</td>\n      <td>52326.000000</td>\n      <td>...</td>\n      <td>14061.00000</td>\n      <td>4511.000000</td>\n      <td>14059.000000</td>\n      <td>14054.000000</td>\n      <td>525.000000</td>\n      <td>525.000000</td>\n      <td>487.000000</td>\n      <td>524.000000</td>\n      <td>525.000000</td>\n      <td>7715.000000</td>\n    </tr>\n    <tr>\n      <th>mean</th>\n      <td>3.282166e+06</td>\n      <td>0.033952</td>\n      <td>7.368220e+06</td>\n      <td>134.142888</td>\n      <td>9910.366360</td>\n      <td>362.438054</td>\n      <td>153.264551</td>\n      <td>199.104231</td>\n      <td>290.653939</td>\n      <td>86.806616</td>\n      <td>...</td>\n      <td>189.89958</td>\n      <td>14.238750</td>\n      <td>351.767622</td>\n      <td>404.594777</td>\n      <td>385.257143</td>\n      <td>15.748571</td>\n      <td>12.739220</td>\n      <td>326.225191</td>\n      <td>148.794286</td>\n      <td>26.499028</td>\n    </tr>\n    <tr>\n      <th>std</th>\n      <td>1.702573e+05</td>\n      <td>0.181107</td>\n      <td>4.612063e+06</td>\n      <td>233.112295</td>\n      <td>4893.704524</td>\n      <td>157.360648</td>\n      <td>11.395609</td>\n      <td>41.296438</td>\n      <td>101.796538</td>\n      <td>2.639572</td>\n      <td>...</td>\n      <td>30.34787</td>\n      <td>1.524658</td>\n      <td>141.600677</td>\n      <td>152.201538</td>\n      <td>213.565534</td>\n      <td>6.496154</td>\n      <td>2.275238</td>\n      <td>97.662855</td>\n      <td>31.168092</td>\n      <td>3.739140</td>\n    </tr>\n    <tr>\n      <th>min</th>\n      <td>2.987019e+06</td>\n      <td>0.000000</td>\n      <td>8.673000e+04</td>\n      <td>0.292000</td>\n      <td>1008.000000</td>\n      <td>100.000000</td>\n      <td>100.000000</td>\n      <td>100.000000</td>\n      <td>100.000000</td>\n      <td>13.000000</td>\n      <td>...</td>\n      <td>100.00000</td>\n      <td>11.000000</td>\n      <td>100.000000</td>\n      <td>100.000000</td>\n      <td>114.000000</td>\n      <td>14.000000</td>\n      <td>11.000000</td>\n      <td>100.000000</td>\n      <td>100.000000</td>\n      <td>0.000000</td>\n    </tr>\n    <tr>\n      <th>25%</th>\n      <td>3.135748e+06</td>\n      <td>0.000000</td>\n      <td>3.074217e+06</td>\n      <td>42.950000</td>\n      <td>6019.000000</td>\n      <td>215.000000</td>\n      <td>150.000000</td>\n      <td>166.000000</td>\n      <td>204.000000</td>\n      <td>87.000000</td>\n      <td>...</td>\n      <td>166.00000</td>\n      <td>13.000000</td>\n      <td>266.000000</td>\n      <td>256.000000</td>\n      <td>252.000000</td>\n      <td>14.000000</td>\n      <td>11.000000</td>\n      <td>321.000000</td>\n      <td>119.000000</td>\n      <td>24.000000</td>\n    </tr>\n    <tr>\n      <th>50%</th>\n      <td>3.282062e+06</td>\n      <td>0.000000</td>\n      <td>7.288450e+06</td>\n      <td>68.017000</td>\n      <td>9749.000000</td>\n      <td>361.000000</td>\n      <td>150.000000</td>\n      <td>226.000000</td>\n      <td>299.000000</td>\n      <td>87.000000</td>\n      <td>...</td>\n      <td>166.00000</td>\n      <td>15.000000</td>\n      <td>339.000000</td>\n      <td>484.000000</td>\n      <td>252.000000</td>\n      <td>14.000000</td>\n      <td>11.000000</td>\n      <td>321.000000</td>\n      <td>147.000000</td>\n      <td>24.000000</td>\n    </tr>\n    <tr>\n      <th>75%</th>\n      <td>3.429699e+06</td>\n      <td>0.000000</td>\n      <td>1.123918e+07</td>\n      <td>117.000000</td>\n      <td>14223.000000</td>\n      <td>512.000000</td>\n      <td>150.000000</td>\n      <td>226.000000</td>\n      <td>330.000000</td>\n      <td>87.000000</td>\n      <td>...</td>\n      <td>225.00000</td>\n      <td>15.000000</td>\n      <td>427.000000</td>\n      <td>533.000000</td>\n      <td>554.000000</td>\n      <td>14.000000</td>\n      <td>15.000000</td>\n      <td>361.000000</td>\n      <td>169.000000</td>\n      <td>32.000000</td>\n    </tr>\n    <tr>\n      <th>max</th>\n      <td>3.577536e+06</td>\n      <td>1.000000</td>\n      <td>1.581105e+07</td>\n      <td>5279.950000</td>\n      <td>18390.000000</td>\n      <td>600.000000</td>\n      <td>229.000000</td>\n      <td>237.000000</td>\n      <td>536.000000</td>\n      <td>102.000000</td>\n      <td>...</td>\n      <td>225.00000</td>\n      <td>29.000000</td>\n      <td>670.000000</td>\n      <td>660.000000</td>\n      <td>854.000000</td>\n      <td>43.000000</td>\n      <td>24.000000</td>\n      <td>548.000000</td>\n      <td>216.000000</td>\n      <td>32.000000</td>\n    </tr>\n  </tbody>\n</table>\n<p>8 rows × 403 columns</p>\n</div>"
     },
     "execution_count": 6,
     "metadata": {},
     "output_type": "execute_result"
    }
   ]
  },
  {
   "cell_type": "code",
   "metadata": {
    "id": "GcnguA4n9IsZ",
    "outputId": "6c26e9c0-f80f-4837-fc12-8ce52005130d",
    "colab": {
     "base_uri": "https://localhost:8080/",
     "height": 68
    }
   },
   "source": [
    "# Taking a look at the target variable\n",
    "fraud_data.isFraud.value_counts()"
   ],
   "execution_count": 7,
   "outputs": [
    {
     "data": {
      "text/plain": "0    57049\n1     2005\nName: isFraud, dtype: int64"
     },
     "execution_count": 7,
     "metadata": {},
     "output_type": "execute_result"
    }
   ]
  },
  {
   "cell_type": "markdown",
   "metadata": {
    "id": "1L-PiTGd9d8b"
   },
   "source": [
    "We can notice, of 57049 observations / records only 2005 were fraud transactions."
   ]
  },
  {
   "cell_type": "code",
   "metadata": {
    "id": "92IJJSUf9cgq",
    "outputId": "d5fb80a7-b0fa-4758-9e54-991602d400bb",
    "colab": {
     "base_uri": "https://localhost:8080/",
     "height": 68
    }
   },
   "source": [
    "fraud_data.isFraud.value_counts(normalize = True)      # Normalize = True will find the proportion of fraud transaction and not fraud transaction "
   ],
   "execution_count": 8,
   "outputs": [
    {
     "data": {
      "text/plain": "0    0.966048\n1    0.033952\nName: isFraud, dtype: float64"
     },
     "execution_count": 8,
     "metadata": {},
     "output_type": "execute_result"
    }
   ]
  },
  {
   "cell_type": "code",
   "metadata": {
    "id": "sOl5jgYE9wLg",
    "outputId": "d8074c55-e2cd-476c-9548-9e9ab39cf8b3",
    "colab": {
     "base_uri": "https://localhost:8080/",
     "height": 296
    }
   },
   "source": [
    "# we can also use countplot form seaborn to plot the above information graphically.\n",
    "sns.countplot(x = fraud_data.isFraud)"
   ],
   "execution_count": 10,
   "outputs": [
    {
     "data": {
      "text/plain": "<AxesSubplot:xlabel='isFraud', ylabel='count'>"
     },
     "execution_count": 10,
     "metadata": {},
     "output_type": "execute_result"
    },
    {
     "data": {
      "text/plain": "<Figure size 640x480 with 1 Axes>",
      "image/png": "[encoded data removed]"
     },
     "metadata": {},
     "output_type": "display_data"
    }
   ]
  },
  {
   "cell_type": "markdown",
   "metadata": {
    "id": "WBTv2idc-l1a"
   },
   "source": [
    "There are only 3% of the data which are fraud and the rest 97% are not fraud. This is clearly a class imbalance problem. In this notebook we will look to solve this type of problems."
   ]
  },
  {
   "cell_type": "markdown",
   "metadata": {
    "id": "zks_JnKq_6tN"
   },
   "source": [
    "### Missing values\n",
    "Generally datasets always have some missing values. May be done during data collection, or due to some data validation rule.\n"
   ]
  },
  {
   "cell_type": "code",
   "metadata": {
    "id": "drHmFMx_ANjt"
   },
   "source": [
    "def miss_val_info(df):\n",
    "  \"\"\"\n",
    "  This function will take a dataframe and calculates the frequency and percentage of missing values in each column.\n",
    "  \"\"\"\n",
    "  missing_count = df.isnull().sum().sort_values(ascending = False)\n",
    "  missing_percent = round(missing_count / len(df) * 100, 2)\n",
    "  missing_info = pd.concat([missing_count, missing_percent], axis = 1, keys=['Missing Value Count','Percent of missing values'])\n",
    "  return missing_info[missing_info['Missing Value Count'] != 0]\n"
   ],
   "execution_count": 11,
   "outputs": []
  },
  {
   "cell_type": "code",
   "metadata": {
    "id": "EHgTEqHR-Kk2",
    "outputId": "12627aea-4503-4183-94a1-90a6bea21e4b",
    "colab": {
     "base_uri": "https://localhost:8080/",
     "height": 419
    }
   },
   "source": [
    "miss_val_info(fraud_data)      # Display the frequency and percentage of data missing in each column"
   ],
   "execution_count": 12,
   "outputs": [
    {
     "data": {
      "text/plain": "       Missing Value Count  Percent of missing values\nid_24                58567                      99.18\nid_25                58530                      99.11\nid_26                58529                      99.11\nid_21                58529                      99.11\nid_22                58529                      99.11\n...                    ...                        ...\nV316                     3                       0.01\nV317                     3                       0.01\nV318                     3                       0.01\nV319                     3                       0.01\nV310                     3                       0.01\n\n[414 rows x 2 columns]",
      "text/html": "<div>\n<style scoped>\n    .dataframe tbody tr th:only-of-type {\n        vertical-align: middle;\n    }\n\n    .dataframe tbody tr th {\n        vertical-align: top;\n    }\n\n    .dataframe thead th {\n        text-align: right;\n    }\n</style>\n<table border=\"1\" class=\"dataframe\">\n  <thead>\n    <tr style=\"text-align: right;\">\n      <th></th>\n      <th>Missing Value Count</th>\n      <th>Percent of missing values</th>\n    </tr>\n  </thead>\n  <tbody>\n    <tr>\n      <th>id_24</th>\n      <td>58567</td>\n      <td>99.18</td>\n    </tr>\n    <tr>\n      <th>id_25</th>\n      <td>58530</td>\n      <td>99.11</td>\n    </tr>\n    <tr>\n      <th>id_26</th>\n      <td>58529</td>\n      <td>99.11</td>\n    </tr>\n    <tr>\n      <th>id_21</th>\n      <td>58529</td>\n      <td>99.11</td>\n    </tr>\n    <tr>\n      <th>id_22</th>\n      <td>58529</td>\n      <td>99.11</td>\n    </tr>\n    <tr>\n      <th>...</th>\n      <td>...</td>\n      <td>...</td>\n    </tr>\n    <tr>\n      <th>V316</th>\n      <td>3</td>\n      <td>0.01</td>\n    </tr>\n    <tr>\n      <th>V317</th>\n      <td>3</td>\n      <td>0.01</td>\n    </tr>\n    <tr>\n      <th>V318</th>\n      <td>3</td>\n      <td>0.01</td>\n    </tr>\n    <tr>\n      <th>V319</th>\n      <td>3</td>\n      <td>0.01</td>\n    </tr>\n    <tr>\n      <th>V310</th>\n      <td>3</td>\n      <td>0.01</td>\n    </tr>\n  </tbody>\n</table>\n<p>414 rows × 2 columns</p>\n</div>"
     },
     "execution_count": 12,
     "metadata": {},
     "output_type": "execute_result"
    }
   ]
  },
  {
   "cell_type": "markdown",
   "metadata": {
    "id": "02bqVJEbBxQc"
   },
   "source": [
    "Out of 434 columns, 414 have some missing values."
   ]
  },
  {
   "cell_type": "markdown",
   "metadata": {
    "id": "qjdy3vG5BmER"
   },
   "source": [
    "### Dealing with Missing Values\n",
    "*  Filling the missing values with right technique can change our results drastically. \n",
    "*  Also, there is no fixed rule of filling the missing values.\n",
    "*  No method is perfect for filling the missing values. We need to use our common sense, our logic, or may need to see what works for that particular data set.\n",
    "\n",
    "### Ways of dealing with missing values:\n",
    "\n",
    "**Default value:** One can fill the missing value by default value on the basis of one's 1) understanding of variable, 2) context / data insight or 3) common sense / logic. \n",
    "\n",
    "**Deleting:** Suppose in our dataset we have too many missing values in\n",
    "\n",
    "*  Column, we can drop the column\n",
    "*  Row, drop the row. Usually we do this for a large enough dataset.\n",
    "\n",
    "**Mean/Median/Mode - Imputation:** We fill missing values by mean or median or mode(i.e. maximum occuring value). Generally we use mean but if there are some outliers, we fill missing values with median. Mode is used to fill missing values for categorical column."
   ]
  },
  {
   "cell_type": "markdown",
   "metadata": {
    "id": "eZzsrECfAaSV"
   },
   "source": [
    "Eliminate columns with more than 20% missing values"
   ]
  },
  {
   "cell_type": "code",
   "metadata": {
    "id": "qv5kehT_ALOO"
   },
   "source": [
    "fraud_data = fraud_data[fraud_data.columns[fraud_data.isnull().mean() < 0.2]]\n",
    "fraud_data.shape"
   ],
   "execution_count": 18,
   "outputs": [
    {
     "data": {
      "text/plain": "(59054, 182)"
     },
     "execution_count": 18,
     "metadata": {},
     "output_type": "execute_result"
    }
   ]
  },
  {
   "cell_type": "markdown",
   "metadata": {
    "id": "ysp1sghyDU1s"
   },
   "source": [
    "Here we will fill missing values with mean value for the numerical column."
   ]
  },
  {
   "cell_type": "code",
   "metadata": {
    "id": "KSvRk1xJBAyR"
   },
   "source": [
    "# filling missing values of numerical columns with mean value.\n",
    "num_cols = fraud_data.select_dtypes(include=np.number).columns      # getting all the numerical columns\n",
    "\n",
    "fraud_data[num_cols] = fraud_data[num_cols].fillna(fraud_data[num_cols].mean())   # fills the missing values with mean"
   ],
   "execution_count": 19,
   "outputs": []
  },
  {
   "cell_type": "markdown",
   "metadata": {
    "id": "yK7ANXA5Eoeh"
   },
   "source": [
    "Filling categorical columns with mode (i.e. maximum occuring element in the column)"
   ]
  },
  {
   "cell_type": "code",
   "metadata": {
    "id": "UeUz0v1ZEhAY"
   },
   "source": [
    "cat_cols = fraud_data.select_dtypes(include = 'object').columns    # getting all the categorical columns\n",
    "\n",
    "fraud_data[cat_cols] = fraud_data[cat_cols].fillna(fraud_data[cat_cols].mode().iloc[0])  # fills the missing values with maximum occuring element in the column"
   ],
   "execution_count": 20,
   "outputs": []
  },
  {
   "cell_type": "code",
   "metadata": {
    "id": "ajSX2MhlFbWz",
    "outputId": "319fd42e-f10a-421a-c1b7-d14e404bc751",
    "colab": {
     "base_uri": "https://localhost:8080/"
    }
   },
   "source": [
    "# Let's have a look if there still exist any missing values\n",
    "miss_val_info(fraud_data)"
   ],
   "execution_count": 21,
   "outputs": [
    {
     "data": {
      "text/plain": "Empty DataFrame\nColumns: [Missing Value Count, Percent of missing values]\nIndex: []",
      "text/html": "<div>\n<style scoped>\n    .dataframe tbody tr th:only-of-type {\n        vertical-align: middle;\n    }\n\n    .dataframe tbody tr th {\n        vertical-align: top;\n    }\n\n    .dataframe thead th {\n        text-align: right;\n    }\n</style>\n<table border=\"1\" class=\"dataframe\">\n  <thead>\n    <tr style=\"text-align: right;\">\n      <th></th>\n      <th>Missing Value Count</th>\n      <th>Percent of missing values</th>\n    </tr>\n  </thead>\n  <tbody>\n  </tbody>\n</table>\n</div>"
     },
     "execution_count": 21,
     "metadata": {},
     "output_type": "execute_result"
    }
   ]
  },
  {
   "cell_type": "markdown",
   "metadata": {
    "id": "LW9XOIz6CGBj"
   },
   "source": [
    "Notice, now we don't have any column with missing value."
   ]
  },
  {
   "cell_type": "markdown",
   "metadata": {
    "id": "qKO21Qg8NSQc"
   },
   "source": [
    "### One Hot Encoding (Creating dummies for categorical columns)\n",
    "In this strategy, each category value is converted into a new column and assigned a 1 or 0 (notation for true/false) value to the column. In Python there is a class 'OneHotEncoder' in 'sklearn.preprocessing' to do this task, but here we will use pandas function 'get_dummies()'. This get_dummies() does the same work as done by 'OneHotEncoder' form sklearn.preprocessing.\n",
    "\n",
    "So, let's create dummy variables."
   ]
  },
  {
   "cell_type": "code",
   "metadata": {
    "id": "ydD6ZRZrMFFu"
   },
   "source": [
    "fraud_data = pd.get_dummies(fraud_data, columns=cat_cols)    # earlier we have collected all the categorical columns in cat_cols"
   ],
   "execution_count": 22,
   "outputs": []
  },
  {
   "cell_type": "code",
   "metadata": {
    "id": "ulgnsjelE3I6",
    "outputId": "ac9b4811-5e38-4ad8-9339-57d6ccb7f1ee",
    "colab": {
     "base_uri": "https://localhost:8080/"
    }
   },
   "source": [
    "fraud_data.head()"
   ],
   "execution_count": 23,
   "outputs": [
    {
     "data": {
      "text/plain": "   TransactionID  isFraud  TransactionDT  TransactionAmt  card1  card2  card3  \\\n0        2994681        0         242834          25.000   9803  583.0  150.0   \n1        3557242        0       15123000         117.000   7919  194.0  150.0   \n2        3327470        0        8378575          73.773  12778  500.0  185.0   \n3        3118781        0        2607840         400.000  12316  548.0  150.0   \n4        3459772        0       12226544          31.950   9002  453.0  150.0   \n\n   card5  addr1  addr2  ...  P_emaildomain_web.de  \\\n0  226.0  269.0   87.0  ...                     0   \n1  166.0  181.0   87.0  ...                     0   \n2  224.0  284.0   60.0  ...                     0   \n3  195.0  441.0   87.0  ...                     0   \n4  226.0  264.0   87.0  ...                     0   \n\n   P_emaildomain_windstream.net  P_emaildomain_yahoo.co.jp  \\\n0                             0                          0   \n1                             0                          0   \n2                             0                          0   \n3                             0                          0   \n4                             0                          0   \n\n   P_emaildomain_yahoo.co.uk  P_emaildomain_yahoo.com  \\\n0                          0                        1   \n1                          0                        0   \n2                          0                        0   \n3                          0                        0   \n4                          0                        1   \n\n   P_emaildomain_yahoo.com.mx  P_emaildomain_yahoo.de  P_emaildomain_yahoo.es  \\\n0                           0                       0                       0   \n1                           0                       0                       0   \n2                           0                       0                       0   \n3                           0                       0                       0   \n4                           0                       0                       0   \n\n   P_emaildomain_yahoo.fr  P_emaildomain_ymail.com  \n0                       0                        0  \n1                       0                        0  \n2                       0                        0  \n3                       0                        0  \n4                       0                        0  \n\n[5 rows x 250 columns]",
      "text/html": "<div>\n<style scoped>\n    .dataframe tbody tr th:only-of-type {\n        vertical-align: middle;\n    }\n\n    .dataframe tbody tr th {\n        vertical-align: top;\n    }\n\n    .dataframe thead th {\n        text-align: right;\n    }\n</style>\n<table border=\"1\" class=\"dataframe\">\n  <thead>\n    <tr style=\"text-align: right;\">\n      <th></th>\n      <th>TransactionID</th>\n      <th>isFraud</th>\n      <th>TransactionDT</th>\n      <th>TransactionAmt</th>\n      <th>card1</th>\n      <th>card2</th>\n      <th>card3</th>\n      <th>card5</th>\n      <th>addr1</th>\n      <th>addr2</th>\n      <th>...</th>\n      <th>P_emaildomain_web.de</th>\n      <th>P_emaildomain_windstream.net</th>\n      <th>P_emaildomain_yahoo.co.jp</th>\n      <th>P_emaildomain_yahoo.co.uk</th>\n      <th>P_emaildomain_yahoo.com</th>\n      <th>P_emaildomain_yahoo.com.mx</th>\n      <th>P_emaildomain_yahoo.de</th>\n      <th>P_emaildomain_yahoo.es</th>\n      <th>P_emaildomain_yahoo.fr</th>\n      <th>P_emaildomain_ymail.com</th>\n    </tr>\n  </thead>\n  <tbody>\n    <tr>\n      <th>0</th>\n      <td>2994681</td>\n      <td>0</td>\n      <td>242834</td>\n      <td>25.000</td>\n      <td>9803</td>\n      <td>583.0</td>\n      <td>150.0</td>\n      <td>226.0</td>\n      <td>269.0</td>\n      <td>87.0</td>\n      <td>...</td>\n      <td>0</td>\n      <td>0</td>\n      <td>0</td>\n      <td>0</td>\n      <td>1</td>\n      <td>0</td>\n      <td>0</td>\n      <td>0</td>\n      <td>0</td>\n      <td>0</td>\n    </tr>\n    <tr>\n      <th>1</th>\n      <td>3557242</td>\n      <td>0</td>\n      <td>15123000</td>\n      <td>117.000</td>\n      <td>7919</td>\n      <td>194.0</td>\n      <td>150.0</td>\n      <td>166.0</td>\n      <td>181.0</td>\n      <td>87.0</td>\n      <td>...</td>\n      <td>0</td>\n      <td>0</td>\n      <td>0</td>\n      <td>0</td>\n      <td>0</td>\n      <td>0</td>\n      <td>0</td>\n      <td>0</td>\n      <td>0</td>\n      <td>0</td>\n    </tr>\n    <tr>\n      <th>2</th>\n      <td>3327470</td>\n      <td>0</td>\n      <td>8378575</td>\n      <td>73.773</td>\n      <td>12778</td>\n      <td>500.0</td>\n      <td>185.0</td>\n      <td>224.0</td>\n      <td>284.0</td>\n      <td>60.0</td>\n      <td>...</td>\n      <td>0</td>\n      <td>0</td>\n      <td>0</td>\n      <td>0</td>\n      <td>0</td>\n      <td>0</td>\n      <td>0</td>\n      <td>0</td>\n      <td>0</td>\n      <td>0</td>\n    </tr>\n    <tr>\n      <th>3</th>\n      <td>3118781</td>\n      <td>0</td>\n      <td>2607840</td>\n      <td>400.000</td>\n      <td>12316</td>\n      <td>548.0</td>\n      <td>150.0</td>\n      <td>195.0</td>\n      <td>441.0</td>\n      <td>87.0</td>\n      <td>...</td>\n      <td>0</td>\n      <td>0</td>\n      <td>0</td>\n      <td>0</td>\n      <td>0</td>\n      <td>0</td>\n      <td>0</td>\n      <td>0</td>\n      <td>0</td>\n      <td>0</td>\n    </tr>\n    <tr>\n      <th>4</th>\n      <td>3459772</td>\n      <td>0</td>\n      <td>12226544</td>\n      <td>31.950</td>\n      <td>9002</td>\n      <td>453.0</td>\n      <td>150.0</td>\n      <td>226.0</td>\n      <td>264.0</td>\n      <td>87.0</td>\n      <td>...</td>\n      <td>0</td>\n      <td>0</td>\n      <td>0</td>\n      <td>0</td>\n      <td>1</td>\n      <td>0</td>\n      <td>0</td>\n      <td>0</td>\n      <td>0</td>\n      <td>0</td>\n    </tr>\n  </tbody>\n</table>\n<p>5 rows × 250 columns</p>\n</div>"
     },
     "execution_count": 23,
     "metadata": {},
     "output_type": "execute_result"
    }
   ]
  },
  {
   "cell_type": "markdown",
   "metadata": {
    "id": "kAkHAuGaE_Xo"
   },
   "source": [
    "If you notice, a lot of dummy variables are created like; **P_emaildomain_hotmail.com, P_emaildomain_hotmail.de,** etc."
   ]
  },
  {
   "cell_type": "markdown",
   "metadata": {
    "id": "DQPCxfdDn0d5"
   },
   "source": [
    "#### Separate Input Features and Output Features"
   ]
  },
  {
   "cell_type": "code",
   "metadata": {
    "id": "UQWaD295Lr7p"
   },
   "source": [
    "# Separate input features and output feature\n",
    "X = fraud_data.drop(columns = ['isFraud'])       # input features\n",
    "Y = fraud_data.isFraud      # output feature\n",
    "\n",
    "from sklearn.model_selection import train_test_split\n",
    "\n",
    "# Split randomly into 70% train data and 30% test data\n",
    "X_train, X_Test, Y_train, Y_Test = train_test_split(X, Y, test_size = 0.3, random_state = 123)"
   ],
   "execution_count": 24,
   "outputs": []
  },
  {
   "cell_type": "markdown",
   "metadata": {
    "id": "0myjC1VxpHyx"
   },
   "source": [
    "# Dealing with Imbalanced Data\n",
    "Most machine learning algorithms work best when the number of samples in each class are about equal. This is because most algorithms are designed to maximize accuracy and reduce error.\n"
   ]
  },
  {
   "cell_type": "markdown",
   "metadata": {
    "id": "u9vPjbAMvDFX"
   },
   "source": [
    "3. **Generate Synthetic Samples:** Here we will use imblearn’s SMOTE or Synthetic Minority Oversampling Technique. SMOTE uses a nearest neighbors algorithm to generate new and synthetic data we can use for training our model.\n",
    "\n",
    "Again, it’s important to generate the new samples only in the training set to ensure our model generalizes well to unseen data."
   ]
  },
  {
   "cell_type": "code",
   "metadata": {
    "id": "FWkp26p-uwF2"
   },
   "source": [
    "# import SMOTE \n",
    "from imblearn.over_sampling import SMOTE\n",
    "\n",
    "sm = SMOTE(random_state = 25, sampling_strategy = 1.0)   # again we are eqalizing both the classes"
   ],
   "execution_count": 25,
   "outputs": []
  },
  {
   "cell_type": "code",
   "metadata": {
    "id": "Yf7sHze_wFJp"
   },
   "source": [
    "# fit the sampling\n",
    "X_train, Y_train = sm.fit_resample(X_train, Y_train)"
   ],
   "execution_count": 26,
   "outputs": []
  },
  {
   "cell_type": "code",
   "metadata": {
    "id": "15XOWmqPwULH",
    "outputId": "16229543-6fce-41f4-fd49-815cb829d8fb",
    "colab": {
     "base_uri": "https://localhost:8080/",
     "height": 34
    }
   },
   "source": [
    "np.unique(Y_train, return_counts=True)"
   ],
   "execution_count": 27,
   "outputs": [
    {
     "data": {
      "text/plain": "(array([0, 1], dtype=int64), array([39944, 39944], dtype=int64))"
     },
     "execution_count": 27,
     "metadata": {},
     "output_type": "execute_result"
    }
   ]
  },
  {
   "cell_type": "markdown",
   "metadata": {
    "id": "j8m9UNkRw1LV"
   },
   "source": [
    "The count of both the classes are equal."
   ]
  },
  {
   "cell_type": "markdown",
   "metadata": {
    "id": "--K223wHPMZe"
   },
   "source": [
    "### Building Random Forest Model\n",
    "A Random Forest 🌲🌲🌲 is actually just a bunch of Decision Trees 🌲 bundled together (ohhhhh that’s why it’s called a forest). In this notebook we will learn how to build Random Forest Model."
   ]
  },
  {
   "cell_type": "code",
   "metadata": {
    "id": "p8M-21Xp4EhV"
   },
   "source": [
    "from sklearn.ensemble import RandomForestClassifier\n",
    "rfc = RandomForestClassifier(criterion='entropy')"
   ],
   "execution_count": 28,
   "outputs": []
  },
  {
   "cell_type": "code",
   "metadata": {
    "id": "I1zxcn6P5Rud",
    "outputId": "1d4f9890-5da7-4494-e499-ac64e053151d",
    "colab": {
     "base_uri": "https://localhost:8080/",
     "height": 153
    }
   },
   "source": [
    "rfc.fit(X_train, Y_train)"
   ],
   "execution_count": 29,
   "outputs": [
    {
     "data": {
      "text/plain": "RandomForestClassifier(criterion='entropy')",
      "text/html": "<style>#sk-container-id-1 {color: black;background-color: white;}#sk-container-id-1 pre{padding: 0;}#sk-container-id-1 div.sk-toggleable {background-color: white;}#sk-container-id-1 label.sk-toggleable__label {cursor: pointer;display: block;width: 100%;margin-bottom: 0;padding: 0.3em;box-sizing: border-box;text-align: center;}#sk-container-id-1 label.sk-toggleable__label-arrow:before {content: \"▸\";float: left;margin-right: 0.25em;color: #696969;}#sk-container-id-1 label.sk-toggleable__label-arrow:hover:before {color: black;}#sk-container-id-1 div.sk-estimator:hover label.sk-toggleable__label-arrow:before {color: black;}#sk-container-id-1 div.sk-toggleable__content {max-height: 0;max-width: 0;overflow: hidden;text-align: left;background-color: #f0f8ff;}#sk-container-id-1 div.sk-toggleable__content pre {margin: 0.2em;color: black;border-radius: 0.25em;background-color: #f0f8ff;}#sk-container-id-1 input.sk-toggleable__control:checked~div.sk-toggleable__content {max-height: 200px;max-width: 100%;overflow: auto;}#sk-container-id-1 input.sk-toggleable__control:checked~label.sk-toggleable__label-arrow:before {content: \"▾\";}#sk-container-id-1 div.sk-estimator input.sk-toggleable__control:checked~label.sk-toggleable__label {background-color: #d4ebff;}#sk-container-id-1 div.sk-label input.sk-toggleable__control:checked~label.sk-toggleable__label {background-color: #d4ebff;}#sk-container-id-1 input.sk-hidden--visually {border: 0;clip: rect(1px 1px 1px 1px);clip: rect(1px, 1px, 1px, 1px);height: 1px;margin: -1px;overflow: hidden;padding: 0;position: absolute;width: 1px;}#sk-container-id-1 div.sk-estimator {font-family: monospace;background-color: #f0f8ff;border: 1px dotted black;border-radius: 0.25em;box-sizing: border-box;margin-bottom: 0.5em;}#sk-container-id-1 div.sk-estimator:hover {background-color: #d4ebff;}#sk-container-id-1 div.sk-parallel-item::after {content: \"\";width: 100%;border-bottom: 1px solid gray;flex-grow: 1;}#sk-container-id-1 div.sk-label:hover label.sk-toggleable__label {background-color: #d4ebff;}#sk-container-id-1 div.sk-serial::before {content: \"\";position: absolute;border-left: 1px solid gray;box-sizing: border-box;top: 0;bottom: 0;left: 50%;z-index: 0;}#sk-container-id-1 div.sk-serial {display: flex;flex-direction: column;align-items: center;background-color: white;padding-right: 0.2em;padding-left: 0.2em;position: relative;}#sk-container-id-1 div.sk-item {position: relative;z-index: 1;}#sk-container-id-1 div.sk-parallel {display: flex;align-items: stretch;justify-content: center;background-color: white;position: relative;}#sk-container-id-1 div.sk-item::before, #sk-container-id-1 div.sk-parallel-item::before {content: \"\";position: absolute;border-left: 1px solid gray;box-sizing: border-box;top: 0;bottom: 0;left: 50%;z-index: -1;}#sk-container-id-1 div.sk-parallel-item {display: flex;flex-direction: column;z-index: 1;position: relative;background-color: white;}#sk-container-id-1 div.sk-parallel-item:first-child::after {align-self: flex-end;width: 50%;}#sk-container-id-1 div.sk-parallel-item:last-child::after {align-self: flex-start;width: 50%;}#sk-container-id-1 div.sk-parallel-item:only-child::after {width: 0;}#sk-container-id-1 div.sk-dashed-wrapped {border: 1px dashed gray;margin: 0 0.4em 0.5em 0.4em;box-sizing: border-box;padding-bottom: 0.4em;background-color: white;}#sk-container-id-1 div.sk-label label {font-family: monospace;font-weight: bold;display: inline-block;line-height: 1.2em;}#sk-container-id-1 div.sk-label-container {text-align: center;}#sk-container-id-1 div.sk-container {/* jupyter's `normalize.less` sets `[hidden] { display: none; }` but bootstrap.min.css set `[hidden] { display: none !important; }` so we also need the `!important` here to be able to override the default hidden behavior on the sphinx rendered scikit-learn.org. See: https://github.com/scikit-learn/scikit-learn/issues/21755 */display: inline-block !important;position: relative;}#sk-container-id-1 div.sk-text-repr-fallback {display: none;}</style><div id=\"sk-container-id-1\" class=\"sk-top-container\"><div class=\"sk-text-repr-fallback\"><pre>RandomForestClassifier(criterion=&#x27;entropy&#x27;)</pre><b>In a Jupyter environment, please rerun this cell to show the HTML representation or trust the notebook. <br />On GitHub, the HTML representation is unable to render, please try loading this page with nbviewer.org.</b></div><div class=\"sk-container\" hidden><div class=\"sk-item\"><div class=\"sk-estimator sk-toggleable\"><input class=\"sk-toggleable__control sk-hidden--visually\" id=\"sk-estimator-id-1\" type=\"checkbox\" checked><label for=\"sk-estimator-id-1\" class=\"sk-toggleable__label sk-toggleable__label-arrow\">RandomForestClassifier</label><div class=\"sk-toggleable__content\"><pre>RandomForestClassifier(criterion=&#x27;entropy&#x27;)</pre></div></div></div></div></div>"
     },
     "execution_count": 29,
     "metadata": {},
     "output_type": "execute_result"
    }
   ]
  },
  {
   "cell_type": "code",
   "metadata": {
    "id": "9S9hvP8N4RDw",
    "outputId": "a1b2d410-ab8f-441f-de5d-129012a9db02",
    "colab": {
     "base_uri": "https://localhost:8080/",
     "height": 34
    }
   },
   "source": [
    "rfc.score(X_Test, Y_Test)"
   ],
   "execution_count": 30,
   "outputs": [
    {
     "data": {
      "text/plain": "0.9747135519557487"
     },
     "execution_count": 30,
     "metadata": {},
     "output_type": "execute_result"
    }
   ]
  },
  {
   "cell_type": "markdown",
   "metadata": {
    "id": "CFooIZrR4q4B"
   },
   "source": [
    "### Feature Selection\n",
    "Feature selection is the process of reducing the number of input variables when developing a predictive model.\n",
    "\n",
    "It is desirable to reduce the number of input variables to both reduce the computational cost of modeling and, in some cases, to improve the performance of the model.\n",
    "\n",
    "Here we are using 'slectKBest' from 'sklearn.feature_selection' which selects features according to the k highest scores. It takes two parameters:\n",
    "\n",
    "* **score_func:** **callable**\n",
    "\n",
    "  Function taking two arrays X and y, and returning a pair of arrays (scores, pvalues) or a single array with scores. Default is f_classif (see below “See also”). The default function only works with classification tasks.\n",
    "\n",
    "* **k:  optional, default=10**\n",
    "  \n",
    "  Number of top features to select.\n",
    "\n",
    "\n",
    "When we have numerical features and categorical output we can use 'f_classif' from 'sklearn.feature_selection'.\n",
    "\n",
    "Further reading about feature selection: https://machinelearningmastery.com/feature-selection-with-real-and-categorical-data/\n",
    "\n"
   ]
  },
  {
   "cell_type": "code",
   "metadata": {
    "id": "KwvlPSXR4ckY"
   },
   "source": [
    "from sklearn.feature_selection import SelectKBest, f_classif"
   ],
   "execution_count": 31,
   "outputs": []
  },
  {
   "cell_type": "code",
   "metadata": {
    "id": "TdjhE2Ri4p5U"
   },
   "source": [
    "selector = SelectKBest(f_classif, k=10)     # Let's say we select 10 best features"
   ],
   "execution_count": 32,
   "outputs": []
  },
  {
   "cell_type": "code",
   "execution_count": null,
   "outputs": [],
   "source": [],
   "metadata": {
    "collapsed": false
   }
  },
  {
   "cell_type": "code",
   "metadata": {
    "id": "2BNBrOEO5ev2"
   },
   "source": [
    "X_new = selector.fit_transform(X, Y)"
   ],
   "execution_count": 33,
   "outputs": []
  },
  {
   "cell_type": "code",
   "metadata": {
    "id": "t7ETZ0cT6sDw"
   },
   "source": [
    "from sklearn.model_selection import train_test_split\n",
    "X_train, X_test, Y_train, Y_test = train_test_split(X_new, Y, test_size = 0.2, random_state = 42)"
   ],
   "execution_count": 34,
   "outputs": []
  },
  {
   "cell_type": "code",
   "metadata": {
    "id": "hdcjRY2m57Yk",
    "outputId": "97200dd0-10f8-4336-dd6b-35ac254f5262",
    "colab": {
     "base_uri": "https://localhost:8080/",
     "height": 153
    }
   },
   "source": [
    "rfc.fit(X_train, Y_train)"
   ],
   "execution_count": 35,
   "outputs": [
    {
     "data": {
      "text/plain": "RandomForestClassifier(criterion='entropy')",
      "text/html": "<style>#sk-container-id-2 {color: black;background-color: white;}#sk-container-id-2 pre{padding: 0;}#sk-container-id-2 div.sk-toggleable {background-color: white;}#sk-container-id-2 label.sk-toggleable__label {cursor: pointer;display: block;width: 100%;margin-bottom: 0;padding: 0.3em;box-sizing: border-box;text-align: center;}#sk-container-id-2 label.sk-toggleable__label-arrow:before {content: \"▸\";float: left;margin-right: 0.25em;color: #696969;}#sk-container-id-2 label.sk-toggleable__label-arrow:hover:before {color: black;}#sk-container-id-2 div.sk-estimator:hover label.sk-toggleable__label-arrow:before {color: black;}#sk-container-id-2 div.sk-toggleable__content {max-height: 0;max-width: 0;overflow: hidden;text-align: left;background-color: #f0f8ff;}#sk-container-id-2 div.sk-toggleable__content pre {margin: 0.2em;color: black;border-radius: 0.25em;background-color: #f0f8ff;}#sk-container-id-2 input.sk-toggleable__control:checked~div.sk-toggleable__content {max-height: 200px;max-width: 100%;overflow: auto;}#sk-container-id-2 input.sk-toggleable__control:checked~label.sk-toggleable__label-arrow:before {content: \"▾\";}#sk-container-id-2 div.sk-estimator input.sk-toggleable__control:checked~label.sk-toggleable__label {background-color: #d4ebff;}#sk-container-id-2 div.sk-label input.sk-toggleable__control:checked~label.sk-toggleable__label {background-color: #d4ebff;}#sk-container-id-2 input.sk-hidden--visually {border: 0;clip: rect(1px 1px 1px 1px);clip: rect(1px, 1px, 1px, 1px);height: 1px;margin: -1px;overflow: hidden;padding: 0;position: absolute;width: 1px;}#sk-container-id-2 div.sk-estimator {font-family: monospace;background-color: #f0f8ff;border: 1px dotted black;border-radius: 0.25em;box-sizing: border-box;margin-bottom: 0.5em;}#sk-container-id-2 div.sk-estimator:hover {background-color: #d4ebff;}#sk-container-id-2 div.sk-parallel-item::after {content: \"\";width: 100%;border-bottom: 1px solid gray;flex-grow: 1;}#sk-container-id-2 div.sk-label:hover label.sk-toggleable__label {background-color: #d4ebff;}#sk-container-id-2 div.sk-serial::before {content: \"\";position: absolute;border-left: 1px solid gray;box-sizing: border-box;top: 0;bottom: 0;left: 50%;z-index: 0;}#sk-container-id-2 div.sk-serial {display: flex;flex-direction: column;align-items: center;background-color: white;padding-right: 0.2em;padding-left: 0.2em;position: relative;}#sk-container-id-2 div.sk-item {position: relative;z-index: 1;}#sk-container-id-2 div.sk-parallel {display: flex;align-items: stretch;justify-content: center;background-color: white;position: relative;}#sk-container-id-2 div.sk-item::before, #sk-container-id-2 div.sk-parallel-item::before {content: \"\";position: absolute;border-left: 1px solid gray;box-sizing: border-box;top: 0;bottom: 0;left: 50%;z-index: -1;}#sk-container-id-2 div.sk-parallel-item {display: flex;flex-direction: column;z-index: 1;position: relative;background-color: white;}#sk-container-id-2 div.sk-parallel-item:first-child::after {align-self: flex-end;width: 50%;}#sk-container-id-2 div.sk-parallel-item:last-child::after {align-self: flex-start;width: 50%;}#sk-container-id-2 div.sk-parallel-item:only-child::after {width: 0;}#sk-container-id-2 div.sk-dashed-wrapped {border: 1px dashed gray;margin: 0 0.4em 0.5em 0.4em;box-sizing: border-box;padding-bottom: 0.4em;background-color: white;}#sk-container-id-2 div.sk-label label {font-family: monospace;font-weight: bold;display: inline-block;line-height: 1.2em;}#sk-container-id-2 div.sk-label-container {text-align: center;}#sk-container-id-2 div.sk-container {/* jupyter's `normalize.less` sets `[hidden] { display: none; }` but bootstrap.min.css set `[hidden] { display: none !important; }` so we also need the `!important` here to be able to override the default hidden behavior on the sphinx rendered scikit-learn.org. See: https://github.com/scikit-learn/scikit-learn/issues/21755 */display: inline-block !important;position: relative;}#sk-container-id-2 div.sk-text-repr-fallback {display: none;}</style><div id=\"sk-container-id-2\" class=\"sk-top-container\"><div class=\"sk-text-repr-fallback\"><pre>RandomForestClassifier(criterion=&#x27;entropy&#x27;)</pre><b>In a Jupyter environment, please rerun this cell to show the HTML representation or trust the notebook. <br />On GitHub, the HTML representation is unable to render, please try loading this page with nbviewer.org.</b></div><div class=\"sk-container\" hidden><div class=\"sk-item\"><div class=\"sk-estimator sk-toggleable\"><input class=\"sk-toggleable__control sk-hidden--visually\" id=\"sk-estimator-id-2\" type=\"checkbox\" checked><label for=\"sk-estimator-id-2\" class=\"sk-toggleable__label sk-toggleable__label-arrow\">RandomForestClassifier</label><div class=\"sk-toggleable__content\"><pre>RandomForestClassifier(criterion=&#x27;entropy&#x27;)</pre></div></div></div></div></div>"
     },
     "execution_count": 35,
     "metadata": {},
     "output_type": "execute_result"
    }
   ]
  },
  {
   "cell_type": "code",
   "metadata": {
    "id": "8Yg0g4H86MOV",
    "outputId": "49fdaeb7-159f-4dd3-e416-f9e499540a69",
    "colab": {
     "base_uri": "https://localhost:8080/",
     "height": 34
    }
   },
   "source": [
    "rfc.score(X_test, Y_test)"
   ],
   "execution_count": 36,
   "outputs": [
    {
     "data": {
      "text/plain": "0.9690119380238761"
     },
     "execution_count": 36,
     "metadata": {},
     "output_type": "execute_result"
    }
   ]
  },
  {
   "cell_type": "markdown",
   "metadata": {
    "id": "0DIxQVy_guKV"
   },
   "source": [
    "**Note:** Obviously we can notice there is 0.7% decrease in accuracy score. The point to note is that we had got 97.5% accuracy with 249 features, then after that we selected only 10 features of 249 features and still able to get 96.9% accurate results. The conclusion is that we have reduced a lot of computational complexities which is very good as our aim is not only to increase the performance of the model at any cost but also to reduce the computational complexity of our model."
   ]
  },
  {
   "cell_type": "markdown",
   "metadata": {
    "id": "no3aR-9LimRd"
   },
   "source": [
    "### Cross - Validation\n",
    "Usually, our data is divided into Train and Test Sets. The Train set is further divided into Train and Validation set.\n",
    "\n",
    "The Validation Set helps us in selecting good parameters/tune the parameters for our model."
   ]
  },
  {
   "cell_type": "code",
   "metadata": {
    "id": "TWZDs96oi1mh"
   },
   "source": [
    "# We will use here k - fold cross validation technique\n",
    "from sklearn.model_selection import cross_validate"
   ],
   "execution_count": 37,
   "outputs": []
  },
  {
   "cell_type": "code",
   "metadata": {
    "id": "_JuwMQb1i1Wh",
    "outputId": "3bef6842-bc9c-484b-871d-a9ff84017e5f",
    "colab": {
     "base_uri": "https://localhost:8080/",
     "height": 187
    }
   },
   "source": [
    "cv_results = cross_validate(rfc, X_new, Y, cv=10, scoring=[\"accuracy\", \"precision\", \"recall\"])\n",
    "cv_results"
   ],
   "execution_count": 38,
   "outputs": [
    {
     "data": {
      "text/plain": "{'fit_time': array([2.66921306, 2.31755686, 2.36400175, 2.12752295, 2.10892797,\n        2.28954554, 2.37282443, 2.31035018, 2.16794062, 2.04915714]),\n 'score_time': array([0.10861206, 0.09824824, 0.11121893, 0.08726645, 0.09120607,\n        0.09644151, 0.09131861, 0.1082046 , 0.08472514, 0.08401489]),\n 'test_accuracy': array([0.96901456, 0.96833728, 0.9693532 , 0.9685066 , 0.96765453,\n        0.96883997, 0.96816257, 0.96816257, 0.96985605, 0.96917866]),\n 'test_precision': array([0.82142857, 0.73333333, 0.79411765, 0.8       , 0.63636364,\n        0.75      , 0.7       , 0.66666667, 0.78947368, 0.82758621]),\n 'test_recall': array([0.11442786, 0.10945274, 0.13432836, 0.09950249, 0.105     ,\n        0.12      , 0.105     , 0.12      , 0.15      , 0.11940299])}"
     },
     "execution_count": 38,
     "metadata": {},
     "output_type": "execute_result"
    }
   ]
  },
  {
   "cell_type": "code",
   "metadata": {
    "id": "NPQhL-Wdi1Fr",
    "outputId": "cd639aa6-a000-454a-b1a4-8f9372c53677",
    "colab": {
     "base_uri": "https://localhost:8080/",
     "height": 34
    }
   },
   "source": [
    "print(\"Accuracy: \", cv_results[\"test_accuracy\"].mean())"
   ],
   "execution_count": 39,
   "outputs": [
    {
     "name": "stdout",
     "output_type": "stream",
     "text": [
      "Accuracy:  0.9687066009881597\n"
     ]
    }
   ]
  },
  {
   "cell_type": "markdown",
   "metadata": {
    "id": "bn_XEArIjm9A"
   },
   "source": [
    "Even with cross validation we are getting approx 96.9% of accurate results."
   ]
  },
  {
   "cell_type": "markdown",
   "metadata": {
    "id": "Fh2gSYBB7q9t"
   },
   "source": [
    "### Hyper parameter tunning\n",
    "Hyperparameters are important parts of the ML model and can make the model gold or trash. Here we have discussed one of the popular hyperparameter tunning method i.e. using Grid Search CV."
   ]
  },
  {
   "cell_type": "code",
   "metadata": {
    "id": "iJULs32W7_2x"
   },
   "source": [
    "from sklearn.model_selection import GridSearchCV"
   ],
   "execution_count": 40,
   "outputs": []
  },
  {
   "cell_type": "code",
   "metadata": {
    "id": "9H2stTDwkRbl"
   },
   "source": [
    "from sklearn.ensemble import RandomForestClassifier\n",
    "rfc = RandomForestClassifier()"
   ],
   "execution_count": 41,
   "outputs": []
  },
  {
   "cell_type": "markdown",
   "metadata": {
    "id": "M2itoOa7mddr"
   },
   "source": [
    "To know about different parameters of random forest visit here: https://scikit-learn.org/stable/modules/generated/sklearn.ensemble.RandomForestClassifier.html"
   ]
  },
  {
   "cell_type": "code",
   "metadata": {
    "id": "RSZj1jrx9XQg"
   },
   "source": [
    "# Different parameters in random forest\n",
    "\n",
    "criterion = ['gini', 'entropy']        # what criteria to consider\n",
    "\n",
    "n_estimators = [100, 200, 300]       # Number of trees in random forest\n",
    "\n",
    "max_features = ['auto', 'sqrt']       # Number of features to consider at every split\n",
    "\n",
    "max_depth = [10, 20]      # Maximum number of levels in tree. Hope you remember linspace function from numpy session\n",
    "\n",
    "max_depth.append(None)     # also appendin 'None' in max_depth i.e. no maximum depth to be considered.\n",
    "\n",
    "params = {'criterion': criterion,\n",
    "          'n_estimators': n_estimators,\n",
    "          'max_features': max_features,\n",
    "          'max_depth': max_depth}\n"
   ],
   "execution_count": 42,
   "outputs": []
  },
  {
   "cell_type": "code",
   "metadata": {
    "id": "QbMaahyDnneZ",
    "outputId": "5a0ba0c1-4098-49d4-bb2e-73d47c809041",
    "colab": {
     "base_uri": "https://localhost:8080/",
     "height": 85
    }
   },
   "source": [
    "params"
   ],
   "execution_count": 43,
   "outputs": [
    {
     "data": {
      "text/plain": "{'criterion': ['gini', 'entropy'],\n 'n_estimators': [100, 200, 300],\n 'max_features': ['auto', 'sqrt'],\n 'max_depth': [10, 20, None]}"
     },
     "execution_count": 43,
     "metadata": {},
     "output_type": "execute_result"
    }
   ]
  },
  {
   "cell_type": "code",
   "metadata": {
    "id": "XwlLlPFN9ZnF"
   },
   "source": [
    "gs = GridSearchCV(rfc, param_grid=params, n_jobs=2)"
   ],
   "execution_count": 44,
   "outputs": []
  },
  {
   "cell_type": "code",
   "metadata": {
    "id": "zFDZSMKB9hnT",
    "outputId": "e45aee54-21a9-4772-e208-4ab10d7d3b70",
    "colab": {
     "base_uri": "https://localhost:8080/",
     "height": 408
    },
    "pycharm": {
     "is_executing": true
    }
   },
   "source": [
    "gs.fit(X_train, Y_train)    # this will take a lot of time to execute; have some patience"
   ],
   "execution_count": null,
   "outputs": []
  },
  {
   "cell_type": "code",
   "metadata": {
    "id": "z6FNdBsL9nB6",
    "outputId": "8ab6d8a2-bb3d-4955-c248-7233876935e7",
    "colab": {
     "base_uri": "https://localhost:8080/",
     "height": 85
    }
   },
   "source": [
    "gs.best_params_"
   ],
   "execution_count": null,
   "outputs": [
    {
     "output_type": "execute_result",
     "data": {
      "text/plain": [
       "{'criterion': 'gini',\n",
       " 'max_depth': 10,\n",
       " 'max_features': 'sqrt',\n",
       " 'n_estimators': 100}"
      ]
     },
     "metadata": {
      "tags": []
     },
     "execution_count": 39
    }
   ]
  },
  {
   "cell_type": "code",
   "metadata": {
    "id": "K0l9DDOE_QxJ",
    "outputId": "c36979ec-8efc-4f36-d720-e7ae189e68cf",
    "colab": {
     "base_uri": "https://localhost:8080/",
     "height": 34
    }
   },
   "source": [
    "gs.best_score_"
   ],
   "execution_count": null,
   "outputs": [
    {
     "output_type": "execute_result",
     "data": {
      "text/plain": [
       "0.968418616846677"
      ]
     },
     "metadata": {
      "tags": []
     },
     "execution_count": 40
    }
   ]
  },
  {
   "cell_type": "code",
   "metadata": {
    "id": "hkoDdv8wev4g",
    "outputId": "93f40867-3092-4d2e-cf0c-8c7115932257",
    "colab": {
     "base_uri": "https://localhost:8080/",
     "height": 34
    }
   },
   "source": [
    "gs.score(X_test, Y_test)"
   ],
   "execution_count": null,
   "outputs": [
    {
     "output_type": "execute_result",
     "data": {
      "text/plain": [
       "0.9689272711878757"
      ]
     },
     "metadata": {
      "tags": []
     },
     "execution_count": 42
    }
   ]
  },
  {
   "cell_type": "markdown",
   "metadata": {
    "id": "3xj73WQFfVVA"
   },
   "source": [
    "**Conclusion**\n",
    "*  We observed that the dataset contained missing values. We removed some columns and filled missing values for numerical column with mean and categorical column with mode (i.e. the maximum occuring value).\n",
    "*  We observed that the dataset was imblanced. We used 'SMOTE' to generate new data to deal with the problem of imbalanced data.\n",
    "*  We build Random Forest model, got accuracy score of 97.53%.\n",
    "*  Then we selected only 10 most important features using selectKBest and f_classif. Here the model complexity is reduced a lot (which is very good) with very little decrease in accuracy\n",
    "*  Cross Validation and Hyper parameter tunning gave nearly 96.8% of accurate results which is not bad. Most of the times the default values for hyper parameters of the models are same that we get through the hyper parameter tunning. That's the reason there is not much difference in normal model and tunned model."
   ]
  },
  {
   "cell_type": "markdown",
   "metadata": {
    "id": "j8ydaZR7timZ"
   },
   "source": [
    "References:\n",
    "1. [Dealing with Imbalanced Data by Tara Boyle](https://towardsdatascience.com/methods-for-dealing-with-imbalanced-data-5b761be45a18)\n",
    "2. [Data Pre-processing - Handling missing values and dealing with class imbalance by Bharat Ram Ammu](https://www.youtube.com/watch?v=vksQx1JNo8Y)\n",
    "3. https://www.kaggle.com/drgilermo/a-tutorial-for-complete-beginners\n",
    "4. https://machinelearningmastery.com/feature-selection-with-real-and-categorical-data/"
   ]
  }
 ]
}
