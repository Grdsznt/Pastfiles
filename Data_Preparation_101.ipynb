{
 "nbformat": 4,
 "nbformat_minor": 0,
 "metadata": {
  "kernelspec": {
   "display_name": "Python 3",
   "language": "python",
   "name": "python3"
  },
  "language_info": {
   "codemirror_mode": {
    "name": "ipython",
    "version": 3
   },
   "file_extension": ".py",
   "mimetype": "text/x-python",
   "name": "python",
   "nbconvert_exporter": "python",
   "pygments_lexer": "ipython3",
   "version": "3.8.3"
  },
  "colab": {
   "name": "Data_Preparation_101.ipynb",
   "provenance": [],
   "collapsed_sections": [
    "NS3lBsfoi-em",
    "vqDdW2Ngi-eo"
   ],
   "include_colab_link": true
  }
 },
 "cells": [
  {
   "cell_type": "markdown",
   "metadata": {
    "id": "view-in-github",
    "colab_type": "text"
   },
   "source": [
    "<a href=\"https://colab.research.google.com/github/dphi-official/Machine_Learning_Bootcamp/blob/master/Data_Preparation_101/Data_Preparation_101.ipynb\" target=\"_parent\"><img src=\"https://colab.research.google.com/assets/colab-badge.svg\" alt=\"Open In Colab\"/></a>"
   ]
  },
  {
   "cell_type": "code",
   "metadata": {
    "id": "9vs7hrtji-da"
   },
   "source": [
    "# the below code is for displaying the output from all lines of python code within a single cell\n",
    "from IPython.core.interactiveshell import InteractiveShell\n",
    "InteractiveShell.ast_node_interactivity = \"all\"\n",
    "\n",
    "# A fundamental package for linear algebra and multidimensional arrays\n",
    "import pandas as pd                  \n",
    "\n",
    "# Data analysis and data manipulating tool\n",
    "import numpy as np                   \n",
    "\n",
    "# Library to generate random numbers\n",
    "import random                        \n",
    "\n",
    "# Collection is a Python module that implements specialized container datatypes providing \n",
    "# Counter is a dict subclass for counting hashable objects\n",
    "from collections import Counter\n",
    "                                     \n",
    "# Visualization libraries\n",
    "import matplotlib.pyplot as plt\n",
    "import seaborn as sns\n",
    "\n",
    "# To ignore warnings in the notebook\n",
    "import warnings\n",
    "warnings.filterwarnings(\"ignore\")\n",
    "\n",
    "# to display up to 500 rows in the output of the jupyter notebook cell\n",
    "pd.set_option('display.max_rows', 500)"
   ],
   "execution_count": 1,
   "outputs": []
  },
  {
   "cell_type": "markdown",
   "metadata": {
    "id": "Pw3xTkGgi-dg"
   },
   "source": [
    "### Titanic dataset from Kaggle\n",
    "\n",
    "This is the legendary Titanic ML competition – the best, first challenge for you to dive into ML. The objective is simple: use machine learning to create a model that predicts which passengers survived the Titanic shipwreck.\n",
    "\n",
    "More details can be found at - https://www.kaggle.com/c/titanic\n",
    "\n",
    "We have uploaded the dataset on GitHub so its raw link can be used directly as below:"
   ]
  },
  {
   "cell_type": "code",
   "metadata": {
    "id": "LXW7xCtni-d7",
    "outputId": "befa748c-b727-4562-b3b1-bc182d900256"
   },
   "source": [
    " # import training data as pandas dataframe\n",
    "# the data is in csv - comma separated file. Hence we use the function 'read_csv'\n",
    "train = pd.read_csv('https://raw.githubusercontent.com/dphi-official/Datasets/master/titanic_data.csv')\n",
    "\n",
    "# the below code will print the number of rows and columns\n",
    "train.shape"
   ],
   "execution_count": 2,
   "outputs": [
    {
     "data": {
      "text/plain": "(891, 12)"
     },
     "execution_count": 2,
     "metadata": {},
     "output_type": "execute_result"
    }
   ]
  },
  {
   "cell_type": "code",
   "metadata": {
    "id": "7j_h2hTSi-d9",
    "outputId": "d39a2279-3887-48d6-c207-ee3c27cc7fc5"
   },
   "source": [
    "# import test data as pandas dataframe\n",
    "test = pd.read_csv('https://raw.githubusercontent.com/dphi-official/Datasets/master/titanic_test.csv')\n",
    "\n",
    "# the below code will print the number of rows and columns\n",
    "test.shape\n",
    "\n",
    "# the data has 11 columns and 418 rows in the test set\n",
    "# one column less because the target variable will not be there in the test set. It is our task to predict the target variable"
   ],
   "execution_count": 3,
   "outputs": [
    {
     "data": {
      "text/plain": "(418, 11)"
     },
     "execution_count": 3,
     "metadata": {},
     "output_type": "execute_result"
    }
   ]
  },
  {
   "cell_type": "code",
   "metadata": {
    "id": "Gvtt3NKzi-d_",
    "outputId": "304c6c7b-39ac-4b1a-a5aa-7710013297ce"
   },
   "source": [
    "# the below code will display the column names along with their data type\n",
    "# int64 = integer numbers\n",
    "# float = floating point numbers\n",
    "# object = text or mixed numeric or non-numeric values\n",
    "\n",
    "train.dtypes"
   ],
   "execution_count": 4,
   "outputs": [
    {
     "data": {
      "text/plain": "PassengerId      int64\nSurvived         int64\nPclass           int64\nName            object\nSex             object\nAge            float64\nSibSp            int64\nParch            int64\nTicket          object\nFare           float64\nCabin           object\nEmbarked        object\ndtype: object"
     },
     "execution_count": 4,
     "metadata": {},
     "output_type": "execute_result"
    }
   ]
  },
  {
   "cell_type": "code",
   "metadata": {
    "id": "XQgQZtUii-eA",
    "outputId": "c6ed1d2a-f9f8-4e89-8803-f5d59831a9c2"
   },
   "source": [
    "# .head() will display the first 5 rows in the dataframe\n",
    "train.head()\n",
    "\n",
    "# you can give a number inside the braces so that those many number of lines will be display\n",
    "train.head(10)\n",
    "\n",
    "# please note the first column displayed is python index (similar to the row numbers in MS Excel)\n",
    "# the python index always starts from zero (0). If you have to extract the first row, then you use the code below\n",
    "train.iloc[[0]]\n",
    "\n",
    "# the python index always starts from zero (0). If you have to extract the 16th row, then you use the code below\n",
    "train.iloc[[15]]"
   ],
   "execution_count": 5,
   "outputs": [
    {
     "data": {
      "text/plain": "   PassengerId  Survived  Pclass  \\\n0            1         0       3   \n1            2         1       1   \n2            3         1       3   \n3            4         1       1   \n4            5         0       3   \n\n                                                Name     Sex   Age  SibSp  \\\n0                            Braund, Mr. Owen Harris    male  22.0      1   \n1  Cumings, Mrs. John Bradley (Florence Briggs Th...  female  38.0      1   \n2                             Heikkinen, Miss. Laina  female  26.0      0   \n3       Futrelle, Mrs. Jacques Heath (Lily May Peel)  female  35.0      1   \n4                           Allen, Mr. William Henry    male  35.0      0   \n\n   Parch            Ticket     Fare Cabin Embarked  \n0      0         A/5 21171   7.2500   NaN        S  \n1      0          PC 17599  71.2833   C85        C  \n2      0  STON/O2. 3101282   7.9250   NaN        S  \n3      0            113803  53.1000  C123        S  \n4      0            373450   8.0500   NaN        S  ",
      "text/html": "<div>\n<style scoped>\n    .dataframe tbody tr th:only-of-type {\n        vertical-align: middle;\n    }\n\n    .dataframe tbody tr th {\n        vertical-align: top;\n    }\n\n    .dataframe thead th {\n        text-align: right;\n    }\n</style>\n<table border=\"1\" class=\"dataframe\">\n  <thead>\n    <tr style=\"text-align: right;\">\n      <th></th>\n      <th>PassengerId</th>\n      <th>Survived</th>\n      <th>Pclass</th>\n      <th>Name</th>\n      <th>Sex</th>\n      <th>Age</th>\n      <th>SibSp</th>\n      <th>Parch</th>\n      <th>Ticket</th>\n      <th>Fare</th>\n      <th>Cabin</th>\n      <th>Embarked</th>\n    </tr>\n  </thead>\n  <tbody>\n    <tr>\n      <th>0</th>\n      <td>1</td>\n      <td>0</td>\n      <td>3</td>\n      <td>Braund, Mr. Owen Harris</td>\n      <td>male</td>\n      <td>22.0</td>\n      <td>1</td>\n      <td>0</td>\n      <td>A/5 21171</td>\n      <td>7.2500</td>\n      <td>NaN</td>\n      <td>S</td>\n    </tr>\n    <tr>\n      <th>1</th>\n      <td>2</td>\n      <td>1</td>\n      <td>1</td>\n      <td>Cumings, Mrs. John Bradley (Florence Briggs Th...</td>\n      <td>female</td>\n      <td>38.0</td>\n      <td>1</td>\n      <td>0</td>\n      <td>PC 17599</td>\n      <td>71.2833</td>\n      <td>C85</td>\n      <td>C</td>\n    </tr>\n    <tr>\n      <th>2</th>\n      <td>3</td>\n      <td>1</td>\n      <td>3</td>\n      <td>Heikkinen, Miss. Laina</td>\n      <td>female</td>\n      <td>26.0</td>\n      <td>0</td>\n      <td>0</td>\n      <td>STON/O2. 3101282</td>\n      <td>7.9250</td>\n      <td>NaN</td>\n      <td>S</td>\n    </tr>\n    <tr>\n      <th>3</th>\n      <td>4</td>\n      <td>1</td>\n      <td>1</td>\n      <td>Futrelle, Mrs. Jacques Heath (Lily May Peel)</td>\n      <td>female</td>\n      <td>35.0</td>\n      <td>1</td>\n      <td>0</td>\n      <td>113803</td>\n      <td>53.1000</td>\n      <td>C123</td>\n      <td>S</td>\n    </tr>\n    <tr>\n      <th>4</th>\n      <td>5</td>\n      <td>0</td>\n      <td>3</td>\n      <td>Allen, Mr. William Henry</td>\n      <td>male</td>\n      <td>35.0</td>\n      <td>0</td>\n      <td>0</td>\n      <td>373450</td>\n      <td>8.0500</td>\n      <td>NaN</td>\n      <td>S</td>\n    </tr>\n  </tbody>\n</table>\n</div>"
     },
     "execution_count": 5,
     "metadata": {},
     "output_type": "execute_result"
    },
    {
     "data": {
      "text/plain": "   PassengerId  Survived  Pclass  \\\n0            1         0       3   \n1            2         1       1   \n2            3         1       3   \n3            4         1       1   \n4            5         0       3   \n5            6         0       3   \n6            7         0       1   \n7            8         0       3   \n8            9         1       3   \n9           10         1       2   \n\n                                                Name     Sex   Age  SibSp  \\\n0                            Braund, Mr. Owen Harris    male  22.0      1   \n1  Cumings, Mrs. John Bradley (Florence Briggs Th...  female  38.0      1   \n2                             Heikkinen, Miss. Laina  female  26.0      0   \n3       Futrelle, Mrs. Jacques Heath (Lily May Peel)  female  35.0      1   \n4                           Allen, Mr. William Henry    male  35.0      0   \n5                                   Moran, Mr. James    male   NaN      0   \n6                            McCarthy, Mr. Timothy J    male  54.0      0   \n7                     Palsson, Master. Gosta Leonard    male   2.0      3   \n8  Johnson, Mrs. Oscar W (Elisabeth Vilhelmina Berg)  female  27.0      0   \n9                Nasser, Mrs. Nicholas (Adele Achem)  female  14.0      1   \n\n   Parch            Ticket     Fare Cabin Embarked  \n0      0         A/5 21171   7.2500   NaN        S  \n1      0          PC 17599  71.2833   C85        C  \n2      0  STON/O2. 3101282   7.9250   NaN        S  \n3      0            113803  53.1000  C123        S  \n4      0            373450   8.0500   NaN        S  \n5      0            330877   8.4583   NaN        Q  \n6      0             17463  51.8625   E46        S  \n7      1            349909  21.0750   NaN        S  \n8      2            347742  11.1333   NaN        S  \n9      0            237736  30.0708   NaN        C  ",
      "text/html": "<div>\n<style scoped>\n    .dataframe tbody tr th:only-of-type {\n        vertical-align: middle;\n    }\n\n    .dataframe tbody tr th {\n        vertical-align: top;\n    }\n\n    .dataframe thead th {\n        text-align: right;\n    }\n</style>\n<table border=\"1\" class=\"dataframe\">\n  <thead>\n    <tr style=\"text-align: right;\">\n      <th></th>\n      <th>PassengerId</th>\n      <th>Survived</th>\n      <th>Pclass</th>\n      <th>Name</th>\n      <th>Sex</th>\n      <th>Age</th>\n      <th>SibSp</th>\n      <th>Parch</th>\n      <th>Ticket</th>\n      <th>Fare</th>\n      <th>Cabin</th>\n      <th>Embarked</th>\n    </tr>\n  </thead>\n  <tbody>\n    <tr>\n      <th>0</th>\n      <td>1</td>\n      <td>0</td>\n      <td>3</td>\n      <td>Braund, Mr. Owen Harris</td>\n      <td>male</td>\n      <td>22.0</td>\n      <td>1</td>\n      <td>0</td>\n      <td>A/5 21171</td>\n      <td>7.2500</td>\n      <td>NaN</td>\n      <td>S</td>\n    </tr>\n    <tr>\n      <th>1</th>\n      <td>2</td>\n      <td>1</td>\n      <td>1</td>\n      <td>Cumings, Mrs. John Bradley (Florence Briggs Th...</td>\n      <td>female</td>\n      <td>38.0</td>\n      <td>1</td>\n      <td>0</td>\n      <td>PC 17599</td>\n      <td>71.2833</td>\n      <td>C85</td>\n      <td>C</td>\n    </tr>\n    <tr>\n      <th>2</th>\n      <td>3</td>\n      <td>1</td>\n      <td>3</td>\n      <td>Heikkinen, Miss. Laina</td>\n      <td>female</td>\n      <td>26.0</td>\n      <td>0</td>\n      <td>0</td>\n      <td>STON/O2. 3101282</td>\n      <td>7.9250</td>\n      <td>NaN</td>\n      <td>S</td>\n    </tr>\n    <tr>\n      <th>3</th>\n      <td>4</td>\n      <td>1</td>\n      <td>1</td>\n      <td>Futrelle, Mrs. Jacques Heath (Lily May Peel)</td>\n      <td>female</td>\n      <td>35.0</td>\n      <td>1</td>\n      <td>0</td>\n      <td>113803</td>\n      <td>53.1000</td>\n      <td>C123</td>\n      <td>S</td>\n    </tr>\n    <tr>\n      <th>4</th>\n      <td>5</td>\n      <td>0</td>\n      <td>3</td>\n      <td>Allen, Mr. William Henry</td>\n      <td>male</td>\n      <td>35.0</td>\n      <td>0</td>\n      <td>0</td>\n      <td>373450</td>\n      <td>8.0500</td>\n      <td>NaN</td>\n      <td>S</td>\n    </tr>\n    <tr>\n      <th>5</th>\n      <td>6</td>\n      <td>0</td>\n      <td>3</td>\n      <td>Moran, Mr. James</td>\n      <td>male</td>\n      <td>NaN</td>\n      <td>0</td>\n      <td>0</td>\n      <td>330877</td>\n      <td>8.4583</td>\n      <td>NaN</td>\n      <td>Q</td>\n    </tr>\n    <tr>\n      <th>6</th>\n      <td>7</td>\n      <td>0</td>\n      <td>1</td>\n      <td>McCarthy, Mr. Timothy J</td>\n      <td>male</td>\n      <td>54.0</td>\n      <td>0</td>\n      <td>0</td>\n      <td>17463</td>\n      <td>51.8625</td>\n      <td>E46</td>\n      <td>S</td>\n    </tr>\n    <tr>\n      <th>7</th>\n      <td>8</td>\n      <td>0</td>\n      <td>3</td>\n      <td>Palsson, Master. Gosta Leonard</td>\n      <td>male</td>\n      <td>2.0</td>\n      <td>3</td>\n      <td>1</td>\n      <td>349909</td>\n      <td>21.0750</td>\n      <td>NaN</td>\n      <td>S</td>\n    </tr>\n    <tr>\n      <th>8</th>\n      <td>9</td>\n      <td>1</td>\n      <td>3</td>\n      <td>Johnson, Mrs. Oscar W (Elisabeth Vilhelmina Berg)</td>\n      <td>female</td>\n      <td>27.0</td>\n      <td>0</td>\n      <td>2</td>\n      <td>347742</td>\n      <td>11.1333</td>\n      <td>NaN</td>\n      <td>S</td>\n    </tr>\n    <tr>\n      <th>9</th>\n      <td>10</td>\n      <td>1</td>\n      <td>2</td>\n      <td>Nasser, Mrs. Nicholas (Adele Achem)</td>\n      <td>female</td>\n      <td>14.0</td>\n      <td>1</td>\n      <td>0</td>\n      <td>237736</td>\n      <td>30.0708</td>\n      <td>NaN</td>\n      <td>C</td>\n    </tr>\n  </tbody>\n</table>\n</div>"
     },
     "execution_count": 5,
     "metadata": {},
     "output_type": "execute_result"
    },
    {
     "data": {
      "text/plain": "   PassengerId  Survived  Pclass                     Name   Sex   Age  SibSp  \\\n0            1         0       3  Braund, Mr. Owen Harris  male  22.0      1   \n\n   Parch     Ticket  Fare Cabin Embarked  \n0      0  A/5 21171  7.25   NaN        S  ",
      "text/html": "<div>\n<style scoped>\n    .dataframe tbody tr th:only-of-type {\n        vertical-align: middle;\n    }\n\n    .dataframe tbody tr th {\n        vertical-align: top;\n    }\n\n    .dataframe thead th {\n        text-align: right;\n    }\n</style>\n<table border=\"1\" class=\"dataframe\">\n  <thead>\n    <tr style=\"text-align: right;\">\n      <th></th>\n      <th>PassengerId</th>\n      <th>Survived</th>\n      <th>Pclass</th>\n      <th>Name</th>\n      <th>Sex</th>\n      <th>Age</th>\n      <th>SibSp</th>\n      <th>Parch</th>\n      <th>Ticket</th>\n      <th>Fare</th>\n      <th>Cabin</th>\n      <th>Embarked</th>\n    </tr>\n  </thead>\n  <tbody>\n    <tr>\n      <th>0</th>\n      <td>1</td>\n      <td>0</td>\n      <td>3</td>\n      <td>Braund, Mr. Owen Harris</td>\n      <td>male</td>\n      <td>22.0</td>\n      <td>1</td>\n      <td>0</td>\n      <td>A/5 21171</td>\n      <td>7.25</td>\n      <td>NaN</td>\n      <td>S</td>\n    </tr>\n  </tbody>\n</table>\n</div>"
     },
     "execution_count": 5,
     "metadata": {},
     "output_type": "execute_result"
    },
    {
     "data": {
      "text/plain": "    PassengerId  Survived  Pclass                              Name     Sex  \\\n15           16         1       2  Hewlett, Mrs. (Mary D Kingcome)   female   \n\n     Age  SibSp  Parch  Ticket  Fare Cabin Embarked  \n15  55.0      0      0  248706  16.0   NaN        S  ",
      "text/html": "<div>\n<style scoped>\n    .dataframe tbody tr th:only-of-type {\n        vertical-align: middle;\n    }\n\n    .dataframe tbody tr th {\n        vertical-align: top;\n    }\n\n    .dataframe thead th {\n        text-align: right;\n    }\n</style>\n<table border=\"1\" class=\"dataframe\">\n  <thead>\n    <tr style=\"text-align: right;\">\n      <th></th>\n      <th>PassengerId</th>\n      <th>Survived</th>\n      <th>Pclass</th>\n      <th>Name</th>\n      <th>Sex</th>\n      <th>Age</th>\n      <th>SibSp</th>\n      <th>Parch</th>\n      <th>Ticket</th>\n      <th>Fare</th>\n      <th>Cabin</th>\n      <th>Embarked</th>\n    </tr>\n  </thead>\n  <tbody>\n    <tr>\n      <th>15</th>\n      <td>16</td>\n      <td>1</td>\n      <td>2</td>\n      <td>Hewlett, Mrs. (Mary D Kingcome)</td>\n      <td>female</td>\n      <td>55.0</td>\n      <td>0</td>\n      <td>0</td>\n      <td>248706</td>\n      <td>16.0</td>\n      <td>NaN</td>\n      <td>S</td>\n    </tr>\n  </tbody>\n</table>\n</div>"
     },
     "execution_count": 5,
     "metadata": {},
     "output_type": "execute_result"
    }
   ]
  },
  {
   "cell_type": "code",
   "execution_count": 6,
   "outputs": [
    {
     "name": "stdout",
     "output_type": "stream",
     "text": [
      "<class 'pandas.core.frame.DataFrame'>\n",
      "RangeIndex: 891 entries, 0 to 890\n",
      "Data columns (total 12 columns):\n",
      " #   Column       Non-Null Count  Dtype  \n",
      "---  ------       --------------  -----  \n",
      " 0   PassengerId  891 non-null    int64  \n",
      " 1   Survived     891 non-null    int64  \n",
      " 2   Pclass       891 non-null    int64  \n",
      " 3   Name         891 non-null    object \n",
      " 4   Sex          891 non-null    object \n",
      " 5   Age          714 non-null    float64\n",
      " 6   SibSp        891 non-null    int64  \n",
      " 7   Parch        891 non-null    int64  \n",
      " 8   Ticket       891 non-null    object \n",
      " 9   Fare         891 non-null    float64\n",
      " 10  Cabin        204 non-null    object \n",
      " 11  Embarked     889 non-null    object \n",
      "dtypes: float64(2), int64(5), object(5)\n",
      "memory usage: 83.7+ KB\n"
     ]
    }
   ],
   "source": [
    "#get the number of missing values for each column using .info()\n",
    "\n",
    "train.info()\n",
    "\n",
    "# we can see that there are about 670-80 missing values in Cabin, about 100 something in Age"
   ],
   "metadata": {
    "collapsed": false
   }
  },
  {
   "cell_type": "code",
   "metadata": {
    "id": "XYqJOzVDi-eC",
    "outputId": "a7649f94-c3ce-4308-85d3-89ac916a9b08"
   },
   "source": [
    "# detect columns with missing values in the training dataset\n",
    "\n",
    "# isnull().sum() will sum the number of missing values by columns\n",
    "train_count_of_missval_by_col = (train.isnull().sum())\n",
    "train_count_of_missval_by_col.shape\n",
    "\n",
    "\n",
    "# below code will display only the columns with missing values (in absolute number of rows)\n",
    "train_count_of_missval_by_col[train_count_of_missval_by_col > 0]\n",
    "\n",
    "# below code will display only the columns with missing values (in percentage of missing values to the total rows)\n",
    "(train_count_of_missval_by_col[train_count_of_missval_by_col > 0]/train.shape[0])*100"
   ],
   "execution_count": 4,
   "outputs": [
    {
     "data": {
      "text/plain": "(12,)"
     },
     "execution_count": 4,
     "metadata": {},
     "output_type": "execute_result"
    },
    {
     "data": {
      "text/plain": "Age         177\nCabin       687\nEmbarked      2\ndtype: int64"
     },
     "execution_count": 4,
     "metadata": {},
     "output_type": "execute_result"
    },
    {
     "data": {
      "text/plain": "Age         19.865320\nCabin       77.104377\nEmbarked     0.224467\ndtype: float64"
     },
     "execution_count": 4,
     "metadata": {},
     "output_type": "execute_result"
    }
   ]
  },
  {
   "cell_type": "code",
   "metadata": {
    "id": "okb-7Twyi-eE",
    "outputId": "80803428-91da-4a9b-b879-1450af016c10"
   },
   "source": [
    "# detect columns with missing values in the test data\n",
    "# isnull().sum() will sum the number of missing values by columns\n",
    "test_count_of_missval_by_col = (test.isnull().sum())\n",
    "test_count_of_missval_by_col\n",
    "\n",
    "# below code will display only the columns with missing values (in absolute number of rows)\n",
    "test_count_of_missval_by_col[test_count_of_missval_by_col > 0]\n",
    "\n",
    "# below code will display only the columns with missing values (in percentage of missing values to the total rows)\n",
    "(test_count_of_missval_by_col[test_count_of_missval_by_col > 0]/test.shape[0])*100\n",
    "\n",
    "test.isnull().mean()[test.isnull().sum()>0]*100"
   ],
   "execution_count": 5,
   "outputs": [
    {
     "data": {
      "text/plain": "PassengerId      0\nPclass           0\nName             0\nSex              0\nAge             86\nSibSp            0\nParch            0\nTicket           0\nFare             1\nCabin          327\nEmbarked         0\ndtype: int64"
     },
     "execution_count": 5,
     "metadata": {},
     "output_type": "execute_result"
    },
    {
     "data": {
      "text/plain": "Age       86\nFare       1\nCabin    327\ndtype: int64"
     },
     "execution_count": 5,
     "metadata": {},
     "output_type": "execute_result"
    },
    {
     "data": {
      "text/plain": "Age      20.574163\nFare      0.239234\nCabin    78.229665\ndtype: float64"
     },
     "execution_count": 5,
     "metadata": {},
     "output_type": "execute_result"
    },
    {
     "data": {
      "text/plain": "Age      20.574163\nFare      0.239234\nCabin    78.229665\ndtype: float64"
     },
     "execution_count": 5,
     "metadata": {},
     "output_type": "execute_result"
    }
   ]
  },
  {
   "cell_type": "code",
   "metadata": {
    "id": "y2n05lzsi-eG",
    "outputId": "7875dce0-fa24-40d8-a3d8-b27ef4bffe3d"
   },
   "source": [
    "# describe funtion takes all numeric columns and provide descriptive statistics on them\n",
    "# descriptive statistics include - count of rows, mean, standard deviation, minimum & maximum value, Quartile 25, 50, and 70\n",
    "# Note: Quartile 50 = median\n",
    "train.describe()\n",
    "\n",
    "# from the .dtypes function and also the output of describe above we understand that there are certain columns \n",
    "# that are read as numeric in the dataframe. But these columns shouldn't have been so\n",
    "\n",
    "# Note1: PassengerId is an index column and is irrelevant in our model. This can either be converted into an index or deleted\n",
    "# Note2: Survived and Pclass are categorical variables but treated as numeric while importing\n",
    "\n",
    "# transform the Survived and Pclass into categorical variable\n",
    "train['Survived'] = train['Survived'].astype(str)\n",
    "train['Pclass'] = train['Pclass'].astype(str)"
   ],
   "execution_count": 6,
   "outputs": [
    {
     "data": {
      "text/plain": "       PassengerId    Survived      Pclass         Age       SibSp  \\\ncount   891.000000  891.000000  891.000000  714.000000  891.000000   \nmean    446.000000    0.383838    2.308642   29.699118    0.523008   \nstd     257.353842    0.486592    0.836071   14.526497    1.102743   \nmin       1.000000    0.000000    1.000000    0.420000    0.000000   \n25%     223.500000    0.000000    2.000000   20.125000    0.000000   \n50%     446.000000    0.000000    3.000000   28.000000    0.000000   \n75%     668.500000    1.000000    3.000000   38.000000    1.000000   \nmax     891.000000    1.000000    3.000000   80.000000    8.000000   \n\n            Parch        Fare  \ncount  891.000000  891.000000  \nmean     0.381594   32.204208  \nstd      0.806057   49.693429  \nmin      0.000000    0.000000  \n25%      0.000000    7.910400  \n50%      0.000000   14.454200  \n75%      0.000000   31.000000  \nmax      6.000000  512.329200  ",
      "text/html": "<div>\n<style scoped>\n    .dataframe tbody tr th:only-of-type {\n        vertical-align: middle;\n    }\n\n    .dataframe tbody tr th {\n        vertical-align: top;\n    }\n\n    .dataframe thead th {\n        text-align: right;\n    }\n</style>\n<table border=\"1\" class=\"dataframe\">\n  <thead>\n    <tr style=\"text-align: right;\">\n      <th></th>\n      <th>PassengerId</th>\n      <th>Survived</th>\n      <th>Pclass</th>\n      <th>Age</th>\n      <th>SibSp</th>\n      <th>Parch</th>\n      <th>Fare</th>\n    </tr>\n  </thead>\n  <tbody>\n    <tr>\n      <th>count</th>\n      <td>891.000000</td>\n      <td>891.000000</td>\n      <td>891.000000</td>\n      <td>714.000000</td>\n      <td>891.000000</td>\n      <td>891.000000</td>\n      <td>891.000000</td>\n    </tr>\n    <tr>\n      <th>mean</th>\n      <td>446.000000</td>\n      <td>0.383838</td>\n      <td>2.308642</td>\n      <td>29.699118</td>\n      <td>0.523008</td>\n      <td>0.381594</td>\n      <td>32.204208</td>\n    </tr>\n    <tr>\n      <th>std</th>\n      <td>257.353842</td>\n      <td>0.486592</td>\n      <td>0.836071</td>\n      <td>14.526497</td>\n      <td>1.102743</td>\n      <td>0.806057</td>\n      <td>49.693429</td>\n    </tr>\n    <tr>\n      <th>min</th>\n      <td>1.000000</td>\n      <td>0.000000</td>\n      <td>1.000000</td>\n      <td>0.420000</td>\n      <td>0.000000</td>\n      <td>0.000000</td>\n      <td>0.000000</td>\n    </tr>\n    <tr>\n      <th>25%</th>\n      <td>223.500000</td>\n      <td>0.000000</td>\n      <td>2.000000</td>\n      <td>20.125000</td>\n      <td>0.000000</td>\n      <td>0.000000</td>\n      <td>7.910400</td>\n    </tr>\n    <tr>\n      <th>50%</th>\n      <td>446.000000</td>\n      <td>0.000000</td>\n      <td>3.000000</td>\n      <td>28.000000</td>\n      <td>0.000000</td>\n      <td>0.000000</td>\n      <td>14.454200</td>\n    </tr>\n    <tr>\n      <th>75%</th>\n      <td>668.500000</td>\n      <td>1.000000</td>\n      <td>3.000000</td>\n      <td>38.000000</td>\n      <td>1.000000</td>\n      <td>0.000000</td>\n      <td>31.000000</td>\n    </tr>\n    <tr>\n      <th>max</th>\n      <td>891.000000</td>\n      <td>1.000000</td>\n      <td>3.000000</td>\n      <td>80.000000</td>\n      <td>8.000000</td>\n      <td>6.000000</td>\n      <td>512.329200</td>\n    </tr>\n  </tbody>\n</table>\n</div>"
     },
     "execution_count": 6,
     "metadata": {},
     "output_type": "execute_result"
    }
   ]
  },
  {
   "cell_type": "code",
   "execution_count": 17,
   "outputs": [
    {
     "name": "stdout",
     "output_type": "stream",
     "text": [
      "Collecting pandasgui\n",
      "  Downloading pandasgui-0.2.14.tar.gz (218 kB)\n",
      "     -------------------------------------- 218.2/218.2 kB 4.4 MB/s eta 0:00:00\n",
      "  Preparing metadata (setup.py): started\n",
      "  Preparing metadata (setup.py): finished with status 'done'\n",
      "Requirement already satisfied: pandas in c:\\users\\edwin\\anaconda3\\envs\\financevenv\\lib\\site-packages (from pandasgui) (1.5.1)\n",
      "Requirement already satisfied: numpy in c:\\users\\edwin\\anaconda3\\envs\\financevenv\\lib\\site-packages (from pandasgui) (1.23.4)\n",
      "Requirement already satisfied: PyQt5 in c:\\users\\edwin\\anaconda3\\envs\\financevenv\\lib\\site-packages (from pandasgui) (5.15.7)\n",
      "Requirement already satisfied: PyQt5-sip in c:\\users\\edwin\\anaconda3\\envs\\financevenv\\lib\\site-packages (from pandasgui) (12.11.0)\n",
      "Collecting PyQtWebEngine\n",
      "  Downloading PyQtWebEngine-5.15.6-cp37-abi3-win_amd64.whl (182 kB)\n",
      "     ------------------------------------- 182.7/182.7 kB 10.8 MB/s eta 0:00:00\n",
      "Requirement already satisfied: plotly in c:\\users\\edwin\\anaconda3\\envs\\financevenv\\lib\\site-packages (from pandasgui) (5.15.0)\n",
      "Collecting wordcloud\n",
      "  Downloading wordcloud-1.9.2-cp38-cp38-win_amd64.whl (153 kB)\n",
      "     ---------------------------------------- 153.1/153.1 kB ? eta 0:00:00\n",
      "Requirement already satisfied: setuptools in c:\\users\\edwin\\anaconda3\\envs\\financevenv\\lib\\site-packages (from pandasgui) (65.5.0)\n",
      "Collecting appdirs\n",
      "  Downloading appdirs-1.4.4-py2.py3-none-any.whl (9.6 kB)\n",
      "Collecting pynput\n",
      "  Downloading pynput-1.7.6-py2.py3-none-any.whl (89 kB)\n",
      "     ---------------------------------------- 89.2/89.2 kB ? eta 0:00:00\n",
      "Requirement already satisfied: IPython in c:\\users\\edwin\\anaconda3\\envs\\financevenv\\lib\\site-packages (from pandasgui) (8.6.0)\n",
      "Collecting pyarrow\n",
      "  Downloading pyarrow-12.0.1-cp38-cp38-win_amd64.whl (21.5 MB)\n",
      "     --------------------------------------- 21.5/21.5 MB 26.1 MB/s eta 0:00:00\n",
      "Collecting astor\n",
      "  Downloading astor-0.8.1-py2.py3-none-any.whl (27 kB)\n",
      "Requirement already satisfied: typing-extensions in c:\\users\\edwin\\anaconda3\\envs\\financevenv\\lib\\site-packages (from pandasgui) (4.3.0)\n",
      "Collecting qtstylish>=0.1.2\n",
      "  Downloading qtstylish-0.1.5.tar.gz (983 kB)\n",
      "     ------------------------------------- 983.9/983.9 kB 20.7 MB/s eta 0:00:00\n",
      "  Preparing metadata (setup.py): started\n",
      "  Preparing metadata (setup.py): finished with status 'done'\n",
      "Requirement already satisfied: pywin32 in c:\\users\\edwin\\anaconda3\\envs\\financevenv\\lib\\site-packages (from pandasgui) (302)\n",
      "Requirement already satisfied: prompt-toolkit<3.1.0,>3.0.1 in c:\\users\\edwin\\anaconda3\\envs\\financevenv\\lib\\site-packages (from IPython->pandasgui) (3.0.20)\n",
      "Requirement already satisfied: jedi>=0.16 in c:\\users\\edwin\\anaconda3\\envs\\financevenv\\lib\\site-packages (from IPython->pandasgui) (0.18.1)\n",
      "Requirement already satisfied: traitlets>=5 in c:\\users\\edwin\\anaconda3\\envs\\financevenv\\lib\\site-packages (from IPython->pandasgui) (5.1.1)\n",
      "Requirement already satisfied: decorator in c:\\users\\edwin\\anaconda3\\envs\\financevenv\\lib\\site-packages (from IPython->pandasgui) (5.1.1)\n",
      "Requirement already satisfied: pickleshare in c:\\users\\edwin\\anaconda3\\envs\\financevenv\\lib\\site-packages (from IPython->pandasgui) (0.7.5)\n",
      "Requirement already satisfied: colorama in c:\\users\\edwin\\anaconda3\\envs\\financevenv\\lib\\site-packages (from IPython->pandasgui) (0.4.5)\n",
      "Requirement already satisfied: matplotlib-inline in c:\\users\\edwin\\anaconda3\\envs\\financevenv\\lib\\site-packages (from IPython->pandasgui) (0.1.6)\n",
      "Requirement already satisfied: pygments>=2.4.0 in c:\\users\\edwin\\anaconda3\\envs\\financevenv\\lib\\site-packages (from IPython->pandasgui) (2.11.2)\n",
      "Requirement already satisfied: backcall in c:\\users\\edwin\\anaconda3\\envs\\financevenv\\lib\\site-packages (from IPython->pandasgui) (0.2.0)\n",
      "Requirement already satisfied: stack-data in c:\\users\\edwin\\anaconda3\\envs\\financevenv\\lib\\site-packages (from IPython->pandasgui) (0.2.0)\n",
      "Requirement already satisfied: pytz>=2020.1 in c:\\users\\edwin\\anaconda3\\envs\\financevenv\\lib\\site-packages (from pandas->pandasgui) (2022.1)\n",
      "Requirement already satisfied: python-dateutil>=2.8.1 in c:\\users\\edwin\\anaconda3\\envs\\financevenv\\lib\\site-packages (from pandas->pandasgui) (2.8.2)\n",
      "Requirement already satisfied: packaging in c:\\users\\edwin\\anaconda3\\envs\\financevenv\\lib\\site-packages (from plotly->pandasgui) (21.3)\n",
      "Requirement already satisfied: tenacity>=6.2.0 in c:\\users\\edwin\\anaconda3\\envs\\financevenv\\lib\\site-packages (from plotly->pandasgui) (8.2.2)\n",
      "Requirement already satisfied: six in c:\\users\\edwin\\anaconda3\\envs\\financevenv\\lib\\site-packages (from pynput->pandasgui) (1.16.0)\n",
      "Collecting PyQtWebEngine-Qt5>=5.15.0\n",
      "  Downloading PyQtWebEngine_Qt5-5.15.2-py3-none-win_amd64.whl (60.0 MB)\n",
      "     --------------------------------------- 60.0/60.0 MB 28.4 MB/s eta 0:00:00\n",
      "Requirement already satisfied: pillow in c:\\users\\edwin\\anaconda3\\envs\\financevenv\\lib\\site-packages (from wordcloud->pandasgui) (9.2.0)\n",
      "Requirement already satisfied: matplotlib in c:\\users\\edwin\\anaconda3\\envs\\financevenv\\lib\\site-packages (from wordcloud->pandasgui) (3.5.3)\n",
      "Requirement already satisfied: parso<0.9.0,>=0.8.0 in c:\\users\\edwin\\anaconda3\\envs\\financevenv\\lib\\site-packages (from jedi>=0.16->IPython->pandasgui) (0.8.3)\n",
      "Requirement already satisfied: wcwidth in c:\\users\\edwin\\anaconda3\\envs\\financevenv\\lib\\site-packages (from prompt-toolkit<3.1.0,>3.0.1->IPython->pandasgui) (0.2.5)\n",
      "Requirement already satisfied: fonttools>=4.22.0 in c:\\users\\edwin\\anaconda3\\envs\\financevenv\\lib\\site-packages (from matplotlib->wordcloud->pandasgui) (4.25.0)\n",
      "Requirement already satisfied: kiwisolver>=1.0.1 in c:\\users\\edwin\\anaconda3\\envs\\financevenv\\lib\\site-packages (from matplotlib->wordcloud->pandasgui) (1.4.2)\n",
      "Requirement already satisfied: cycler>=0.10 in c:\\users\\edwin\\anaconda3\\envs\\financevenv\\lib\\site-packages (from matplotlib->wordcloud->pandasgui) (0.11.0)\n",
      "Requirement already satisfied: pyparsing>=2.2.1 in c:\\users\\edwin\\anaconda3\\envs\\financevenv\\lib\\site-packages (from matplotlib->wordcloud->pandasgui) (3.0.9)\n",
      "Requirement already satisfied: asttokens in c:\\users\\edwin\\anaconda3\\envs\\financevenv\\lib\\site-packages (from stack-data->IPython->pandasgui) (2.0.5)\n",
      "Requirement already satisfied: pure-eval in c:\\users\\edwin\\anaconda3\\envs\\financevenv\\lib\\site-packages (from stack-data->IPython->pandasgui) (0.2.2)\n",
      "Requirement already satisfied: executing in c:\\users\\edwin\\anaconda3\\envs\\financevenv\\lib\\site-packages (from stack-data->IPython->pandasgui) (0.8.3)\n",
      "Building wheels for collected packages: pandasgui, qtstylish\n",
      "  Building wheel for pandasgui (setup.py): started\n",
      "  Building wheel for pandasgui (setup.py): finished with status 'done'\n",
      "  Created wheel for pandasgui: filename=pandasgui-0.2.14-py3-none-any.whl size=235584 sha256=97a9e0015879e2279dc9651bb3a9d43affb7e25c6aea02d428d6014fa39c9d1a\n",
      "  Stored in directory: c:\\users\\edwin\\appdata\\local\\pip\\cache\\wheels\\9b\\b9\\c4\\81bbaaa71eb40b32b5c463d15144aeb8c6c6fba7d3c2e1d676\n",
      "  Building wheel for qtstylish (setup.py): started\n",
      "  Building wheel for qtstylish (setup.py): finished with status 'done'\n",
      "  Created wheel for qtstylish: filename=qtstylish-0.1.5-py3-none-any.whl size=1029268 sha256=c6392b2b1780f9819d9f84546470d753d50bb749a725ca27a9a48dfc9b12e3df\n",
      "  Stored in directory: c:\\users\\edwin\\appdata\\local\\pip\\cache\\wheels\\88\\6f\\75\\b39bf9ba496bc5f025e3d66cdb1e1f7c2dae210f212b084bf7\n",
      "Successfully built pandasgui qtstylish\n",
      "Installing collected packages: PyQtWebEngine-Qt5, appdirs, pynput, pyarrow, astor, qtstylish, PyQtWebEngine, wordcloud, pandasgui\n",
      "Successfully installed PyQtWebEngine-5.15.6 PyQtWebEngine-Qt5-5.15.2 appdirs-1.4.4 astor-0.8.1 pandasgui-0.2.14 pyarrow-12.0.1 pynput-1.7.6 qtstylish-0.1.5 wordcloud-1.9.2\n"
     ]
    }
   ],
   "source": [
    "!pip install pandasgui"
   ],
   "metadata": {
    "collapsed": false
   }
  },
  {
   "cell_type": "code",
   "metadata": {
    "id": "A9EyQ5dGi-eH"
   },
   "source": [
    "# pandasgui is a library that will display the data in a gui format\n",
    "# once you run the code below, there will be a popup window to view and create graphs from the dataframe\n",
    "# make sure your chrome does not block 'popup window'\n",
    "from pandasgui import show\n",
    "gui = show(train)"
   ],
   "execution_count": 18,
   "outputs": [
    {
     "ename": "ImportError",
     "evalue": "DLL load failed while importing QtWebEngineWidgets: The specified module could not be found.",
     "output_type": "error",
     "traceback": [
      "\u001B[1;31m---------------------------------------------------------------------------\u001B[0m",
      "\u001B[1;31mImportError\u001B[0m                               Traceback (most recent call last)",
      "Cell \u001B[1;32mIn [18], line 4\u001B[0m\n\u001B[0;32m      1\u001B[0m \u001B[38;5;66;03m# pandasgui is a library that will display the data in a gui format\u001B[39;00m\n\u001B[0;32m      2\u001B[0m \u001B[38;5;66;03m# once you run the code below, there will be a popup window to view and create graphs from the dataframe\u001B[39;00m\n\u001B[0;32m      3\u001B[0m \u001B[38;5;66;03m# make sure your chrome does not block 'popup window'\u001B[39;00m\n\u001B[1;32m----> 4\u001B[0m \u001B[38;5;28;01mfrom\u001B[39;00m \u001B[38;5;21;01mpandasgui\u001B[39;00m \u001B[38;5;28;01mimport\u001B[39;00m show\n\u001B[0;32m      5\u001B[0m gui \u001B[38;5;241m=\u001B[39m show(train)\n",
      "File \u001B[1;32m~\\anaconda3\\envs\\financevenv\\lib\\site-packages\\pandasgui\\__init__.py:15\u001B[0m\n\u001B[0;32m     12\u001B[0m logger\u001B[38;5;241m.\u001B[39maddHandler(sh)\n\u001B[0;32m     14\u001B[0m \u001B[38;5;66;03m# Imports\u001B[39;00m\n\u001B[1;32m---> 15\u001B[0m \u001B[38;5;28;01mfrom\u001B[39;00m \u001B[38;5;21;01mpandasgui\u001B[39;00m\u001B[38;5;21;01m.\u001B[39;00m\u001B[38;5;21;01mgui\u001B[39;00m \u001B[38;5;28;01mimport\u001B[39;00m show\n\u001B[0;32m     17\u001B[0m __all__ \u001B[38;5;241m=\u001B[39m [\u001B[38;5;124m\"\u001B[39m\u001B[38;5;124mshow\u001B[39m\u001B[38;5;124m\"\u001B[39m, \u001B[38;5;124m\"\u001B[39m\u001B[38;5;124m__version__\u001B[39m\u001B[38;5;124m\"\u001B[39m]\n",
      "File \u001B[1;32m~\\anaconda3\\envs\\financevenv\\lib\\site-packages\\pandasgui\\gui.py:19\u001B[0m\n\u001B[0;32m     17\u001B[0m \u001B[38;5;28;01mfrom\u001B[39;00m \u001B[38;5;21;01mpandasgui\u001B[39;00m\u001B[38;5;21;01m.\u001B[39;00m\u001B[38;5;21;01mwidgets\u001B[39;00m\u001B[38;5;21;01m.\u001B[39;00m\u001B[38;5;21;01mjson_viewer\u001B[39;00m \u001B[38;5;28;01mimport\u001B[39;00m JsonViewer\n\u001B[0;32m     18\u001B[0m \u001B[38;5;28;01mfrom\u001B[39;00m \u001B[38;5;21;01mpandasgui\u001B[39;00m\u001B[38;5;21;01m.\u001B[39;00m\u001B[38;5;21;01mwidgets\u001B[39;00m\u001B[38;5;21;01m.\u001B[39;00m\u001B[38;5;21;01mnavigator\u001B[39;00m \u001B[38;5;28;01mimport\u001B[39;00m Navigator\n\u001B[1;32m---> 19\u001B[0m \u001B[38;5;28;01mfrom\u001B[39;00m \u001B[38;5;21;01mpandasgui\u001B[39;00m\u001B[38;5;21;01m.\u001B[39;00m\u001B[38;5;21;01mwidgets\u001B[39;00m\u001B[38;5;21;01m.\u001B[39;00m\u001B[38;5;21;01mfigure_viewer\u001B[39;00m \u001B[38;5;28;01mimport\u001B[39;00m FigureViewer\n\u001B[0;32m     20\u001B[0m \u001B[38;5;28;01mfrom\u001B[39;00m \u001B[38;5;21;01mpandasgui\u001B[39;00m\u001B[38;5;21;01m.\u001B[39;00m\u001B[38;5;21;01mwidgets\u001B[39;00m\u001B[38;5;21;01m.\u001B[39;00m\u001B[38;5;21;01msettings_editor\u001B[39;00m \u001B[38;5;28;01mimport\u001B[39;00m SettingsEditor\n\u001B[0;32m     21\u001B[0m \u001B[38;5;28;01mimport\u001B[39;00m \u001B[38;5;21;01mqtstylish\u001B[39;00m\n",
      "File \u001B[1;32m~\\anaconda3\\envs\\financevenv\\lib\\site-packages\\pandasgui\\widgets\\figure_viewer.py:26\u001B[0m\n\u001B[0;32m     23\u001B[0m app \u001B[38;5;241m=\u001B[39m QtWidgets\u001B[38;5;241m.\u001B[39mQApplication\u001B[38;5;241m.\u001B[39minstance()\n\u001B[0;32m     25\u001B[0m \u001B[38;5;28;01mif\u001B[39;00m app \u001B[38;5;129;01mis\u001B[39;00m \u001B[38;5;28;01mNone\u001B[39;00m:\n\u001B[1;32m---> 26\u001B[0m     \u001B[38;5;28;01mfrom\u001B[39;00m \u001B[38;5;21;01mPyQt5\u001B[39;00m \u001B[38;5;28;01mimport\u001B[39;00m QtWebEngineWidgets\n\u001B[0;32m     27\u001B[0m \u001B[38;5;28;01melse\u001B[39;00m:\n\u001B[0;32m     28\u001B[0m     logger\u001B[38;5;241m.\u001B[39mwarning(\u001B[38;5;124m\"\u001B[39m\u001B[38;5;124mReinitializing existing QApplication to allow import of QtWebEngineWidgets. \u001B[39m\u001B[38;5;124m\"\u001B[39m\n\u001B[0;32m     29\u001B[0m                    \u001B[38;5;124m\"\u001B[39m\u001B[38;5;124mThis may cause problems. \u001B[39m\u001B[38;5;124m\"\u001B[39m\n\u001B[0;32m     30\u001B[0m                    \u001B[38;5;124m\"\u001B[39m\u001B[38;5;124mTo avoid this, import pandasgui or PyQt5.QtWebEngineWidgets before a QApplication is created.\u001B[39m\u001B[38;5;124m\"\u001B[39m)\n",
      "\u001B[1;31mImportError\u001B[0m: DLL load failed while importing QtWebEngineWidgets: The specified module could not be found."
     ]
    }
   ]
  },
  {
   "cell_type": "code",
   "metadata": {
    "id": "TJP7x7kCi-eJ",
    "outputId": "9beddea2-397a-4707-9d11-6d1ad408cac0"
   },
   "source": [
    "# value_counts() reveals the unique number of values in a column along with the frequency - let us look at string columns\n",
    "# value_counts(normalize = True) will express the frequency proportional to the total number of rows (in percentage)\n",
    "train['Sex'].value_counts()\n",
    "train['Sex'].value_counts(normalize=True)*100\n",
    "for index, value in train['Sex'].value_counts().items():\n",
    "    percentage = (value / len(train.index)) * 100\n",
    "    print(f\" {index}, {value}, Percentage: {percentage:.2f}%\")\n",
    "\n",
    "\n",
    "train['Embarked'].value_counts()\n",
    "train['Embarked'].value_counts(normalize=True)*100\n",
    "\n",
    "# interpreting the below results\n",
    "# Sex - 64.76% of the passengers are male and 35.24% are female\n",
    "# Embarked - 72.44% of the passengers boarded at S, 18.90% boarded at C, and 8.66% boarded at Q"
   ],
   "execution_count": 7,
   "outputs": [
    {
     "data": {
      "text/plain": "male      577\nfemale    314\nName: Sex, dtype: int64"
     },
     "execution_count": 7,
     "metadata": {},
     "output_type": "execute_result"
    },
    {
     "data": {
      "text/plain": "male      64.758698\nfemale    35.241302\nName: Sex, dtype: float64"
     },
     "execution_count": 7,
     "metadata": {},
     "output_type": "execute_result"
    },
    {
     "name": "stdout",
     "output_type": "stream",
     "text": [
      " male, 577, Percentage: 64.76%\n",
      " female, 314, Percentage: 35.24%\n"
     ]
    },
    {
     "data": {
      "text/plain": "S    644\nC    168\nQ     77\nName: Embarked, dtype: int64"
     },
     "execution_count": 7,
     "metadata": {},
     "output_type": "execute_result"
    },
    {
     "data": {
      "text/plain": "S    72.440945\nC    18.897638\nQ     8.661417\nName: Embarked, dtype: float64"
     },
     "execution_count": 7,
     "metadata": {},
     "output_type": "execute_result"
    }
   ]
  },
  {
   "cell_type": "code",
   "metadata": {
    "id": "Pp2h45j-i-eK",
    "outputId": "949d6d39-5d58-4f14-8826-fa9093c1cb8c"
   },
   "source": [
    "# number of classes = number of unique values in the target column\n",
    "# if there are 2 unique value then it is a binary classification (in our case '0' or '1')\n",
    "# if there are more than 2 unique values then it is multi-class classification\n",
    "\n",
    "# look at the target variable and understand the proportion - let us look at target variable\n",
    "# 0 = did not survive\n",
    "# 1 = survived\n",
    "train['Survived'].value_counts()\n",
    "train['Survived'].value_counts(normalize=True)*100\n",
    "\n",
    "# interpreting the results - 38.38% of the passengers survived and 61.62% of the passengers did not survive"
   ],
   "execution_count": 8,
   "outputs": [
    {
     "data": {
      "text/plain": "0    549\n1    342\nName: Survived, dtype: int64"
     },
     "execution_count": 8,
     "metadata": {},
     "output_type": "execute_result"
    },
    {
     "data": {
      "text/plain": "0    61.616162\n1    38.383838\nName: Survived, dtype: float64"
     },
     "execution_count": 8,
     "metadata": {},
     "output_type": "execute_result"
    }
   ]
  },
  {
   "cell_type": "code",
   "metadata": {
    "id": "slKtbmedi-eM",
    "outputId": "2c07d7d9-e660-47ed-9b38-ae42de17d43a"
   },
   "source": [
    "# Drop irrelevant columns - Ticket and Name (may be passenger ID too - if not set it as index)\n",
    "del train['Name']\n",
    "del train['Ticket']\n",
    "del train['PassengerId']\n",
    "\n",
    "# Code for using the PassengerId column as index\n",
    "# train = train.set_index('PassengerId')\n",
    "train.head()"
   ],
   "execution_count": 9,
   "outputs": [
    {
     "data": {
      "text/plain": "  Survived Pclass     Sex   Age  SibSp  Parch     Fare Cabin Embarked\n0        0      3    male  22.0      1      0   7.2500   NaN        S\n1        1      1  female  38.0      1      0  71.2833   C85        C\n2        1      3  female  26.0      0      0   7.9250   NaN        S\n3        1      1  female  35.0      1      0  53.1000  C123        S\n4        0      3    male  35.0      0      0   8.0500   NaN        S",
      "text/html": "<div>\n<style scoped>\n    .dataframe tbody tr th:only-of-type {\n        vertical-align: middle;\n    }\n\n    .dataframe tbody tr th {\n        vertical-align: top;\n    }\n\n    .dataframe thead th {\n        text-align: right;\n    }\n</style>\n<table border=\"1\" class=\"dataframe\">\n  <thead>\n    <tr style=\"text-align: right;\">\n      <th></th>\n      <th>Survived</th>\n      <th>Pclass</th>\n      <th>Sex</th>\n      <th>Age</th>\n      <th>SibSp</th>\n      <th>Parch</th>\n      <th>Fare</th>\n      <th>Cabin</th>\n      <th>Embarked</th>\n    </tr>\n  </thead>\n  <tbody>\n    <tr>\n      <th>0</th>\n      <td>0</td>\n      <td>3</td>\n      <td>male</td>\n      <td>22.0</td>\n      <td>1</td>\n      <td>0</td>\n      <td>7.2500</td>\n      <td>NaN</td>\n      <td>S</td>\n    </tr>\n    <tr>\n      <th>1</th>\n      <td>1</td>\n      <td>1</td>\n      <td>female</td>\n      <td>38.0</td>\n      <td>1</td>\n      <td>0</td>\n      <td>71.2833</td>\n      <td>C85</td>\n      <td>C</td>\n    </tr>\n    <tr>\n      <th>2</th>\n      <td>1</td>\n      <td>3</td>\n      <td>female</td>\n      <td>26.0</td>\n      <td>0</td>\n      <td>0</td>\n      <td>7.9250</td>\n      <td>NaN</td>\n      <td>S</td>\n    </tr>\n    <tr>\n      <th>3</th>\n      <td>1</td>\n      <td>1</td>\n      <td>female</td>\n      <td>35.0</td>\n      <td>1</td>\n      <td>0</td>\n      <td>53.1000</td>\n      <td>C123</td>\n      <td>S</td>\n    </tr>\n    <tr>\n      <th>4</th>\n      <td>0</td>\n      <td>3</td>\n      <td>male</td>\n      <td>35.0</td>\n      <td>0</td>\n      <td>0</td>\n      <td>8.0500</td>\n      <td>NaN</td>\n      <td>S</td>\n    </tr>\n  </tbody>\n</table>\n</div>"
     },
     "execution_count": 9,
     "metadata": {},
     "output_type": "execute_result"
    }
   ]
  },
  {
   "cell_type": "code",
   "metadata": {
    "id": "2gRDJExri-eO",
    "outputId": "8a38e3e1-ee37-4766-cbb9-84274f88ae21"
   },
   "source": [
    "# Missing value treatment\n",
    "# missing values - too many missing values - dropping entire column\n",
    "del train['Cabin']\n",
    "\n",
    "# missing values in numeric column many not be NaN or blank. It could be zero as well\n",
    "# for example, the Fare cannot be zero in out dataset. So the missing value in Fare columns are extracted by filtering for zero\n",
    "# filter for Fare = 0 and display the shape of the dataframe - 15 rows\n",
    "train[train['Fare'] == 0].shape\n",
    "\n",
    "# There are only few rows with missing values in Fare - Listwise or dropping entire rows\n",
    "train = train[train['Fare'] != 0]\n",
    "# shape of the training data after dropping rows with missing Fare\n",
    "train.shape"
   ],
   "execution_count": 10,
   "outputs": [
    {
     "data": {
      "text/plain": "(15, 8)"
     },
     "execution_count": 10,
     "metadata": {},
     "output_type": "execute_result"
    },
    {
     "data": {
      "text/plain": "(876, 8)"
     },
     "execution_count": 10,
     "metadata": {},
     "output_type": "execute_result"
    }
   ]
  },
  {
   "cell_type": "code",
   "metadata": {
    "id": "IXc-m95-i-eQ"
   },
   "source": [
    "# Importing SimpleImputer from sklearn - this will be used to impute data in the cells with missing values\n",
    "# # https://scikit-learn.org/stable/modules/generated/sklearn.impute.SimpleImputer.html\n",
    "from sklearn.impute import SimpleImputer \n",
    "\n",
    "# missing values - numeric - impute with mean in column age\n",
    "mean_imputer = SimpleImputer(missing_values=np.nan, strategy='mean')\n",
    "mean_imputer = mean_imputer.fit(train[['Age']])\n",
    "train['Age'] = mean_imputer.transform(train[['Age']]).ravel()\n",
    "\n",
    "# missing values - categorical - impute with mode (most frequent)\n",
    "mode_imputer = SimpleImputer(missing_values=np.NaN, strategy='most_frequent')\n",
    "mode_imputer = mode_imputer.fit(train[['Embarked']])\n",
    "train['Embarked'] = mode_imputer.transform(train[['Embarked']]).ravel()\n",
    "\n",
    "# alternative method - missing values - categorical - impute with mode (constant)\n",
    "const_imputer = SimpleImputer(missing_values=np.NaN, strategy='constant', fill_value = 'NA')\n",
    "const_imputer = const_imputer.fit(train[['Embarked']])\n",
    "train['Embarked'] = const_imputer.transform(train[['Embarked']]).ravel()\n",
    "\n",
    "# Export the data to csv file and manually check in Excel how the values have been imputed\n",
    "# Do this for intuituively understanding how the Imputer works\n",
    "# You can replace the above strategy with median to check how the results differ\n",
    "train.to_csv('train_imputed.csv')\n",
    "\n",
    "# in case you are interested in diving deeper into Mean vs Median method for imputation read the below article\n",
    "# https://medium.com/analytics-vidhya/feature-engineering-part-1-mean-median-imputation-761043b95379\n",
    "\n",
    "#\n",
    "# train['Age'] = train['Age'].fillna(train['Age'].median())\n",
    "# train['Embarked'] = train['Embarked'].fillna(train['Embarked'].mode()[0])"
   ],
   "execution_count": 11,
   "outputs": []
  },
  {
   "cell_type": "code",
   "metadata": {
    "id": "a9pftbuXi-eS",
    "outputId": "344ce1a6-5490-4467-c13b-e6c02b75f01a"
   },
   "source": [
    "# Determine outlier using the Standard deviation method for Age column\n",
    "\n",
    "# calcuate the mean of age\n",
    "age_mean = train['Age'].mean()\n",
    "# calculate the standard deviation\n",
    "age_std = train['Age'].std()\n",
    "# Lower limit threshold is Mean - 3* SD\n",
    "ll = age_mean - (3 * age_std)\n",
    "# Higher limit threshold is Mean + 3* SD\n",
    "hh = age_mean + (3 * age_std)\n",
    "\n",
    "# filter the rows where Age is an outlier. i.e. Age less than the ll or greater than hh\n",
    "# the usage of & between means it is an and condition\n",
    "# the usage of | between means it is an or condition\n",
    "filt_outliers_train = train[(train['Age'] < ll) | (train['Age'] > hh)]\n",
    "filt_outliers_train.head()"
   ],
   "execution_count": 12,
   "outputs": [
    {
     "data": {
      "text/plain": "    Survived Pclass   Sex   Age  SibSp  Parch     Fare Embarked\n96         0      1  male  71.0      0      0  34.6542        C\n116        0      3  male  70.5      0      0   7.7500        Q\n493        0      1  male  71.0      0      0  49.5042        C\n630        1      1  male  80.0      0      0  30.0000        S\n672        0      2  male  70.0      0      0  10.5000        S",
      "text/html": "<div>\n<style scoped>\n    .dataframe tbody tr th:only-of-type {\n        vertical-align: middle;\n    }\n\n    .dataframe tbody tr th {\n        vertical-align: top;\n    }\n\n    .dataframe thead th {\n        text-align: right;\n    }\n</style>\n<table border=\"1\" class=\"dataframe\">\n  <thead>\n    <tr style=\"text-align: right;\">\n      <th></th>\n      <th>Survived</th>\n      <th>Pclass</th>\n      <th>Sex</th>\n      <th>Age</th>\n      <th>SibSp</th>\n      <th>Parch</th>\n      <th>Fare</th>\n      <th>Embarked</th>\n    </tr>\n  </thead>\n  <tbody>\n    <tr>\n      <th>96</th>\n      <td>0</td>\n      <td>1</td>\n      <td>male</td>\n      <td>71.0</td>\n      <td>0</td>\n      <td>0</td>\n      <td>34.6542</td>\n      <td>C</td>\n    </tr>\n    <tr>\n      <th>116</th>\n      <td>0</td>\n      <td>3</td>\n      <td>male</td>\n      <td>70.5</td>\n      <td>0</td>\n      <td>0</td>\n      <td>7.7500</td>\n      <td>Q</td>\n    </tr>\n    <tr>\n      <th>493</th>\n      <td>0</td>\n      <td>1</td>\n      <td>male</td>\n      <td>71.0</td>\n      <td>0</td>\n      <td>0</td>\n      <td>49.5042</td>\n      <td>C</td>\n    </tr>\n    <tr>\n      <th>630</th>\n      <td>1</td>\n      <td>1</td>\n      <td>male</td>\n      <td>80.0</td>\n      <td>0</td>\n      <td>0</td>\n      <td>30.0000</td>\n      <td>S</td>\n    </tr>\n    <tr>\n      <th>672</th>\n      <td>0</td>\n      <td>2</td>\n      <td>male</td>\n      <td>70.0</td>\n      <td>0</td>\n      <td>0</td>\n      <td>10.5000</td>\n      <td>S</td>\n    </tr>\n  </tbody>\n</table>\n</div>"
     },
     "execution_count": 12,
     "metadata": {},
     "output_type": "execute_result"
    }
   ]
  },
  {
   "cell_type": "code",
   "metadata": {
    "id": "8vz5yCbXi-eT",
    "outputId": "62853829-c97d-4a1b-ef39-8540ebb88da0"
   },
   "source": [
    "# Determine outlier using the Standard deviation method for fare column\n",
    "\n",
    "# calcuate the mean of fare\n",
    "fare_mean = train['Fare'].mean()\n",
    "# calculate the standard deviation\n",
    "fare_std = train['Fare'].std()\n",
    "# Lower limit threshold is Mean - 3* SD\n",
    "ll = fare_mean - (3 * fare_std)\n",
    "# Higher limit threshold is Mean + 3* SD\n",
    "hh = fare_mean + (3 * fare_std)\n",
    "\n",
    "# filter the rows where fare is an outlier. i.e. fare less than the ll or greater than hh\n",
    "# the usage of & between means it is an and condition\n",
    "# the usage of | between means it is an or condition\n",
    "filt_outliers_train = train[(train['Fare'] < ll) | (train['Fare'] > hh)]\n",
    "filt_outliers_train.head()"
   ],
   "execution_count": 13,
   "outputs": [
    {
     "data": {
      "text/plain": "    Survived Pclass     Sex   Age  SibSp  Parch      Fare Embarked\n27         0      1    male  19.0      3      2  263.0000        S\n88         1      1  female  23.0      3      2  263.0000        S\n118        0      1    male  24.0      0      1  247.5208        C\n258        1      1  female  35.0      0      0  512.3292        C\n299        1      1  female  50.0      0      1  247.5208        C",
      "text/html": "<div>\n<style scoped>\n    .dataframe tbody tr th:only-of-type {\n        vertical-align: middle;\n    }\n\n    .dataframe tbody tr th {\n        vertical-align: top;\n    }\n\n    .dataframe thead th {\n        text-align: right;\n    }\n</style>\n<table border=\"1\" class=\"dataframe\">\n  <thead>\n    <tr style=\"text-align: right;\">\n      <th></th>\n      <th>Survived</th>\n      <th>Pclass</th>\n      <th>Sex</th>\n      <th>Age</th>\n      <th>SibSp</th>\n      <th>Parch</th>\n      <th>Fare</th>\n      <th>Embarked</th>\n    </tr>\n  </thead>\n  <tbody>\n    <tr>\n      <th>27</th>\n      <td>0</td>\n      <td>1</td>\n      <td>male</td>\n      <td>19.0</td>\n      <td>3</td>\n      <td>2</td>\n      <td>263.0000</td>\n      <td>S</td>\n    </tr>\n    <tr>\n      <th>88</th>\n      <td>1</td>\n      <td>1</td>\n      <td>female</td>\n      <td>23.0</td>\n      <td>3</td>\n      <td>2</td>\n      <td>263.0000</td>\n      <td>S</td>\n    </tr>\n    <tr>\n      <th>118</th>\n      <td>0</td>\n      <td>1</td>\n      <td>male</td>\n      <td>24.0</td>\n      <td>0</td>\n      <td>1</td>\n      <td>247.5208</td>\n      <td>C</td>\n    </tr>\n    <tr>\n      <th>258</th>\n      <td>1</td>\n      <td>1</td>\n      <td>female</td>\n      <td>35.0</td>\n      <td>0</td>\n      <td>0</td>\n      <td>512.3292</td>\n      <td>C</td>\n    </tr>\n    <tr>\n      <th>299</th>\n      <td>1</td>\n      <td>1</td>\n      <td>female</td>\n      <td>50.0</td>\n      <td>0</td>\n      <td>1</td>\n      <td>247.5208</td>\n      <td>C</td>\n    </tr>\n  </tbody>\n</table>\n</div>"
     },
     "execution_count": 13,
     "metadata": {},
     "output_type": "execute_result"
    }
   ]
  },
  {
   "cell_type": "code",
   "metadata": {
    "id": "ZTr4SyXli-eW",
    "outputId": "67e95407-4bb9-4cf0-d605-8dcc4c6d8c6d"
   },
   "source": [
    "# IQR method for outlier Age\n",
    "# Calculate Q1, Q2 and IQR\n",
    "q1 = train['Age'].quantile(0.25)                 \n",
    "q3 = train['Age'].quantile(0.75)\n",
    "iqr = q3 - q1\n",
    "whisker_width = 1.5\n",
    "# Apply filter with respect to IQR, including optional whiskers\n",
    "outlier_age_train = train[(train['Age'] < q1 - whisker_width*iqr) | (train['Age'] > q3 + whisker_width*iqr)]\n",
    "outlier_age_train\n",
    "\n",
    "# boxplot with 1.5 whiskers\n",
    "sns.boxplot(y=train.Age, whis=1.5)"
   ],
   "execution_count": 14,
   "outputs": [
    {
     "data": {
      "text/plain": "    Survived Pclass     Sex    Age  SibSp  Parch      Fare Embarked\n7          0      3    male   2.00      3      1   21.0750        S\n11         1      1  female  58.00      0      0   26.5500        S\n15         1      2  female  55.00      0      0   16.0000        S\n16         0      3    male   2.00      4      1   29.1250        Q\n33         0      2    male  66.00      0      0   10.5000        S\n54         0      1    male  65.00      0      1   61.9792        C\n78         1      2    male   0.83      0      2   29.0000        S\n94         0      3    male  59.00      0      0    7.2500        S\n96         0      1    male  71.00      0      0   34.6542        C\n116        0      3    male  70.50      0      0    7.7500        Q\n119        0      3  female   2.00      4      2   31.2750        S\n152        0      3    male  55.50      0      0    8.0500        S\n164        0      3    male   1.00      4      1   39.6875        S\n170        0      1    male  61.00      0      0   33.5000        S\n172        1      3  female   1.00      1      1   11.1333        S\n174        0      1    male  56.00      0      0   30.6958        C\n183        1      2    male   1.00      2      1   39.0000        S\n195        1      1  female  58.00      0      0  146.5208        C\n205        0      3  female   2.00      0      1   10.4625        S\n232        0      2    male  59.00      0      0   13.5000        S\n252        0      1    male  62.00      0      0   26.5500        S\n268        1      1  female  58.00      0      1  153.4625        S\n275        1      1  female  63.00      1      0   77.9583        S\n280        0      3    male  65.00      0      0    7.7500        Q\n297        0      1  female   2.00      1      2  151.5500        S\n305        1      1    male   0.92      1      2  151.5500        S\n326        0      3    male  61.00      0      0    6.2375        S\n340        1      2    male   2.00      1      1   26.0000        S\n366        1      1  female  60.00      1      0   75.2500        C\n381        1      3  female   1.00      0      2   15.7417        C\n386        0      3    male   1.00      5      2   46.9000        S\n438        0      1    male  64.00      1      4  263.0000        S\n456        0      1    male  65.00      0      0   26.5500        S\n467        0      1    male  56.00      0      0   26.5500        S\n469        1      3  female   0.75      2      1   19.2583        C\n479        1      3  female   2.00      0      1   12.2875        S\n483        1      3  female  63.00      0      0    9.5875        S\n487        0      1    male  58.00      0      0   29.7000        C\n492        0      1    male  55.00      0      0   30.5000        S\n493        0      1    male  71.00      0      0   49.5042        C\n530        1      2  female   2.00      1      1   26.0000        S\n545        0      1    male  64.00      0      0   26.0000        S\n555        0      1    male  62.00      0      0   26.5500        S\n570        1      2    male  62.00      0      0   10.5000        S\n587        1      1    male  60.00      1      1   79.2000        C\n625        0      1    male  61.00      0      0   32.3208        S\n626        0      2    male  57.00      0      0   12.3500        Q\n630        1      1    male  80.00      0      0   30.0000        S\n642        0      3  female   2.00      3      2   27.9000        S\n644        1      3  female   0.75      2      1   19.2583        C\n647        1      1    male  56.00      0      0   35.5000        C\n659        0      1    male  58.00      0      2  113.2750        C\n672        0      2    male  70.00      0      0   10.5000        S\n684        0      2    male  60.00      1      1   39.0000        S\n694        0      1    male  60.00      0      0   26.5500        S\n745        0      1    male  70.00      1      1   71.0000        S\n755        1      2    male   0.67      1      1   14.5000        S\n772        0      2  female  57.00      0      0   10.5000        S\n788        1      3    male   1.00      1      2   20.5750        S\n803        1      3    male   0.42      0      1    8.5167        C\n824        0      3    male   2.00      4      1   39.6875        S\n827        1      2    male   1.00      0      2   37.0042        C\n829        1      1  female  62.00      0      0   80.0000        S\n831        1      2    male   0.83      1      1   18.7500        S\n851        0      3    male  74.00      0      0    7.7750        S\n879        1      1  female  56.00      0      1   83.1583        C",
      "text/html": "<div>\n<style scoped>\n    .dataframe tbody tr th:only-of-type {\n        vertical-align: middle;\n    }\n\n    .dataframe tbody tr th {\n        vertical-align: top;\n    }\n\n    .dataframe thead th {\n        text-align: right;\n    }\n</style>\n<table border=\"1\" class=\"dataframe\">\n  <thead>\n    <tr style=\"text-align: right;\">\n      <th></th>\n      <th>Survived</th>\n      <th>Pclass</th>\n      <th>Sex</th>\n      <th>Age</th>\n      <th>SibSp</th>\n      <th>Parch</th>\n      <th>Fare</th>\n      <th>Embarked</th>\n    </tr>\n  </thead>\n  <tbody>\n    <tr>\n      <th>7</th>\n      <td>0</td>\n      <td>3</td>\n      <td>male</td>\n      <td>2.00</td>\n      <td>3</td>\n      <td>1</td>\n      <td>21.0750</td>\n      <td>S</td>\n    </tr>\n    <tr>\n      <th>11</th>\n      <td>1</td>\n      <td>1</td>\n      <td>female</td>\n      <td>58.00</td>\n      <td>0</td>\n      <td>0</td>\n      <td>26.5500</td>\n      <td>S</td>\n    </tr>\n    <tr>\n      <th>15</th>\n      <td>1</td>\n      <td>2</td>\n      <td>female</td>\n      <td>55.00</td>\n      <td>0</td>\n      <td>0</td>\n      <td>16.0000</td>\n      <td>S</td>\n    </tr>\n    <tr>\n      <th>16</th>\n      <td>0</td>\n      <td>3</td>\n      <td>male</td>\n      <td>2.00</td>\n      <td>4</td>\n      <td>1</td>\n      <td>29.1250</td>\n      <td>Q</td>\n    </tr>\n    <tr>\n      <th>33</th>\n      <td>0</td>\n      <td>2</td>\n      <td>male</td>\n      <td>66.00</td>\n      <td>0</td>\n      <td>0</td>\n      <td>10.5000</td>\n      <td>S</td>\n    </tr>\n    <tr>\n      <th>54</th>\n      <td>0</td>\n      <td>1</td>\n      <td>male</td>\n      <td>65.00</td>\n      <td>0</td>\n      <td>1</td>\n      <td>61.9792</td>\n      <td>C</td>\n    </tr>\n    <tr>\n      <th>78</th>\n      <td>1</td>\n      <td>2</td>\n      <td>male</td>\n      <td>0.83</td>\n      <td>0</td>\n      <td>2</td>\n      <td>29.0000</td>\n      <td>S</td>\n    </tr>\n    <tr>\n      <th>94</th>\n      <td>0</td>\n      <td>3</td>\n      <td>male</td>\n      <td>59.00</td>\n      <td>0</td>\n      <td>0</td>\n      <td>7.2500</td>\n      <td>S</td>\n    </tr>\n    <tr>\n      <th>96</th>\n      <td>0</td>\n      <td>1</td>\n      <td>male</td>\n      <td>71.00</td>\n      <td>0</td>\n      <td>0</td>\n      <td>34.6542</td>\n      <td>C</td>\n    </tr>\n    <tr>\n      <th>116</th>\n      <td>0</td>\n      <td>3</td>\n      <td>male</td>\n      <td>70.50</td>\n      <td>0</td>\n      <td>0</td>\n      <td>7.7500</td>\n      <td>Q</td>\n    </tr>\n    <tr>\n      <th>119</th>\n      <td>0</td>\n      <td>3</td>\n      <td>female</td>\n      <td>2.00</td>\n      <td>4</td>\n      <td>2</td>\n      <td>31.2750</td>\n      <td>S</td>\n    </tr>\n    <tr>\n      <th>152</th>\n      <td>0</td>\n      <td>3</td>\n      <td>male</td>\n      <td>55.50</td>\n      <td>0</td>\n      <td>0</td>\n      <td>8.0500</td>\n      <td>S</td>\n    </tr>\n    <tr>\n      <th>164</th>\n      <td>0</td>\n      <td>3</td>\n      <td>male</td>\n      <td>1.00</td>\n      <td>4</td>\n      <td>1</td>\n      <td>39.6875</td>\n      <td>S</td>\n    </tr>\n    <tr>\n      <th>170</th>\n      <td>0</td>\n      <td>1</td>\n      <td>male</td>\n      <td>61.00</td>\n      <td>0</td>\n      <td>0</td>\n      <td>33.5000</td>\n      <td>S</td>\n    </tr>\n    <tr>\n      <th>172</th>\n      <td>1</td>\n      <td>3</td>\n      <td>female</td>\n      <td>1.00</td>\n      <td>1</td>\n      <td>1</td>\n      <td>11.1333</td>\n      <td>S</td>\n    </tr>\n    <tr>\n      <th>174</th>\n      <td>0</td>\n      <td>1</td>\n      <td>male</td>\n      <td>56.00</td>\n      <td>0</td>\n      <td>0</td>\n      <td>30.6958</td>\n      <td>C</td>\n    </tr>\n    <tr>\n      <th>183</th>\n      <td>1</td>\n      <td>2</td>\n      <td>male</td>\n      <td>1.00</td>\n      <td>2</td>\n      <td>1</td>\n      <td>39.0000</td>\n      <td>S</td>\n    </tr>\n    <tr>\n      <th>195</th>\n      <td>1</td>\n      <td>1</td>\n      <td>female</td>\n      <td>58.00</td>\n      <td>0</td>\n      <td>0</td>\n      <td>146.5208</td>\n      <td>C</td>\n    </tr>\n    <tr>\n      <th>205</th>\n      <td>0</td>\n      <td>3</td>\n      <td>female</td>\n      <td>2.00</td>\n      <td>0</td>\n      <td>1</td>\n      <td>10.4625</td>\n      <td>S</td>\n    </tr>\n    <tr>\n      <th>232</th>\n      <td>0</td>\n      <td>2</td>\n      <td>male</td>\n      <td>59.00</td>\n      <td>0</td>\n      <td>0</td>\n      <td>13.5000</td>\n      <td>S</td>\n    </tr>\n    <tr>\n      <th>252</th>\n      <td>0</td>\n      <td>1</td>\n      <td>male</td>\n      <td>62.00</td>\n      <td>0</td>\n      <td>0</td>\n      <td>26.5500</td>\n      <td>S</td>\n    </tr>\n    <tr>\n      <th>268</th>\n      <td>1</td>\n      <td>1</td>\n      <td>female</td>\n      <td>58.00</td>\n      <td>0</td>\n      <td>1</td>\n      <td>153.4625</td>\n      <td>S</td>\n    </tr>\n    <tr>\n      <th>275</th>\n      <td>1</td>\n      <td>1</td>\n      <td>female</td>\n      <td>63.00</td>\n      <td>1</td>\n      <td>0</td>\n      <td>77.9583</td>\n      <td>S</td>\n    </tr>\n    <tr>\n      <th>280</th>\n      <td>0</td>\n      <td>3</td>\n      <td>male</td>\n      <td>65.00</td>\n      <td>0</td>\n      <td>0</td>\n      <td>7.7500</td>\n      <td>Q</td>\n    </tr>\n    <tr>\n      <th>297</th>\n      <td>0</td>\n      <td>1</td>\n      <td>female</td>\n      <td>2.00</td>\n      <td>1</td>\n      <td>2</td>\n      <td>151.5500</td>\n      <td>S</td>\n    </tr>\n    <tr>\n      <th>305</th>\n      <td>1</td>\n      <td>1</td>\n      <td>male</td>\n      <td>0.92</td>\n      <td>1</td>\n      <td>2</td>\n      <td>151.5500</td>\n      <td>S</td>\n    </tr>\n    <tr>\n      <th>326</th>\n      <td>0</td>\n      <td>3</td>\n      <td>male</td>\n      <td>61.00</td>\n      <td>0</td>\n      <td>0</td>\n      <td>6.2375</td>\n      <td>S</td>\n    </tr>\n    <tr>\n      <th>340</th>\n      <td>1</td>\n      <td>2</td>\n      <td>male</td>\n      <td>2.00</td>\n      <td>1</td>\n      <td>1</td>\n      <td>26.0000</td>\n      <td>S</td>\n    </tr>\n    <tr>\n      <th>366</th>\n      <td>1</td>\n      <td>1</td>\n      <td>female</td>\n      <td>60.00</td>\n      <td>1</td>\n      <td>0</td>\n      <td>75.2500</td>\n      <td>C</td>\n    </tr>\n    <tr>\n      <th>381</th>\n      <td>1</td>\n      <td>3</td>\n      <td>female</td>\n      <td>1.00</td>\n      <td>0</td>\n      <td>2</td>\n      <td>15.7417</td>\n      <td>C</td>\n    </tr>\n    <tr>\n      <th>386</th>\n      <td>0</td>\n      <td>3</td>\n      <td>male</td>\n      <td>1.00</td>\n      <td>5</td>\n      <td>2</td>\n      <td>46.9000</td>\n      <td>S</td>\n    </tr>\n    <tr>\n      <th>438</th>\n      <td>0</td>\n      <td>1</td>\n      <td>male</td>\n      <td>64.00</td>\n      <td>1</td>\n      <td>4</td>\n      <td>263.0000</td>\n      <td>S</td>\n    </tr>\n    <tr>\n      <th>456</th>\n      <td>0</td>\n      <td>1</td>\n      <td>male</td>\n      <td>65.00</td>\n      <td>0</td>\n      <td>0</td>\n      <td>26.5500</td>\n      <td>S</td>\n    </tr>\n    <tr>\n      <th>467</th>\n      <td>0</td>\n      <td>1</td>\n      <td>male</td>\n      <td>56.00</td>\n      <td>0</td>\n      <td>0</td>\n      <td>26.5500</td>\n      <td>S</td>\n    </tr>\n    <tr>\n      <th>469</th>\n      <td>1</td>\n      <td>3</td>\n      <td>female</td>\n      <td>0.75</td>\n      <td>2</td>\n      <td>1</td>\n      <td>19.2583</td>\n      <td>C</td>\n    </tr>\n    <tr>\n      <th>479</th>\n      <td>1</td>\n      <td>3</td>\n      <td>female</td>\n      <td>2.00</td>\n      <td>0</td>\n      <td>1</td>\n      <td>12.2875</td>\n      <td>S</td>\n    </tr>\n    <tr>\n      <th>483</th>\n      <td>1</td>\n      <td>3</td>\n      <td>female</td>\n      <td>63.00</td>\n      <td>0</td>\n      <td>0</td>\n      <td>9.5875</td>\n      <td>S</td>\n    </tr>\n    <tr>\n      <th>487</th>\n      <td>0</td>\n      <td>1</td>\n      <td>male</td>\n      <td>58.00</td>\n      <td>0</td>\n      <td>0</td>\n      <td>29.7000</td>\n      <td>C</td>\n    </tr>\n    <tr>\n      <th>492</th>\n      <td>0</td>\n      <td>1</td>\n      <td>male</td>\n      <td>55.00</td>\n      <td>0</td>\n      <td>0</td>\n      <td>30.5000</td>\n      <td>S</td>\n    </tr>\n    <tr>\n      <th>493</th>\n      <td>0</td>\n      <td>1</td>\n      <td>male</td>\n      <td>71.00</td>\n      <td>0</td>\n      <td>0</td>\n      <td>49.5042</td>\n      <td>C</td>\n    </tr>\n    <tr>\n      <th>530</th>\n      <td>1</td>\n      <td>2</td>\n      <td>female</td>\n      <td>2.00</td>\n      <td>1</td>\n      <td>1</td>\n      <td>26.0000</td>\n      <td>S</td>\n    </tr>\n    <tr>\n      <th>545</th>\n      <td>0</td>\n      <td>1</td>\n      <td>male</td>\n      <td>64.00</td>\n      <td>0</td>\n      <td>0</td>\n      <td>26.0000</td>\n      <td>S</td>\n    </tr>\n    <tr>\n      <th>555</th>\n      <td>0</td>\n      <td>1</td>\n      <td>male</td>\n      <td>62.00</td>\n      <td>0</td>\n      <td>0</td>\n      <td>26.5500</td>\n      <td>S</td>\n    </tr>\n    <tr>\n      <th>570</th>\n      <td>1</td>\n      <td>2</td>\n      <td>male</td>\n      <td>62.00</td>\n      <td>0</td>\n      <td>0</td>\n      <td>10.5000</td>\n      <td>S</td>\n    </tr>\n    <tr>\n      <th>587</th>\n      <td>1</td>\n      <td>1</td>\n      <td>male</td>\n      <td>60.00</td>\n      <td>1</td>\n      <td>1</td>\n      <td>79.2000</td>\n      <td>C</td>\n    </tr>\n    <tr>\n      <th>625</th>\n      <td>0</td>\n      <td>1</td>\n      <td>male</td>\n      <td>61.00</td>\n      <td>0</td>\n      <td>0</td>\n      <td>32.3208</td>\n      <td>S</td>\n    </tr>\n    <tr>\n      <th>626</th>\n      <td>0</td>\n      <td>2</td>\n      <td>male</td>\n      <td>57.00</td>\n      <td>0</td>\n      <td>0</td>\n      <td>12.3500</td>\n      <td>Q</td>\n    </tr>\n    <tr>\n      <th>630</th>\n      <td>1</td>\n      <td>1</td>\n      <td>male</td>\n      <td>80.00</td>\n      <td>0</td>\n      <td>0</td>\n      <td>30.0000</td>\n      <td>S</td>\n    </tr>\n    <tr>\n      <th>642</th>\n      <td>0</td>\n      <td>3</td>\n      <td>female</td>\n      <td>2.00</td>\n      <td>3</td>\n      <td>2</td>\n      <td>27.9000</td>\n      <td>S</td>\n    </tr>\n    <tr>\n      <th>644</th>\n      <td>1</td>\n      <td>3</td>\n      <td>female</td>\n      <td>0.75</td>\n      <td>2</td>\n      <td>1</td>\n      <td>19.2583</td>\n      <td>C</td>\n    </tr>\n    <tr>\n      <th>647</th>\n      <td>1</td>\n      <td>1</td>\n      <td>male</td>\n      <td>56.00</td>\n      <td>0</td>\n      <td>0</td>\n      <td>35.5000</td>\n      <td>C</td>\n    </tr>\n    <tr>\n      <th>659</th>\n      <td>0</td>\n      <td>1</td>\n      <td>male</td>\n      <td>58.00</td>\n      <td>0</td>\n      <td>2</td>\n      <td>113.2750</td>\n      <td>C</td>\n    </tr>\n    <tr>\n      <th>672</th>\n      <td>0</td>\n      <td>2</td>\n      <td>male</td>\n      <td>70.00</td>\n      <td>0</td>\n      <td>0</td>\n      <td>10.5000</td>\n      <td>S</td>\n    </tr>\n    <tr>\n      <th>684</th>\n      <td>0</td>\n      <td>2</td>\n      <td>male</td>\n      <td>60.00</td>\n      <td>1</td>\n      <td>1</td>\n      <td>39.0000</td>\n      <td>S</td>\n    </tr>\n    <tr>\n      <th>694</th>\n      <td>0</td>\n      <td>1</td>\n      <td>male</td>\n      <td>60.00</td>\n      <td>0</td>\n      <td>0</td>\n      <td>26.5500</td>\n      <td>S</td>\n    </tr>\n    <tr>\n      <th>745</th>\n      <td>0</td>\n      <td>1</td>\n      <td>male</td>\n      <td>70.00</td>\n      <td>1</td>\n      <td>1</td>\n      <td>71.0000</td>\n      <td>S</td>\n    </tr>\n    <tr>\n      <th>755</th>\n      <td>1</td>\n      <td>2</td>\n      <td>male</td>\n      <td>0.67</td>\n      <td>1</td>\n      <td>1</td>\n      <td>14.5000</td>\n      <td>S</td>\n    </tr>\n    <tr>\n      <th>772</th>\n      <td>0</td>\n      <td>2</td>\n      <td>female</td>\n      <td>57.00</td>\n      <td>0</td>\n      <td>0</td>\n      <td>10.5000</td>\n      <td>S</td>\n    </tr>\n    <tr>\n      <th>788</th>\n      <td>1</td>\n      <td>3</td>\n      <td>male</td>\n      <td>1.00</td>\n      <td>1</td>\n      <td>2</td>\n      <td>20.5750</td>\n      <td>S</td>\n    </tr>\n    <tr>\n      <th>803</th>\n      <td>1</td>\n      <td>3</td>\n      <td>male</td>\n      <td>0.42</td>\n      <td>0</td>\n      <td>1</td>\n      <td>8.5167</td>\n      <td>C</td>\n    </tr>\n    <tr>\n      <th>824</th>\n      <td>0</td>\n      <td>3</td>\n      <td>male</td>\n      <td>2.00</td>\n      <td>4</td>\n      <td>1</td>\n      <td>39.6875</td>\n      <td>S</td>\n    </tr>\n    <tr>\n      <th>827</th>\n      <td>1</td>\n      <td>2</td>\n      <td>male</td>\n      <td>1.00</td>\n      <td>0</td>\n      <td>2</td>\n      <td>37.0042</td>\n      <td>C</td>\n    </tr>\n    <tr>\n      <th>829</th>\n      <td>1</td>\n      <td>1</td>\n      <td>female</td>\n      <td>62.00</td>\n      <td>0</td>\n      <td>0</td>\n      <td>80.0000</td>\n      <td>S</td>\n    </tr>\n    <tr>\n      <th>831</th>\n      <td>1</td>\n      <td>2</td>\n      <td>male</td>\n      <td>0.83</td>\n      <td>1</td>\n      <td>1</td>\n      <td>18.7500</td>\n      <td>S</td>\n    </tr>\n    <tr>\n      <th>851</th>\n      <td>0</td>\n      <td>3</td>\n      <td>male</td>\n      <td>74.00</td>\n      <td>0</td>\n      <td>0</td>\n      <td>7.7750</td>\n      <td>S</td>\n    </tr>\n    <tr>\n      <th>879</th>\n      <td>1</td>\n      <td>1</td>\n      <td>female</td>\n      <td>56.00</td>\n      <td>0</td>\n      <td>1</td>\n      <td>83.1583</td>\n      <td>C</td>\n    </tr>\n  </tbody>\n</table>\n</div>"
     },
     "execution_count": 14,
     "metadata": {},
     "output_type": "execute_result"
    },
    {
     "data": {
      "text/plain": "<AxesSubplot:ylabel='Age'>"
     },
     "execution_count": 14,
     "metadata": {},
     "output_type": "execute_result"
    },
    {
     "data": {
      "text/plain": "<Figure size 640x480 with 1 Axes>",
      "image/png": "[encoded data removed]"
     },
     "metadata": {},
     "output_type": "display_data"
    }
   ]
  },
  {
   "cell_type": "code",
   "metadata": {
    "id": "btQalG3Xi-eX",
    "outputId": "0fd466e7-0f49-4374-edc1-e66671a4314c"
   },
   "source": [
    "# IQR method for outlier fare\n",
    "# Calculate Q1, Q2 and IQR\n",
    "q1 = train['Fare'].quantile(0.25)                 \n",
    "q3 = train['Fare'].quantile(0.75)\n",
    "iqr = q3 - q1\n",
    "whisker_width = 1.5\n",
    "lower_whisker = q1 - whisker_width*iqr\n",
    "upper_whisker = q3 + whisker_width*iqr\n",
    "# Apply filter with respect to IQR, including optional whiskers\n",
    "outlier_fare_train = train[(train['Fare'] < q1 - whisker_width*iqr) | (train['Fare'] > q3 + whisker_width*iqr)]\n",
    "outlier_fare_train.shape\n",
    "\n",
    "# boxplot with 1.5 whiskers\n",
    "sns.boxplot(y='Fare', data = train, whis=1.5)"
   ],
   "execution_count": 15,
   "outputs": [
    {
     "data": {
      "text/plain": "(116, 8)"
     },
     "execution_count": 15,
     "metadata": {},
     "output_type": "execute_result"
    },
    {
     "data": {
      "text/plain": "<AxesSubplot:ylabel='Fare'>"
     },
     "execution_count": 15,
     "metadata": {},
     "output_type": "execute_result"
    },
    {
     "data": {
      "text/plain": "<Figure size 640x480 with 1 Axes>",
      "image/png": "[encoded data removed]"
     },
     "metadata": {},
     "output_type": "display_data"
    }
   ]
  },
  {
   "cell_type": "code",
   "metadata": {
    "scrolled": true,
    "id": "qMV8yHo1i-eY",
    "outputId": "14fddf1f-c2ef-495b-87d2-931981378afd"
   },
   "source": [
    "# multivariate outlier - fare and class in comparison\n",
    "# sometimes the outlier can also occur when you compare one column with another\n",
    "# in our titanic example - we can check if the fares are directly proportional to the class\n",
    "# Are the first class people paying high fare and third class people paying low fare? are there any overlap between these fares?\n",
    "\n",
    "# below code take Pclass in X axis and Fare in Y axis to display the distribution of Fare by Pclass\n",
    "sns.boxplot(x='Pclass', y='Fare', data = train, whis=1.5)"
   ],
   "execution_count": 16,
   "outputs": [
    {
     "data": {
      "text/plain": "<AxesSubplot:xlabel='Pclass', ylabel='Fare'>"
     },
     "execution_count": 16,
     "metadata": {},
     "output_type": "execute_result"
    },
    {
     "data": {
      "text/plain": "<Figure size 640x480 with 1 Axes>",
      "image/png": "[encoded data removed]"
     },
     "metadata": {},
     "output_type": "display_data"
    }
   ]
  },
  {
   "cell_type": "code",
   "metadata": {
    "id": "uOG43s7Zi-eZ",
    "outputId": "b77c8aa9-98b8-4277-ab33-087dc81312a5"
   },
   "source": [
    "# Outlier treatment\n",
    "# Top coding - ceiling the uppper limit of the column with the outer whisker value\n",
    "train.loc[train.Fare>upper_whisker,'Fare'] = upper_whisker\n",
    "\n",
    "# Bottom / Zero coding - ceiling the lower limit of the column with lower whisker or zero\n",
    "# It is called Bottom coding when you ceil the lowest value to lower whisker\n",
    "# It is called zero coding when you ceil the lowest value to zero\n",
    "# Zero coding should be used for variables which cannot take neagtive values - example, Age cannot be negative\n",
    "\n",
    "train.loc[train.Fare<0,'Fare'] = 0\n",
    "\n",
    "# display of minimum and maximum after outlier treatment\n",
    "train['Fare'].min()\n",
    "train['Fare'].max()"
   ],
   "execution_count": 17,
   "outputs": [
    {
     "data": {
      "text/plain": "4.0125"
     },
     "execution_count": 17,
     "metadata": {},
     "output_type": "execute_result"
    },
    {
     "data": {
      "text/plain": "66.3"
     },
     "execution_count": 17,
     "metadata": {},
     "output_type": "execute_result"
    }
   ]
  },
  {
   "cell_type": "code",
   "metadata": {
    "id": "Q1B_0lSMi-ea",
    "outputId": "89e58166-7efb-4b9b-ab93-602c6cd88e58"
   },
   "source": [
    "# Another method for outlier treatment is Binning\n",
    "# Group the values into certain bins -> e.g Age 0 to 10 in a bin called '0 - 10', etc\n",
    "\n",
    "# Equal width binning -> width = (max value — min value) / N\n",
    "age_range = train.Age.max() - train.Age.min()\n",
    "min_value = int(np.floor(train.Age.min()))\n",
    "max_value = int(np.ceil(train.Age.max()))\n",
    " \n",
    "# let's round the bin width\n",
    "# N = number of bins (which is 10 in the below code)\n",
    "# change the value 10 in the below code to see how the grouping differs\n",
    "inter_value = int(np.round(age_range/10))\n",
    " \n",
    "min_value, max_value, inter_value"
   ],
   "execution_count": 18,
   "outputs": [
    {
     "data": {
      "text/plain": "(0, 80, 8)"
     },
     "execution_count": 18,
     "metadata": {},
     "output_type": "execute_result"
    }
   ]
  },
  {
   "cell_type": "code",
   "metadata": {
    "id": "hmxasK5wi-eb",
    "outputId": "9930eb67-5124-4f32-ccc5-00857fe31755"
   },
   "source": [
    "# calculate the intervals\n",
    "intervals = [i for i in range(min_value, max_value+inter_value, inter_value)]\n",
    "labels = ['Bin_'+str(i) for i in range(1,len(intervals))]\n",
    "print(intervals)\n",
    "print(labels)\n",
    "\n",
    "train['age_labels'] = pd.cut(x = train.Age, bins=intervals, labels=labels, include_lowest=True)\n",
    "train['age_interval'] = pd.cut(x = train.Age, bins=intervals, include_lowest=True)\n",
    "\n",
    "# display the bins in graph along with frequency of occurence \n",
    "sns.countplot(x=train.age_labels)"
   ],
   "execution_count": 20,
   "outputs": [
    {
     "name": "stdout",
     "output_type": "stream",
     "text": [
      "[0, 8, 16, 24, 32, 40, 48, 56, 64, 72, 80]\n",
      "['Bin_1', 'Bin_2', 'Bin_3', 'Bin_4', 'Bin_5', 'Bin_6', 'Bin_7', 'Bin_8', 'Bin_9', 'Bin_10']\n"
     ]
    },
    {
     "data": {
      "text/plain": "<AxesSubplot:xlabel='age_labels', ylabel='count'>"
     },
     "execution_count": 20,
     "metadata": {},
     "output_type": "execute_result"
    },
    {
     "data": {
      "text/plain": "<Figure size 640x480 with 1 Axes>",
      "image/png": "[encoded data removed]"
     },
     "metadata": {},
     "output_type": "display_data"
    }
   ]
  },
  {
   "cell_type": "markdown",
   "metadata": {
    "id": "_S92pNeri-ed"
   },
   "source": [
    "## Example for class imbalance\n",
    "\n",
    "The dataset used in this notebook is of '[IEEE-CIS Fraud Detection](https://www.kaggle.com/c/ieee-fraud-detection/data)'. This notebook will introduce you to class imbalance problem.\n",
    "\n",
    "Data set link: [Fraud Dataset](https://drive.google.com/file/d/1q8SYcjOJULdSkETv5S_gd7xNq1GrBHAO/view)\n",
    "\n",
    "The dataset can be directly accessed with the link: https://raw.githubusercontent.com/dphi-official/Imbalanced_classes/master/fraud_data.csv \n",
    "\n",
    "#### Imbalanced Problem\n",
    "Imbalanced classes are a common problem in machine learning classification where there are a disproportionate ratio of observations in each class. Class imbalance can be found in many different areas including medical diagnosis, spam filtering, and fraud detection."
   ]
  },
  {
   "cell_type": "code",
   "metadata": {
    "id": "EJ6EMbHdi-ed"
   },
   "source": [
    "# importing the fraud dataset\n",
    "fraud_data = pd.read_csv(\"https://raw.githubusercontent.com/dphi-official/Imbalanced_classes/master/fraud_data.csv\")"
   ],
   "execution_count": 21,
   "outputs": []
  },
  {
   "cell_type": "code",
   "metadata": {
    "scrolled": true,
    "id": "eTzh15Vni-ee",
    "outputId": "8066db8f-97e7-49d4-bbc1-be3a33efe800"
   },
   "source": [
    "# take a look at the data\n",
    "fraud_data.shape\n",
    "fraud_data.head()"
   ],
   "execution_count": 22,
   "outputs": [
    {
     "data": {
      "text/plain": "(59054, 434)"
     },
     "execution_count": 22,
     "metadata": {},
     "output_type": "execute_result"
    },
    {
     "data": {
      "text/plain": "   TransactionID  isFraud  TransactionDT  TransactionAmt ProductCD  card1  \\\n0        2994681        0         242834          25.000         H   9803   \n1        3557242        0       15123000         117.000         W   7919   \n2        3327470        0        8378575          73.773         C  12778   \n3        3118781        0        2607840         400.000         R  12316   \n4        3459772        0       12226544          31.950         W   9002   \n\n   card2  card3       card4  card5  ...                  id_31  id_32  \\\n0  583.0  150.0        visa  226.0  ...           firefox 56.0   24.0   \n1  194.0  150.0  mastercard  166.0  ...                    NaN    NaN   \n2  500.0  185.0  mastercard  224.0  ...                    NaN    NaN   \n3  548.0  150.0        visa  195.0  ...  mobile safari generic   32.0   \n4  453.0  150.0        visa  226.0  ...                    NaN    NaN   \n\n       id_33           id_34  id_35 id_36 id_37  id_38  DeviceType  DeviceInfo  \n0  1920x1080  match_status:2      T     F     T      T     desktop     rv:56.0  \n1        NaN             NaN    NaN   NaN   NaN    NaN         NaN         NaN  \n2        NaN             NaN    NaN   NaN   NaN    NaN         NaN         NaN  \n3   1136x640  match_status:2      T     F     T      F      mobile  iOS Device  \n4        NaN             NaN    NaN   NaN   NaN    NaN         NaN         NaN  \n\n[5 rows x 434 columns]",
      "text/html": "<div>\n<style scoped>\n    .dataframe tbody tr th:only-of-type {\n        vertical-align: middle;\n    }\n\n    .dataframe tbody tr th {\n        vertical-align: top;\n    }\n\n    .dataframe thead th {\n        text-align: right;\n    }\n</style>\n<table border=\"1\" class=\"dataframe\">\n  <thead>\n    <tr style=\"text-align: right;\">\n      <th></th>\n      <th>TransactionID</th>\n      <th>isFraud</th>\n      <th>TransactionDT</th>\n      <th>TransactionAmt</th>\n      <th>ProductCD</th>\n      <th>card1</th>\n      <th>card2</th>\n      <th>card3</th>\n      <th>card4</th>\n      <th>card5</th>\n      <th>...</th>\n      <th>id_31</th>\n      <th>id_32</th>\n      <th>id_33</th>\n      <th>id_34</th>\n      <th>id_35</th>\n      <th>id_36</th>\n      <th>id_37</th>\n      <th>id_38</th>\n      <th>DeviceType</th>\n      <th>DeviceInfo</th>\n    </tr>\n  </thead>\n  <tbody>\n    <tr>\n      <th>0</th>\n      <td>2994681</td>\n      <td>0</td>\n      <td>242834</td>\n      <td>25.000</td>\n      <td>H</td>\n      <td>9803</td>\n      <td>583.0</td>\n      <td>150.0</td>\n      <td>visa</td>\n      <td>226.0</td>\n      <td>...</td>\n      <td>firefox 56.0</td>\n      <td>24.0</td>\n      <td>1920x1080</td>\n      <td>match_status:2</td>\n      <td>T</td>\n      <td>F</td>\n      <td>T</td>\n      <td>T</td>\n      <td>desktop</td>\n      <td>rv:56.0</td>\n    </tr>\n    <tr>\n      <th>1</th>\n      <td>3557242</td>\n      <td>0</td>\n      <td>15123000</td>\n      <td>117.000</td>\n      <td>W</td>\n      <td>7919</td>\n      <td>194.0</td>\n      <td>150.0</td>\n      <td>mastercard</td>\n      <td>166.0</td>\n      <td>...</td>\n      <td>NaN</td>\n      <td>NaN</td>\n      <td>NaN</td>\n      <td>NaN</td>\n      <td>NaN</td>\n      <td>NaN</td>\n      <td>NaN</td>\n      <td>NaN</td>\n      <td>NaN</td>\n      <td>NaN</td>\n    </tr>\n    <tr>\n      <th>2</th>\n      <td>3327470</td>\n      <td>0</td>\n      <td>8378575</td>\n      <td>73.773</td>\n      <td>C</td>\n      <td>12778</td>\n      <td>500.0</td>\n      <td>185.0</td>\n      <td>mastercard</td>\n      <td>224.0</td>\n      <td>...</td>\n      <td>NaN</td>\n      <td>NaN</td>\n      <td>NaN</td>\n      <td>NaN</td>\n      <td>NaN</td>\n      <td>NaN</td>\n      <td>NaN</td>\n      <td>NaN</td>\n      <td>NaN</td>\n      <td>NaN</td>\n    </tr>\n    <tr>\n      <th>3</th>\n      <td>3118781</td>\n      <td>0</td>\n      <td>2607840</td>\n      <td>400.000</td>\n      <td>R</td>\n      <td>12316</td>\n      <td>548.0</td>\n      <td>150.0</td>\n      <td>visa</td>\n      <td>195.0</td>\n      <td>...</td>\n      <td>mobile safari generic</td>\n      <td>32.0</td>\n      <td>1136x640</td>\n      <td>match_status:2</td>\n      <td>T</td>\n      <td>F</td>\n      <td>T</td>\n      <td>F</td>\n      <td>mobile</td>\n      <td>iOS Device</td>\n    </tr>\n    <tr>\n      <th>4</th>\n      <td>3459772</td>\n      <td>0</td>\n      <td>12226544</td>\n      <td>31.950</td>\n      <td>W</td>\n      <td>9002</td>\n      <td>453.0</td>\n      <td>150.0</td>\n      <td>visa</td>\n      <td>226.0</td>\n      <td>...</td>\n      <td>NaN</td>\n      <td>NaN</td>\n      <td>NaN</td>\n      <td>NaN</td>\n      <td>NaN</td>\n      <td>NaN</td>\n      <td>NaN</td>\n      <td>NaN</td>\n      <td>NaN</td>\n      <td>NaN</td>\n    </tr>\n  </tbody>\n</table>\n<p>5 rows × 434 columns</p>\n</div>"
     },
     "execution_count": 22,
     "metadata": {},
     "output_type": "execute_result"
    }
   ]
  },
  {
   "cell_type": "code",
   "metadata": {
    "id": "lmIb9YPzi-ef",
    "outputId": "e8031b3c-e7b1-4f42-c8f4-eb3d6c2dee77"
   },
   "source": [
    "# Taking a look at the target variable\n",
    "# isFraud = 0 --> normal transaction\n",
    "# isFraud = 1 --> fraudulent transaction\n",
    "fraud_data.isFraud.value_counts()\n",
    "fraud_data.isFraud.value_counts(normalize=True) * 100\n",
    "\n",
    "# visualize the target variable column\n",
    "sns.countplot(x= fraud_data.isFraud)\n",
    "\n",
    "# interpreting the results - 3.40% of transactions are fraudulent and 99.60% of transactions are normal"
   ],
   "execution_count": 24,
   "outputs": [
    {
     "data": {
      "text/plain": "0    57049\n1     2005\nName: isFraud, dtype: int64"
     },
     "execution_count": 24,
     "metadata": {},
     "output_type": "execute_result"
    },
    {
     "data": {
      "text/plain": "0    96.604802\n1     3.395198\nName: isFraud, dtype: float64"
     },
     "execution_count": 24,
     "metadata": {},
     "output_type": "execute_result"
    },
    {
     "data": {
      "text/plain": "<AxesSubplot:xlabel='isFraud', ylabel='count'>"
     },
     "execution_count": 24,
     "metadata": {},
     "output_type": "execute_result"
    },
    {
     "data": {
      "text/plain": "<Figure size 640x480 with 1 Axes>",
      "image/png": "[encoded data removed]"
     },
     "metadata": {},
     "output_type": "display_data"
    }
   ]
  },
  {
   "cell_type": "code",
   "metadata": {
    "id": "CTPfHi7Qi-eg",
    "outputId": "99cdd56a-0598-437b-9032-47f200df9d4c"
   },
   "source": [
    "# Missing values - To get percentage of missing data in each column\n",
    "fraud_data.isnull().sum() / len(fraud_data) * 100   \n",
    "\n",
    "# getting all the numerical columns\n",
    "num_cols = fraud_data.select_dtypes(include=np.number).columns \n",
    "# filling missing values of numerical columns with mean value\n",
    "fraud_data[num_cols] = fraud_data[num_cols].fillna(fraud_data[num_cols].mean())   # fills the missing values with mean\n",
    "\n",
    "# getting all the categorical columns\n",
    "cat_cols = fraud_data.select_dtypes(include = 'object').columns    \n",
    "\n",
    "# fills the missing values with maximum occuring element in the column\n",
    "fraud_data[cat_cols] = fraud_data[cat_cols].fillna(fraud_data[cat_cols].mode().iloc[0]) "
   ],
   "execution_count": 25,
   "outputs": [
    {
     "data": {
      "text/plain": "TransactionID      0.000000\nisFraud            0.000000\nTransactionDT      0.000000\nTransactionAmt     0.000000\nProductCD          0.000000\ncard1              0.000000\ncard2              1.549429\ncard3              0.267552\ncard4              0.274325\ncard5              0.751854\ncard6              0.269245\naddr1             11.392962\naddr2             11.392962\ndist1             59.865547\ndist2             93.443289\nP_emaildomain     15.934568\nR_emaildomain     76.572290\nC1                 0.000000\nC2                 0.000000\nC3                 0.000000\nC4                 0.000000\nC5                 0.000000\nC6                 0.000000\nC7                 0.000000\nC8                 0.000000\nC9                 0.000000\nC10                0.000000\nC11                0.000000\nC12                0.000000\nC13                0.000000\nC14                0.000000\nD1                 0.204897\nD2                47.336336\nD3                44.391574\nD4                28.526433\nD5                52.458767\nD6                87.433535\nD7                93.316287\nD8                87.210011\nD9                87.210011\nD10               12.767975\nD11               47.671623\nD12               88.857656\nD13               89.291157\nD14               89.303011\nD15               15.189488\nM1                46.261049\nM2                46.261049\nM3                46.261049\nM4                47.427778\nM5                59.340604\nM6                28.946388\nM7                58.896942\nM8                58.893555\nM9                58.893555\nV1                47.671623\nV2                47.671623\nV3                47.671623\nV4                47.671623\nV5                47.671623\nV6                47.671623\nV7                47.671623\nV8                47.671623\nV9                47.671623\nV10               47.671623\nV11               47.671623\nV12               12.776442\nV13               12.776442\nV14               12.776442\nV15               12.776442\nV16               12.776442\nV17               12.776442\nV18               12.776442\nV19               12.776442\nV20               12.776442\nV21               12.776442\nV22               12.776442\nV23               12.776442\nV24               12.776442\nV25               12.776442\nV26               12.776442\nV27               12.776442\nV28               12.776442\nV29               12.776442\nV30               12.776442\nV31               12.776442\nV32               12.776442\nV33               12.776442\nV34               12.776442\nV35               28.536594\nV36               28.536594\nV37               28.536594\nV38               28.536594\nV39               28.536594\nV40               28.536594\nV41               28.536594\nV42               28.536594\nV43               28.536594\nV44               28.536594\nV45               28.536594\nV46               28.536594\nV47               28.536594\nV48               28.536594\nV49               28.536594\nV50               28.536594\nV51               28.536594\nV52               28.536594\nV53               13.006740\nV54               13.006740\nV55               13.006740\nV56               13.006740\nV57               13.006740\nV58               13.006740\nV59               13.006740\nV60               13.006740\nV61               13.006740\nV62               13.006740\nV63               13.006740\nV64               13.006740\nV65               13.006740\nV66               13.006740\nV67               13.006740\nV68               13.006740\nV69               13.006740\nV70               13.006740\nV71               13.006740\nV72               13.006740\nV73               13.006740\nV74               13.006740\nV75               15.197954\nV76               15.197954\nV77               15.197954\nV78               15.197954\nV79               15.197954\nV80               15.197954\nV81               15.197954\nV82               15.197954\nV83               15.197954\nV84               15.197954\nV85               15.197954\nV86               15.197954\nV87               15.197954\nV88               15.197954\nV89               15.197954\nV90               15.197954\nV91               15.197954\nV92               15.197954\nV93               15.197954\nV94               15.197954\nV95                0.057574\nV96                0.057574\nV97                0.057574\nV98                0.057574\nV99                0.057574\nV100               0.057574\nV101               0.057574\nV102               0.057574\nV103               0.057574\nV104               0.057574\nV105               0.057574\nV106               0.057574\nV107               0.057574\nV108               0.057574\nV109               0.057574\nV110               0.057574\nV111               0.057574\nV112               0.057574\nV113               0.057574\nV114               0.057574\nV115               0.057574\nV116               0.057574\nV117               0.057574\nV118               0.057574\nV119               0.057574\nV120               0.057574\nV121               0.057574\nV122               0.057574\nV123               0.057574\nV124               0.057574\nV125               0.057574\nV126               0.057574\nV127               0.057574\nV128               0.057574\nV129               0.057574\nV130               0.057574\nV131               0.057574\nV132               0.057574\nV133               0.057574\nV134               0.057574\nV135               0.057574\nV136               0.057574\nV137               0.057574\nV138              86.171978\nV139              86.171978\nV140              86.171978\nV141              86.171978\nV142              86.171978\nV143              86.171978\nV144              86.171978\nV145              86.171978\nV146              86.171978\nV147              86.171978\nV148              86.171978\nV149              86.171978\nV150              86.171978\nV151              86.171978\nV152              86.171978\nV153              86.171978\nV154              86.171978\nV155              86.171978\nV156              86.171978\nV157              86.171978\nV158              86.171978\nV159              86.171978\nV160              86.171978\nV161              86.171978\nV162              86.171978\nV163              86.171978\nV164              86.171978\nV165              86.171978\nV166              86.171978\nV167              76.196363\nV168              76.196363\nV169              76.170962\nV170              76.170962\nV171              76.170962\nV172              76.196363\nV173              76.196363\nV174              76.170962\nV175              76.170962\nV176              76.196363\nV177              76.196363\nV178              76.196363\nV179              76.196363\nV180              76.170962\nV181              76.196363\nV182              76.196363\nV183              76.196363\nV184              76.170962\nV185              76.170962\nV186              76.196363\nV187              76.196363\nV188              76.170962\nV189              76.170962\nV190              76.196363\nV191              76.196363\nV192              76.196363\nV193              76.196363\nV194              76.170962\nV195              76.170962\nV196              76.196363\nV197              76.170962\nV198              76.170962\nV199              76.196363\nV200              76.170962\nV201              76.170962\nV202              76.196363\nV203              76.196363\nV204              76.196363\nV205              76.196363\nV206              76.196363\nV207              76.196363\nV208              76.170962\nV209              76.170962\nV210              76.170962\nV211              76.196363\nV212              76.196363\nV213              76.196363\nV214              76.196363\nV215              76.196363\nV216              76.196363\nV217              77.842314\nV218              77.842314\nV219              77.842314\nV220              75.869543\nV221              75.869543\nV222              75.869543\nV223              77.842314\nV224              77.842314\nV225              77.842314\nV226              77.842314\nV227              75.869543\nV228              77.842314\nV229              77.842314\nV230              77.842314\nV231              77.842314\nV232              77.842314\nV233              77.842314\nV234              75.869543\nV235              77.842314\nV236              77.842314\nV237              77.842314\nV238              75.869543\nV239              75.869543\nV240              77.842314\nV241              77.842314\nV242              77.842314\nV243              77.842314\nV244              77.842314\nV245              75.869543\nV246              77.842314\nV247              77.842314\nV248              77.842314\nV249              77.842314\nV250              75.869543\nV251              75.869543\nV252              77.842314\nV253              77.842314\nV254              77.842314\nV255              75.869543\nV256              75.869543\nV257              77.842314\nV258              77.842314\nV259              75.869543\nV260              77.842314\nV261              77.842314\nV262              77.842314\nV263              77.842314\nV264              77.842314\nV265              77.842314\nV266              77.842314\nV267              77.842314\nV268              77.842314\nV269              77.842314\nV270              75.869543\nV271              75.869543\nV272              75.869543\nV273              77.842314\nV274              77.842314\nV275              77.842314\nV276              77.842314\nV277              77.842314\nV278              77.842314\nV279               0.005080\nV280               0.005080\nV281               0.204897\nV282               0.204897\nV283               0.204897\nV284               0.005080\nV285               0.005080\nV286               0.005080\nV287               0.005080\nV288               0.204897\nV289               0.204897\nV290               0.005080\nV291               0.005080\nV292               0.005080\nV293               0.005080\nV294               0.005080\nV295               0.005080\nV296               0.204897\nV297               0.005080\nV298               0.005080\nV299               0.005080\nV300               0.204897\nV301               0.204897\nV302               0.005080\nV303               0.005080\nV304               0.005080\nV305               0.005080\nV306               0.005080\nV307               0.005080\nV308               0.005080\nV309               0.005080\nV310               0.005080\nV311               0.005080\nV312               0.005080\nV313               0.204897\nV314               0.204897\nV315               0.204897\nV316               0.005080\nV317               0.005080\nV318               0.005080\nV319               0.005080\nV320               0.005080\nV321               0.005080\nV322              86.095777\nV323              86.095777\nV324              86.095777\nV325              86.095777\nV326              86.095777\nV327              86.095777\nV328              86.095777\nV329              86.095777\nV330              86.095777\nV331              86.095777\nV332              86.095777\nV333              86.095777\nV334              86.095777\nV335              86.095777\nV336              86.095777\nV337              86.095777\nV338              86.095777\nV339              86.095777\nid_01             75.353067\nid_02             75.964372\nid_03             88.659532\nid_04             88.659532\nid_05             76.597690\nid_06             76.597690\nid_07             99.110983\nid_08             99.110983\nid_09             87.210011\nid_10             87.210011\nid_11             75.945745\nid_12             75.353067\nid_13             78.177600\nid_14             86.515731\nid_15             75.945745\nid_16             77.967623\nid_17             76.189589\nid_18             92.361229\nid_19             76.192976\nid_20             76.201443\nid_21             99.110983\nid_22             99.110983\nid_23             99.110983\nid_24             99.175331\nid_25             99.112677\nid_26             99.110983\nid_27             99.110983\nid_28             75.945745\nid_29             75.945745\nid_30             86.937379\nid_31             76.065974\nid_32             86.935686\nid_33             87.636739\nid_34             86.891658\nid_35             75.945745\nid_36             75.945745\nid_37             75.945745\nid_38             75.945745\nDeviceType        75.979612\nDeviceInfo        79.813391\ndtype: float64"
     },
     "execution_count": 25,
     "metadata": {},
     "output_type": "execute_result"
    }
   ]
  },
  {
   "cell_type": "code",
   "metadata": {
    "id": "sDC6uoCai-eh",
    "outputId": "2efacedc-9f69-4df8-a68b-e739936509b7"
   },
   "source": [
    "# Let's have a look if there still exist any missing values\n",
    "fraud_data.isnull().sum() / len(fraud_data) * 100"
   ],
   "execution_count": 26,
   "outputs": [
    {
     "data": {
      "text/plain": "TransactionID     0.0\nisFraud           0.0\nTransactionDT     0.0\nTransactionAmt    0.0\nProductCD         0.0\ncard1             0.0\ncard2             0.0\ncard3             0.0\ncard4             0.0\ncard5             0.0\ncard6             0.0\naddr1             0.0\naddr2             0.0\ndist1             0.0\ndist2             0.0\nP_emaildomain     0.0\nR_emaildomain     0.0\nC1                0.0\nC2                0.0\nC3                0.0\nC4                0.0\nC5                0.0\nC6                0.0\nC7                0.0\nC8                0.0\nC9                0.0\nC10               0.0\nC11               0.0\nC12               0.0\nC13               0.0\nC14               0.0\nD1                0.0\nD2                0.0\nD3                0.0\nD4                0.0\nD5                0.0\nD6                0.0\nD7                0.0\nD8                0.0\nD9                0.0\nD10               0.0\nD11               0.0\nD12               0.0\nD13               0.0\nD14               0.0\nD15               0.0\nM1                0.0\nM2                0.0\nM3                0.0\nM4                0.0\nM5                0.0\nM6                0.0\nM7                0.0\nM8                0.0\nM9                0.0\nV1                0.0\nV2                0.0\nV3                0.0\nV4                0.0\nV5                0.0\nV6                0.0\nV7                0.0\nV8                0.0\nV9                0.0\nV10               0.0\nV11               0.0\nV12               0.0\nV13               0.0\nV14               0.0\nV15               0.0\nV16               0.0\nV17               0.0\nV18               0.0\nV19               0.0\nV20               0.0\nV21               0.0\nV22               0.0\nV23               0.0\nV24               0.0\nV25               0.0\nV26               0.0\nV27               0.0\nV28               0.0\nV29               0.0\nV30               0.0\nV31               0.0\nV32               0.0\nV33               0.0\nV34               0.0\nV35               0.0\nV36               0.0\nV37               0.0\nV38               0.0\nV39               0.0\nV40               0.0\nV41               0.0\nV42               0.0\nV43               0.0\nV44               0.0\nV45               0.0\nV46               0.0\nV47               0.0\nV48               0.0\nV49               0.0\nV50               0.0\nV51               0.0\nV52               0.0\nV53               0.0\nV54               0.0\nV55               0.0\nV56               0.0\nV57               0.0\nV58               0.0\nV59               0.0\nV60               0.0\nV61               0.0\nV62               0.0\nV63               0.0\nV64               0.0\nV65               0.0\nV66               0.0\nV67               0.0\nV68               0.0\nV69               0.0\nV70               0.0\nV71               0.0\nV72               0.0\nV73               0.0\nV74               0.0\nV75               0.0\nV76               0.0\nV77               0.0\nV78               0.0\nV79               0.0\nV80               0.0\nV81               0.0\nV82               0.0\nV83               0.0\nV84               0.0\nV85               0.0\nV86               0.0\nV87               0.0\nV88               0.0\nV89               0.0\nV90               0.0\nV91               0.0\nV92               0.0\nV93               0.0\nV94               0.0\nV95               0.0\nV96               0.0\nV97               0.0\nV98               0.0\nV99               0.0\nV100              0.0\nV101              0.0\nV102              0.0\nV103              0.0\nV104              0.0\nV105              0.0\nV106              0.0\nV107              0.0\nV108              0.0\nV109              0.0\nV110              0.0\nV111              0.0\nV112              0.0\nV113              0.0\nV114              0.0\nV115              0.0\nV116              0.0\nV117              0.0\nV118              0.0\nV119              0.0\nV120              0.0\nV121              0.0\nV122              0.0\nV123              0.0\nV124              0.0\nV125              0.0\nV126              0.0\nV127              0.0\nV128              0.0\nV129              0.0\nV130              0.0\nV131              0.0\nV132              0.0\nV133              0.0\nV134              0.0\nV135              0.0\nV136              0.0\nV137              0.0\nV138              0.0\nV139              0.0\nV140              0.0\nV141              0.0\nV142              0.0\nV143              0.0\nV144              0.0\nV145              0.0\nV146              0.0\nV147              0.0\nV148              0.0\nV149              0.0\nV150              0.0\nV151              0.0\nV152              0.0\nV153              0.0\nV154              0.0\nV155              0.0\nV156              0.0\nV157              0.0\nV158              0.0\nV159              0.0\nV160              0.0\nV161              0.0\nV162              0.0\nV163              0.0\nV164              0.0\nV165              0.0\nV166              0.0\nV167              0.0\nV168              0.0\nV169              0.0\nV170              0.0\nV171              0.0\nV172              0.0\nV173              0.0\nV174              0.0\nV175              0.0\nV176              0.0\nV177              0.0\nV178              0.0\nV179              0.0\nV180              0.0\nV181              0.0\nV182              0.0\nV183              0.0\nV184              0.0\nV185              0.0\nV186              0.0\nV187              0.0\nV188              0.0\nV189              0.0\nV190              0.0\nV191              0.0\nV192              0.0\nV193              0.0\nV194              0.0\nV195              0.0\nV196              0.0\nV197              0.0\nV198              0.0\nV199              0.0\nV200              0.0\nV201              0.0\nV202              0.0\nV203              0.0\nV204              0.0\nV205              0.0\nV206              0.0\nV207              0.0\nV208              0.0\nV209              0.0\nV210              0.0\nV211              0.0\nV212              0.0\nV213              0.0\nV214              0.0\nV215              0.0\nV216              0.0\nV217              0.0\nV218              0.0\nV219              0.0\nV220              0.0\nV221              0.0\nV222              0.0\nV223              0.0\nV224              0.0\nV225              0.0\nV226              0.0\nV227              0.0\nV228              0.0\nV229              0.0\nV230              0.0\nV231              0.0\nV232              0.0\nV233              0.0\nV234              0.0\nV235              0.0\nV236              0.0\nV237              0.0\nV238              0.0\nV239              0.0\nV240              0.0\nV241              0.0\nV242              0.0\nV243              0.0\nV244              0.0\nV245              0.0\nV246              0.0\nV247              0.0\nV248              0.0\nV249              0.0\nV250              0.0\nV251              0.0\nV252              0.0\nV253              0.0\nV254              0.0\nV255              0.0\nV256              0.0\nV257              0.0\nV258              0.0\nV259              0.0\nV260              0.0\nV261              0.0\nV262              0.0\nV263              0.0\nV264              0.0\nV265              0.0\nV266              0.0\nV267              0.0\nV268              0.0\nV269              0.0\nV270              0.0\nV271              0.0\nV272              0.0\nV273              0.0\nV274              0.0\nV275              0.0\nV276              0.0\nV277              0.0\nV278              0.0\nV279              0.0\nV280              0.0\nV281              0.0\nV282              0.0\nV283              0.0\nV284              0.0\nV285              0.0\nV286              0.0\nV287              0.0\nV288              0.0\nV289              0.0\nV290              0.0\nV291              0.0\nV292              0.0\nV293              0.0\nV294              0.0\nV295              0.0\nV296              0.0\nV297              0.0\nV298              0.0\nV299              0.0\nV300              0.0\nV301              0.0\nV302              0.0\nV303              0.0\nV304              0.0\nV305              0.0\nV306              0.0\nV307              0.0\nV308              0.0\nV309              0.0\nV310              0.0\nV311              0.0\nV312              0.0\nV313              0.0\nV314              0.0\nV315              0.0\nV316              0.0\nV317              0.0\nV318              0.0\nV319              0.0\nV320              0.0\nV321              0.0\nV322              0.0\nV323              0.0\nV324              0.0\nV325              0.0\nV326              0.0\nV327              0.0\nV328              0.0\nV329              0.0\nV330              0.0\nV331              0.0\nV332              0.0\nV333              0.0\nV334              0.0\nV335              0.0\nV336              0.0\nV337              0.0\nV338              0.0\nV339              0.0\nid_01             0.0\nid_02             0.0\nid_03             0.0\nid_04             0.0\nid_05             0.0\nid_06             0.0\nid_07             0.0\nid_08             0.0\nid_09             0.0\nid_10             0.0\nid_11             0.0\nid_12             0.0\nid_13             0.0\nid_14             0.0\nid_15             0.0\nid_16             0.0\nid_17             0.0\nid_18             0.0\nid_19             0.0\nid_20             0.0\nid_21             0.0\nid_22             0.0\nid_23             0.0\nid_24             0.0\nid_25             0.0\nid_26             0.0\nid_27             0.0\nid_28             0.0\nid_29             0.0\nid_30             0.0\nid_31             0.0\nid_32             0.0\nid_33             0.0\nid_34             0.0\nid_35             0.0\nid_36             0.0\nid_37             0.0\nid_38             0.0\nDeviceType        0.0\nDeviceInfo        0.0\ndtype: float64"
     },
     "execution_count": 26,
     "metadata": {},
     "output_type": "execute_result"
    }
   ]
  },
  {
   "cell_type": "markdown",
   "metadata": {
    "id": "hJ6esKMDi-eh"
   },
   "source": [
    "## One hot encoding\n",
    "\n",
    "Machine learning models require all input and output variables to be numeric. Run the model with data as-is and then iterate for feature engineering. This means that if your data contains categorical data, you must encode it to numbers before you can fit and evaluate a model.\n",
    "\n",
    "Ordinal encoding - The integer values have a natural ordered relationship between each other and machine learning algorithms may be able to understand and harness this relationship.\n",
    "\n",
    "For categorical variables where no ordinal relationship exists, the integer encoding may not be enough, at best, or misleading to the model at worst. In this case, a one-hot encoding can be applied to the ordinal representation. \n",
    "\n",
    "\n",
    "The one-hot encoding creates one binary variable for each category. The problem is that this representation includes redundancy. For example, if we know that [1, 0, 0] represents “blue” and [0, 1, 0] represents “green” we don’t need another binary variable to represent “red“, instead we could use 0 values for both “blue” and “green” alone, e.g.. [0, 0].\n",
    "\n",
    "This is called a dummy variable encoding, and always represents C categories with C-1 binary variables. In addition to being slightly less redundant, a dummy variable representation is required for some models.\n",
    "\n",
    "For example, in the case of a linear regression model (and other regression models that have a bias term), a one hot encoding will case the matrix of input data to become singular, meaning it cannot be inverted and the linear regression coefficients cannot be calculated using linear algebra. For these types of models a dummy variable encoding must be used instead."
   ]
  },
  {
   "cell_type": "code",
   "metadata": {
    "id": "XVc3JwOei-ei",
    "outputId": "f4b261f7-75a2-4fd1-cb1a-f57358ae3574"
   },
   "source": [
    "# earlier we have collected all the categorical columns in cat_cols\n",
    "fraud_data.shape\n",
    "fraud_data[cat_cols] = fraud_data[cat_cols].fillna(fraud_data[cat_cols].mode().iloc[0])\n",
    "fraud_data = pd.get_dummies(fraud_data, columns=cat_cols)\n",
    "fraud_data.shape\n",
    "fraud_data.head()"
   ],
   "execution_count": 27,
   "outputs": [
    {
     "data": {
      "text/plain": "(59054, 434)"
     },
     "execution_count": 27,
     "metadata": {},
     "output_type": "execute_result"
    },
    {
     "data": {
      "text/plain": "(59054, 1667)"
     },
     "execution_count": 27,
     "metadata": {},
     "output_type": "execute_result"
    },
    {
     "data": {
      "text/plain": "   TransactionID  isFraud  TransactionDT  TransactionAmt  card1  card2  card3  \\\n0        2994681        0         242834          25.000   9803  583.0  150.0   \n1        3557242        0       15123000         117.000   7919  194.0  150.0   \n2        3327470        0        8378575          73.773  12778  500.0  185.0   \n3        3118781        0        2607840         400.000  12316  548.0  150.0   \n4        3459772        0       12226544          31.950   9002  453.0  150.0   \n\n   card5  addr1  addr2  ...  DeviceInfo_rv:54.0  DeviceInfo_rv:55.0  \\\n0  226.0  269.0   87.0  ...                   0                   0   \n1  166.0  181.0   87.0  ...                   0                   0   \n2  224.0  284.0   60.0  ...                   0                   0   \n3  195.0  441.0   87.0  ...                   0                   0   \n4  226.0  264.0   87.0  ...                   0                   0   \n\n   DeviceInfo_rv:56.0  DeviceInfo_rv:57.0  DeviceInfo_rv:58.0  \\\n0                   1                   0                   0   \n1                   0                   0                   0   \n2                   0                   0                   0   \n3                   0                   0                   0   \n4                   0                   0                   0   \n\n   DeviceInfo_rv:59.0  DeviceInfo_rv:60.0  DeviceInfo_verykools4009  \\\n0                   0                   0                         0   \n1                   0                   0                         0   \n2                   0                   0                         0   \n3                   0                   0                         0   \n4                   0                   0                         0   \n\n   DeviceInfo_verykools5034  DeviceInfo_vivo  \n0                         0                0  \n1                         0                0  \n2                         0                0  \n3                         0                0  \n4                         0                0  \n\n[5 rows x 1667 columns]",
      "text/html": "<div>\n<style scoped>\n    .dataframe tbody tr th:only-of-type {\n        vertical-align: middle;\n    }\n\n    .dataframe tbody tr th {\n        vertical-align: top;\n    }\n\n    .dataframe thead th {\n        text-align: right;\n    }\n</style>\n<table border=\"1\" class=\"dataframe\">\n  <thead>\n    <tr style=\"text-align: right;\">\n      <th></th>\n      <th>TransactionID</th>\n      <th>isFraud</th>\n      <th>TransactionDT</th>\n      <th>TransactionAmt</th>\n      <th>card1</th>\n      <th>card2</th>\n      <th>card3</th>\n      <th>card5</th>\n      <th>addr1</th>\n      <th>addr2</th>\n      <th>...</th>\n      <th>DeviceInfo_rv:54.0</th>\n      <th>DeviceInfo_rv:55.0</th>\n      <th>DeviceInfo_rv:56.0</th>\n      <th>DeviceInfo_rv:57.0</th>\n      <th>DeviceInfo_rv:58.0</th>\n      <th>DeviceInfo_rv:59.0</th>\n      <th>DeviceInfo_rv:60.0</th>\n      <th>DeviceInfo_verykools4009</th>\n      <th>DeviceInfo_verykools5034</th>\n      <th>DeviceInfo_vivo</th>\n    </tr>\n  </thead>\n  <tbody>\n    <tr>\n      <th>0</th>\n      <td>2994681</td>\n      <td>0</td>\n      <td>242834</td>\n      <td>25.000</td>\n      <td>9803</td>\n      <td>583.0</td>\n      <td>150.0</td>\n      <td>226.0</td>\n      <td>269.0</td>\n      <td>87.0</td>\n      <td>...</td>\n      <td>0</td>\n      <td>0</td>\n      <td>1</td>\n      <td>0</td>\n      <td>0</td>\n      <td>0</td>\n      <td>0</td>\n      <td>0</td>\n      <td>0</td>\n      <td>0</td>\n    </tr>\n    <tr>\n      <th>1</th>\n      <td>3557242</td>\n      <td>0</td>\n      <td>15123000</td>\n      <td>117.000</td>\n      <td>7919</td>\n      <td>194.0</td>\n      <td>150.0</td>\n      <td>166.0</td>\n      <td>181.0</td>\n      <td>87.0</td>\n      <td>...</td>\n      <td>0</td>\n      <td>0</td>\n      <td>0</td>\n      <td>0</td>\n      <td>0</td>\n      <td>0</td>\n      <td>0</td>\n      <td>0</td>\n      <td>0</td>\n      <td>0</td>\n    </tr>\n    <tr>\n      <th>2</th>\n      <td>3327470</td>\n      <td>0</td>\n      <td>8378575</td>\n      <td>73.773</td>\n      <td>12778</td>\n      <td>500.0</td>\n      <td>185.0</td>\n      <td>224.0</td>\n      <td>284.0</td>\n      <td>60.0</td>\n      <td>...</td>\n      <td>0</td>\n      <td>0</td>\n      <td>0</td>\n      <td>0</td>\n      <td>0</td>\n      <td>0</td>\n      <td>0</td>\n      <td>0</td>\n      <td>0</td>\n      <td>0</td>\n    </tr>\n    <tr>\n      <th>3</th>\n      <td>3118781</td>\n      <td>0</td>\n      <td>2607840</td>\n      <td>400.000</td>\n      <td>12316</td>\n      <td>548.0</td>\n      <td>150.0</td>\n      <td>195.0</td>\n      <td>441.0</td>\n      <td>87.0</td>\n      <td>...</td>\n      <td>0</td>\n      <td>0</td>\n      <td>0</td>\n      <td>0</td>\n      <td>0</td>\n      <td>0</td>\n      <td>0</td>\n      <td>0</td>\n      <td>0</td>\n      <td>0</td>\n    </tr>\n    <tr>\n      <th>4</th>\n      <td>3459772</td>\n      <td>0</td>\n      <td>12226544</td>\n      <td>31.950</td>\n      <td>9002</td>\n      <td>453.0</td>\n      <td>150.0</td>\n      <td>226.0</td>\n      <td>264.0</td>\n      <td>87.0</td>\n      <td>...</td>\n      <td>0</td>\n      <td>0</td>\n      <td>0</td>\n      <td>0</td>\n      <td>0</td>\n      <td>0</td>\n      <td>0</td>\n      <td>0</td>\n      <td>0</td>\n      <td>0</td>\n    </tr>\n  </tbody>\n</table>\n<p>5 rows × 1667 columns</p>\n</div>"
     },
     "execution_count": 27,
     "metadata": {},
     "output_type": "execute_result"
    }
   ]
  },
  {
   "cell_type": "markdown",
   "metadata": {
    "id": "5iDDHdpxi-ei"
   },
   "source": [
    "## Feature transformation\n",
    "\n",
    "In most cases, the numerical features of the dataset do not have a certain range and they differ from each other. In real life, it is nonsense to expect age and income columns to have the same range. But from the machine learning point of view, how these two columns can be compared?\n",
    "Scaling solves this problem.\n",
    "\n",
    "The continuous features become identical in terms of the range, after a scaling process. This process is not mandatory for many algorithms, but it might be still nice to apply. However, the algorithms based on distance calculations such as k-NN or k-Means need to have scaled continuous features as model input.\n",
    "\n",
    "*Normalization (or min-max normalization)* scale all values in a fixed range between 0 and 1. This transformation does not change the distribution of the feature and due to the decreased standard deviations, the effects of the outliers increases. Therefore, before normalization, it is recommended to handle the outliers.\n",
    "\n",
    "*Standardization (or z-score normalization)* scales the values while taking into account standard deviation. If the standard deviation of features is different, their range also would differ from each other. This reduces the effect of the outliers in the features."
   ]
  },
  {
   "cell_type": "code",
   "metadata": {
    "id": "w0yWOnL8i-ej"
   },
   "source": [
    "# Separate input features and output feature\n",
    "# input features\n",
    "X = fraud_data.drop(columns = ['isFraud'])       \n",
    "\n",
    "# output feature\n",
    "Y = fraud_data.isFraud      "
   ],
   "execution_count": 28,
   "outputs": []
  },
  {
   "cell_type": "code",
   "metadata": {
    "id": "gXQIMskvi-ek",
    "outputId": "0dfe312c-8366-4b53-8f2e-65ab3613450d"
   },
   "source": [
    "from sklearn.preprocessing import StandardScaler\n",
    "scaled_features = StandardScaler().fit_transform(X)\n",
    "scaled_features = pd.DataFrame(data=scaled_features)\n",
    "scaled_features.columns= X.columns\n",
    "\n",
    "# Let's see how the data looks after scaling\n",
    "scaled_features.head()"
   ],
   "execution_count": 30,
   "outputs": [
    {
     "data": {
      "text/plain": "   TransactionID  TransactionDT  TransactionAmt     card1     card2     card3  \\\n0      -1.688548      -1.544958       -0.468203 -0.021940  1.412632 -0.286861   \n1       1.615662       1.681426       -0.073540 -0.406928 -1.078794 -0.286861   \n2       0.266093       0.219070       -0.258976  0.585989  0.881042  2.788641   \n3      -0.959645      -1.032167        1.140478  0.491581  1.188468 -0.286861   \n4       1.043171       1.053404       -0.438389 -0.185621  0.580022 -0.286861   \n\n      card5     addr1      addr2         dist1  ...  DeviceInfo_rv:54.0  \\\n0  0.653753 -0.225982   0.077832  1.224253e-16  ...            -0.00582   \n1 -0.804662 -1.144356   0.077832  1.582320e+00  ...            -0.00582   \n2  0.605139 -0.069441 -10.788933  1.224253e-16  ...            -0.00582   \n3 -0.099761  1.569022   0.077832  1.224253e-16  ...            -0.00582   \n4  0.653753 -0.278162   0.077832 -4.551081e-01  ...            -0.00582   \n\n   DeviceInfo_rv:55.0  DeviceInfo_rv:56.0  DeviceInfo_rv:57.0  \\\n0           -0.004115           67.391508           -0.041185   \n1           -0.004115           -0.014839           -0.041185   \n2           -0.004115           -0.014839           -0.041185   \n3           -0.004115           -0.014839           -0.041185   \n4           -0.004115           -0.014839           -0.041185   \n\n   DeviceInfo_rv:58.0  DeviceInfo_rv:59.0  DeviceInfo_rv:60.0  \\\n0           -0.020164           -0.027306           -0.010888   \n1           -0.020164           -0.027306           -0.010888   \n2           -0.020164           -0.027306           -0.010888   \n3           -0.020164           -0.027306           -0.010888   \n4           -0.020164           -0.027306           -0.010888   \n\n   DeviceInfo_verykools4009  DeviceInfo_verykools5034  DeviceInfo_vivo  \n0                 -0.004115                 -0.004115        -0.004115  \n1                 -0.004115                 -0.004115        -0.004115  \n2                 -0.004115                 -0.004115        -0.004115  \n3                 -0.004115                 -0.004115        -0.004115  \n4                 -0.004115                 -0.004115        -0.004115  \n\n[5 rows x 1666 columns]",
      "text/html": "<div>\n<style scoped>\n    .dataframe tbody tr th:only-of-type {\n        vertical-align: middle;\n    }\n\n    .dataframe tbody tr th {\n        vertical-align: top;\n    }\n\n    .dataframe thead th {\n        text-align: right;\n    }\n</style>\n<table border=\"1\" class=\"dataframe\">\n  <thead>\n    <tr style=\"text-align: right;\">\n      <th></th>\n      <th>TransactionID</th>\n      <th>TransactionDT</th>\n      <th>TransactionAmt</th>\n      <th>card1</th>\n      <th>card2</th>\n      <th>card3</th>\n      <th>card5</th>\n      <th>addr1</th>\n      <th>addr2</th>\n      <th>dist1</th>\n      <th>...</th>\n      <th>DeviceInfo_rv:54.0</th>\n      <th>DeviceInfo_rv:55.0</th>\n      <th>DeviceInfo_rv:56.0</th>\n      <th>DeviceInfo_rv:57.0</th>\n      <th>DeviceInfo_rv:58.0</th>\n      <th>DeviceInfo_rv:59.0</th>\n      <th>DeviceInfo_rv:60.0</th>\n      <th>DeviceInfo_verykools4009</th>\n      <th>DeviceInfo_verykools5034</th>\n      <th>DeviceInfo_vivo</th>\n    </tr>\n  </thead>\n  <tbody>\n    <tr>\n      <th>0</th>\n      <td>-1.688548</td>\n      <td>-1.544958</td>\n      <td>-0.468203</td>\n      <td>-0.021940</td>\n      <td>1.412632</td>\n      <td>-0.286861</td>\n      <td>0.653753</td>\n      <td>-0.225982</td>\n      <td>0.077832</td>\n      <td>1.224253e-16</td>\n      <td>...</td>\n      <td>-0.00582</td>\n      <td>-0.004115</td>\n      <td>67.391508</td>\n      <td>-0.041185</td>\n      <td>-0.020164</td>\n      <td>-0.027306</td>\n      <td>-0.010888</td>\n      <td>-0.004115</td>\n      <td>-0.004115</td>\n      <td>-0.004115</td>\n    </tr>\n    <tr>\n      <th>1</th>\n      <td>1.615662</td>\n      <td>1.681426</td>\n      <td>-0.073540</td>\n      <td>-0.406928</td>\n      <td>-1.078794</td>\n      <td>-0.286861</td>\n      <td>-0.804662</td>\n      <td>-1.144356</td>\n      <td>0.077832</td>\n      <td>1.582320e+00</td>\n      <td>...</td>\n      <td>-0.00582</td>\n      <td>-0.004115</td>\n      <td>-0.014839</td>\n      <td>-0.041185</td>\n      <td>-0.020164</td>\n      <td>-0.027306</td>\n      <td>-0.010888</td>\n      <td>-0.004115</td>\n      <td>-0.004115</td>\n      <td>-0.004115</td>\n    </tr>\n    <tr>\n      <th>2</th>\n      <td>0.266093</td>\n      <td>0.219070</td>\n      <td>-0.258976</td>\n      <td>0.585989</td>\n      <td>0.881042</td>\n      <td>2.788641</td>\n      <td>0.605139</td>\n      <td>-0.069441</td>\n      <td>-10.788933</td>\n      <td>1.224253e-16</td>\n      <td>...</td>\n      <td>-0.00582</td>\n      <td>-0.004115</td>\n      <td>-0.014839</td>\n      <td>-0.041185</td>\n      <td>-0.020164</td>\n      <td>-0.027306</td>\n      <td>-0.010888</td>\n      <td>-0.004115</td>\n      <td>-0.004115</td>\n      <td>-0.004115</td>\n    </tr>\n    <tr>\n      <th>3</th>\n      <td>-0.959645</td>\n      <td>-1.032167</td>\n      <td>1.140478</td>\n      <td>0.491581</td>\n      <td>1.188468</td>\n      <td>-0.286861</td>\n      <td>-0.099761</td>\n      <td>1.569022</td>\n      <td>0.077832</td>\n      <td>1.224253e-16</td>\n      <td>...</td>\n      <td>-0.00582</td>\n      <td>-0.004115</td>\n      <td>-0.014839</td>\n      <td>-0.041185</td>\n      <td>-0.020164</td>\n      <td>-0.027306</td>\n      <td>-0.010888</td>\n      <td>-0.004115</td>\n      <td>-0.004115</td>\n      <td>-0.004115</td>\n    </tr>\n    <tr>\n      <th>4</th>\n      <td>1.043171</td>\n      <td>1.053404</td>\n      <td>-0.438389</td>\n      <td>-0.185621</td>\n      <td>0.580022</td>\n      <td>-0.286861</td>\n      <td>0.653753</td>\n      <td>-0.278162</td>\n      <td>0.077832</td>\n      <td>-4.551081e-01</td>\n      <td>...</td>\n      <td>-0.00582</td>\n      <td>-0.004115</td>\n      <td>-0.014839</td>\n      <td>-0.041185</td>\n      <td>-0.020164</td>\n      <td>-0.027306</td>\n      <td>-0.010888</td>\n      <td>-0.004115</td>\n      <td>-0.004115</td>\n      <td>-0.004115</td>\n    </tr>\n  </tbody>\n</table>\n<p>5 rows × 1666 columns</p>\n</div>"
     },
     "execution_count": 30,
     "metadata": {},
     "output_type": "execute_result"
    }
   ]
  },
  {
   "cell_type": "markdown",
   "metadata": {
    "id": "Tl7-2DbJi-ek"
   },
   "source": [
    "## Splitting the data\n",
    "\n",
    "##### Split into train and validation set\n",
    "Train – what we use to train the model\n",
    "\n",
    "Validation – what we use to evaluate the model\n",
    "\n",
    "Test – data that is unexposed to the model "
   ]
  },
  {
   "cell_type": "code",
   "metadata": {
    "id": "RlMDZlIwi-el"
   },
   "source": [
    "from sklearn.model_selection import train_test_split\n",
    "X_train, X_test, Y_train, Y_test = train_test_split(X, Y, test_size = 0.3, random_state = 42)\n",
    "\n",
    "# X_train: independent feature data for training the model\n",
    "# Y_train: dependent feature data for training the model\n",
    "# X_test: independent feature data for testing the model; will be used to predict the target values\n",
    "# Y_test: original target values of X_test; We will compare this values with our predicted values.\n",
    " \n",
    "# test_size = 0.3: 30% of the data will go for test set and 70% of the data will go for train set\n",
    "# random_state = 42: this will fix the split i.e. there will be same split for each time you run the code"
   ],
   "execution_count": 31,
   "outputs": []
  },
  {
   "cell_type": "markdown",
   "metadata": {
    "id": "9COcLvWoi-el"
   },
   "source": [
    "## Dealing with imbalanced data\n",
    "\n",
    "An imbalanced classification problem is an example of a classification problem where the distribution of examples across the known classes is biased or skewed ( let us look only at binary classification)\n",
    "\n",
    "Imbalance can occur due to:\n",
    "- Biased sampling – E.g., Sampling only from a single geographic location\n",
    "- Nature of the problem statement – E.g., any fraudulent transactions like credit card frauds, etc.\n",
    "\n",
    "The imbalance could be\n",
    "- Slight Imbalance (gender distribution – 60% male; 40% female)\n",
    "- Severe Imbalance (claims prediction in insurance)\n",
    "- Terms (Minority class - that has few examples; Majority class - that has many examples)"
   ]
  },
  {
   "cell_type": "markdown",
   "metadata": {
    "id": "NS3lBsfoi-em"
   },
   "source": [
    "### Over sampling minority class\n",
    "\n",
    "Oversampling can be defined as adding more copies of the minority class. In other words, we are creating artificial/synthetic data of the minority class (or group). Oversampling could be a good choice when you don’t have a lot of data to work with."
   ]
  },
  {
   "cell_type": "code",
   "metadata": {
    "id": "G9fVFUvKi-em"
   },
   "source": [
    "# 'resample' is located under sklearn.utils\n",
    "from sklearn.utils import resample\n",
    "\n",
    "# concatenate training data back together\n",
    "train_data = pd.concat([X_train, Y_train], axis = 1)\n",
    "\n",
    "# separate minority and majority class\n",
    "not_fraud = train_data[train_data.isFraud==0]\n",
    "fraud = train_data[train_data.isFraud==1]"
   ],
   "execution_count": 32,
   "outputs": []
  },
  {
   "cell_type": "code",
   "metadata": {
    "id": "zenqI9vti-en"
   },
   "source": [
    "# Unsample minority; we are oversampling the minority class to match the number of majority classs\n",
    "fraud_upsampled = resample(fraud,\n",
    "                           replace = True, # Sample with replacement\n",
    "                           n_samples = len(not_fraud), # Match number in majority class\n",
    "                           random_state=27)"
   ],
   "execution_count": null,
   "outputs": []
  },
  {
   "cell_type": "code",
   "metadata": {
    "id": "hGZjpQ_7i-en"
   },
   "source": [
    "# combine majority and upsampled minority\n",
    "upsampled = pd.concat([not_fraud, fraud_upsampled])"
   ],
   "execution_count": null,
   "outputs": []
  },
  {
   "cell_type": "code",
   "metadata": {
    "id": "pEW3M35Ai-en",
    "outputId": "56523c87-3719-4dc5-caee-8a22ce9e55b9"
   },
   "source": [
    "# Now let's check the classes count\n",
    "upsampled.isFraud.value_counts()\n",
    "\n",
    "# We can notice here after resampling we have an equal ratio of data points for each class!"
   ],
   "execution_count": null,
   "outputs": [
    {
     "output_type": "execute_result",
     "data": {
      "text/plain": [
       "1    39942\n",
       "0    39942\n",
       "Name: isFraud, dtype: int64"
      ]
     },
     "metadata": {
      "tags": []
     },
     "execution_count": 35
    }
   ]
  },
  {
   "cell_type": "markdown",
   "metadata": {
    "id": "vqDdW2Ngi-eo"
   },
   "source": [
    "### Under sampling majority class\n",
    "Undersampling can be defined as removing some observations of the majority class. Undersampling can be a good choice when you have a ton of data -think millions of rows. But a drawback is that we are removing information that may be valuable. This could lead to underfitting and poor generalization to the test set."
   ]
  },
  {
   "cell_type": "code",
   "metadata": {
    "id": "neDg7_Yii-eo"
   },
   "source": [
    "# we are still using our separated class i.e. fraud and not_fraud from above\n",
    "# Again we are removing the observations of the majority class to mathch the number of minority class\n",
    "# downsample majority\n",
    "not_fraud_downsampled = resample(not_fraud,\n",
    "                                replace = False, # sample without replacement\n",
    "                                n_samples = len(fraud), # match minority n\n",
    "                                random_state = 27)"
   ],
   "execution_count": null,
   "outputs": []
  },
  {
   "cell_type": "code",
   "metadata": {
    "id": "hOKoNgTfi-ep"
   },
   "source": [
    "# combine minority and downsampled majority\n",
    "downsampled = pd.concat([not_fraud_downsampled, fraud])    # Concatenation"
   ],
   "execution_count": null,
   "outputs": []
  },
  {
   "cell_type": "code",
   "metadata": {
    "id": "k70qA5Qzi-ep",
    "outputId": "57d956f9-b195-4225-c1b5-43ffa15c8f7e"
   },
   "source": [
    "# let's check the classes counts\n",
    "downsampled.isFraud.value_counts()\n",
    "\n",
    "# we have an equal ratio of fraud to not fraud data points, but in this case \n",
    "# a much smaller quantity of data to train the model on."
   ],
   "execution_count": null,
   "outputs": [
    {
     "output_type": "execute_result",
     "data": {
      "text/plain": [
       "1    1395\n",
       "0    1395\n",
       "Name: isFraud, dtype: int64"
      ]
     },
     "metadata": {
      "tags": []
     },
     "execution_count": 38
    }
   ]
  },
  {
   "cell_type": "markdown",
   "metadata": {
    "id": "2KpY1MtVi-eq"
   },
   "source": [
    "### SMOTE - Synthetic Minority Oversampling Technique\n",
    "\n",
    "Here we will use imblearn’s SMOTE or Synthetic Minority Oversampling Technique. SMOTE uses a nearest neighbors' algorithm to generate new and synthetic data we can use for training our model."
   ]
  },
  {
   "cell_type": "code",
   "metadata": {
    "id": "cyK6q7wxi-eq"
   },
   "source": [
    "# import SMOTE \n",
    "from imblearn.over_sampling import SMOTE\n",
    "\n",
    "sm = SMOTE(random_state = 25, sampling_strategy = 1.0)   # again we are eqalizing both the classes"
   ],
   "execution_count": null,
   "outputs": []
  },
  {
   "cell_type": "code",
   "metadata": {
    "id": "fTodBhW8i-eq"
   },
   "source": [
    "# fit the sampling\n",
    "X_train, Y_train = sm.fit_sample(X_train, Y_train)"
   ],
   "execution_count": null,
   "outputs": []
  },
  {
   "cell_type": "code",
   "metadata": {
    "id": "ix0VSxcui-er",
    "outputId": "05b99001-e8cc-49e8-b0b4-a5c33373afc3"
   },
   "source": [
    "X_train.head()\n",
    "Y_train.head()"
   ],
   "execution_count": null,
   "outputs": [
    {
     "output_type": "execute_result",
     "data": {
      "text/html": [
       "<div>\n",
       "<style scoped>\n",
       "    .dataframe tbody tr th:only-of-type {\n",
       "        vertical-align: middle;\n",
       "    }\n",
       "\n",
       "    .dataframe tbody tr th {\n",
       "        vertical-align: top;\n",
       "    }\n",
       "\n",
       "    .dataframe thead th {\n",
       "        text-align: right;\n",
       "    }\n",
       "</style>\n",
       "<table border=\"1\" class=\"dataframe\">\n",
       "  <thead>\n",
       "    <tr style=\"text-align: right;\">\n",
       "      <th></th>\n",
       "      <th>TransactionID</th>\n",
       "      <th>TransactionDT</th>\n",
       "      <th>TransactionAmt</th>\n",
       "      <th>card1</th>\n",
       "      <th>card2</th>\n",
       "      <th>card3</th>\n",
       "      <th>card5</th>\n",
       "      <th>addr1</th>\n",
       "      <th>addr2</th>\n",
       "      <th>dist1</th>\n",
       "      <th>...</th>\n",
       "      <th>DeviceInfo_rv:54.0</th>\n",
       "      <th>DeviceInfo_rv:55.0</th>\n",
       "      <th>DeviceInfo_rv:56.0</th>\n",
       "      <th>DeviceInfo_rv:57.0</th>\n",
       "      <th>DeviceInfo_rv:58.0</th>\n",
       "      <th>DeviceInfo_rv:59.0</th>\n",
       "      <th>DeviceInfo_rv:60.0</th>\n",
       "      <th>DeviceInfo_verykools4009</th>\n",
       "      <th>DeviceInfo_verykools5034</th>\n",
       "      <th>DeviceInfo_vivo</th>\n",
       "    </tr>\n",
       "  </thead>\n",
       "  <tbody>\n",
       "    <tr>\n",
       "      <th>0</th>\n",
       "      <td>3145586</td>\n",
       "      <td>3331547</td>\n",
       "      <td>107.95</td>\n",
       "      <td>1214</td>\n",
       "      <td>523.0</td>\n",
       "      <td>150.0</td>\n",
       "      <td>226.0</td>\n",
       "      <td>123.0</td>\n",
       "      <td>87.0</td>\n",
       "      <td>8.000000</td>\n",
       "      <td>...</td>\n",
       "      <td>0</td>\n",
       "      <td>0</td>\n",
       "      <td>0</td>\n",
       "      <td>0</td>\n",
       "      <td>0</td>\n",
       "      <td>0</td>\n",
       "      <td>0</td>\n",
       "      <td>0</td>\n",
       "      <td>0</td>\n",
       "      <td>0</td>\n",
       "    </tr>\n",
       "    <tr>\n",
       "      <th>1</th>\n",
       "      <td>3552524</td>\n",
       "      <td>14999631</td>\n",
       "      <td>59.00</td>\n",
       "      <td>10112</td>\n",
       "      <td>360.0</td>\n",
       "      <td>150.0</td>\n",
       "      <td>166.0</td>\n",
       "      <td>184.0</td>\n",
       "      <td>87.0</td>\n",
       "      <td>63.000000</td>\n",
       "      <td>...</td>\n",
       "      <td>0</td>\n",
       "      <td>0</td>\n",
       "      <td>0</td>\n",
       "      <td>0</td>\n",
       "      <td>0</td>\n",
       "      <td>0</td>\n",
       "      <td>0</td>\n",
       "      <td>0</td>\n",
       "      <td>0</td>\n",
       "      <td>0</td>\n",
       "    </tr>\n",
       "    <tr>\n",
       "      <th>2</th>\n",
       "      <td>3480494</td>\n",
       "      <td>12871254</td>\n",
       "      <td>39.00</td>\n",
       "      <td>1762</td>\n",
       "      <td>161.0</td>\n",
       "      <td>150.0</td>\n",
       "      <td>226.0</td>\n",
       "      <td>441.0</td>\n",
       "      <td>87.0</td>\n",
       "      <td>18.000000</td>\n",
       "      <td>...</td>\n",
       "      <td>0</td>\n",
       "      <td>0</td>\n",
       "      <td>0</td>\n",
       "      <td>0</td>\n",
       "      <td>0</td>\n",
       "      <td>0</td>\n",
       "      <td>0</td>\n",
       "      <td>0</td>\n",
       "      <td>0</td>\n",
       "      <td>0</td>\n",
       "    </tr>\n",
       "    <tr>\n",
       "      <th>3</th>\n",
       "      <td>3232758</td>\n",
       "      <td>5853279</td>\n",
       "      <td>113.00</td>\n",
       "      <td>17188</td>\n",
       "      <td>321.0</td>\n",
       "      <td>150.0</td>\n",
       "      <td>226.0</td>\n",
       "      <td>299.0</td>\n",
       "      <td>87.0</td>\n",
       "      <td>115.655837</td>\n",
       "      <td>...</td>\n",
       "      <td>0</td>\n",
       "      <td>0</td>\n",
       "      <td>0</td>\n",
       "      <td>0</td>\n",
       "      <td>0</td>\n",
       "      <td>0</td>\n",
       "      <td>0</td>\n",
       "      <td>0</td>\n",
       "      <td>0</td>\n",
       "      <td>0</td>\n",
       "    </tr>\n",
       "    <tr>\n",
       "      <th>4</th>\n",
       "      <td>3118652</td>\n",
       "      <td>2603679</td>\n",
       "      <td>50.00</td>\n",
       "      <td>2455</td>\n",
       "      <td>321.0</td>\n",
       "      <td>150.0</td>\n",
       "      <td>226.0</td>\n",
       "      <td>299.0</td>\n",
       "      <td>87.0</td>\n",
       "      <td>6.000000</td>\n",
       "      <td>...</td>\n",
       "      <td>0</td>\n",
       "      <td>0</td>\n",
       "      <td>0</td>\n",
       "      <td>0</td>\n",
       "      <td>0</td>\n",
       "      <td>0</td>\n",
       "      <td>0</td>\n",
       "      <td>0</td>\n",
       "      <td>0</td>\n",
       "      <td>0</td>\n",
       "    </tr>\n",
       "  </tbody>\n",
       "</table>\n",
       "<p>5 rows × 1666 columns</p>\n",
       "</div>"
      ],
      "text/plain": [
       "   TransactionID  TransactionDT  TransactionAmt  card1  card2  card3  card5  \\\n",
       "0        3145586        3331547          107.95   1214  523.0  150.0  226.0   \n",
       "1        3552524       14999631           59.00  10112  360.0  150.0  166.0   \n",
       "2        3480494       12871254           39.00   1762  161.0  150.0  226.0   \n",
       "3        3232758        5853279          113.00  17188  321.0  150.0  226.0   \n",
       "4        3118652        2603679           50.00   2455  321.0  150.0  226.0   \n",
       "\n",
       "   addr1  addr2       dist1  ...  DeviceInfo_rv:54.0  DeviceInfo_rv:55.0  \\\n",
       "0  123.0   87.0    8.000000  ...                   0                   0   \n",
       "1  184.0   87.0   63.000000  ...                   0                   0   \n",
       "2  441.0   87.0   18.000000  ...                   0                   0   \n",
       "3  299.0   87.0  115.655837  ...                   0                   0   \n",
       "4  299.0   87.0    6.000000  ...                   0                   0   \n",
       "\n",
       "   DeviceInfo_rv:56.0  DeviceInfo_rv:57.0  DeviceInfo_rv:58.0  \\\n",
       "0                   0                   0                   0   \n",
       "1                   0                   0                   0   \n",
       "2                   0                   0                   0   \n",
       "3                   0                   0                   0   \n",
       "4                   0                   0                   0   \n",
       "\n",
       "   DeviceInfo_rv:59.0  DeviceInfo_rv:60.0  DeviceInfo_verykools4009  \\\n",
       "0                   0                   0                         0   \n",
       "1                   0                   0                         0   \n",
       "2                   0                   0                         0   \n",
       "3                   0                   0                         0   \n",
       "4                   0                   0                         0   \n",
       "\n",
       "   DeviceInfo_verykools5034  DeviceInfo_vivo  \n",
       "0                         0                0  \n",
       "1                         0                0  \n",
       "2                         0                0  \n",
       "3                         0                0  \n",
       "4                         0                0  \n",
       "\n",
       "[5 rows x 1666 columns]"
      ]
     },
     "metadata": {
      "tags": []
     },
     "execution_count": 41
    },
    {
     "output_type": "execute_result",
     "data": {
      "text/plain": [
       "0    0\n",
       "1    0\n",
       "2    0\n",
       "3    0\n",
       "4    0\n",
       "Name: isFraud, dtype: int64"
      ]
     },
     "metadata": {
      "tags": []
     },
     "execution_count": 41
    }
   ]
  },
  {
   "cell_type": "code",
   "metadata": {
    "id": "rY1T-Ck-i-er",
    "outputId": "659c06d8-29ef-499b-fb33-e4a4aea51b14"
   },
   "source": [
    "# distribution of target class after sythetic sampling\n",
    "Y_train.value_counts()"
   ],
   "execution_count": null,
   "outputs": [
    {
     "output_type": "execute_result",
     "data": {
      "text/plain": [
       "1    39942\n",
       "0    39942\n",
       "Name: isFraud, dtype: int64"
      ]
     },
     "metadata": {
      "tags": []
     },
     "execution_count": 42
    }
   ]
  },
  {
   "cell_type": "code",
   "metadata": {
    "id": "DNgFF8Rzi-er"
   },
   "source": [],
   "execution_count": null,
   "outputs": []
  }
 ]
}
