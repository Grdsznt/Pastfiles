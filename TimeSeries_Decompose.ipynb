{
 "nbformat": 4,
 "nbformat_minor": 0,
 "metadata": {
  "colab": {
   "name": "TimeSeries Decompose.ipynb",
   "provenance": [],
   "collapsed_sections": [],
   "include_colab_link": true
  },
  "kernelspec": {
   "name": "python3",
   "language": "python",
   "display_name": "Python 3 (ipykernel)"
  }
 },
 "cells": [
  {
   "cell_type": "markdown",
   "metadata": {
    "id": "view-in-github",
    "colab_type": "text"
   },
   "source": [
    "<a href=\"https://colab.research.google.com/github/srivatsan88/End-to-End-Time-Series/blob/master/TimeSeries_Decompose.ipynb\" target=\"_parent\"><img src=\"https://colab.research.google.com/assets/colab-badge.svg\" alt=\"Open In Colab\"/></a>"
   ]
  },
  {
   "cell_type": "markdown",
   "metadata": {
    "id": "utfB1yvQTm_a",
    "colab_type": "text"
   },
   "source": [
    "Link to Video explaining the code - https://www.youtube.com/watch?v=pLHm4cvoZiY"
   ]
  },
  {
   "cell_type": "code",
   "metadata": {
    "id": "CY5G7SE9PLEB",
    "colab_type": "code",
    "colab": {},
    "ExecuteTime": {
     "end_time": "2023-09-01T13:44:44.592291100Z",
     "start_time": "2023-09-01T13:44:44.499031200Z"
    }
   },
   "source": [
    "import matplotlib as mpl\n",
    "import matplotlib.pyplot as plt\n",
    "import numpy as np\n",
    "import os\n",
    "from datetime import datetime\n",
    "import pandas as pd\n",
    "import plotly.express as px\n",
    "\n",
    "\n",
    "mpl.rcParams['figure.figsize'] = (10, 8)\n",
    "mpl.rcParams['axes.grid'] = False\n"
   ],
   "execution_count": 1,
   "outputs": []
  },
  {
   "cell_type": "code",
   "metadata": {
    "id": "pc9-9rleb9_Y",
    "colab_type": "code",
    "colab": {},
    "ExecuteTime": {
     "end_time": "2023-09-01T13:44:51.888969400Z",
     "start_time": "2023-09-01T13:44:51.870661500Z"
    }
   },
   "source": [
    "def parse(x):\n",
    "\treturn datetime.strptime(x, '%m/%d/%Y')"
   ],
   "execution_count": 2,
   "outputs": []
  },
  {
   "cell_type": "code",
   "metadata": {
    "id": "WSoh7Ze0P-jd",
    "colab_type": "code",
    "colab": {},
    "ExecuteTime": {
     "end_time": "2023-09-01T13:44:53.359972100Z",
     "start_time": "2023-09-01T13:44:53.103805200Z"
    }
   },
   "source": [
    "df = pd.read_csv('https://raw.githubusercontent.com/srivatsan88/YouTubeLI/master/dataset/amazon_revenue_profit.csv', parse_dates = ['Quarter'],date_parser=parse)\n",
    "df.head()"
   ],
   "execution_count": 3,
   "outputs": [
    {
     "data": {
      "text/plain": "     Quarter  Revenue  Net Income\n0 2020-03-31    75452        2535\n1 2019-12-31    87437        3268\n2 2019-09-30    69981        2134\n3 2019-06-30    63404        2625\n4 2019-03-31    59700        3561",
      "text/html": "<div>\n<style scoped>\n    .dataframe tbody tr th:only-of-type {\n        vertical-align: middle;\n    }\n\n    .dataframe tbody tr th {\n        vertical-align: top;\n    }\n\n    .dataframe thead th {\n        text-align: right;\n    }\n</style>\n<table border=\"1\" class=\"dataframe\">\n  <thead>\n    <tr style=\"text-align: right;\">\n      <th></th>\n      <th>Quarter</th>\n      <th>Revenue</th>\n      <th>Net Income</th>\n    </tr>\n  </thead>\n  <tbody>\n    <tr>\n      <th>0</th>\n      <td>2020-03-31</td>\n      <td>75452</td>\n      <td>2535</td>\n    </tr>\n    <tr>\n      <th>1</th>\n      <td>2019-12-31</td>\n      <td>87437</td>\n      <td>3268</td>\n    </tr>\n    <tr>\n      <th>2</th>\n      <td>2019-09-30</td>\n      <td>69981</td>\n      <td>2134</td>\n    </tr>\n    <tr>\n      <th>3</th>\n      <td>2019-06-30</td>\n      <td>63404</td>\n      <td>2625</td>\n    </tr>\n    <tr>\n      <th>4</th>\n      <td>2019-03-31</td>\n      <td>59700</td>\n      <td>3561</td>\n    </tr>\n  </tbody>\n</table>\n</div>"
     },
     "execution_count": 3,
     "metadata": {},
     "output_type": "execute_result"
    }
   ]
  },
  {
   "cell_type": "code",
   "metadata": {
    "id": "ekRbR-YqwEtA",
    "colab_type": "code",
    "colab": {},
    "ExecuteTime": {
     "end_time": "2023-09-01T13:49:30.523848Z",
     "start_time": "2023-09-01T13:49:30.504158600Z"
    }
   },
   "source": [
    "print (\"Rows     : \" ,df.shape[0])\n",
    "print (\"Columns  : \" ,df.shape[1])\n",
    "print (\"\\nFeatures : \\n\" ,df.columns.tolist())\n",
    "print (\"\\nMissing values :  \", df.isnull().any())\n",
    "print (\"\\nUnique values :  \\n\",df.nunique())"
   ],
   "execution_count": 5,
   "outputs": [
    {
     "name": "stdout",
     "output_type": "stream",
     "text": [
      "Rows     :  61\n",
      "Columns  :  3\n",
      "\n",
      "Features : \n",
      " ['Quarter', 'Revenue', 'Net Income']\n",
      "\n",
      "Missing values :   Quarter       False\n",
      "Revenue       False\n",
      "Net Income    False\n",
      "dtype: bool\n",
      "\n",
      "Unique values :  \n",
      " Quarter       61\n",
      "Revenue       61\n",
      "Net Income    57\n",
      "dtype: int64\n"
     ]
    }
   ]
  },
  {
   "cell_type": "code",
   "metadata": {
    "id": "bJHsRdAl5C6I",
    "colab_type": "code",
    "colab": {},
    "ExecuteTime": {
     "end_time": "2023-09-01T13:49:38.767026600Z",
     "start_time": "2023-09-01T13:49:38.743303500Z"
    }
   },
   "source": [
    "amazon_df=df.set_index(\"Quarter\")"
   ],
   "execution_count": 6,
   "outputs": []
  },
  {
   "cell_type": "code",
   "metadata": {
    "id": "A5LxljglE8_x",
    "colab_type": "code",
    "colab": {},
    "ExecuteTime": {
     "end_time": "2023-09-01T13:49:39.267175800Z",
     "start_time": "2023-09-01T13:49:39.243301300Z"
    }
   },
   "source": [
    "amazon_df.head()"
   ],
   "execution_count": 7,
   "outputs": [
    {
     "data": {
      "text/plain": "            Revenue  Net Income\nQuarter                        \n2020-03-31    75452        2535\n2019-12-31    87437        3268\n2019-09-30    69981        2134\n2019-06-30    63404        2625\n2019-03-31    59700        3561",
      "text/html": "<div>\n<style scoped>\n    .dataframe tbody tr th:only-of-type {\n        vertical-align: middle;\n    }\n\n    .dataframe tbody tr th {\n        vertical-align: top;\n    }\n\n    .dataframe thead th {\n        text-align: right;\n    }\n</style>\n<table border=\"1\" class=\"dataframe\">\n  <thead>\n    <tr style=\"text-align: right;\">\n      <th></th>\n      <th>Revenue</th>\n      <th>Net Income</th>\n    </tr>\n    <tr>\n      <th>Quarter</th>\n      <th></th>\n      <th></th>\n    </tr>\n  </thead>\n  <tbody>\n    <tr>\n      <th>2020-03-31</th>\n      <td>75452</td>\n      <td>2535</td>\n    </tr>\n    <tr>\n      <th>2019-12-31</th>\n      <td>87437</td>\n      <td>3268</td>\n    </tr>\n    <tr>\n      <th>2019-09-30</th>\n      <td>69981</td>\n      <td>2134</td>\n    </tr>\n    <tr>\n      <th>2019-06-30</th>\n      <td>63404</td>\n      <td>2625</td>\n    </tr>\n    <tr>\n      <th>2019-03-31</th>\n      <td>59700</td>\n      <td>3561</td>\n    </tr>\n  </tbody>\n</table>\n</div>"
     },
     "execution_count": 7,
     "metadata": {},
     "output_type": "execute_result"
    }
   ]
  },
  {
   "cell_type": "code",
   "metadata": {
    "id": "6zi4poPjGJx9",
    "colab_type": "code",
    "colab": {},
    "ExecuteTime": {
     "end_time": "2023-09-01T13:49:41.936139900Z",
     "start_time": "2023-09-01T13:49:41.681717400Z"
    }
   },
   "source": [
    "amazon_df.plot()"
   ],
   "execution_count": 8,
   "outputs": [
    {
     "data": {
      "text/plain": "<AxesSubplot:xlabel='Quarter'>"
     },
     "execution_count": 8,
     "metadata": {},
     "output_type": "execute_result"
    },
    {
     "data": {
      "text/plain": "<Figure size 1000x800 with 1 Axes>",
      "image/png": "[encoded data removed]"
     },
     "metadata": {},
     "output_type": "display_data"
    }
   ]
  },
  {
   "cell_type": "code",
   "metadata": {
    "id": "jkSrGmUfGgFS",
    "colab_type": "code",
    "colab": {
     "base_uri": "https://localhost:8080/",
     "height": 542
    },
    "outputId": "58702d0e-cbb5-4a77-a62b-49964930b54c",
    "ExecuteTime": {
     "end_time": "2023-09-01T14:06:25.984645900Z",
     "start_time": "2023-09-01T14:06:25.891373400Z"
    }
   },
   "source": [
    "fig = px.line(df, x='Quarter', y='Revenue', title='Amazon Revenue Slider', template='ggplot2')\n",
    "\n",
    "fig.update_xaxes(\n",
    "    rangeslider_visible=True,\n",
    "    rangeselector=dict(\n",
    "        buttons=list([\n",
    "            dict(count=1, label=\"1y\", step=\"year\", stepmode=\"backward\"),\n",
    "            dict(count=2, label=\"3y\", step=\"year\", stepmode=\"backward\"),\n",
    "            dict(count=3, label=\"5y\", step=\"year\", stepmode=\"backward\"),\n",
    "            dict(step=\"all\")\n",
    "        ])\n",
    "    )\n",
    ")\n",
    "fig.show()"
   ],
   "execution_count": 17,
   "outputs": [
    {
     "data": {
      "application/vnd.plotly.v1+json": {
       "data": [
        {
         "hovertemplate": "Quarter=%{x}<br>Revenue=%{y}<extra></extra>",
         "legendgroup": "",
         "line": {
          "color": "#F8766D",
          "dash": "solid"
         },
         "marker": {
          "symbol": "circle"
         },
         "mode": "lines",
         "name": "",
         "orientation": "v",
         "showlegend": false,
         "x": [
          "2020-03-31T00:00:00",
          "2019-12-31T00:00:00",
          "2019-09-30T00:00:00",
          "2019-06-30T00:00:00",
          "2019-03-31T00:00:00",
          "2018-12-31T00:00:00",
          "2018-09-30T00:00:00",
          "2018-06-30T00:00:00",
          "2018-03-31T00:00:00",
          "2017-12-31T00:00:00",
          "2017-09-30T00:00:00",
          "2017-06-30T00:00:00",
          "2017-03-31T00:00:00",
          "2016-12-31T00:00:00",
          "2016-09-30T00:00:00",
          "2016-06-30T00:00:00",
          "2016-03-31T00:00:00",
          "2015-12-31T00:00:00",
          "2015-09-30T00:00:00",
          "2015-06-30T00:00:00",
          "2015-03-31T00:00:00",
          "2014-12-31T00:00:00",
          "2014-09-30T00:00:00",
          "2014-06-30T00:00:00",
          "2014-03-31T00:00:00",
          "2013-12-31T00:00:00",
          "2013-09-30T00:00:00",
          "2013-06-30T00:00:00",
          "2013-03-31T00:00:00",
          "2012-12-31T00:00:00",
          "2012-09-30T00:00:00",
          "2012-06-30T00:00:00",
          "2012-03-31T00:00:00",
          "2011-12-31T00:00:00",
          "2011-09-30T00:00:00",
          "2011-06-30T00:00:00",
          "2011-03-31T00:00:00",
          "2010-12-31T00:00:00",
          "2010-09-30T00:00:00",
          "2010-06-30T00:00:00",
          "2010-03-31T00:00:00",
          "2009-12-31T00:00:00",
          "2009-09-30T00:00:00",
          "2009-06-30T00:00:00",
          "2009-03-31T00:00:00",
          "2008-12-31T00:00:00",
          "2008-09-30T00:00:00",
          "2008-06-30T00:00:00",
          "2008-03-31T00:00:00",
          "2007-12-31T00:00:00",
          "2007-09-30T00:00:00",
          "2007-06-30T00:00:00",
          "2007-03-31T00:00:00",
          "2006-12-31T00:00:00",
          "2006-09-30T00:00:00",
          "2006-06-30T00:00:00",
          "2006-03-31T00:00:00",
          "2005-12-31T00:00:00",
          "2005-09-30T00:00:00",
          "2005-06-30T00:00:00",
          "2005-03-31T00:00:00"
         ],
         "xaxis": "x",
         "y": [
          75452,
          87437,
          69981,
          63404,
          59700,
          72383,
          56576,
          52886,
          51042,
          60453,
          43744,
          37955,
          35714,
          43741,
          32714,
          30404,
          29128,
          35746,
          25358,
          23185,
          22717,
          29328,
          20579,
          19340,
          19741,
          25586,
          17092,
          15704,
          16070,
          21268,
          13806,
          12834,
          13185,
          17431,
          10876,
          9913,
          9857,
          12947,
          7560,
          6566,
          7131,
          9520,
          5449,
          4651,
          4889,
          6704,
          4264,
          4063,
          4135,
          5672,
          3262,
          2886,
          3015,
          3986,
          2307,
          2139,
          2279,
          2977,
          1858,
          1753,
          1902
         ],
         "yaxis": "y",
         "type": "scatter"
        }
       ],
       "layout": {
        "template": {
         "data": {
          "barpolar": [
           {
            "marker": {
             "line": {
              "color": "rgb(237,237,237)",
              "width": 0.5
             },
             "pattern": {
              "fillmode": "overlay",
              "size": 10,
              "solidity": 0.2
             }
            },
            "type": "barpolar"
           }
          ],
          "bar": [
           {
            "error_x": {
             "color": "rgb(51,51,51)"
            },
            "error_y": {
             "color": "rgb(51,51,51)"
            },
            "marker": {
             "line": {
              "color": "rgb(237,237,237)",
              "width": 0.5
             },
             "pattern": {
              "fillmode": "overlay",
              "size": 10,
              "solidity": 0.2
             }
            },
            "type": "bar"
           }
          ],
          "carpet": [
           {
            "aaxis": {
             "endlinecolor": "rgb(51,51,51)",
             "gridcolor": "white",
             "linecolor": "white",
             "minorgridcolor": "white",
             "startlinecolor": "rgb(51,51,51)"
            },
            "baxis": {
             "endlinecolor": "rgb(51,51,51)",
             "gridcolor": "white",
             "linecolor": "white",
             "minorgridcolor": "white",
             "startlinecolor": "rgb(51,51,51)"
            },
            "type": "carpet"
           }
          ],
          "choropleth": [
           {
            "colorbar": {
             "outlinewidth": 0,
             "tickcolor": "rgb(237,237,237)",
             "ticklen": 6,
             "ticks": "inside"
            },
            "type": "choropleth"
           }
          ],
          "contourcarpet": [
           {
            "colorbar": {
             "outlinewidth": 0,
             "tickcolor": "rgb(237,237,237)",
             "ticklen": 6,
             "ticks": "inside"
            },
            "type": "contourcarpet"
           }
          ],
          "contour": [
           {
            "colorbar": {
             "outlinewidth": 0,
             "tickcolor": "rgb(237,237,237)",
             "ticklen": 6,
             "ticks": "inside"
            },
            "colorscale": [
             [
              0,
              "rgb(20,44,66)"
             ],
             [
              1,
              "rgb(90,179,244)"
             ]
            ],
            "type": "contour"
           }
          ],
          "heatmapgl": [
           {
            "colorbar": {
             "outlinewidth": 0,
             "tickcolor": "rgb(237,237,237)",
             "ticklen": 6,
             "ticks": "inside"
            },
            "colorscale": [
             [
              0,
              "rgb(20,44,66)"
             ],
             [
              1,
              "rgb(90,179,244)"
             ]
            ],
            "type": "heatmapgl"
           }
          ],
          "heatmap": [
           {
            "colorbar": {
             "outlinewidth": 0,
             "tickcolor": "rgb(237,237,237)",
             "ticklen": 6,
             "ticks": "inside"
            },
            "colorscale": [
             [
              0,
              "rgb(20,44,66)"
             ],
             [
              1,
              "rgb(90,179,244)"
             ]
            ],
            "type": "heatmap"
           }
          ],
          "histogram2dcontour": [
           {
            "colorbar": {
             "outlinewidth": 0,
             "tickcolor": "rgb(237,237,237)",
             "ticklen": 6,
             "ticks": "inside"
            },
            "colorscale": [
             [
              0,
              "rgb(20,44,66)"
             ],
             [
              1,
              "rgb(90,179,244)"
             ]
            ],
            "type": "histogram2dcontour"
           }
          ],
          "histogram2d": [
           {
            "colorbar": {
             "outlinewidth": 0,
             "tickcolor": "rgb(237,237,237)",
             "ticklen": 6,
             "ticks": "inside"
            },
            "colorscale": [
             [
              0,
              "rgb(20,44,66)"
             ],
             [
              1,
              "rgb(90,179,244)"
             ]
            ],
            "type": "histogram2d"
           }
          ],
          "histogram": [
           {
            "marker": {
             "pattern": {
              "fillmode": "overlay",
              "size": 10,
              "solidity": 0.2
             }
            },
            "type": "histogram"
           }
          ],
          "mesh3d": [
           {
            "colorbar": {
             "outlinewidth": 0,
             "tickcolor": "rgb(237,237,237)",
             "ticklen": 6,
             "ticks": "inside"
            },
            "type": "mesh3d"
           }
          ],
          "parcoords": [
           {
            "line": {
             "colorbar": {
              "outlinewidth": 0,
              "tickcolor": "rgb(237,237,237)",
              "ticklen": 6,
              "ticks": "inside"
             }
            },
            "type": "parcoords"
           }
          ],
          "pie": [
           {
            "automargin": true,
            "type": "pie"
           }
          ],
          "scatter3d": [
           {
            "line": {
             "colorbar": {
              "outlinewidth": 0,
              "tickcolor": "rgb(237,237,237)",
              "ticklen": 6,
              "ticks": "inside"
             }
            },
            "marker": {
             "colorbar": {
              "outlinewidth": 0,
              "tickcolor": "rgb(237,237,237)",
              "ticklen": 6,
              "ticks": "inside"
             }
            },
            "type": "scatter3d"
           }
          ],
          "scattercarpet": [
           {
            "marker": {
             "colorbar": {
              "outlinewidth": 0,
              "tickcolor": "rgb(237,237,237)",
              "ticklen": 6,
              "ticks": "inside"
             }
            },
            "type": "scattercarpet"
           }
          ],
          "scattergeo": [
           {
            "marker": {
             "colorbar": {
              "outlinewidth": 0,
              "tickcolor": "rgb(237,237,237)",
              "ticklen": 6,
              "ticks": "inside"
             }
            },
            "type": "scattergeo"
           }
          ],
          "scattergl": [
           {
            "marker": {
             "colorbar": {
              "outlinewidth": 0,
              "tickcolor": "rgb(237,237,237)",
              "ticklen": 6,
              "ticks": "inside"
             }
            },
            "type": "scattergl"
           }
          ],
          "scattermapbox": [
           {
            "marker": {
             "colorbar": {
              "outlinewidth": 0,
              "tickcolor": "rgb(237,237,237)",
              "ticklen": 6,
              "ticks": "inside"
             }
            },
            "type": "scattermapbox"
           }
          ],
          "scatterpolargl": [
           {
            "marker": {
             "colorbar": {
              "outlinewidth": 0,
              "tickcolor": "rgb(237,237,237)",
              "ticklen": 6,
              "ticks": "inside"
             }
            },
            "type": "scatterpolargl"
           }
          ],
          "scatterpolar": [
           {
            "marker": {
             "colorbar": {
              "outlinewidth": 0,
              "tickcolor": "rgb(237,237,237)",
              "ticklen": 6,
              "ticks": "inside"
             }
            },
            "type": "scatterpolar"
           }
          ],
          "scatter": [
           {
            "fillpattern": {
             "fillmode": "overlay",
             "size": 10,
             "solidity": 0.2
            },
            "type": "scatter"
           }
          ],
          "scatterternary": [
           {
            "marker": {
             "colorbar": {
              "outlinewidth": 0,
              "tickcolor": "rgb(237,237,237)",
              "ticklen": 6,
              "ticks": "inside"
             }
            },
            "type": "scatterternary"
           }
          ],
          "surface": [
           {
            "colorbar": {
             "outlinewidth": 0,
             "tickcolor": "rgb(237,237,237)",
             "ticklen": 6,
             "ticks": "inside"
            },
            "colorscale": [
             [
              0,
              "rgb(20,44,66)"
             ],
             [
              1,
              "rgb(90,179,244)"
             ]
            ],
            "type": "surface"
           }
          ],
          "table": [
           {
            "cells": {
             "fill": {
              "color": "rgb(237,237,237)"
             },
             "line": {
              "color": "white"
             }
            },
            "header": {
             "fill": {
              "color": "rgb(217,217,217)"
             },
             "line": {
              "color": "white"
             }
            },
            "type": "table"
           }
          ]
         },
         "layout": {
          "annotationdefaults": {
           "arrowhead": 0,
           "arrowwidth": 1
          },
          "autotypenumbers": "strict",
          "coloraxis": {
           "colorbar": {
            "outlinewidth": 0,
            "tickcolor": "rgb(237,237,237)",
            "ticklen": 6,
            "ticks": "inside"
           }
          },
          "colorscale": {
           "sequential": [
            [
             0,
             "rgb(20,44,66)"
            ],
            [
             1,
             "rgb(90,179,244)"
            ]
           ],
           "sequentialminus": [
            [
             0,
             "rgb(20,44,66)"
            ],
            [
             1,
             "rgb(90,179,244)"
            ]
           ]
          },
          "colorway": [
           "#F8766D",
           "#A3A500",
           "#00BF7D",
           "#00B0F6",
           "#E76BF3"
          ],
          "font": {
           "color": "rgb(51,51,51)"
          },
          "geo": {
           "bgcolor": "white",
           "lakecolor": "white",
           "landcolor": "rgb(237,237,237)",
           "showlakes": true,
           "showland": true,
           "subunitcolor": "white"
          },
          "hoverlabel": {
           "align": "left"
          },
          "hovermode": "closest",
          "paper_bgcolor": "white",
          "plot_bgcolor": "rgb(237,237,237)",
          "polar": {
           "angularaxis": {
            "gridcolor": "white",
            "linecolor": "white",
            "showgrid": true,
            "tickcolor": "rgb(51,51,51)",
            "ticks": "outside"
           },
           "bgcolor": "rgb(237,237,237)",
           "radialaxis": {
            "gridcolor": "white",
            "linecolor": "white",
            "showgrid": true,
            "tickcolor": "rgb(51,51,51)",
            "ticks": "outside"
           }
          },
          "scene": {
           "xaxis": {
            "backgroundcolor": "rgb(237,237,237)",
            "gridcolor": "white",
            "gridwidth": 2,
            "linecolor": "white",
            "showbackground": true,
            "showgrid": true,
            "tickcolor": "rgb(51,51,51)",
            "ticks": "outside",
            "zerolinecolor": "white"
           },
           "yaxis": {
            "backgroundcolor": "rgb(237,237,237)",
            "gridcolor": "white",
            "gridwidth": 2,
            "linecolor": "white",
            "showbackground": true,
            "showgrid": true,
            "tickcolor": "rgb(51,51,51)",
            "ticks": "outside",
            "zerolinecolor": "white"
           },
           "zaxis": {
            "backgroundcolor": "rgb(237,237,237)",
            "gridcolor": "white",
            "gridwidth": 2,
            "linecolor": "white",
            "showbackground": true,
            "showgrid": true,
            "tickcolor": "rgb(51,51,51)",
            "ticks": "outside",
            "zerolinecolor": "white"
           }
          },
          "shapedefaults": {
           "fillcolor": "black",
           "line": {
            "width": 0
           },
           "opacity": 0.3
          },
          "ternary": {
           "aaxis": {
            "gridcolor": "white",
            "linecolor": "white",
            "showgrid": true,
            "tickcolor": "rgb(51,51,51)",
            "ticks": "outside"
           },
           "baxis": {
            "gridcolor": "white",
            "linecolor": "white",
            "showgrid": true,
            "tickcolor": "rgb(51,51,51)",
            "ticks": "outside"
           },
           "bgcolor": "rgb(237,237,237)",
           "caxis": {
            "gridcolor": "white",
            "linecolor": "white",
            "showgrid": true,
            "tickcolor": "rgb(51,51,51)",
            "ticks": "outside"
           }
          },
          "xaxis": {
           "automargin": true,
           "gridcolor": "white",
           "linecolor": "white",
           "showgrid": true,
           "tickcolor": "rgb(51,51,51)",
           "ticks": "outside",
           "title": {
            "standoff": 15
           },
           "zerolinecolor": "white"
          },
          "yaxis": {
           "automargin": true,
           "gridcolor": "white",
           "linecolor": "white",
           "showgrid": true,
           "tickcolor": "rgb(51,51,51)",
           "ticks": "outside",
           "title": {
            "standoff": 15
           },
           "zerolinecolor": "white"
          }
         }
        },
        "xaxis": {
         "anchor": "y",
         "domain": [
          0.0,
          1.0
         ],
         "title": {
          "text": "Quarter"
         },
         "rangeslider": {
          "visible": true
         },
         "rangeselector": {
          "buttons": [
           {
            "count": 1,
            "label": "1y",
            "step": "year",
            "stepmode": "backward"
           },
           {
            "count": 2,
            "label": "3y",
            "step": "year",
            "stepmode": "backward"
           },
           {
            "count": 3,
            "label": "5y",
            "step": "year",
            "stepmode": "backward"
           },
           {
            "step": "all"
           }
          ]
         }
        },
        "yaxis": {
         "anchor": "x",
         "domain": [
          0.0,
          1.0
         ],
         "title": {
          "text": "Revenue"
         }
        },
        "legend": {
         "tracegroupgap": 0
        },
        "title": {
         "text": "Amazon Revenue Slider"
        }
       },
       "config": {
        "plotlyServerURL": "https://plot.ly"
       }
      },
      "text/html": "<div>                            <div id=\"b01240af-20e7-4b37-b2a8-6a213f2a1f38\" class=\"plotly-graph-div\" style=\"height:525px; width:100%;\"></div>            <script type=\"text/javascript\">                require([\"plotly\"], function(Plotly) {                    window.PLOTLYENV=window.PLOTLYENV || {};                                    if (document.getElementById(\"b01240af-20e7-4b37-b2a8-6a213f2a1f38\")) {                    Plotly.newPlot(                        \"b01240af-20e7-4b37-b2a8-6a213f2a1f38\",                        [{\"hovertemplate\":\"Quarter=%{x}\\u003cbr\\u003eRevenue=%{y}\\u003cextra\\u003e\\u003c\\u002fextra\\u003e\",\"legendgroup\":\"\",\"line\":{\"color\":\"#F8766D\",\"dash\":\"solid\"},\"marker\":{\"symbol\":\"circle\"},\"mode\":\"lines\",\"name\":\"\",\"orientation\":\"v\",\"showlegend\":false,\"x\":[\"2020-03-31T00:00:00\",\"2019-12-31T00:00:00\",\"2019-09-30T00:00:00\",\"2019-06-30T00:00:00\",\"2019-03-31T00:00:00\",\"2018-12-31T00:00:00\",\"2018-09-30T00:00:00\",\"2018-06-30T00:00:00\",\"2018-03-31T00:00:00\",\"2017-12-31T00:00:00\",\"2017-09-30T00:00:00\",\"2017-06-30T00:00:00\",\"2017-03-31T00:00:00\",\"2016-12-31T00:00:00\",\"2016-09-30T00:00:00\",\"2016-06-30T00:00:00\",\"2016-03-31T00:00:00\",\"2015-12-31T00:00:00\",\"2015-09-30T00:00:00\",\"2015-06-30T00:00:00\",\"2015-03-31T00:00:00\",\"2014-12-31T00:00:00\",\"2014-09-30T00:00:00\",\"2014-06-30T00:00:00\",\"2014-03-31T00:00:00\",\"2013-12-31T00:00:00\",\"2013-09-30T00:00:00\",\"2013-06-30T00:00:00\",\"2013-03-31T00:00:00\",\"2012-12-31T00:00:00\",\"2012-09-30T00:00:00\",\"2012-06-30T00:00:00\",\"2012-03-31T00:00:00\",\"2011-12-31T00:00:00\",\"2011-09-30T00:00:00\",\"2011-06-30T00:00:00\",\"2011-03-31T00:00:00\",\"2010-12-31T00:00:00\",\"2010-09-30T00:00:00\",\"2010-06-30T00:00:00\",\"2010-03-31T00:00:00\",\"2009-12-31T00:00:00\",\"2009-09-30T00:00:00\",\"2009-06-30T00:00:00\",\"2009-03-31T00:00:00\",\"2008-12-31T00:00:00\",\"2008-09-30T00:00:00\",\"2008-06-30T00:00:00\",\"2008-03-31T00:00:00\",\"2007-12-31T00:00:00\",\"2007-09-30T00:00:00\",\"2007-06-30T00:00:00\",\"2007-03-31T00:00:00\",\"2006-12-31T00:00:00\",\"2006-09-30T00:00:00\",\"2006-06-30T00:00:00\",\"2006-03-31T00:00:00\",\"2005-12-31T00:00:00\",\"2005-09-30T00:00:00\",\"2005-06-30T00:00:00\",\"2005-03-31T00:00:00\"],\"xaxis\":\"x\",\"y\":[75452,87437,69981,63404,59700,72383,56576,52886,51042,60453,43744,37955,35714,43741,32714,30404,29128,35746,25358,23185,22717,29328,20579,19340,19741,25586,17092,15704,16070,21268,13806,12834,13185,17431,10876,9913,9857,12947,7560,6566,7131,9520,5449,4651,4889,6704,4264,4063,4135,5672,3262,2886,3015,3986,2307,2139,2279,2977,1858,1753,1902],\"yaxis\":\"y\",\"type\":\"scatter\"}],                        {\"template\":{\"data\":{\"barpolar\":[{\"marker\":{\"line\":{\"color\":\"rgb(237,237,237)\",\"width\":0.5},\"pattern\":{\"fillmode\":\"overlay\",\"size\":10,\"solidity\":0.2}},\"type\":\"barpolar\"}],\"bar\":[{\"error_x\":{\"color\":\"rgb(51,51,51)\"},\"error_y\":{\"color\":\"rgb(51,51,51)\"},\"marker\":{\"line\":{\"color\":\"rgb(237,237,237)\",\"width\":0.5},\"pattern\":{\"fillmode\":\"overlay\",\"size\":10,\"solidity\":0.2}},\"type\":\"bar\"}],\"carpet\":[{\"aaxis\":{\"endlinecolor\":\"rgb(51,51,51)\",\"gridcolor\":\"white\",\"linecolor\":\"white\",\"minorgridcolor\":\"white\",\"startlinecolor\":\"rgb(51,51,51)\"},\"baxis\":{\"endlinecolor\":\"rgb(51,51,51)\",\"gridcolor\":\"white\",\"linecolor\":\"white\",\"minorgridcolor\":\"white\",\"startlinecolor\":\"rgb(51,51,51)\"},\"type\":\"carpet\"}],\"choropleth\":[{\"colorbar\":{\"outlinewidth\":0,\"tickcolor\":\"rgb(237,237,237)\",\"ticklen\":6,\"ticks\":\"inside\"},\"type\":\"choropleth\"}],\"contourcarpet\":[{\"colorbar\":{\"outlinewidth\":0,\"tickcolor\":\"rgb(237,237,237)\",\"ticklen\":6,\"ticks\":\"inside\"},\"type\":\"contourcarpet\"}],\"contour\":[{\"colorbar\":{\"outlinewidth\":0,\"tickcolor\":\"rgb(237,237,237)\",\"ticklen\":6,\"ticks\":\"inside\"},\"colorscale\":[[0,\"rgb(20,44,66)\"],[1,\"rgb(90,179,244)\"]],\"type\":\"contour\"}],\"heatmapgl\":[{\"colorbar\":{\"outlinewidth\":0,\"tickcolor\":\"rgb(237,237,237)\",\"ticklen\":6,\"ticks\":\"inside\"},\"colorscale\":[[0,\"rgb(20,44,66)\"],[1,\"rgb(90,179,244)\"]],\"type\":\"heatmapgl\"}],\"heatmap\":[{\"colorbar\":{\"outlinewidth\":0,\"tickcolor\":\"rgb(237,237,237)\",\"ticklen\":6,\"ticks\":\"inside\"},\"colorscale\":[[0,\"rgb(20,44,66)\"],[1,\"rgb(90,179,244)\"]],\"type\":\"heatmap\"}],\"histogram2dcontour\":[{\"colorbar\":{\"outlinewidth\":0,\"tickcolor\":\"rgb(237,237,237)\",\"ticklen\":6,\"ticks\":\"inside\"},\"colorscale\":[[0,\"rgb(20,44,66)\"],[1,\"rgb(90,179,244)\"]],\"type\":\"histogram2dcontour\"}],\"histogram2d\":[{\"colorbar\":{\"outlinewidth\":0,\"tickcolor\":\"rgb(237,237,237)\",\"ticklen\":6,\"ticks\":\"inside\"},\"colorscale\":[[0,\"rgb(20,44,66)\"],[1,\"rgb(90,179,244)\"]],\"type\":\"histogram2d\"}],\"histogram\":[{\"marker\":{\"pattern\":{\"fillmode\":\"overlay\",\"size\":10,\"solidity\":0.2}},\"type\":\"histogram\"}],\"mesh3d\":[{\"colorbar\":{\"outlinewidth\":0,\"tickcolor\":\"rgb(237,237,237)\",\"ticklen\":6,\"ticks\":\"inside\"},\"type\":\"mesh3d\"}],\"parcoords\":[{\"line\":{\"colorbar\":{\"outlinewidth\":0,\"tickcolor\":\"rgb(237,237,237)\",\"ticklen\":6,\"ticks\":\"inside\"}},\"type\":\"parcoords\"}],\"pie\":[{\"automargin\":true,\"type\":\"pie\"}],\"scatter3d\":[{\"line\":{\"colorbar\":{\"outlinewidth\":0,\"tickcolor\":\"rgb(237,237,237)\",\"ticklen\":6,\"ticks\":\"inside\"}},\"marker\":{\"colorbar\":{\"outlinewidth\":0,\"tickcolor\":\"rgb(237,237,237)\",\"ticklen\":6,\"ticks\":\"inside\"}},\"type\":\"scatter3d\"}],\"scattercarpet\":[{\"marker\":{\"colorbar\":{\"outlinewidth\":0,\"tickcolor\":\"rgb(237,237,237)\",\"ticklen\":6,\"ticks\":\"inside\"}},\"type\":\"scattercarpet\"}],\"scattergeo\":[{\"marker\":{\"colorbar\":{\"outlinewidth\":0,\"tickcolor\":\"rgb(237,237,237)\",\"ticklen\":6,\"ticks\":\"inside\"}},\"type\":\"scattergeo\"}],\"scattergl\":[{\"marker\":{\"colorbar\":{\"outlinewidth\":0,\"tickcolor\":\"rgb(237,237,237)\",\"ticklen\":6,\"ticks\":\"inside\"}},\"type\":\"scattergl\"}],\"scattermapbox\":[{\"marker\":{\"colorbar\":{\"outlinewidth\":0,\"tickcolor\":\"rgb(237,237,237)\",\"ticklen\":6,\"ticks\":\"inside\"}},\"type\":\"scattermapbox\"}],\"scatterpolargl\":[{\"marker\":{\"colorbar\":{\"outlinewidth\":0,\"tickcolor\":\"rgb(237,237,237)\",\"ticklen\":6,\"ticks\":\"inside\"}},\"type\":\"scatterpolargl\"}],\"scatterpolar\":[{\"marker\":{\"colorbar\":{\"outlinewidth\":0,\"tickcolor\":\"rgb(237,237,237)\",\"ticklen\":6,\"ticks\":\"inside\"}},\"type\":\"scatterpolar\"}],\"scatter\":[{\"fillpattern\":{\"fillmode\":\"overlay\",\"size\":10,\"solidity\":0.2},\"type\":\"scatter\"}],\"scatterternary\":[{\"marker\":{\"colorbar\":{\"outlinewidth\":0,\"tickcolor\":\"rgb(237,237,237)\",\"ticklen\":6,\"ticks\":\"inside\"}},\"type\":\"scatterternary\"}],\"surface\":[{\"colorbar\":{\"outlinewidth\":0,\"tickcolor\":\"rgb(237,237,237)\",\"ticklen\":6,\"ticks\":\"inside\"},\"colorscale\":[[0,\"rgb(20,44,66)\"],[1,\"rgb(90,179,244)\"]],\"type\":\"surface\"}],\"table\":[{\"cells\":{\"fill\":{\"color\":\"rgb(237,237,237)\"},\"line\":{\"color\":\"white\"}},\"header\":{\"fill\":{\"color\":\"rgb(217,217,217)\"},\"line\":{\"color\":\"white\"}},\"type\":\"table\"}]},\"layout\":{\"annotationdefaults\":{\"arrowhead\":0,\"arrowwidth\":1},\"autotypenumbers\":\"strict\",\"coloraxis\":{\"colorbar\":{\"outlinewidth\":0,\"tickcolor\":\"rgb(237,237,237)\",\"ticklen\":6,\"ticks\":\"inside\"}},\"colorscale\":{\"sequential\":[[0,\"rgb(20,44,66)\"],[1,\"rgb(90,179,244)\"]],\"sequentialminus\":[[0,\"rgb(20,44,66)\"],[1,\"rgb(90,179,244)\"]]},\"colorway\":[\"#F8766D\",\"#A3A500\",\"#00BF7D\",\"#00B0F6\",\"#E76BF3\"],\"font\":{\"color\":\"rgb(51,51,51)\"},\"geo\":{\"bgcolor\":\"white\",\"lakecolor\":\"white\",\"landcolor\":\"rgb(237,237,237)\",\"showlakes\":true,\"showland\":true,\"subunitcolor\":\"white\"},\"hoverlabel\":{\"align\":\"left\"},\"hovermode\":\"closest\",\"paper_bgcolor\":\"white\",\"plot_bgcolor\":\"rgb(237,237,237)\",\"polar\":{\"angularaxis\":{\"gridcolor\":\"white\",\"linecolor\":\"white\",\"showgrid\":true,\"tickcolor\":\"rgb(51,51,51)\",\"ticks\":\"outside\"},\"bgcolor\":\"rgb(237,237,237)\",\"radialaxis\":{\"gridcolor\":\"white\",\"linecolor\":\"white\",\"showgrid\":true,\"tickcolor\":\"rgb(51,51,51)\",\"ticks\":\"outside\"}},\"scene\":{\"xaxis\":{\"backgroundcolor\":\"rgb(237,237,237)\",\"gridcolor\":\"white\",\"gridwidth\":2,\"linecolor\":\"white\",\"showbackground\":true,\"showgrid\":true,\"tickcolor\":\"rgb(51,51,51)\",\"ticks\":\"outside\",\"zerolinecolor\":\"white\"},\"yaxis\":{\"backgroundcolor\":\"rgb(237,237,237)\",\"gridcolor\":\"white\",\"gridwidth\":2,\"linecolor\":\"white\",\"showbackground\":true,\"showgrid\":true,\"tickcolor\":\"rgb(51,51,51)\",\"ticks\":\"outside\",\"zerolinecolor\":\"white\"},\"zaxis\":{\"backgroundcolor\":\"rgb(237,237,237)\",\"gridcolor\":\"white\",\"gridwidth\":2,\"linecolor\":\"white\",\"showbackground\":true,\"showgrid\":true,\"tickcolor\":\"rgb(51,51,51)\",\"ticks\":\"outside\",\"zerolinecolor\":\"white\"}},\"shapedefaults\":{\"fillcolor\":\"black\",\"line\":{\"width\":0},\"opacity\":0.3},\"ternary\":{\"aaxis\":{\"gridcolor\":\"white\",\"linecolor\":\"white\",\"showgrid\":true,\"tickcolor\":\"rgb(51,51,51)\",\"ticks\":\"outside\"},\"baxis\":{\"gridcolor\":\"white\",\"linecolor\":\"white\",\"showgrid\":true,\"tickcolor\":\"rgb(51,51,51)\",\"ticks\":\"outside\"},\"bgcolor\":\"rgb(237,237,237)\",\"caxis\":{\"gridcolor\":\"white\",\"linecolor\":\"white\",\"showgrid\":true,\"tickcolor\":\"rgb(51,51,51)\",\"ticks\":\"outside\"}},\"xaxis\":{\"automargin\":true,\"gridcolor\":\"white\",\"linecolor\":\"white\",\"showgrid\":true,\"tickcolor\":\"rgb(51,51,51)\",\"ticks\":\"outside\",\"title\":{\"standoff\":15},\"zerolinecolor\":\"white\"},\"yaxis\":{\"automargin\":true,\"gridcolor\":\"white\",\"linecolor\":\"white\",\"showgrid\":true,\"tickcolor\":\"rgb(51,51,51)\",\"ticks\":\"outside\",\"title\":{\"standoff\":15},\"zerolinecolor\":\"white\"}}},\"xaxis\":{\"anchor\":\"y\",\"domain\":[0.0,1.0],\"title\":{\"text\":\"Quarter\"},\"rangeslider\":{\"visible\":true},\"rangeselector\":{\"buttons\":[{\"count\":1,\"label\":\"1y\",\"step\":\"year\",\"stepmode\":\"backward\"},{\"count\":2,\"label\":\"3y\",\"step\":\"year\",\"stepmode\":\"backward\"},{\"count\":3,\"label\":\"5y\",\"step\":\"year\",\"stepmode\":\"backward\"},{\"step\":\"all\"}]}},\"yaxis\":{\"anchor\":\"x\",\"domain\":[0.0,1.0],\"title\":{\"text\":\"Revenue\"}},\"legend\":{\"tracegroupgap\":0},\"title\":{\"text\":\"Amazon Revenue Slider\"}},                        {\"responsive\": true}                    ).then(function(){\n                            \nvar gd = document.getElementById('b01240af-20e7-4b37-b2a8-6a213f2a1f38');\nvar x = new MutationObserver(function (mutations, observer) {{\n        var display = window.getComputedStyle(gd).display;\n        if (!display || display === 'none') {{\n            console.log([gd, 'removed!']);\n            Plotly.purge(gd);\n            observer.disconnect();\n        }}\n}});\n\n// Listen for the removal of the full notebook cells\nvar notebookContainer = gd.closest('#notebook-container');\nif (notebookContainer) {{\n    x.observe(notebookContainer, {childList: true});\n}}\n\n// Listen for the clearing of the current output cell\nvar outputEl = gd.closest('.output');\nif (outputEl) {{\n    x.observe(outputEl, {childList: true});\n}}\n\n                        })                };                });            </script>        </div>"
     },
     "metadata": {},
     "output_type": "display_data"
    }
   ]
  },
  {
   "cell_type": "markdown",
   "metadata": {
    "id": "-zefz_bYFH7w",
    "colab_type": "text"
   },
   "source": [
    "Null hypothesis - data is stationary\n",
    "\n",
    "Alternate hypothesis - data is not stationary"
   ]
  },
  {
   "cell_type": "code",
   "metadata": {
    "id": "sFj88b1w7COe",
    "colab_type": "code",
    "colab": {},
    "ExecuteTime": {
     "end_time": "2023-09-01T13:50:35.504798400Z",
     "start_time": "2023-09-01T13:50:35.449639800Z"
    }
   },
   "source": [
    "from statsmodels.tsa.stattools import kpss"
   ],
   "execution_count": 10,
   "outputs": []
  },
  {
   "cell_type": "code",
   "metadata": {
    "id": "JYga3cH17CIf",
    "colab_type": "code",
    "colab": {
     "base_uri": "https://localhost:8080/",
     "height": 110
    },
    "outputId": "4b0ffa25-3909-4ef1-c61d-9a34abeeb523",
    "ExecuteTime": {
     "end_time": "2023-09-01T13:50:36.188887200Z",
     "start_time": "2023-09-01T13:50:36.111001500Z"
    }
   },
   "source": [
    "tstest = kpss(amazon_df['Revenue'], 'ct')"
   ],
   "execution_count": 11,
   "outputs": [
    {
     "name": "stderr",
     "output_type": "stream",
     "text": [
      "C:\\Users\\edwin\\AppData\\Local\\Temp\\ipykernel_56828\\67782937.py:1: InterpolationWarning:\n",
      "\n",
      "The test statistic is outside of the range of p-values available in the\n",
      "look-up table. The actual p-value is smaller than the p-value returned.\n",
      "\n",
      "\n"
     ]
    }
   ]
  },
  {
   "cell_type": "code",
   "metadata": {
    "id": "VkNGL3fH7B-j",
    "colab_type": "code",
    "colab": {
     "base_uri": "https://localhost:8080/",
     "height": 90
    },
    "outputId": "1eb0c996-e2fc-4f7d-f91b-4d6d9aaaafd2",
    "ExecuteTime": {
     "end_time": "2023-09-01T13:50:39.068066800Z",
     "start_time": "2023-09-01T13:50:39.015177400Z"
    }
   },
   "source": [
    "tstest"
   ],
   "execution_count": 12,
   "outputs": [
    {
     "data": {
      "text/plain": "(0.3066554597516962,\n 0.01,\n 4,\n {'10%': 0.119, '5%': 0.146, '2.5%': 0.176, '1%': 0.216})"
     },
     "execution_count": 12,
     "metadata": {},
     "output_type": "execute_result"
    }
   ]
  },
  {
   "cell_type": "markdown",
   "metadata": {
    "id": "NJQ8LlnVl8-r",
    "colab_type": "text"
   },
   "source": [
    "Additive - ![alt text](https://wikimedia.org/api/rest_v1/media/math/render/svg/ec813268e453864276769e12a207c653f0ef67e6)\n",
    "\n",
    "Multiplicative - ![alt text](https://wikimedia.org/api/rest_v1/media/math/render/svg/b3849db82617c2bd2cfe3dc5302496e6468020b9)"
   ]
  },
  {
   "cell_type": "code",
   "metadata": {
    "id": "mnH16NbmGgDE",
    "colab_type": "code",
    "colab": {
     "base_uri": "https://localhost:8080/",
     "height": 585
    },
    "outputId": "b0815d28-bb99-4b64-87a6-dc01ab0028b2",
    "ExecuteTime": {
     "end_time": "2023-09-01T14:06:19.504991Z",
     "start_time": "2023-09-01T14:06:18.861282400Z"
    }
   },
   "source": [
    "import statsmodels.api as sm\n",
    "res = sm.tsa.seasonal_decompose(amazon_df['Revenue'],\n",
    "                                model='multiplicative')\n",
    "\n",
    "resplot = res.plot()"
   ],
   "execution_count": 16,
   "outputs": [
    {
     "data": {
      "text/plain": "<Figure size 1000x800 with 4 Axes>",
      "image/png": "[encoded data removed]"
     },
     "metadata": {},
     "output_type": "display_data"
    }
   ]
  },
  {
   "cell_type": "code",
   "metadata": {
    "id": "8C5rsEGvGf7S",
    "colab_type": "code",
    "colab": {
     "base_uri": "https://localhost:8080/",
     "height": 407
    },
    "outputId": "217ef2f4-2a11-48d0-f698-e61f4ccfaf1d",
    "ExecuteTime": {
     "end_time": "2023-09-01T14:06:43.463851700Z",
     "start_time": "2023-09-01T14:06:43.243676600Z"
    }
   },
   "source": [
    "plt.figure(figsize=(22,7))\n",
    "res.trend.plot()"
   ],
   "execution_count": 18,
   "outputs": [
    {
     "data": {
      "text/plain": "<AxesSubplot:xlabel='Quarter'>"
     },
     "execution_count": 18,
     "metadata": {},
     "output_type": "execute_result"
    },
    {
     "data": {
      "text/plain": "<Figure size 2200x700 with 1 Axes>",
      "image/png": "[encoded data removed]"
     },
     "metadata": {},
     "output_type": "display_data"
    }
   ]
  },
  {
   "cell_type": "code",
   "metadata": {
    "id": "bK4qpB5tf42W",
    "colab_type": "code",
    "colab": {
     "base_uri": "https://localhost:8080/",
     "height": 254
    },
    "outputId": "8149d8d1-e7ca-4776-c721-e4341bc70558",
    "ExecuteTime": {
     "end_time": "2023-09-01T14:07:08.684720300Z",
     "start_time": "2023-09-01T14:07:08.656889200Z"
    }
   },
   "source": [
    "res.observed"
   ],
   "execution_count": 19,
   "outputs": [
    {
     "data": {
      "text/plain": "Quarter\n2020-03-31    75452.0\n2019-12-31    87437.0\n2019-09-30    69981.0\n2019-06-30    63404.0\n2019-03-31    59700.0\n               ...   \n2006-03-31     2279.0\n2005-12-31     2977.0\n2005-09-30     1858.0\n2005-06-30     1753.0\n2005-03-31     1902.0\nName: Revenue, Length: 61, dtype: float64"
     },
     "execution_count": 19,
     "metadata": {},
     "output_type": "execute_result"
    }
   ]
  },
  {
   "cell_type": "code",
   "metadata": {
    "id": "HM6ykxDggKoR",
    "colab_type": "code",
    "colab": {
     "base_uri": "https://localhost:8080/",
     "height": 254
    },
    "outputId": "badf66d8-486b-4322-906d-23596e08f861",
    "ExecuteTime": {
     "end_time": "2023-09-01T14:07:09.720276200Z",
     "start_time": "2023-09-01T14:07:09.697580500Z"
    }
   },
   "source": [
    "print(res.trend)"
   ],
   "execution_count": 20,
   "outputs": [
    {
     "name": "stdout",
     "output_type": "stream",
     "text": [
      "Quarter\n",
      "2020-03-31          NaN\n",
      "2019-12-31          NaN\n",
      "2019-09-30    72099.500\n",
      "2019-06-30    68248.750\n",
      "2019-03-31    64691.375\n",
      "                ...    \n",
      "2006-03-31     2369.375\n",
      "2005-12-31     2265.000\n",
      "2005-09-30     2169.625\n",
      "2005-06-30          NaN\n",
      "2005-03-31          NaN\n",
      "Name: trend, Length: 61, dtype: float64\n"
     ]
    }
   ]
  },
  {
   "cell_type": "code",
   "metadata": {
    "id": "258ydKSrGf42",
    "colab_type": "code",
    "colab": {
     "base_uri": "https://localhost:8080/",
     "height": 254
    },
    "outputId": "24f05004-a179-4432-8333-54d9df526fd8",
    "ExecuteTime": {
     "end_time": "2023-09-01T14:07:13.106291600Z",
     "start_time": "2023-09-01T14:07:13.080755100Z"
    }
   },
   "source": [
    "print(res.seasonal)"
   ],
   "execution_count": 21,
   "outputs": [
    {
     "name": "stdout",
     "output_type": "stream",
     "text": [
      "Quarter\n",
      "2020-03-31    0.941840\n",
      "2019-12-31    1.289518\n",
      "2019-09-30    0.894993\n",
      "2019-06-30    0.873649\n",
      "2019-03-31    0.941840\n",
      "                ...   \n",
      "2006-03-31    0.941840\n",
      "2005-12-31    1.289518\n",
      "2005-09-30    0.894993\n",
      "2005-06-30    0.873649\n",
      "2005-03-31    0.941840\n",
      "Name: seasonal, Length: 61, dtype: float64\n"
     ]
    }
   ]
  },
  {
   "cell_type": "code",
   "metadata": {
    "id": "hke7g2lCGf08",
    "colab_type": "code",
    "colab": {
     "base_uri": "https://localhost:8080/",
     "height": 254
    },
    "outputId": "29c57ae8-d306-4d41-d765-422ebe958733",
    "ExecuteTime": {
     "end_time": "2023-09-01T14:07:16.299378Z",
     "start_time": "2023-09-01T14:07:16.268788200Z"
    }
   },
   "source": [
    "res.resid"
   ],
   "execution_count": 22,
   "outputs": [
    {
     "data": {
      "text/plain": "Quarter\n2020-03-31         NaN\n2019-12-31         NaN\n2019-09-30    1.084496\n2019-06-30    1.063372\n2019-03-31    0.979831\n                ...   \n2006-03-31    1.021253\n2005-12-31    1.019256\n2005-09-30    0.956844\n2005-06-30         NaN\n2005-03-31         NaN\nName: resid, Length: 61, dtype: float64"
     },
     "execution_count": 22,
     "metadata": {},
     "output_type": "execute_result"
    }
   ]
  },
  {
   "cell_type": "code",
   "metadata": {
    "id": "uiS1Qcx9GfyT",
    "colab_type": "code",
    "colab": {
     "base_uri": "https://localhost:8080/",
     "height": 35
    },
    "outputId": "00bee421-c57d-4048-a0ac-6de6b1d4c5b6",
    "ExecuteTime": {
     "end_time": "2023-09-01T14:07:18.175651600Z",
     "start_time": "2023-09-01T14:07:18.153177Z"
    }
   },
   "source": [
    "res.observed[2]"
   ],
   "execution_count": 23,
   "outputs": [
    {
     "data": {
      "text/plain": "69981.0"
     },
     "execution_count": 23,
     "metadata": {},
     "output_type": "execute_result"
    }
   ]
  },
  {
   "cell_type": "code",
   "metadata": {
    "id": "VbDaBAmUGfvL",
    "colab_type": "code",
    "colab": {
     "base_uri": "https://localhost:8080/",
     "height": 35
    },
    "outputId": "11f0ef70-e5bd-4523-c8d2-6e502912f697",
    "ExecuteTime": {
     "end_time": "2023-09-01T14:08:46.505157500Z",
     "start_time": "2023-09-01T14:08:46.481622600Z"
    }
   },
   "source": [
    "res.trend[2]*res.seasonal[2]*res.resid[2]"
   ],
   "execution_count": 24,
   "outputs": [
    {
     "data": {
      "text/plain": "69980.99999999999"
     },
     "execution_count": 24,
     "metadata": {},
     "output_type": "execute_result"
    }
   ]
  },
  {
   "cell_type": "code",
   "metadata": {
    "id": "moQFQKorGftI",
    "colab_type": "code",
    "colab": {
     "base_uri": "https://localhost:8080/",
     "height": 517
    },
    "outputId": "f2e92b46-5a64-4614-b186-89390db4a233",
    "ExecuteTime": {
     "end_time": "2023-09-01T14:09:02.017896200Z",
     "start_time": "2023-09-01T14:09:01.806205400Z"
    }
   },
   "source": [
    "pd.DataFrame(res.observed/res.trend).plot()"
   ],
   "execution_count": 25,
   "outputs": [
    {
     "data": {
      "text/plain": "<AxesSubplot:xlabel='Quarter'>"
     },
     "execution_count": 25,
     "metadata": {},
     "output_type": "execute_result"
    },
    {
     "data": {
      "text/plain": "<Figure size 1000x800 with 1 Axes>",
      "image/png": "[encoded data removed]"
     },
     "metadata": {},
     "output_type": "display_data"
    }
   ]
  },
  {
   "cell_type": "code",
   "metadata": {
    "id": "ixhzvyTc7B3T",
    "colab_type": "code",
    "colab": {}
   },
   "source": [],
   "execution_count": null,
   "outputs": []
  },
  {
   "cell_type": "code",
   "metadata": {
    "id": "mK0yJ4ie7Bx1",
    "colab_type": "code",
    "colab": {}
   },
   "source": [],
   "execution_count": null,
   "outputs": []
  },
  {
   "cell_type": "code",
   "metadata": {
    "id": "W6HJ3x6c7BsM",
    "colab_type": "code",
    "colab": {}
   },
   "source": [],
   "execution_count": null,
   "outputs": []
  },
  {
   "cell_type": "code",
   "metadata": {
    "id": "MEuGJP_47BkO",
    "colab_type": "code",
    "colab": {}
   },
   "source": [],
   "execution_count": null,
   "outputs": []
  },
  {
   "cell_type": "code",
   "metadata": {
    "id": "JSQiNN3O7BcW",
    "colab_type": "code",
    "colab": {}
   },
   "source": [],
   "execution_count": null,
   "outputs": []
  },
  {
   "cell_type": "code",
   "metadata": {
    "id": "3YTClJan7BXp",
    "colab_type": "code",
    "colab": {}
   },
   "source": [],
   "execution_count": null,
   "outputs": []
  },
  {
   "cell_type": "code",
   "metadata": {
    "id": "2cqf9DCw7BQ1",
    "colab_type": "code",
    "colab": {}
   },
   "source": [],
   "execution_count": null,
   "outputs": []
  },
  {
   "cell_type": "code",
   "metadata": {
    "id": "spplBHEd7BNa",
    "colab_type": "code",
    "colab": {}
   },
   "source": [],
   "execution_count": null,
   "outputs": []
  },
  {
   "cell_type": "code",
   "metadata": {
    "id": "wweOKjZY7BH5",
    "colab_type": "code",
    "colab": {}
   },
   "source": [],
   "execution_count": null,
   "outputs": []
  },
  {
   "cell_type": "code",
   "metadata": {
    "id": "wN-uoLef7BBQ",
    "colab_type": "code",
    "colab": {}
   },
   "source": [],
   "execution_count": null,
   "outputs": []
  },
  {
   "cell_type": "code",
   "metadata": {
    "id": "2dQyQT3u7A7C",
    "colab_type": "code",
    "colab": {}
   },
   "source": [],
   "execution_count": null,
   "outputs": []
  },
  {
   "cell_type": "code",
   "metadata": {
    "id": "UQbqW-pR7A12",
    "colab_type": "code",
    "colab": {}
   },
   "source": [],
   "execution_count": null,
   "outputs": []
  },
  {
   "cell_type": "code",
   "metadata": {
    "id": "iduBvINjGJkS",
    "colab_type": "code",
    "colab": {}
   },
   "source": [],
   "execution_count": null,
   "outputs": []
  },
  {
   "cell_type": "code",
   "metadata": {
    "id": "kspwn48pP26T",
    "colab_type": "code",
    "colab": {}
   },
   "source": [],
   "execution_count": null,
   "outputs": []
  },
  {
   "cell_type": "code",
   "metadata": {
    "id": "BfabroCTP2s0",
    "colab_type": "code",
    "colab": {}
   },
   "source": [],
   "execution_count": null,
   "outputs": []
  },
  {
   "cell_type": "code",
   "metadata": {
    "id": "9p5vOOxgVAh8",
    "colab_type": "code",
    "colab": {}
   },
   "source": [],
   "execution_count": null,
   "outputs": []
  },
  {
   "cell_type": "code",
   "metadata": {
    "id": "r1eWVZXwVAeO",
    "colab_type": "code",
    "colab": {}
   },
   "source": [],
   "execution_count": null,
   "outputs": []
  },
  {
   "cell_type": "code",
   "metadata": {
    "id": "QzKEnIUPVAbb",
    "colab_type": "code",
    "colab": {}
   },
   "source": [],
   "execution_count": null,
   "outputs": []
  },
  {
   "cell_type": "code",
   "metadata": {
    "id": "zyy8lFIUVAX4",
    "colab_type": "code",
    "colab": {}
   },
   "source": [],
   "execution_count": null,
   "outputs": []
  },
  {
   "cell_type": "code",
   "metadata": {
    "id": "QWy3v14rVAUh",
    "colab_type": "code",
    "colab": {}
   },
   "source": [],
   "execution_count": null,
   "outputs": []
  },
  {
   "cell_type": "code",
   "metadata": {
    "id": "ajWqia3yGkv8",
    "colab_type": "code",
    "colab": {}
   },
   "source": [
    "bill_2018 = bill_df['2016':'2018'][['Billed_amount']]"
   ],
   "execution_count": null,
   "outputs": []
  },
  {
   "cell_type": "code",
   "metadata": {
    "id": "PEn1c460HOdL",
    "colab_type": "code",
    "colab": {}
   },
   "source": [
    "bill_2018"
   ],
   "execution_count": null,
   "outputs": []
  },
  {
   "cell_type": "markdown",
   "metadata": {
    "id": "HpS41rSyzH1m",
    "colab_type": "text"
   },
   "source": [
    "Simple moving average = (t + (t-1) + (t-2) + ... + (t-n)) / n"
   ]
  },
  {
   "cell_type": "code",
   "metadata": {
    "id": "UBvYPmh1E885",
    "colab_type": "code",
    "colab": {}
   },
   "source": [
    "bill_2018['Billed_amount'].rolling(window=3).mean()"
   ],
   "execution_count": null,
   "outputs": []
  },
  {
   "cell_type": "code",
   "metadata": {
    "id": "dz-eNupME86J",
    "colab_type": "code",
    "colab": {}
   },
   "source": [
    "bill_2018['ma_rolling_3']=bill_2018['Billed_amount'].rolling(window=3).mean().shift(1)"
   ],
   "execution_count": null,
   "outputs": []
  },
  {
   "cell_type": "code",
   "metadata": {
    "id": "T-SphqTYE82u",
    "colab_type": "code",
    "colab": {}
   },
   "source": [
    "bill_2018"
   ],
   "execution_count": null,
   "outputs": []
  },
  {
   "cell_type": "code",
   "metadata": {
    "id": "paiqHYifM7bO",
    "colab_type": "code",
    "colab": {}
   },
   "source": [
    "bill_2018.plot();"
   ],
   "execution_count": null,
   "outputs": []
  },
  {
   "cell_type": "markdown",
   "metadata": {
    "id": "bxzVBI463G-O",
    "colab_type": "text"
   },
   "source": [
    "Weighted moving average = (t * weighting factor) + ((t-1) * weighting factor-1) + ((t-n) * weighting factor-n)/n "
   ]
  },
  {
   "cell_type": "code",
   "metadata": {
    "id": "3h7wFgM5E8qE",
    "colab_type": "code",
    "colab": {}
   },
   "source": [
    "def wma(weights): \n",
    "  def calc(x):\n",
    "    return (weights*x).mean()\n",
    "  return calc"
   ],
   "execution_count": null,
   "outputs": []
  },
  {
   "cell_type": "code",
   "metadata": {
    "id": "7Q1-fNJYE8gz",
    "colab_type": "code",
    "colab": {}
   },
   "source": [
    "bill_2018['Billed_amount'].rolling(window=3).apply(wma(np.array([0.5,1,1.5])))"
   ],
   "execution_count": null,
   "outputs": []
  },
  {
   "cell_type": "code",
   "metadata": {
    "id": "U5ha0--uJ51C",
    "colab_type": "code",
    "colab": {}
   },
   "source": [
    "bill_2018['wma_rolling_3']=bill_2018['Billed_amount'].rolling(window=3).apply(wma(np.array([0.5,1,1.5]))).shift(1)"
   ],
   "execution_count": null,
   "outputs": []
  },
  {
   "cell_type": "code",
   "metadata": {
    "id": "Nr17yUpGaGOr",
    "colab_type": "code",
    "colab": {}
   },
   "source": [
    "bill_2018"
   ],
   "execution_count": null,
   "outputs": []
  },
  {
   "cell_type": "code",
   "metadata": {
    "id": "DBlVXvBQaGLU",
    "colab_type": "code",
    "colab": {}
   },
   "source": [
    "bill_2018.plot()"
   ],
   "execution_count": null,
   "outputs": []
  },
  {
   "cell_type": "markdown",
   "metadata": {
    "id": "OjHcOxANyWiM",
    "colab_type": "text"
   },
   "source": [
    "Exponential moving average = (Close - previous EMA) * (2/(span+1)) + previous EMA\n"
   ]
  },
  {
   "cell_type": "code",
   "metadata": {
    "id": "q99o4C3Cgmwu",
    "colab_type": "code",
    "colab": {}
   },
   "source": [
    "bill_2018['Billed_amount'].ewm(span=3, adjust=False, min_periods=0).mean()"
   ],
   "execution_count": null,
   "outputs": []
  },
  {
   "cell_type": "code",
   "metadata": {
    "id": "hCDd1DWeguGC",
    "colab_type": "code",
    "colab": {}
   },
   "source": [
    "bill_2018['ewm_window_3']=bill_2018['Billed_amount'].ewm(span=3, adjust=False, min_periods=0).mean().shift(1)"
   ],
   "execution_count": null,
   "outputs": []
  },
  {
   "cell_type": "code",
   "metadata": {
    "id": "kG6ZlZ4UguC7",
    "colab_type": "code",
    "colab": {}
   },
   "source": [
    "bill_2018"
   ],
   "execution_count": null,
   "outputs": []
  },
  {
   "cell_type": "code",
   "metadata": {
    "id": "9VAuv52jgt9K",
    "colab_type": "code",
    "colab": {}
   },
   "source": [
    "bill_2018.plot()"
   ],
   "execution_count": null,
   "outputs": []
  },
  {
   "cell_type": "markdown",
   "metadata": {
    "id": "dKpz4jS5ESTR",
    "colab_type": "text"
   },
   "source": [
    "Exponential Smoothing - "
   ]
  },
  {
   "cell_type": "markdown",
   "metadata": {
    "id": "p66z2la9Xmqv",
    "colab_type": "text"
   },
   "source": [
    "![alt text](https://people.duke.edu/~rnau/411avg_files/image028.png)"
   ]
  },
  {
   "cell_type": "code",
   "metadata": {
    "id": "NvObBoi3_eNz",
    "colab_type": "code",
    "colab": {}
   },
   "source": [
    "bill_2018['Billed_amount'].ewm(alpha=0.7, adjust=False, min_periods=3).mean()"
   ],
   "execution_count": null,
   "outputs": []
  },
  {
   "cell_type": "code",
   "metadata": {
    "id": "QOXhMIhH_eLm",
    "colab_type": "code",
    "colab": {}
   },
   "source": [
    "bill_2018['esm_window_3_7']=bill_2018['Billed_amount'].ewm(alpha=0.7, adjust=False,min_periods=3).mean().shift(1)"
   ],
   "execution_count": null,
   "outputs": []
  },
  {
   "cell_type": "code",
   "metadata": {
    "id": "LD8mhtOx_eHx",
    "colab_type": "code",
    "colab": {}
   },
   "source": [
    "bill_2018"
   ],
   "execution_count": null,
   "outputs": []
  },
  {
   "cell_type": "code",
   "metadata": {
    "id": "e5mQAAKx_eFY",
    "colab_type": "code",
    "colab": {}
   },
   "source": [
    "bill_2018[['Billed_amount','esm_window_3_7']].plot()"
   ],
   "execution_count": null,
   "outputs": []
  },
  {
   "cell_type": "code",
   "metadata": {
    "id": "b8rRNAbrfcWu",
    "colab_type": "code",
    "colab": {}
   },
   "source": [
    "bill_2018.plot()"
   ],
   "execution_count": null,
   "outputs": []
  },
  {
   "cell_type": "code",
   "metadata": {
    "id": "uCttA7EM_eCg",
    "colab_type": "code",
    "colab": {}
   },
   "source": [
    "bill_2018['Billed_amount'].ewm(alpha=0.3, adjust=False, min_periods=3).mean()"
   ],
   "execution_count": null,
   "outputs": []
  },
  {
   "cell_type": "code",
   "metadata": {
    "id": "rNmsEDBw_d_s",
    "colab_type": "code",
    "colab": {}
   },
   "source": [
    "bill_2018['esm_window_3_3']=bill_2018['Billed_amount'].ewm(alpha=0.3, adjust=False,min_periods=3).mean().shift(1)"
   ],
   "execution_count": null,
   "outputs": []
  },
  {
   "cell_type": "code",
   "metadata": {
    "id": "vyFxXg_U_d8q",
    "colab_type": "code",
    "colab": {}
   },
   "source": [
    "bill_2018"
   ],
   "execution_count": null,
   "outputs": []
  },
  {
   "cell_type": "code",
   "metadata": {
    "id": "i5K4-vwa_d5s",
    "colab_type": "code",
    "colab": {}
   },
   "source": [
    "bill_2018[['Billed_amount','esm_window_3_3']].plot()"
   ],
   "execution_count": null,
   "outputs": []
  },
  {
   "cell_type": "code",
   "metadata": {
    "id": "-71-HtqP_d3I",
    "colab_type": "code",
    "colab": {}
   },
   "source": [
    "bill_2018[['Billed_amount','esm_window_3_7', 'esm_window_3_3']].plot()"
   ],
   "execution_count": null,
   "outputs": []
  },
  {
   "cell_type": "markdown",
   "metadata": {
    "id": "uhcPr9xknBNt",
    "colab_type": "text"
   },
   "source": [
    "![alt text](data:image/png;base64,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)"
   ]
  },
  {
   "cell_type": "code",
   "metadata": {
    "id": "HYvGM7b-_dxS",
    "colab_type": "code",
    "colab": {}
   },
   "source": [
    "((bill_2018['Billed_amount']-bill_2018['ma_rolling_3'])**2).mean()**0.5"
   ],
   "execution_count": null,
   "outputs": []
  },
  {
   "cell_type": "code",
   "metadata": {
    "id": "1arUawX-_dt3",
    "colab_type": "code",
    "colab": {}
   },
   "source": [
    "((bill_2018['Billed_amount']-bill_2018['wma_rolling_3'])**2).mean()**0.5"
   ],
   "execution_count": null,
   "outputs": []
  },
  {
   "cell_type": "code",
   "metadata": {
    "id": "MUWkFpAl_dqN",
    "colab_type": "code",
    "colab": {}
   },
   "source": [
    "((bill_2018['Billed_amount']-bill_2018['ewm_window_3'])**2).mean()**0.5"
   ],
   "execution_count": null,
   "outputs": []
  },
  {
   "cell_type": "code",
   "metadata": {
    "id": "sKzKitcI_dnB",
    "colab_type": "code",
    "colab": {}
   },
   "source": [
    "((bill_2018['Billed_amount']-bill_2018['esm_window_3_7'])**2).mean()**0.5"
   ],
   "execution_count": null,
   "outputs": []
  },
  {
   "cell_type": "code",
   "metadata": {
    "id": "V44L0DG3_dhD",
    "colab_type": "code",
    "colab": {}
   },
   "source": [
    "((bill_2018['Billed_amount']-bill_2018['esm_window_3_3'])**2).mean()**0.5"
   ],
   "execution_count": null,
   "outputs": []
  },
  {
   "cell_type": "code",
   "metadata": {
    "id": "hxnUdIbEJ5pd",
    "colab_type": "code",
    "colab": {}
   },
   "source": [],
   "execution_count": null,
   "outputs": []
  },
  {
   "cell_type": "code",
   "metadata": {
    "id": "pZzw8yNCn5z_",
    "colab_type": "code",
    "colab": {}
   },
   "source": [],
   "execution_count": null,
   "outputs": []
  },
  {
   "cell_type": "code",
   "metadata": {
    "id": "SX_p7Hlmn5xS",
    "colab_type": "code",
    "colab": {}
   },
   "source": [],
   "execution_count": null,
   "outputs": []
  },
  {
   "cell_type": "code",
   "metadata": {
    "id": "A5Rv8Eq5n5vi",
    "colab_type": "code",
    "colab": {}
   },
   "source": [],
   "execution_count": null,
   "outputs": []
  },
  {
   "cell_type": "code",
   "metadata": {
    "id": "GXj6EP8Cn5te",
    "colab_type": "code",
    "colab": {}
   },
   "source": [],
   "execution_count": null,
   "outputs": []
  },
  {
   "cell_type": "code",
   "metadata": {
    "id": "1gXNI_7_n5o5",
    "colab_type": "code",
    "colab": {}
   },
   "source": [],
   "execution_count": null,
   "outputs": []
  },
  {
   "cell_type": "code",
   "metadata": {
    "id": "hTEY6KBan5nf",
    "colab_type": "code",
    "colab": {}
   },
   "source": [],
   "execution_count": null,
   "outputs": []
  },
  {
   "cell_type": "code",
   "metadata": {
    "id": "okfQ8A9Un5ja",
    "colab_type": "code",
    "colab": {}
   },
   "source": [],
   "execution_count": null,
   "outputs": []
  },
  {
   "cell_type": "code",
   "metadata": {
    "id": "4DiDtpP3n5g-",
    "colab_type": "code",
    "colab": {}
   },
   "source": [],
   "execution_count": null,
   "outputs": []
  },
  {
   "cell_type": "code",
   "metadata": {
    "id": "pl58zDrHn5dP",
    "colab_type": "code",
    "colab": {}
   },
   "source": [],
   "execution_count": null,
   "outputs": []
  },
  {
   "cell_type": "code",
   "metadata": {
    "id": "Efyh6nbVqZyK",
    "colab_type": "code",
    "colab": {}
   },
   "source": [],
   "execution_count": null,
   "outputs": []
  },
  {
   "cell_type": "code",
   "metadata": {
    "id": "39JW1HZcqZwl",
    "colab_type": "code",
    "colab": {}
   },
   "source": [],
   "execution_count": null,
   "outputs": []
  },
  {
   "cell_type": "code",
   "metadata": {
    "id": "RCmLUUvLqZpx",
    "colab_type": "code",
    "colab": {}
   },
   "source": [],
   "execution_count": null,
   "outputs": []
  },
  {
   "cell_type": "code",
   "metadata": {
    "id": "vpbb5CVgqZle",
    "colab_type": "code",
    "colab": {}
   },
   "source": [],
   "execution_count": null,
   "outputs": []
  },
  {
   "cell_type": "code",
   "metadata": {
    "id": "TUztrPS-n5aA",
    "colab_type": "code",
    "colab": {}
   },
   "source": [],
   "execution_count": null,
   "outputs": []
  },
  {
   "cell_type": "code",
   "metadata": {
    "id": "heaGQsy2n5WM",
    "colab_type": "code",
    "colab": {}
   },
   "source": [],
   "execution_count": null,
   "outputs": []
  },
  {
   "cell_type": "code",
   "metadata": {
    "id": "YVcwf7H6J5K4",
    "colab_type": "code",
    "colab": {}
   },
   "source": [],
   "execution_count": null,
   "outputs": []
  },
  {
   "cell_type": "code",
   "metadata": {
    "id": "H9VdEjmw5CwA",
    "colab_type": "code",
    "colab": {}
   },
   "source": [
    "ml_dict['FB_Prophet']['forecast']"
   ],
   "execution_count": null,
   "outputs": []
  },
  {
   "cell_type": "code",
   "metadata": {
    "id": "kkHpfx405Cr2",
    "colab_type": "code",
    "colab": {}
   },
   "source": [],
   "execution_count": null,
   "outputs": []
  }
 ]
}
