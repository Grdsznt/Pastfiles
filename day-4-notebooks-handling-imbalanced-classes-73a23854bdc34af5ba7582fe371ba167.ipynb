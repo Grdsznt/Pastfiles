{
 "nbformat": 4,
 "nbformat_minor": 0,
 "metadata": {
  "colab": {
   "name": "Imbalanced_Classes.ipynb",
   "provenance": [],
   "collapsed_sections": []
  },
  "kernelspec": {
   "name": "python3",
   "display_name": "Python 3"
  }
 },
 "cells": [
  {
   "cell_type": "markdown",
   "metadata": {
    "id": "tG5pZlm51LFg"
   },
   "source": [
    "**Author:** Baharat Ram Ammu | Manish KC\n",
    "\n",
    "**Contributor:** Chanukya Patnaik | Gunnika Batra"
   ]
  },
  {
   "cell_type": "markdown",
   "metadata": {
    "id": "jn2WK-EnvdaQ"
   },
   "source": [
    "## Introduction\n",
    "The dataset used in this notebook is of '[IEEE-CIS Fraud Detection](https://www.kaggle.com/c/ieee-fraud-detection/data)'. This notebook will introduce you to class imbalance problem.\n",
    "\n",
    "Data set link: [Fraud Dataset](https://drive.google.com/file/d/1q8SYcjOJULdSkETv5S_gd7xNq1GrBHAO/view)\n",
    "\n",
    "#### Imbalanced Problem\n",
    "Imbalanced classes are a common problem in machine learning classification where there are a disproportionate ratio of observations in each class. Class imbalance can be found in many different areas including medical diagnosis, spam filtering, and fraud detection.\n",
    "\n",
    "#### Agenda\n",
    "*  Loading Libraries\n",
    "*  Loading Data\n",
    "*  Getting Basic Idea About Data\n",
    "*  Missing Values and Dealing with Missing Values\n",
    "*  One Hot Encoding (Creating dummies for categorical columns)\n",
    "*  Standardization / Normalization\n",
    "*  Splitting the dataset into train and test data\n",
    "*  Dealing with Imbalanced Data\n",
    "    *  Resampling Techniques - Oversample Minority Class\n",
    "    *  Resampling Techniques - Undersample Majority Class\n",
    "    *  Generate Synthetic Samples\n",
    "\n"
   ]
  },
  {
   "cell_type": "markdown",
   "metadata": {
    "id": "89IQeG9VuUpM"
   },
   "source": [
    "## Loading Libraries\n",
    "All Python capabilities are not loaded to our working environment by default (even they are already installed in your system). So, we import each and every library that we want to use.\n",
    "\n",
    "In data science, numpy and pandas are most commonly used libraries. Numpy is required for calculations like means, medians, square roots, etc. Pandas is used for data processin and data frames. We chose alias names for our libraries for the sake of our convenience (numpy --> np and pandas --> pd)."
   ]
  },
  {
   "cell_type": "code",
   "metadata": {
    "id": "L_lWWBjGvNP1"
   },
   "source": [
    "import pandas as pd                  # A fundamental package for linear algebra and multidimensional arrays\n",
    "import numpy as np                   # Data analysis and data manipulating tool\n",
    "import random                        # Library to generate random numbers\n",
    "from collections import Counter      # Collection is a Python module that implements specialized container datatypes providing \n",
    "                                     # alternatives to Python’s general purpose built-in containers, dict, list, set, and tuple.\n",
    "                                     # Counter is a dict subclass for counting hashable objects\n",
    "# Visualization libraries\n",
    "import matplotlib.pyplot as plt\n",
    "import seaborn as sns\n",
    "\n",
    "# To ignore warnings in the notebook\n",
    "import warnings\n",
    "warnings.filterwarnings(\"ignore\")"
   ],
   "execution_count": 1,
   "outputs": []
  },
  {
   "cell_type": "markdown",
   "metadata": {
    "id": "2jIwY1OGvr7A"
   },
   "source": [
    "## Loading Data\n",
    "Pandas module is used for reading files. We have our data in '.csv' format. We will use 'read_csv()' function for loading the data.\n",
    "\n",
    "**Disclaimer:** Loading fraud data will take time."
   ]
  },
  {
   "cell_type": "code",
   "metadata": {
    "id": "G_bYGjBvvkVv"
   },
   "source": [
    "fraud_data = pd.read_csv(\"IEEEfrauddata.csv\")"
   ],
   "execution_count": 2,
   "outputs": []
  },
  {
   "cell_type": "markdown",
   "metadata": {
    "id": "kvyUn8YG8wyC"
   },
   "source": [
    "### Getting Basic Idea About Data"
   ]
  },
  {
   "cell_type": "code",
   "metadata": {
    "id": "8CmggKjE8ZUk",
    "colab": {
     "base_uri": "https://localhost:8080/",
     "height": 311
    },
    "outputId": "a34aca3d-f02f-4960-bca1-859c3056dbda"
   },
   "source": [
    "fraud_data.head()"
   ],
   "execution_count": 3,
   "outputs": [
    {
     "data": {
      "text/plain": "   TransactionID  isFraud  TransactionDT  TransactionAmt ProductCD  card1  \\\n0        2994681        0         242834          25.000         H   9803   \n1        3557242        0       15123000         117.000         W   7919   \n2        3327470        0        8378575          73.773         C  12778   \n3        3118781        0        2607840         400.000         R  12316   \n4        3459772        0       12226544          31.950         W   9002   \n\n   card2  card3       card4  card5  ...                  id_31  id_32  \\\n0  583.0  150.0        visa  226.0  ...           firefox 56.0   24.0   \n1  194.0  150.0  mastercard  166.0  ...                    NaN    NaN   \n2  500.0  185.0  mastercard  224.0  ...                    NaN    NaN   \n3  548.0  150.0        visa  195.0  ...  mobile safari generic   32.0   \n4  453.0  150.0        visa  226.0  ...                    NaN    NaN   \n\n       id_33           id_34  id_35 id_36 id_37  id_38  DeviceType  DeviceInfo  \n0  1920x1080  match_status:2      T     F     T      T     desktop     rv:56.0  \n1        NaN             NaN    NaN   NaN   NaN    NaN         NaN         NaN  \n2        NaN             NaN    NaN   NaN   NaN    NaN         NaN         NaN  \n3   1136x640  match_status:2      T     F     T      F      mobile  iOS Device  \n4        NaN             NaN    NaN   NaN   NaN    NaN         NaN         NaN  \n\n[5 rows x 434 columns]",
      "text/html": "<div>\n<style scoped>\n    .dataframe tbody tr th:only-of-type {\n        vertical-align: middle;\n    }\n\n    .dataframe tbody tr th {\n        vertical-align: top;\n    }\n\n    .dataframe thead th {\n        text-align: right;\n    }\n</style>\n<table border=\"1\" class=\"dataframe\">\n  <thead>\n    <tr style=\"text-align: right;\">\n      <th></th>\n      <th>TransactionID</th>\n      <th>isFraud</th>\n      <th>TransactionDT</th>\n      <th>TransactionAmt</th>\n      <th>ProductCD</th>\n      <th>card1</th>\n      <th>card2</th>\n      <th>card3</th>\n      <th>card4</th>\n      <th>card5</th>\n      <th>...</th>\n      <th>id_31</th>\n      <th>id_32</th>\n      <th>id_33</th>\n      <th>id_34</th>\n      <th>id_35</th>\n      <th>id_36</th>\n      <th>id_37</th>\n      <th>id_38</th>\n      <th>DeviceType</th>\n      <th>DeviceInfo</th>\n    </tr>\n  </thead>\n  <tbody>\n    <tr>\n      <th>0</th>\n      <td>2994681</td>\n      <td>0</td>\n      <td>242834</td>\n      <td>25.000</td>\n      <td>H</td>\n      <td>9803</td>\n      <td>583.0</td>\n      <td>150.0</td>\n      <td>visa</td>\n      <td>226.0</td>\n      <td>...</td>\n      <td>firefox 56.0</td>\n      <td>24.0</td>\n      <td>1920x1080</td>\n      <td>match_status:2</td>\n      <td>T</td>\n      <td>F</td>\n      <td>T</td>\n      <td>T</td>\n      <td>desktop</td>\n      <td>rv:56.0</td>\n    </tr>\n    <tr>\n      <th>1</th>\n      <td>3557242</td>\n      <td>0</td>\n      <td>15123000</td>\n      <td>117.000</td>\n      <td>W</td>\n      <td>7919</td>\n      <td>194.0</td>\n      <td>150.0</td>\n      <td>mastercard</td>\n      <td>166.0</td>\n      <td>...</td>\n      <td>NaN</td>\n      <td>NaN</td>\n      <td>NaN</td>\n      <td>NaN</td>\n      <td>NaN</td>\n      <td>NaN</td>\n      <td>NaN</td>\n      <td>NaN</td>\n      <td>NaN</td>\n      <td>NaN</td>\n    </tr>\n    <tr>\n      <th>2</th>\n      <td>3327470</td>\n      <td>0</td>\n      <td>8378575</td>\n      <td>73.773</td>\n      <td>C</td>\n      <td>12778</td>\n      <td>500.0</td>\n      <td>185.0</td>\n      <td>mastercard</td>\n      <td>224.0</td>\n      <td>...</td>\n      <td>NaN</td>\n      <td>NaN</td>\n      <td>NaN</td>\n      <td>NaN</td>\n      <td>NaN</td>\n      <td>NaN</td>\n      <td>NaN</td>\n      <td>NaN</td>\n      <td>NaN</td>\n      <td>NaN</td>\n    </tr>\n    <tr>\n      <th>3</th>\n      <td>3118781</td>\n      <td>0</td>\n      <td>2607840</td>\n      <td>400.000</td>\n      <td>R</td>\n      <td>12316</td>\n      <td>548.0</td>\n      <td>150.0</td>\n      <td>visa</td>\n      <td>195.0</td>\n      <td>...</td>\n      <td>mobile safari generic</td>\n      <td>32.0</td>\n      <td>1136x640</td>\n      <td>match_status:2</td>\n      <td>T</td>\n      <td>F</td>\n      <td>T</td>\n      <td>F</td>\n      <td>mobile</td>\n      <td>iOS Device</td>\n    </tr>\n    <tr>\n      <th>4</th>\n      <td>3459772</td>\n      <td>0</td>\n      <td>12226544</td>\n      <td>31.950</td>\n      <td>W</td>\n      <td>9002</td>\n      <td>453.0</td>\n      <td>150.0</td>\n      <td>visa</td>\n      <td>226.0</td>\n      <td>...</td>\n      <td>NaN</td>\n      <td>NaN</td>\n      <td>NaN</td>\n      <td>NaN</td>\n      <td>NaN</td>\n      <td>NaN</td>\n      <td>NaN</td>\n      <td>NaN</td>\n      <td>NaN</td>\n      <td>NaN</td>\n    </tr>\n  </tbody>\n</table>\n<p>5 rows × 434 columns</p>\n</div>"
     },
     "execution_count": 3,
     "metadata": {},
     "output_type": "execute_result"
    }
   ]
  },
  {
   "cell_type": "code",
   "metadata": {
    "id": "jwNQSckh83QZ",
    "colab": {
     "base_uri": "https://localhost:8080/"
    },
    "outputId": "d72d0426-c8d8-450e-8f3d-2b5bd67bd69a"
   },
   "source": [
    "fraud_data.info()      # Returns a concise summary of dataset"
   ],
   "execution_count": 4,
   "outputs": [
    {
     "name": "stdout",
     "output_type": "stream",
     "text": [
      "<class 'pandas.core.frame.DataFrame'>\n",
      "RangeIndex: 59054 entries, 0 to 59053\n",
      "Columns: 434 entries, TransactionID to DeviceInfo\n",
      "dtypes: float64(385), int64(18), object(31)\n",
      "memory usage: 195.5+ MB\n"
     ]
    }
   ]
  },
  {
   "cell_type": "markdown",
   "metadata": {
    "id": "6FjL68CPABH7"
   },
   "source": [
    "There are 434 columns with 59054 observations."
   ]
  },
  {
   "cell_type": "code",
   "metadata": {
    "id": "GcnguA4n9IsZ",
    "colab": {
     "base_uri": "https://localhost:8080/"
    },
    "outputId": "03c7ef02-3b2d-4129-9505-287cafe9a206"
   },
   "source": [
    "# Taking a look at the target variable\n",
    "fraud_data.isFraud.value_counts()       # The value_counts() function is used to get a Series containing counts of unique values."
   ],
   "execution_count": 5,
   "outputs": [
    {
     "data": {
      "text/plain": "0    57049\n1     2005\nName: isFraud, dtype: int64"
     },
     "execution_count": 5,
     "metadata": {},
     "output_type": "execute_result"
    }
   ]
  },
  {
   "cell_type": "markdown",
   "metadata": {
    "id": "1L-PiTGd9d8b"
   },
   "source": [
    "We can notice, of 57049 observations / records only 2005 were fraud transactions."
   ]
  },
  {
   "cell_type": "code",
   "metadata": {
    "id": "92IJJSUf9cgq",
    "colab": {
     "base_uri": "https://localhost:8080/"
    },
    "outputId": "2dd12af9-e41a-47f3-e1b7-d671d4d8a59c"
   },
   "source": [
    "fraud_data.isFraud.value_counts() / len(fraud_data) * 100       # Gets the percentage of unique values in the variable 'isFraud'"
   ],
   "execution_count": 6,
   "outputs": [
    {
     "data": {
      "text/plain": "0    96.604802\n1     3.395198\nName: isFraud, dtype: float64"
     },
     "execution_count": 6,
     "metadata": {},
     "output_type": "execute_result"
    }
   ]
  },
  {
   "cell_type": "code",
   "metadata": {
    "id": "sOl5jgYE9wLg",
    "colab": {
     "base_uri": "https://localhost:8080/",
     "height": 297
    },
    "outputId": "9f4026fd-148a-424b-947f-293e84081918"
   },
   "source": [
    "# we can also use countplot form seaborn to plot the above information graphically.\n",
    "sns.countplot(x=fraud_data.isFraud)"
   ],
   "execution_count": 8,
   "outputs": [
    {
     "data": {
      "text/plain": "<AxesSubplot:xlabel='isFraud', ylabel='count'>"
     },
     "execution_count": 8,
     "metadata": {},
     "output_type": "execute_result"
    },
    {
     "data": {
      "text/plain": "<Figure size 640x480 with 1 Axes>",
      "image/png": "[encoded data removed]"
     },
     "metadata": {},
     "output_type": "display_data"
    }
   ]
  },
  {
   "cell_type": "markdown",
   "metadata": {
    "id": "WBTv2idc-l1a"
   },
   "source": [
    "There are only 3% of the data which are fraud and the rest 97% are not fraud. This is clearly a class imbalance problem. In this notebook we will look to solve this type of problems."
   ]
  },
  {
   "cell_type": "markdown",
   "metadata": {
    "id": "zks_JnKq_6tN"
   },
   "source": [
    "### Missing values\n",
    "Generally datasets always have some missing values. May be done during data collection, or due to some data validation rule.\n"
   ]
  },
  {
   "cell_type": "code",
   "metadata": {
    "id": "EHgTEqHR-Kk2",
    "colab": {
     "base_uri": "https://localhost:8080/"
    },
    "outputId": "a8c3b2dc-74d0-4576-e072-89121f844ab3"
   },
   "source": [
    "fraud_data.isnull().sum() / len(fraud_data) * 100   # To get percentage of missing data in each column"
   ],
   "execution_count": 9,
   "outputs": [
    {
     "data": {
      "text/plain": "TransactionID      0.000000\nisFraud            0.000000\nTransactionDT      0.000000\nTransactionAmt     0.000000\nProductCD          0.000000\n                    ...    \nid_36             75.945745\nid_37             75.945745\nid_38             75.945745\nDeviceType        75.979612\nDeviceInfo        79.813391\nLength: 434, dtype: float64"
     },
     "execution_count": 9,
     "metadata": {},
     "output_type": "execute_result"
    }
   ]
  },
  {
   "cell_type": "code",
   "metadata": {
    "id": "DraS19TQguHd"
   },
   "source": [
    "a = fraud_data.isnull().sum() > 0 # To get the Boolean results for the column with missing data"
   ],
   "execution_count": 10,
   "outputs": []
  },
  {
   "cell_type": "code",
   "metadata": {
    "colab": {
     "base_uri": "https://localhost:8080/"
    },
    "id": "OdMSy5fxhc2t",
    "outputId": "cf4c3fed-78a1-48fe-b5d4-e7936da24c4a"
   },
   "source": [
    "a.value_counts()  # get the count of column with missing values"
   ],
   "execution_count": 11,
   "outputs": [
    {
     "data": {
      "text/plain": "True     414\nFalse     20\ndtype: int64"
     },
     "execution_count": 11,
     "metadata": {},
     "output_type": "execute_result"
    }
   ]
  },
  {
   "cell_type": "markdown",
   "metadata": {
    "id": "02bqVJEbBxQc"
   },
   "source": [
    "Out of 434 columns, 414 have some missing values."
   ]
  },
  {
   "cell_type": "markdown",
   "metadata": {
    "id": "qjdy3vG5BmER"
   },
   "source": [
    "### Dealing with Missing Values\n",
    "*  Filling the missing values with right technique can change our results drastically. \n",
    "*  Also, there is no fixed rule of filling the missing values.\n",
    "*  No method is perfect for filling the missing values. We need to use our common sense, our logic, or may need to see what works for that particular data set.\n",
    "\n",
    "### Ways of dealing with missing values:\n",
    "\n",
    "**Default value:** One can fill the missing value by default value on the basis of one's 1) understanding of variable, 2) context / data insight or 3) common sense / logic. \n",
    "\n",
    "**Deleting:** Suppose in our dataset we have too many missing values in\n",
    "\n",
    "*  Column, we can drop the column\n",
    "*  Row, drop the row. Usually we do this for a large enough dataset.\n",
    "\n",
    "**Mean/Median/Mode - Imputation:** We fill missing values by mean or median or mode(i.e. maximum occuring value). Generally we use mean but if there are some outliers, we fill missing values with median. Mode is used to fill missing values for categorical column.\n",
    "\n",
    "[Data Cleaning in Python: the Ultimate Guide](https://towardsdatascience.com/data-cleaning-in-python-the-ultimate-guide-2020-c63b88bf0a0d)"
   ]
  },
  {
   "cell_type": "markdown",
   "metadata": {
    "id": "eZzsrECfAaSV"
   },
   "source": [
    "Eliminate columns with more than 20% missing values. Again this is very subjective and solely depends on the nature of the dataset and underlying context. We cannot generalize this procedure to all the datasets."
   ]
  },
  {
   "cell_type": "code",
   "metadata": {
    "id": "qv5kehT_ALOO"
   },
   "source": [
    "fraud_data = fraud_data[fraud_data.columns[fraud_data.isnull().mean() < 0.2]]    # Will keep those columns which has missing values less than 20%"
   ],
   "execution_count": 12,
   "outputs": []
  },
  {
   "cell_type": "code",
   "execution_count": 19,
   "outputs": [
    {
     "data": {
      "text/plain": "<AxesSubplot:ylabel='V15'>"
     },
     "execution_count": 19,
     "metadata": {},
     "output_type": "execute_result"
    },
    {
     "data": {
      "text/plain": "<Figure size 640x480 with 1 Axes>",
      "image/png": "[encoded data removed]"
     },
     "metadata": {},
     "output_type": "display_data"
    }
   ],
   "source": [
    "sns.boxplot(data = fraud_data, y = 'V15')"
   ],
   "metadata": {
    "collapsed": false
   }
  },
  {
   "cell_type": "markdown",
   "metadata": {
    "id": "ysp1sghyDU1s"
   },
   "source": [
    "Here we will fill missing values of numerical variables (or columns) with mean value.\n",
    "\n",
    "**Variables are nothing but the column names. From here on we will start using the variables instead of column or column names.**\n",
    "\n",
    "\n",
    "\n"
   ]
  },
  {
   "cell_type": "code",
   "metadata": {
    "id": "KSvRk1xJBAyR"
   },
   "source": [
    "# filling missing values of numerical columns with mean value.\n",
    "num_cols = fraud_data.select_dtypes(include=np.number).columns      # getting all the numerical columns\n",
    "\n",
    "fraud_data[num_cols] = fraud_data[num_cols].fillna(fraud_data[num_cols].mean())   # fills the missing values with mean"
   ],
   "execution_count": 20,
   "outputs": []
  },
  {
   "cell_type": "markdown",
   "metadata": {
    "id": "yK7ANXA5Eoeh"
   },
   "source": [
    "Filling missing values of categorical variables with mode. \n",
    "For those unattended, Mode is maximum occuring element in a variable.\n",
    "\n",
    "Why mode for categorical variables? - Let's take an example of categorical variable: \"Social Status\" with values: (Poor, Mid-income level, Rich). Can we find mean for social satus? No! So it may not be meaningful to go with mean in this case as it is not valid."
   ]
  },
  {
   "cell_type": "code",
   "metadata": {
    "id": "UeUz0v1ZEhAY",
    "colab": {
     "base_uri": "https://localhost:8080/",
     "height": 88
    },
    "outputId": "73341b5e-693b-4a90-aa80-8faebcf511cf"
   },
   "source": [
    "cat_cols = fraud_data.select_dtypes(include = 'object').columns    # getting all the categorical columns\n",
    "\n",
    "fraud_data[cat_cols] = fraud_data[cat_cols].fillna(fraud_data[cat_cols].mode().iloc[0])  # fills the missing values with maximum occuring element in the column\n",
    "\n",
    "\"\"\"\n",
    "Explaining above line: (This explanation was given by Julilan Miranda in a group)\n",
    "\n",
    "The above line of code is replacing the missing values in the columns in cat_cols with the mode (most repeated elements) of the non-missing values \n",
    "in the same columns.\n",
    "The .iloc[0] attribute is selecting just the first mode returned, in case they are multiple values with the same highest frequency of occurrence. \n",
    "Please review the documentation for further clarifications on this regard: \n",
    "https://pandas.pydata.org/pandas-docs/stable/reference/api/pandas.DataFrame.mode.html\n",
    "\"\"\""
   ],
   "execution_count": 21,
   "outputs": [
    {
     "data": {
      "text/plain": "'\\nExplaining above line: (This explanation was given by Julilan Miranda in a group)\\n\\nThe above line of code is replacing the missing values in the columns in cat_cols with the mode (most repeated elements) of the non-missing values \\nin the same columns.\\nThe .iloc[0] attribute is selecting just the first mode returned, in case they are multiple values with the same highest frequency of occurrence. \\nPlease review the documentation for further clarifications on this regard: \\nhttps://pandas.pydata.org/pandas-docs/stable/reference/api/pandas.DataFrame.mode.html\\n'"
     },
     "execution_count": 21,
     "metadata": {},
     "output_type": "execute_result"
    }
   ]
  },
  {
   "cell_type": "code",
   "metadata": {
    "id": "ajSX2MhlFbWz",
    "colab": {
     "base_uri": "https://localhost:8080/"
    },
    "outputId": "59f1d8af-657f-427f-806d-be43b350e03c"
   },
   "source": [
    "# Let's have a look if there still exist any missing values\n",
    "fraud_data.isnull().sum() / len(fraud_data) * 100"
   ],
   "execution_count": 22,
   "outputs": [
    {
     "data": {
      "text/plain": "TransactionID     0.0\nisFraud           0.0\nTransactionDT     0.0\nTransactionAmt    0.0\nProductCD         0.0\n                 ... \nV317              0.0\nV318              0.0\nV319              0.0\nV320              0.0\nV321              0.0\nLength: 182, dtype: float64"
     },
     "execution_count": 22,
     "metadata": {},
     "output_type": "execute_result"
    }
   ]
  },
  {
   "cell_type": "code",
   "execution_count": 26,
   "outputs": [
    {
     "data": {
      "text/plain": "Index([], dtype='object')"
     },
     "execution_count": 26,
     "metadata": {},
     "output_type": "execute_result"
    }
   ],
   "source": [
    "fraud_data.columns[fraud_data.isnull().mean() > 0]"
   ],
   "metadata": {
    "collapsed": false
   }
  },
  {
   "cell_type": "markdown",
   "metadata": {
    "id": "LW9XOIz6CGBj"
   },
   "source": [
    "Notice, now we don't have any column with missing value."
   ]
  },
  {
   "cell_type": "markdown",
   "metadata": {
    "id": "qKO21Qg8NSQc"
   },
   "source": [
    "### One Hot Encoding (Creating dummies for categorical columns)\n",
    "In this strategy, each category value is converted into a new column and assigned a 1 or 0 (notation for true/false) value to the column. In Python there is a class 'OneHotEncoder' in 'sklearn.preprocessing' to do this task, but here we will use pandas function 'get_dummies()'. This get_dummies() does the same work as done by 'OneHotEncoder' form sklearn.preprocessing.\n"
   ]
  },
  {
   "cell_type": "markdown",
   "metadata": {
    "id": "Dq1OK7dWlFcx"
   },
   "source": [
    "![alt text](https://dphi.tech/blog/wp-content/uploads/2020/06/ohe.png)"
   ]
  },
  {
   "cell_type": "markdown",
   "metadata": {
    "id": "OvLkunI1pk2p"
   },
   "source": [
    "[Why One-Hot Encode Data in Machine Learning?](https://machinelearningmastery.com/why-one-hot-encode-data-in-machine-learning/)"
   ]
  },
  {
   "cell_type": "code",
   "metadata": {
    "id": "ydD6ZRZrMFFu"
   },
   "source": [
    "fraud_data = pd.get_dummies(fraud_data, columns=cat_cols)\n",
    "fraud_data2 = pd.get_dummies(fraud_data)# earlier we have collected all the categorical columns in cat_cols"
   ],
   "execution_count": 27,
   "outputs": []
  },
  {
   "cell_type": "code",
   "metadata": {
    "id": "ulgnsjelE3I6",
    "colab": {
     "base_uri": "https://localhost:8080/",
     "height": 261
    },
    "outputId": "8656a55b-015f-42d0-a617-97a94c472795"
   },
   "source": [
    "fraud_data.head()"
   ],
   "execution_count": 28,
   "outputs": [
    {
     "data": {
      "text/plain": "   TransactionID  isFraud  TransactionDT  TransactionAmt  card1  card2  card3  \\\n0        2994681        0         242834          25.000   9803  583.0  150.0   \n1        3557242        0       15123000         117.000   7919  194.0  150.0   \n2        3327470        0        8378575          73.773  12778  500.0  185.0   \n3        3118781        0        2607840         400.000  12316  548.0  150.0   \n4        3459772        0       12226544          31.950   9002  453.0  150.0   \n\n   card5  addr1  addr2  ...  P_emaildomain_web.de  \\\n0  226.0  269.0   87.0  ...                     0   \n1  166.0  181.0   87.0  ...                     0   \n2  224.0  284.0   60.0  ...                     0   \n3  195.0  441.0   87.0  ...                     0   \n4  226.0  264.0   87.0  ...                     0   \n\n   P_emaildomain_windstream.net  P_emaildomain_yahoo.co.jp  \\\n0                             0                          0   \n1                             0                          0   \n2                             0                          0   \n3                             0                          0   \n4                             0                          0   \n\n   P_emaildomain_yahoo.co.uk  P_emaildomain_yahoo.com  \\\n0                          0                        1   \n1                          0                        0   \n2                          0                        0   \n3                          0                        0   \n4                          0                        1   \n\n   P_emaildomain_yahoo.com.mx  P_emaildomain_yahoo.de  P_emaildomain_yahoo.es  \\\n0                           0                       0                       0   \n1                           0                       0                       0   \n2                           0                       0                       0   \n3                           0                       0                       0   \n4                           0                       0                       0   \n\n   P_emaildomain_yahoo.fr  P_emaildomain_ymail.com  \n0                       0                        0  \n1                       0                        0  \n2                       0                        0  \n3                       0                        0  \n4                       0                        0  \n\n[5 rows x 250 columns]",
      "text/html": "<div>\n<style scoped>\n    .dataframe tbody tr th:only-of-type {\n        vertical-align: middle;\n    }\n\n    .dataframe tbody tr th {\n        vertical-align: top;\n    }\n\n    .dataframe thead th {\n        text-align: right;\n    }\n</style>\n<table border=\"1\" class=\"dataframe\">\n  <thead>\n    <tr style=\"text-align: right;\">\n      <th></th>\n      <th>TransactionID</th>\n      <th>isFraud</th>\n      <th>TransactionDT</th>\n      <th>TransactionAmt</th>\n      <th>card1</th>\n      <th>card2</th>\n      <th>card3</th>\n      <th>card5</th>\n      <th>addr1</th>\n      <th>addr2</th>\n      <th>...</th>\n      <th>P_emaildomain_web.de</th>\n      <th>P_emaildomain_windstream.net</th>\n      <th>P_emaildomain_yahoo.co.jp</th>\n      <th>P_emaildomain_yahoo.co.uk</th>\n      <th>P_emaildomain_yahoo.com</th>\n      <th>P_emaildomain_yahoo.com.mx</th>\n      <th>P_emaildomain_yahoo.de</th>\n      <th>P_emaildomain_yahoo.es</th>\n      <th>P_emaildomain_yahoo.fr</th>\n      <th>P_emaildomain_ymail.com</th>\n    </tr>\n  </thead>\n  <tbody>\n    <tr>\n      <th>0</th>\n      <td>2994681</td>\n      <td>0</td>\n      <td>242834</td>\n      <td>25.000</td>\n      <td>9803</td>\n      <td>583.0</td>\n      <td>150.0</td>\n      <td>226.0</td>\n      <td>269.0</td>\n      <td>87.0</td>\n      <td>...</td>\n      <td>0</td>\n      <td>0</td>\n      <td>0</td>\n      <td>0</td>\n      <td>1</td>\n      <td>0</td>\n      <td>0</td>\n      <td>0</td>\n      <td>0</td>\n      <td>0</td>\n    </tr>\n    <tr>\n      <th>1</th>\n      <td>3557242</td>\n      <td>0</td>\n      <td>15123000</td>\n      <td>117.000</td>\n      <td>7919</td>\n      <td>194.0</td>\n      <td>150.0</td>\n      <td>166.0</td>\n      <td>181.0</td>\n      <td>87.0</td>\n      <td>...</td>\n      <td>0</td>\n      <td>0</td>\n      <td>0</td>\n      <td>0</td>\n      <td>0</td>\n      <td>0</td>\n      <td>0</td>\n      <td>0</td>\n      <td>0</td>\n      <td>0</td>\n    </tr>\n    <tr>\n      <th>2</th>\n      <td>3327470</td>\n      <td>0</td>\n      <td>8378575</td>\n      <td>73.773</td>\n      <td>12778</td>\n      <td>500.0</td>\n      <td>185.0</td>\n      <td>224.0</td>\n      <td>284.0</td>\n      <td>60.0</td>\n      <td>...</td>\n      <td>0</td>\n      <td>0</td>\n      <td>0</td>\n      <td>0</td>\n      <td>0</td>\n      <td>0</td>\n      <td>0</td>\n      <td>0</td>\n      <td>0</td>\n      <td>0</td>\n    </tr>\n    <tr>\n      <th>3</th>\n      <td>3118781</td>\n      <td>0</td>\n      <td>2607840</td>\n      <td>400.000</td>\n      <td>12316</td>\n      <td>548.0</td>\n      <td>150.0</td>\n      <td>195.0</td>\n      <td>441.0</td>\n      <td>87.0</td>\n      <td>...</td>\n      <td>0</td>\n      <td>0</td>\n      <td>0</td>\n      <td>0</td>\n      <td>0</td>\n      <td>0</td>\n      <td>0</td>\n      <td>0</td>\n      <td>0</td>\n      <td>0</td>\n    </tr>\n    <tr>\n      <th>4</th>\n      <td>3459772</td>\n      <td>0</td>\n      <td>12226544</td>\n      <td>31.950</td>\n      <td>9002</td>\n      <td>453.0</td>\n      <td>150.0</td>\n      <td>226.0</td>\n      <td>264.0</td>\n      <td>87.0</td>\n      <td>...</td>\n      <td>0</td>\n      <td>0</td>\n      <td>0</td>\n      <td>0</td>\n      <td>1</td>\n      <td>0</td>\n      <td>0</td>\n      <td>0</td>\n      <td>0</td>\n      <td>0</td>\n    </tr>\n  </tbody>\n</table>\n<p>5 rows × 250 columns</p>\n</div>"
     },
     "execution_count": 28,
     "metadata": {},
     "output_type": "execute_result"
    }
   ]
  },
  {
   "cell_type": "code",
   "execution_count": 29,
   "outputs": [
    {
     "data": {
      "text/plain": "   TransactionID  isFraud  TransactionDT  TransactionAmt  card1  card2  card3  \\\n0        2994681        0         242834          25.000   9803  583.0  150.0   \n1        3557242        0       15123000         117.000   7919  194.0  150.0   \n2        3327470        0        8378575          73.773  12778  500.0  185.0   \n3        3118781        0        2607840         400.000  12316  548.0  150.0   \n4        3459772        0       12226544          31.950   9002  453.0  150.0   \n\n   card5  addr1  addr2  ...  P_emaildomain_web.de  \\\n0  226.0  269.0   87.0  ...                     0   \n1  166.0  181.0   87.0  ...                     0   \n2  224.0  284.0   60.0  ...                     0   \n3  195.0  441.0   87.0  ...                     0   \n4  226.0  264.0   87.0  ...                     0   \n\n   P_emaildomain_windstream.net  P_emaildomain_yahoo.co.jp  \\\n0                             0                          0   \n1                             0                          0   \n2                             0                          0   \n3                             0                          0   \n4                             0                          0   \n\n   P_emaildomain_yahoo.co.uk  P_emaildomain_yahoo.com  \\\n0                          0                        1   \n1                          0                        0   \n2                          0                        0   \n3                          0                        0   \n4                          0                        1   \n\n   P_emaildomain_yahoo.com.mx  P_emaildomain_yahoo.de  P_emaildomain_yahoo.es  \\\n0                           0                       0                       0   \n1                           0                       0                       0   \n2                           0                       0                       0   \n3                           0                       0                       0   \n4                           0                       0                       0   \n\n   P_emaildomain_yahoo.fr  P_emaildomain_ymail.com  \n0                       0                        0  \n1                       0                        0  \n2                       0                        0  \n3                       0                        0  \n4                       0                        0  \n\n[5 rows x 250 columns]",
      "text/html": "<div>\n<style scoped>\n    .dataframe tbody tr th:only-of-type {\n        vertical-align: middle;\n    }\n\n    .dataframe tbody tr th {\n        vertical-align: top;\n    }\n\n    .dataframe thead th {\n        text-align: right;\n    }\n</style>\n<table border=\"1\" class=\"dataframe\">\n  <thead>\n    <tr style=\"text-align: right;\">\n      <th></th>\n      <th>TransactionID</th>\n      <th>isFraud</th>\n      <th>TransactionDT</th>\n      <th>TransactionAmt</th>\n      <th>card1</th>\n      <th>card2</th>\n      <th>card3</th>\n      <th>card5</th>\n      <th>addr1</th>\n      <th>addr2</th>\n      <th>...</th>\n      <th>P_emaildomain_web.de</th>\n      <th>P_emaildomain_windstream.net</th>\n      <th>P_emaildomain_yahoo.co.jp</th>\n      <th>P_emaildomain_yahoo.co.uk</th>\n      <th>P_emaildomain_yahoo.com</th>\n      <th>P_emaildomain_yahoo.com.mx</th>\n      <th>P_emaildomain_yahoo.de</th>\n      <th>P_emaildomain_yahoo.es</th>\n      <th>P_emaildomain_yahoo.fr</th>\n      <th>P_emaildomain_ymail.com</th>\n    </tr>\n  </thead>\n  <tbody>\n    <tr>\n      <th>0</th>\n      <td>2994681</td>\n      <td>0</td>\n      <td>242834</td>\n      <td>25.000</td>\n      <td>9803</td>\n      <td>583.0</td>\n      <td>150.0</td>\n      <td>226.0</td>\n      <td>269.0</td>\n      <td>87.0</td>\n      <td>...</td>\n      <td>0</td>\n      <td>0</td>\n      <td>0</td>\n      <td>0</td>\n      <td>1</td>\n      <td>0</td>\n      <td>0</td>\n      <td>0</td>\n      <td>0</td>\n      <td>0</td>\n    </tr>\n    <tr>\n      <th>1</th>\n      <td>3557242</td>\n      <td>0</td>\n      <td>15123000</td>\n      <td>117.000</td>\n      <td>7919</td>\n      <td>194.0</td>\n      <td>150.0</td>\n      <td>166.0</td>\n      <td>181.0</td>\n      <td>87.0</td>\n      <td>...</td>\n      <td>0</td>\n      <td>0</td>\n      <td>0</td>\n      <td>0</td>\n      <td>0</td>\n      <td>0</td>\n      <td>0</td>\n      <td>0</td>\n      <td>0</td>\n      <td>0</td>\n    </tr>\n    <tr>\n      <th>2</th>\n      <td>3327470</td>\n      <td>0</td>\n      <td>8378575</td>\n      <td>73.773</td>\n      <td>12778</td>\n      <td>500.0</td>\n      <td>185.0</td>\n      <td>224.0</td>\n      <td>284.0</td>\n      <td>60.0</td>\n      <td>...</td>\n      <td>0</td>\n      <td>0</td>\n      <td>0</td>\n      <td>0</td>\n      <td>0</td>\n      <td>0</td>\n      <td>0</td>\n      <td>0</td>\n      <td>0</td>\n      <td>0</td>\n    </tr>\n    <tr>\n      <th>3</th>\n      <td>3118781</td>\n      <td>0</td>\n      <td>2607840</td>\n      <td>400.000</td>\n      <td>12316</td>\n      <td>548.0</td>\n      <td>150.0</td>\n      <td>195.0</td>\n      <td>441.0</td>\n      <td>87.0</td>\n      <td>...</td>\n      <td>0</td>\n      <td>0</td>\n      <td>0</td>\n      <td>0</td>\n      <td>0</td>\n      <td>0</td>\n      <td>0</td>\n      <td>0</td>\n      <td>0</td>\n      <td>0</td>\n    </tr>\n    <tr>\n      <th>4</th>\n      <td>3459772</td>\n      <td>0</td>\n      <td>12226544</td>\n      <td>31.950</td>\n      <td>9002</td>\n      <td>453.0</td>\n      <td>150.0</td>\n      <td>226.0</td>\n      <td>264.0</td>\n      <td>87.0</td>\n      <td>...</td>\n      <td>0</td>\n      <td>0</td>\n      <td>0</td>\n      <td>0</td>\n      <td>1</td>\n      <td>0</td>\n      <td>0</td>\n      <td>0</td>\n      <td>0</td>\n      <td>0</td>\n    </tr>\n  </tbody>\n</table>\n<p>5 rows × 250 columns</p>\n</div>"
     },
     "execution_count": 29,
     "metadata": {},
     "output_type": "execute_result"
    }
   ],
   "source": [
    "fraud_data2.head()"
   ],
   "metadata": {
    "collapsed": false
   }
  },
  {
   "cell_type": "markdown",
   "metadata": {
    "id": "kAkHAuGaE_Xo"
   },
   "source": [
    "If you notice, a lot of dummy variables are created like; **P_emaildomain_hotmail.com, P_emaildomain_hotmail.de,** etc."
   ]
  },
  {
   "cell_type": "markdown",
   "metadata": {
    "id": "DQPCxfdDn0d5"
   },
   "source": [
    "#### Separate Input Features and Output Features"
   ]
  },
  {
   "cell_type": "code",
   "metadata": {
    "id": "UQWaD295Lr7p"
   },
   "source": [
    "# Separate input features and output feature\n",
    "X = fraud_data.drop(columns = ['isFraud'])       # input features\n",
    "Y = fraud_data.isFraud      # output feature"
   ],
   "execution_count": 30,
   "outputs": []
  },
  {
   "cell_type": "markdown",
   "metadata": {
    "id": "VwytZeEJGyzI"
   },
   "source": [
    "### Standardization / Normalization\n",
    "Often variables in a real dataset come with a wide range of data values.\n",
    "\n",
    "For example if you look at this fraud dataset, the variable 'TransactionAmt' has values in range 0.292 to 5279.95, while if you look at variable 'V14', it has values in the range 0.0 to 1.0. Basically, they are not on a common scale.\n",
    "\n",
    "**Now how does standardization/normalization help?**\n",
    "\n",
    "Performing standardization/normalization would bring all the variables in a dataset to a common scale so that it could further help in implementing various machine learning models (where standardization/normalization is a pre-requisite to apply such models). Again, don’t take this for granted, there are some smart algorithms which doesn’t need this and will explore one of them here.\n",
    "\n",
    "Well, we have also discussed about standardization / normalization in **Week#2 - Day#1** study material.\n",
    "\n",
    "Here we will use 'StandardScaler' class of 'sklearn.preprocessing' to scale our data."
   ]
  },
  {
   "cell_type": "markdown",
   "metadata": {
    "id": "UCqvAUtsn62V"
   },
   "source": [
    "![alt text](https://dphi.tech/blog/wp-content/uploads/2020/06/sn.png)"
   ]
  },
  {
   "cell_type": "code",
   "metadata": {
    "id": "ZEFGJfmobfb0"
   },
   "source": [
    "from sklearn.preprocessing import StandardScaler\n",
    "scaled_features = StandardScaler().fit_transform(X)\n",
    "scaled_features = pd.DataFrame(data=scaled_features)\n",
    "scaled_features.columns= X.columns"
   ],
   "execution_count": 31,
   "outputs": []
  },
  {
   "cell_type": "code",
   "metadata": {
    "id": "_dqiqVCgojsS",
    "colab": {
     "base_uri": "https://localhost:8080/",
     "height": 355
    },
    "outputId": "da8d95dd-0c7a-419e-be48-eeb1ffc6a1ce"
   },
   "source": [
    "# Let's see how the data looks after scaling\n",
    "scaled_features.head()"
   ],
   "execution_count": 32,
   "outputs": [
    {
     "data": {
      "text/plain": "   TransactionID  TransactionDT  TransactionAmt     card1     card2     card3  \\\n0      -1.688548      -1.544958       -0.468203 -0.021940  1.412632 -0.286861   \n1       1.615662       1.681426       -0.073540 -0.406928 -1.078794 -0.286861   \n2       0.266093       0.219070       -0.258976  0.585989  0.881042  2.788641   \n3      -0.959645      -1.032167        1.140478  0.491581  1.188468 -0.286861   \n4       1.043171       1.053404       -0.438389 -0.185621  0.580022 -0.286861   \n\n      card5     addr1      addr2        C1  ...  P_emaildomain_web.de  \\\n0  0.653753 -0.225982   0.077832 -0.099186  ...             -0.021387   \n1 -0.804662 -1.144356   0.077832 -0.099186  ...             -0.021387   \n2  0.605139 -0.069441 -10.788933 -0.099186  ...             -0.021387   \n3 -0.099761  1.569022   0.077832 -0.099186  ...             -0.021387   \n4  0.653753 -0.278162   0.077832 -0.082944  ...             -0.021387   \n\n   P_emaildomain_windstream.net  P_emaildomain_yahoo.co.jp  \\\n0                     -0.022918                  -0.009202   \n1                     -0.022918                  -0.009202   \n2                     -0.022918                  -0.009202   \n3                     -0.022918                  -0.009202   \n4                     -0.022918                  -0.009202   \n\n   P_emaildomain_yahoo.co.uk  P_emaildomain_yahoo.com  \\\n0                  -0.004115                 2.216281   \n1                  -0.004115                -0.451206   \n2                  -0.004115                -0.451206   \n3                  -0.004115                -0.451206   \n4                  -0.004115                 2.216281   \n\n   P_emaildomain_yahoo.com.mx  P_emaildomain_yahoo.de  P_emaildomain_yahoo.es  \\\n0                   -0.053413               -0.013649               -0.014839   \n1                   -0.053413               -0.013649               -0.014839   \n2                   -0.053413               -0.013649               -0.014839   \n3                   -0.053413               -0.013649               -0.014839   \n4                   -0.053413               -0.013649               -0.014839   \n\n   P_emaildomain_yahoo.fr  P_emaildomain_ymail.com  \n0               -0.015399                 -0.06253  \n1               -0.015399                 -0.06253  \n2               -0.015399                 -0.06253  \n3               -0.015399                 -0.06253  \n4               -0.015399                 -0.06253  \n\n[5 rows x 249 columns]",
      "text/html": "<div>\n<style scoped>\n    .dataframe tbody tr th:only-of-type {\n        vertical-align: middle;\n    }\n\n    .dataframe tbody tr th {\n        vertical-align: top;\n    }\n\n    .dataframe thead th {\n        text-align: right;\n    }\n</style>\n<table border=\"1\" class=\"dataframe\">\n  <thead>\n    <tr style=\"text-align: right;\">\n      <th></th>\n      <th>TransactionID</th>\n      <th>TransactionDT</th>\n      <th>TransactionAmt</th>\n      <th>card1</th>\n      <th>card2</th>\n      <th>card3</th>\n      <th>card5</th>\n      <th>addr1</th>\n      <th>addr2</th>\n      <th>C1</th>\n      <th>...</th>\n      <th>P_emaildomain_web.de</th>\n      <th>P_emaildomain_windstream.net</th>\n      <th>P_emaildomain_yahoo.co.jp</th>\n      <th>P_emaildomain_yahoo.co.uk</th>\n      <th>P_emaildomain_yahoo.com</th>\n      <th>P_emaildomain_yahoo.com.mx</th>\n      <th>P_emaildomain_yahoo.de</th>\n      <th>P_emaildomain_yahoo.es</th>\n      <th>P_emaildomain_yahoo.fr</th>\n      <th>P_emaildomain_ymail.com</th>\n    </tr>\n  </thead>\n  <tbody>\n    <tr>\n      <th>0</th>\n      <td>-1.688548</td>\n      <td>-1.544958</td>\n      <td>-0.468203</td>\n      <td>-0.021940</td>\n      <td>1.412632</td>\n      <td>-0.286861</td>\n      <td>0.653753</td>\n      <td>-0.225982</td>\n      <td>0.077832</td>\n      <td>-0.099186</td>\n      <td>...</td>\n      <td>-0.021387</td>\n      <td>-0.022918</td>\n      <td>-0.009202</td>\n      <td>-0.004115</td>\n      <td>2.216281</td>\n      <td>-0.053413</td>\n      <td>-0.013649</td>\n      <td>-0.014839</td>\n      <td>-0.015399</td>\n      <td>-0.06253</td>\n    </tr>\n    <tr>\n      <th>1</th>\n      <td>1.615662</td>\n      <td>1.681426</td>\n      <td>-0.073540</td>\n      <td>-0.406928</td>\n      <td>-1.078794</td>\n      <td>-0.286861</td>\n      <td>-0.804662</td>\n      <td>-1.144356</td>\n      <td>0.077832</td>\n      <td>-0.099186</td>\n      <td>...</td>\n      <td>-0.021387</td>\n      <td>-0.022918</td>\n      <td>-0.009202</td>\n      <td>-0.004115</td>\n      <td>-0.451206</td>\n      <td>-0.053413</td>\n      <td>-0.013649</td>\n      <td>-0.014839</td>\n      <td>-0.015399</td>\n      <td>-0.06253</td>\n    </tr>\n    <tr>\n      <th>2</th>\n      <td>0.266093</td>\n      <td>0.219070</td>\n      <td>-0.258976</td>\n      <td>0.585989</td>\n      <td>0.881042</td>\n      <td>2.788641</td>\n      <td>0.605139</td>\n      <td>-0.069441</td>\n      <td>-10.788933</td>\n      <td>-0.099186</td>\n      <td>...</td>\n      <td>-0.021387</td>\n      <td>-0.022918</td>\n      <td>-0.009202</td>\n      <td>-0.004115</td>\n      <td>-0.451206</td>\n      <td>-0.053413</td>\n      <td>-0.013649</td>\n      <td>-0.014839</td>\n      <td>-0.015399</td>\n      <td>-0.06253</td>\n    </tr>\n    <tr>\n      <th>3</th>\n      <td>-0.959645</td>\n      <td>-1.032167</td>\n      <td>1.140478</td>\n      <td>0.491581</td>\n      <td>1.188468</td>\n      <td>-0.286861</td>\n      <td>-0.099761</td>\n      <td>1.569022</td>\n      <td>0.077832</td>\n      <td>-0.099186</td>\n      <td>...</td>\n      <td>-0.021387</td>\n      <td>-0.022918</td>\n      <td>-0.009202</td>\n      <td>-0.004115</td>\n      <td>-0.451206</td>\n      <td>-0.053413</td>\n      <td>-0.013649</td>\n      <td>-0.014839</td>\n      <td>-0.015399</td>\n      <td>-0.06253</td>\n    </tr>\n    <tr>\n      <th>4</th>\n      <td>1.043171</td>\n      <td>1.053404</td>\n      <td>-0.438389</td>\n      <td>-0.185621</td>\n      <td>0.580022</td>\n      <td>-0.286861</td>\n      <td>0.653753</td>\n      <td>-0.278162</td>\n      <td>0.077832</td>\n      <td>-0.082944</td>\n      <td>...</td>\n      <td>-0.021387</td>\n      <td>-0.022918</td>\n      <td>-0.009202</td>\n      <td>-0.004115</td>\n      <td>2.216281</td>\n      <td>-0.053413</td>\n      <td>-0.013649</td>\n      <td>-0.014839</td>\n      <td>-0.015399</td>\n      <td>-0.06253</td>\n    </tr>\n  </tbody>\n</table>\n<p>5 rows × 249 columns</p>\n</div>"
     },
     "execution_count": 32,
     "metadata": {},
     "output_type": "execute_result"
    }
   ]
  },
  {
   "cell_type": "markdown",
   "metadata": {
    "id": "ihcN9C3ELFat"
   },
   "source": [
    "### Splitting the dataset into train and test data\n",
    "**Why split the data into test sets and trainig sets?**\n",
    "\n",
    "Purpose of splitting data into the different category is to avoid overfitting.\n",
    "Please go through this awesome explanation, it will take only two minutes to go through it.  \n",
    "\n",
    "[In machine learning, what’s the purpose of splitting data up into test sets and training sets?](https://www.quora.com/In-machine-learning-what-s-the-purpose-of-splitting-data-up-into-test-sets-and-training-sets)\n",
    "\n",
    "**What is Train/Test split?**\n",
    "The data we use is split into training data and test data. The training set contains a known output and the model learns on this data in order to be generalized to other data later on. We have the test dataset (or subset) in order to test our model’s prediction on this subset.\n",
    "\n",
    "![alt text](https://lh3.googleusercontent.com/7T5aRDAlcsyt1p4R9qMrSznpgrEu5g2q8PkS-Jnh96fxfXP-ld3G-zCt1LfnpK3sOEdkbqLXyzjlQIf1VJFcxthhz12_-7Et7cxwFH6C)\n",
    "\n",
    "**Further Reading:** [Train/Test Split and Cross Validation in Python](https://towardsdatascience.com/train-test-split-and-cross-validation-in-python-80b61beca4b6#:~:text=Train%2FTest%20Split,to%20other%20data%20later%20on.&text=Pandas%20%E2%80%94%20to%20load%20the%20data,frame%20and%20analyze%20the%20data.)\n",
    "\n",
    "\n",
    "\n",
    "We will keep 30% of the data for test set."
   ]
  },
  {
   "cell_type": "code",
   "metadata": {
    "id": "9orHGVW2FwhR"
   },
   "source": [
    "# Splitting the data\n",
    "from sklearn.model_selection import train_test_split\n",
    "X_train, X_test, Y_train, Y_test = train_test_split(X, Y, test_size = 0.3, random_state = 42)\n",
    "\n",
    "# X_train: independent feature data for training the model\n",
    "# Y_train: dependent feature data for training the model\n",
    "# X_test: independent feature data for testing the model; will be used to predict the target values\n",
    "# Y_test: original target values of X_test; We will compare this values with our predicted values.\n",
    " \n",
    "# test_size = 0.3: 30% of the data will go for test set and 70% of the data will go for train set\n",
    "# random_state = 42: this will fix the split i.e. there will be same split for each time you run the code"
   ],
   "execution_count": 33,
   "outputs": []
  },
  {
   "cell_type": "markdown",
   "metadata": {
    "id": "0myjC1VxpHyx"
   },
   "source": [
    "# Dealing with Imbalanced Data\n",
    "Most machine learning algorithms work best when the number of samples in each class are about equal. This is because most algorithms are designed to maximize accuracy and reduce error. Again this can't be generalized and we must be very case specific depending on the nature of data and its underlying context.\n",
    "\n",
    "[Dealing with Imbalanced Data](https://towardsdatascience.com/methods-for-dealing-with-imbalanced-data-5b761be45a18)\n",
    "\n",
    "## Different Techniques\n",
    "1. **Resampling Techniques - Oversample Minority Class:** Oversampling can be defined as adding more copies of the minority class. In other words, we are creating artificial/synthetic data of the minority class (or group). Oversampling could be a good choice when you don’t have a lot of data to work with.\n",
    "\n",
    "We will use the resampling module from Scikit-Learn library to randomly create artificial samples of data from the minority class.\n",
    "\n",
    "**Important Note**\n",
    "\n",
    "BEFORE you try any oversampling techniques **you must** split your data into train and test datasets! \n",
    "\n",
    "Why it should be done that? Oversampling before splitting the data can allow the exact same observations to be present in both the test and train sets. This can allow our model to simply memorize specific data points and cause overfitting and poor generalization to the test data.\n",
    "\n"
   ]
  },
  {
   "cell_type": "code",
   "metadata": {
    "id": "1GD5K682rnmo"
   },
   "source": [
    "# 'resample' is located under sklearn.utils\n",
    "from sklearn.utils import resample"
   ],
   "execution_count": 34,
   "outputs": []
  },
  {
   "cell_type": "code",
   "metadata": {
    "id": "hUbIyU3psRZY"
   },
   "source": [
    "# concatenate training data back together\n",
    "train_data = pd.concat([X_train, Y_train], axis = 1)"
   ],
   "execution_count": 35,
   "outputs": []
  },
  {
   "cell_type": "code",
   "metadata": {
    "id": "qqbcq46ssU1d"
   },
   "source": [
    "# separate minority and majority class\n",
    "not_fraud = train_data[train_data.isFraud==0]\n",
    "fraud = train_data[train_data.isFraud==1]"
   ],
   "execution_count": 36,
   "outputs": []
  },
  {
   "cell_type": "code",
   "metadata": {
    "id": "phw2VsyTpGsZ"
   },
   "source": [
    "# Unsample minority; we are oversampling the minority class to match the number of majority classs\n",
    "fraud_upsampled = resample(fraud,\n",
    "                           replace = True, # Sample with replacement\n",
    "                           n_samples = len(not_fraud), # Match number in majority class\n",
    "                           random_state=27)"
   ],
   "execution_count": 37,
   "outputs": []
  },
  {
   "cell_type": "code",
   "metadata": {
    "id": "pGeutaLase-O"
   },
   "source": [
    "# combine majority and upsampled minority\n",
    "upsampled = pd.concat([not_fraud, fraud_upsampled])"
   ],
   "execution_count": 38,
   "outputs": []
  },
  {
   "cell_type": "code",
   "metadata": {
    "id": "N15B1LCKs-pm",
    "colab": {
     "base_uri": "https://localhost:8080/"
    },
    "outputId": "bf09726d-c598-4f31-d55b-a427c81f7af1"
   },
   "source": [
    "# Now let's check the classes count\n",
    "upsampled.isFraud.value_counts()"
   ],
   "execution_count": 39,
   "outputs": [
    {
     "data": {
      "text/plain": "0    39942\n1    39942\nName: isFraud, dtype: int64"
     },
     "execution_count": 39,
     "metadata": {},
     "output_type": "execute_result"
    }
   ]
  },
  {
   "cell_type": "markdown",
   "metadata": {
    "id": "JGaghffhtaO-"
   },
   "source": [
    "We can notice here after resampling we have an equal ratio of data points for each class!"
   ]
  },
  {
   "cell_type": "markdown",
   "metadata": {
    "id": "_ybIjKt0trra"
   },
   "source": [
    "2. **Resampling Techniques - Undersample Majority Class:** Undersampling can be defined as removing some observations of the majority class. Undersampling can be a good choice when you have a ton of data -think millions of rows. But a drawback is that we are removing information that may be valuable. This could lead to underfitting and poor generalization to the test set.\n",
    "\n",
    "We will again use the resampling module from Scikit-Learn to randomly remove samples from the majority class.\n"
   ]
  },
  {
   "cell_type": "code",
   "metadata": {
    "id": "dmnu-yEftWeb"
   },
   "source": [
    "# we are still using our separated class i.e. fraud and not_fraud from above\n",
    "# Again we are removing the observations of the majority class to mathch the number of minority class\n",
    "# downsample majority\n",
    "not_fraud_downsampled = resample(not_fraud,\n",
    "                                replace = False, # sample without replacement\n",
    "                                n_samples = len(fraud), # match minority n\n",
    "                                random_state = 27)"
   ],
   "execution_count": 40,
   "outputs": []
  },
  {
   "cell_type": "code",
   "metadata": {
    "id": "oOVSn71bujZI"
   },
   "source": [
    "# combine minority and downsampled majority\n",
    "downsampled = pd.concat([not_fraud_downsampled, fraud])    # Concatenation"
   ],
   "execution_count": 41,
   "outputs": []
  },
  {
   "cell_type": "code",
   "metadata": {
    "id": "f1w8CVgjuoY4",
    "colab": {
     "base_uri": "https://localhost:8080/"
    },
    "outputId": "1d3894fc-8573-48ee-c233-39ae2d1dc864"
   },
   "source": [
    "# let's check the classes counts\n",
    "downsampled.isFraud.value_counts()"
   ],
   "execution_count": 42,
   "outputs": [
    {
     "data": {
      "text/plain": "0    1395\n1    1395\nName: isFraud, dtype: int64"
     },
     "execution_count": 42,
     "metadata": {},
     "output_type": "execute_result"
    }
   ]
  },
  {
   "cell_type": "markdown",
   "metadata": {
    "id": "sx5AkNhxu0FD"
   },
   "source": [
    "Again, we have an equal ratio of fraud to not fraud data points, but in this case a much smaller quantity of data to train the model on. "
   ]
  },
  {
   "cell_type": "markdown",
   "metadata": {
    "id": "u9vPjbAMvDFX"
   },
   "source": [
    "3. **Generate Synthetic Samples:** Here we will use imblearn’s SMOTE or Synthetic Minority Oversampling Technique. SMOTE uses a nearest neighbors algorithm to generate new and synthetic data we can use for training our model.\n",
    "\n",
    "Again, it’s important to generate the new samples only in the training set to ensure our model generalizes well to unseen data."
   ]
  },
  {
   "cell_type": "code",
   "metadata": {
    "id": "FWkp26p-uwF2"
   },
   "source": [
    "# import SMOTE \n",
    "from imblearn.over_sampling import SMOTE\n",
    "\n",
    "sm = SMOTE(random_state = 25, sampling_strategy = 1.0)   # again we are eqalizing both the classes"
   ],
   "execution_count": 44,
   "outputs": []
  },
  {
   "cell_type": "code",
   "metadata": {
    "id": "Yf7sHze_wFJp"
   },
   "source": [
    "# fit the sampling\n",
    "X_train, Y_train = sm.fit_resample(X_train, Y_train)"
   ],
   "execution_count": 46,
   "outputs": []
  },
  {
   "cell_type": "code",
   "metadata": {
    "id": "15XOWmqPwULH",
    "colab": {
     "base_uri": "https://localhost:8080/"
    },
    "outputId": "cb4953db-f850-4361-9591-d06866b940bf"
   },
   "source": [
    "np.unique(Y_train, return_counts=True)     # Y_train is numpy array, so unique() functions returns the count of all the unique elements in the array"
   ],
   "execution_count": 47,
   "outputs": [
    {
     "data": {
      "text/plain": "(array([0, 1], dtype=int64), array([39942, 39942], dtype=int64))"
     },
     "execution_count": 47,
     "metadata": {},
     "output_type": "execute_result"
    }
   ]
  },
  {
   "cell_type": "markdown",
   "metadata": {
    "id": "j8m9UNkRw1LV"
   },
   "source": [
    "The count of both the classes are equal."
   ]
  },
  {
   "cell_type": "markdown",
   "metadata": {
    "id": "Sl6WJORKxB-U"
   },
   "source": [
    "## Conclusion\n",
    "That's it for this notebook. We learned handling missing values, one hot encoding, standardization / normalization, what is imbalanced class and three techniques to deal with imbalanced classes.\n",
    "\n",
    "**Note:** I have not covered the part of model building here but soon we will have a session on '**Building your first Machine Learning Model**' by **Chanukya Patnaik**.\n",
    "\n",
    "# Thanks for reading the notebook! Hope you enjoyed it."
   ]
  },
  {
   "cell_type": "markdown",
   "metadata": {
    "id": "UTylM0lIybDT"
   },
   "source": [
    "References:\n",
    "1. [Dealing with Imbalanced Data by Tara Boyle](https://towardsdatascience.com/methods-for-dealing-with-imbalanced-data-5b761be45a18)\n",
    "2. [Data Pre-processing - Handling missing values and dealing with class imbalance by Bharat Ram Ammu](https://www.youtube.com/watch?v=vksQx1JNo8Y)\n",
    "3. https://www.kaggle.com/drgilermo/a-tutorial-for-complete-beginners"
   ]
  }
 ]
}
