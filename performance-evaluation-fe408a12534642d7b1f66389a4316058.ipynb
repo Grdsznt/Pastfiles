{
 "nbformat": 4,
 "nbformat_minor": 0,
 "metadata": {
  "kernelspec": {
   "display_name": "Python 3",
   "language": "python",
   "name": "python3"
  },
  "language_info": {
   "codemirror_mode": {
    "name": "ipython",
    "version": 3
   },
   "file_extension": ".py",
   "mimetype": "text/x-python",
   "name": "python",
   "nbconvert_exporter": "python",
   "pygments_lexer": "ipython3",
   "version": "3.7.7"
  },
  "colab": {
   "name": "Performance Evaluation.ipynb",
   "provenance": [],
   "collapsed_sections": [
    "HtZ2yI1Lgh2I",
    "SqjqAVSQgh2S",
    "Yh4fSgV9gh2a",
    "WlQf5BUtgh2o",
    "plCwrQB_gh23",
    "1_2Y9vQ9gh2_",
    "zY7eJaxsgh3K",
    "hum7bVaAgh3P",
    "GP8EUDXTgh3s",
    "AjIBhaItgh4X",
    "RHrz_JZAgh4j",
    "mx7Dtz5Wgh4r",
    "Onetrj_Agh5A",
    "gESg0k8_gh5H",
    "YoVnDQsigh5x",
    "QQwxdMUkgh6m",
    "1gp-Po0wgh7w"
   ]
  }
 },
 "cells": [
  {
   "cell_type": "markdown",
   "metadata": {
    "id": "tdPA03q3vRei"
   },
   "source": [
    " [![Open In Colab](https://colab.research.google.com/assets/colab-badge.svg)](https://colab.research.google.com/drive/1JuiXnrL99eZzIiRzdtREyLlCYhF6Nc4u?usp=sharing)"
   ]
  },
  {
   "cell_type": "markdown",
   "metadata": {
    "id": "N4yt1psqgh1X"
   },
   "source": [
    "# Performance Evaluation, Cross Validation and Hyper - Parameter Tunning\n",
    "In this Notebook, we will learn 3 things:   \n",
    "*  Evaluation metrics\n",
    "*  Cross Validation\n",
    "*  Hyperparameter Tuning "
   ]
  },
  {
   "cell_type": "markdown",
   "metadata": {
    "id": "57GJ0KnnpC34"
   },
   "source": [
    "### Data Description\n",
    "Here we will use diabetes dataset for classification. Given different medical specifications about a person, we have to predict if the person have diabetes or not.\n",
    "\n",
    "**Different Attributes:**\n",
    "1. Number of times pregnant\n",
    "2. Plasma glucose concentration a 2 hours in an oral glucose tolerance test\n",
    "3. Diastolic blood pressure (mm Hg)\n",
    "4. Triceps skin fold thickness (mm)\n",
    "5. 2-Hour serum insulin (mu U/ml)\n",
    "6. Body mass index (weight in kg/(height in m)^2)\n",
    "7. Diabetes pedigree function\n",
    "8. Age (years)\n",
    "9. Class variable (0 or 1)\n",
    "\n",
    "All the feature names are numerical. Let's give textual names to these features.\n",
    "*  Number of times pregnant: **num_preg**\n",
    "*  Plasma glucose concentration a 2 hours in an oral glucose tolerance test: **plasma_glucose_conc**\n",
    "*  Diastolic blood pressure (mm Hg): **D_blood_pressure**\n",
    "*  Triceps skin fold thickness (mm): **skin_fold_thickness**\n",
    "*  2-Hour serum insulin (mu U/ml): **serum_insulin**\n",
    "*  Body mass index (weight in kg/(height in m)^2): **body_mass_index**\n",
    "*  Diabetes pedigree function: **pedigree_func**\n",
    "*  Age (years): **age**\n",
    "*  Class variable (0 or 1): **diabetes**"
   ]
  },
  {
   "cell_type": "markdown",
   "metadata": {
    "id": "dYnubTr4oUKY"
   },
   "source": [
    "### Load Libraries"
   ]
  },
  {
   "cell_type": "code",
   "metadata": {
    "id": "7WQljMFOgh1a"
   },
   "source": [
    "import pandas as pd\n",
    "import numpy as np\n",
    "import matplotlib.pyplot as plt\n",
    "import warnings\n",
    "warnings.filterwarnings(\"ignore\")\n",
    "%matplotlib inline"
   ],
   "execution_count": 1,
   "outputs": []
  },
  {
   "cell_type": "markdown",
   "metadata": {
    "id": "HRSnYQG9okA4"
   },
   "source": [
    "### Loading Data"
   ]
  },
  {
   "cell_type": "code",
   "metadata": {
    "id": "QUaCOsuroooy"
   },
   "source": [
    "# since the column names are numerical, we will give our own column names for our understanding\n",
    "col = [\"num_preg\", \"plasma_glucose_conc\", \"D_blood_pressure\", \"skin_fold_thickness\", \"serum_insulin\", \"body_mass_index\", \"pedigree_func\", \"age\", \"diabetes\"]\n",
    "diabetes_data = pd.read_csv(\"https://raw.githubusercontent.com/dphi-official/ML_Models/master/Performance_Evaluation/diabetes.txt\", names = col)"
   ],
   "execution_count": 2,
   "outputs": []
  },
  {
   "cell_type": "code",
   "metadata": {
    "id": "e3Gg7tKkv8uw",
    "colab": {
     "base_uri": "https://localhost:8080/",
     "height": 204
    },
    "outputId": "d0e51905-1792-4e4e-98dc-23eb3e618667"
   },
   "source": [
    "diabetes_data.head()"
   ],
   "execution_count": 3,
   "outputs": [
    {
     "data": {
      "text/plain": "   num_preg  plasma_glucose_conc  D_blood_pressure  skin_fold_thickness  \\\n0         6                  148                72                   35   \n1         1                   85                66                   29   \n2         8                  183                64                    0   \n3         1                   89                66                   23   \n4         0                  137                40                   35   \n\n   serum_insulin  body_mass_index  pedigree_func  age  diabetes  \n0              0             33.6          0.627   50         1  \n1              0             26.6          0.351   31         0  \n2              0             23.3          0.672   32         1  \n3             94             28.1          0.167   21         0  \n4            168             43.1          2.288   33         1  ",
      "text/html": "<div>\n<style scoped>\n    .dataframe tbody tr th:only-of-type {\n        vertical-align: middle;\n    }\n\n    .dataframe tbody tr th {\n        vertical-align: top;\n    }\n\n    .dataframe thead th {\n        text-align: right;\n    }\n</style>\n<table border=\"1\" class=\"dataframe\">\n  <thead>\n    <tr style=\"text-align: right;\">\n      <th></th>\n      <th>num_preg</th>\n      <th>plasma_glucose_conc</th>\n      <th>D_blood_pressure</th>\n      <th>skin_fold_thickness</th>\n      <th>serum_insulin</th>\n      <th>body_mass_index</th>\n      <th>pedigree_func</th>\n      <th>age</th>\n      <th>diabetes</th>\n    </tr>\n  </thead>\n  <tbody>\n    <tr>\n      <th>0</th>\n      <td>6</td>\n      <td>148</td>\n      <td>72</td>\n      <td>35</td>\n      <td>0</td>\n      <td>33.6</td>\n      <td>0.627</td>\n      <td>50</td>\n      <td>1</td>\n    </tr>\n    <tr>\n      <th>1</th>\n      <td>1</td>\n      <td>85</td>\n      <td>66</td>\n      <td>29</td>\n      <td>0</td>\n      <td>26.6</td>\n      <td>0.351</td>\n      <td>31</td>\n      <td>0</td>\n    </tr>\n    <tr>\n      <th>2</th>\n      <td>8</td>\n      <td>183</td>\n      <td>64</td>\n      <td>0</td>\n      <td>0</td>\n      <td>23.3</td>\n      <td>0.672</td>\n      <td>32</td>\n      <td>1</td>\n    </tr>\n    <tr>\n      <th>3</th>\n      <td>1</td>\n      <td>89</td>\n      <td>66</td>\n      <td>23</td>\n      <td>94</td>\n      <td>28.1</td>\n      <td>0.167</td>\n      <td>21</td>\n      <td>0</td>\n    </tr>\n    <tr>\n      <th>4</th>\n      <td>0</td>\n      <td>137</td>\n      <td>40</td>\n      <td>35</td>\n      <td>168</td>\n      <td>43.1</td>\n      <td>2.288</td>\n      <td>33</td>\n      <td>1</td>\n    </tr>\n  </tbody>\n</table>\n</div>"
     },
     "execution_count": 3,
     "metadata": {},
     "output_type": "execute_result"
    }
   ]
  },
  {
   "cell_type": "code",
   "execution_count": 4,
   "outputs": [
    {
     "name": "stdout",
     "output_type": "stream",
     "text": [
      "num_preg 0.0%\n",
      "plasma_glucose_conc 0.0%\n",
      "D_blood_pressure 0.0%\n",
      "skin_fold_thickness 0.0%\n",
      "serum_insulin 0.0%\n",
      "body_mass_index 0.0%\n",
      "pedigree_func 0.0%\n",
      "age 0.0%\n",
      "diabetes 0.0%\n"
     ]
    }
   ],
   "source": [
    "for col in diabetes_data.columns:\n",
    "    pct = diabetes_data[col].isnull().sum()/len(diabetes_data[col])\n",
    "\n",
    "    print(col + \" \" + str(pct*100) + \"%\")\n",
    "\n",
    "# diabetes_data.info()"
   ],
   "metadata": {
    "collapsed": false
   }
  },
  {
   "cell_type": "code",
   "execution_count": 5,
   "outputs": [
    {
     "data": {
      "text/plain": "<AxesSubplot:>"
     },
     "execution_count": 5,
     "metadata": {},
     "output_type": "execute_result"
    },
    {
     "data": {
      "text/plain": "<Figure size 2500x1000 with 2 Axes>",
      "image/png": "[encoded data removed]"
     },
     "metadata": {},
     "output_type": "display_data"
    }
   ],
   "source": [
    "import missingno as msno\n",
    "\n",
    "msno.matrix(diabetes_data)"
   ],
   "metadata": {
    "collapsed": false
   }
  },
  {
   "cell_type": "code",
   "execution_count": 6,
   "outputs": [
    {
     "data": {
      "text/plain": "         num_preg  plasma_glucose_conc  D_blood_pressure  skin_fold_thickness  \\\ncount  768.000000           768.000000        768.000000           768.000000   \nmean     3.845052           120.894531         69.105469            20.536458   \nstd      3.369578            31.972618         19.355807            15.952218   \nmin      0.000000             0.000000          0.000000             0.000000   \n25%      1.000000            99.000000         62.000000             0.000000   \n50%      3.000000           117.000000         72.000000            23.000000   \n75%      6.000000           140.250000         80.000000            32.000000   \nmax     17.000000           199.000000        122.000000            99.000000   \n\n       serum_insulin  body_mass_index  pedigree_func         age    diabetes  \ncount     768.000000       768.000000     768.000000  768.000000  768.000000  \nmean       79.799479        31.992578       0.471876   33.240885    0.348958  \nstd       115.244002         7.884160       0.331329   11.760232    0.476951  \nmin         0.000000         0.000000       0.078000   21.000000    0.000000  \n25%         0.000000        27.300000       0.243750   24.000000    0.000000  \n50%        30.500000        32.000000       0.372500   29.000000    0.000000  \n75%       127.250000        36.600000       0.626250   41.000000    1.000000  \nmax       846.000000        67.100000       2.420000   81.000000    1.000000  ",
      "text/html": "<div>\n<style scoped>\n    .dataframe tbody tr th:only-of-type {\n        vertical-align: middle;\n    }\n\n    .dataframe tbody tr th {\n        vertical-align: top;\n    }\n\n    .dataframe thead th {\n        text-align: right;\n    }\n</style>\n<table border=\"1\" class=\"dataframe\">\n  <thead>\n    <tr style=\"text-align: right;\">\n      <th></th>\n      <th>num_preg</th>\n      <th>plasma_glucose_conc</th>\n      <th>D_blood_pressure</th>\n      <th>skin_fold_thickness</th>\n      <th>serum_insulin</th>\n      <th>body_mass_index</th>\n      <th>pedigree_func</th>\n      <th>age</th>\n      <th>diabetes</th>\n    </tr>\n  </thead>\n  <tbody>\n    <tr>\n      <th>count</th>\n      <td>768.000000</td>\n      <td>768.000000</td>\n      <td>768.000000</td>\n      <td>768.000000</td>\n      <td>768.000000</td>\n      <td>768.000000</td>\n      <td>768.000000</td>\n      <td>768.000000</td>\n      <td>768.000000</td>\n    </tr>\n    <tr>\n      <th>mean</th>\n      <td>3.845052</td>\n      <td>120.894531</td>\n      <td>69.105469</td>\n      <td>20.536458</td>\n      <td>79.799479</td>\n      <td>31.992578</td>\n      <td>0.471876</td>\n      <td>33.240885</td>\n      <td>0.348958</td>\n    </tr>\n    <tr>\n      <th>std</th>\n      <td>3.369578</td>\n      <td>31.972618</td>\n      <td>19.355807</td>\n      <td>15.952218</td>\n      <td>115.244002</td>\n      <td>7.884160</td>\n      <td>0.331329</td>\n      <td>11.760232</td>\n      <td>0.476951</td>\n    </tr>\n    <tr>\n      <th>min</th>\n      <td>0.000000</td>\n      <td>0.000000</td>\n      <td>0.000000</td>\n      <td>0.000000</td>\n      <td>0.000000</td>\n      <td>0.000000</td>\n      <td>0.078000</td>\n      <td>21.000000</td>\n      <td>0.000000</td>\n    </tr>\n    <tr>\n      <th>25%</th>\n      <td>1.000000</td>\n      <td>99.000000</td>\n      <td>62.000000</td>\n      <td>0.000000</td>\n      <td>0.000000</td>\n      <td>27.300000</td>\n      <td>0.243750</td>\n      <td>24.000000</td>\n      <td>0.000000</td>\n    </tr>\n    <tr>\n      <th>50%</th>\n      <td>3.000000</td>\n      <td>117.000000</td>\n      <td>72.000000</td>\n      <td>23.000000</td>\n      <td>30.500000</td>\n      <td>32.000000</td>\n      <td>0.372500</td>\n      <td>29.000000</td>\n      <td>0.000000</td>\n    </tr>\n    <tr>\n      <th>75%</th>\n      <td>6.000000</td>\n      <td>140.250000</td>\n      <td>80.000000</td>\n      <td>32.000000</td>\n      <td>127.250000</td>\n      <td>36.600000</td>\n      <td>0.626250</td>\n      <td>41.000000</td>\n      <td>1.000000</td>\n    </tr>\n    <tr>\n      <th>max</th>\n      <td>17.000000</td>\n      <td>199.000000</td>\n      <td>122.000000</td>\n      <td>99.000000</td>\n      <td>846.000000</td>\n      <td>67.100000</td>\n      <td>2.420000</td>\n      <td>81.000000</td>\n      <td>1.000000</td>\n    </tr>\n  </tbody>\n</table>\n</div>"
     },
     "execution_count": 6,
     "metadata": {},
     "output_type": "execute_result"
    }
   ],
   "source": [
    "diabetes_data.describe()"
   ],
   "metadata": {
    "collapsed": false
   }
  },
  {
   "cell_type": "code",
   "execution_count": 7,
   "outputs": [
    {
     "data": {
      "text/plain": "<Figure size 2000x1000 with 9 Axes>",
      "image/png": "[encoded data removed]"
     },
     "metadata": {},
     "output_type": "display_data"
    }
   ],
   "source": [
    "import seaborn as sns\n",
    "\n",
    "fig, ax = plt.subplots(nrows=3, ncols=3, figsize=(20, 10))\n",
    "\n",
    "for col, index in zip(diabetes_data, ax.flatten()):\n",
    "\n",
    "    sns.boxplot(y = diabetes_data[col], ax = index).set(xlabel=col, ylabel = 'value')\n"
   ],
   "metadata": {
    "collapsed": false
   }
  },
  {
   "cell_type": "markdown",
   "source": [
    "### I would say that I would handle the outliers on pedigree_func, insulin and skin_fold_thickness"
   ],
   "metadata": {
    "collapsed": false
   }
  },
  {
   "cell_type": "markdown",
   "metadata": {
    "id": "RbHhT_yMgh1p"
   },
   "source": [
    "**This dataset contains 13 columns and based on different features, it is guessed whether or not a person has Diabetes**"
   ]
  },
  {
   "cell_type": "markdown",
   "metadata": {
    "id": "67Eap_ejyyJ5"
   },
   "source": [
    "### Separating Input variables and output variable"
   ]
  },
  {
   "cell_type": "code",
   "metadata": {
    "id": "Ly3PQ9DayxWX"
   },
   "source": [
    "X = diabetes_data.drop('diabetes', axis = 1)\n",
    "y = diabetes_data.diabetes"
   ],
   "execution_count": 8,
   "outputs": []
  },
  {
   "cell_type": "markdown",
   "metadata": {
    "id": "mOQVck62gh1z"
   },
   "source": [
    "#### Split into training and testing (80:20)"
   ]
  },
  {
   "cell_type": "code",
   "metadata": {
    "id": "2AylKRHMgh12"
   },
   "source": [
    "from sklearn.model_selection import train_test_split\n",
    "x_train, x_test, y_train, y_test = train_test_split(X, y, test_size=0.2, random_state=3)\n",
    "\n",
    "# The below line of code will not need to separate input variables and output variables.\n",
    "# The code is very simple if you remember numpy and pandas session. Indexing dataframe and arrays\n",
    "# x_train, x_test, y_train, y_test = train_test_split(diabetes.iloc[:, :-1], diabetes.iloc[:,-1], test_size=0.2, random_state=3)"
   ],
   "execution_count": 9,
   "outputs": []
  },
  {
   "cell_type": "markdown",
   "metadata": {
    "id": "P3R17-E7kqjD"
   },
   "source": [
    "**Note for learners:** Here we have used MLPClassifier from neural_network module of sklearn library. MLP Classifier is also a classification algorithm like logistic regression or decision tree. We will soon learn about Neural Networks and Artificial Neural Networks in the upcoming sessions. So, no need to worry about it. "
   ]
  },
  {
   "cell_type": "markdown",
   "metadata": {
    "id": "ZizeBIHwgh17"
   },
   "source": [
    "### Developing a model"
   ]
  },
  {
   "cell_type": "code",
   "metadata": {
    "id": "BqeygkPIgh18"
   },
   "source": [
    "from sklearn.neural_network import MLPClassifier\n",
    "mlp = MLPClassifier(max_iter=1000)\n",
    "mlp.fit(x_train, y_train)\n",
    "y_pred = mlp.predict(x_test)"
   ],
   "execution_count": 10,
   "outputs": []
  },
  {
   "cell_type": "markdown",
   "metadata": {
    "id": "j8-k13W0gh1T"
   },
   "source": [
    "## Performance Evaluation\n",
    "Evaluating performance of the machine learning model that we have built is an essential part of any machine learning project. Performance of our model is done using some evaluation metrics. Accuracy score is one among them.\n",
    "\n",
    "**Why accuracy score is not a good evaluation metric?**\n",
    "\n",
    "Our model may give satisfying results if we use accuracy score for a particular dataset but at the same time accuracy score is not a good measure of evaluation for some particular dataset like fraud detection that we discussed during class imbalance problem. Let's consider the same dataset, suppose we have 1000 transaction in the dataset. Out of 1000 transactions 20 transactions are fraud transactions. Now let's say you build a model which predicted all the 1000 transactions as not fraud transaction, for 980 transaction which were not fraud, the prediction is correct while the transaction which were actually fraud are also predicted as not fraud. The accuracy is nothing but total correct prediction divided by total prediction. In this case we have total prediction as 1000 (as we have 1000 transactions) while total correct prediction is 980, resulting the accuracy score of 980/1000 = 0.98. The model is giving 98% of accuracy. Do you think the model is good? No, because our model could not notice the transaction which were actually fraud. \n",
    "\n",
    "Here we will discuss some other metrices for both classification and regression."
   ]
  },
  {
   "cell_type": "markdown",
   "metadata": {
    "id": "1D9DMXXigh1Z"
   },
   "source": [
    "## 1. Evaluation Metrics"
   ]
  },
  {
   "cell_type": "markdown",
   "metadata": {
    "id": "OD9O15axgh2G"
   },
   "source": [
    "**All performance metrics in sklearn are to be written in the same way -**  \n",
    "> ``` metric_function(true_label, predicted_labels) ```"
   ]
  },
  {
   "cell_type": "markdown",
   "metadata": {
    "id": "_V1Az3YsBUgP"
   },
   "source": [
    "Below are the metrics for classification problems."
   ]
  },
  {
   "cell_type": "markdown",
   "metadata": {
    "id": "HtZ2yI1Lgh2I"
   },
   "source": [
    "### Confusion Matrix\n",
    "A confusion matrix is a table that is often used to describe the performance of a classification model (or \"classifier\") on a set of test data for which the true values are known. The confusion matrix itself is relatively simple to understand, but the related terminology can be confusing.\n",
    "\n",
    "Further reading about confusion matrix and its related terminologies: \n",
    "1. https://www.dataschool.io/simple-guide-to-confusion-matrix-terminology/\n",
    "2. https://towardsdatascience.com/understanding-confusion-matrix-a9ad42dcfd62"
   ]
  },
  {
   "cell_type": "code",
   "metadata": {
    "id": "gKr_nFuRgh2K"
   },
   "source": [
    "from sklearn.metrics import confusion_matrix"
   ],
   "execution_count": 11,
   "outputs": []
  },
  {
   "cell_type": "code",
   "metadata": {
    "id": "i3S3OpD6QLmq",
    "colab": {
     "base_uri": "https://localhost:8080/",
     "height": 51
    },
    "outputId": "8ca53c35-9a0b-4f18-e100-b5854bd3026e"
   },
   "source": [
    "confusion_matrix(y_test, y_pred)\n",
    "sns.heatmap(data=confusion_matrix(y_test, y_pred), annot=True)"
   ],
   "execution_count": 12,
   "outputs": [
    {
     "data": {
      "text/plain": "<AxesSubplot:>"
     },
     "execution_count": 12,
     "metadata": {},
     "output_type": "execute_result"
    },
    {
     "data": {
      "text/plain": "<Figure size 640x480 with 2 Axes>",
      "image/png": "[encoded data removed]"
     },
     "metadata": {},
     "output_type": "display_data"
    }
   ]
  },
  {
   "cell_type": "code",
   "metadata": {
    "id": "12hGE_5rgh2O",
    "colab": {
     "base_uri": "https://localhost:8080/",
     "height": 83
    },
    "outputId": "3838b868-6827-4ccf-e72e-2cd599e51ba9"
   },
   "source": [
    "tn, fp, fn, tp = confusion_matrix(y_test, y_pred).ravel()     # ravel() is used to convert a 2D array to 1D array. The output by confusion matrix is a 2D array.\n",
    "print(\"True Positive\", tp)\n",
    "print(\"True Negative\", tn)\n",
    "print(\"False Positive\", fp)\n",
    "print(\"False Negative\", fn)"
   ],
   "execution_count": 13,
   "outputs": [
    {
     "name": "stdout",
     "output_type": "stream",
     "text": [
      "True Positive 29\n",
      "True Negative 77\n",
      "False Positive 15\n",
      "False Negative 33\n"
     ]
    }
   ]
  },
  {
   "cell_type": "markdown",
   "metadata": {
    "id": "SqjqAVSQgh2S"
   },
   "source": [
    "### Accuracy\n",
    "\\begin{align}\n",
    "Accuracy = \\frac{TP+TN}{TP+TN+FN+FP}\n",
    "\\end{align}"
   ]
  },
  {
   "cell_type": "code",
   "metadata": {
    "id": "AX3DELNUgh2U",
    "colab": {
     "base_uri": "https://localhost:8080/",
     "height": 33
    },
    "outputId": "6552982e-cdff-4261-bd26-d6bef8b695c8"
   },
   "source": [
    "from sklearn.metrics import accuracy_score\n",
    "acc = accuracy_score(y_test, y_pred)\n",
    "acc"
   ],
   "execution_count": 14,
   "outputs": [
    {
     "data": {
      "text/plain": "0.6883116883116883"
     },
     "execution_count": 14,
     "metadata": {},
     "output_type": "execute_result"
    }
   ]
  },
  {
   "cell_type": "markdown",
   "metadata": {
    "id": "KNFBGQaCEjCA"
   },
   "source": [
    "**When is it good to use accuracy score as a model evaluation metric?**\n",
    "1. The classifications in the dataset is nearly symmetrical (means equal distribution of all the classes).\n",
    "2. The false positive and false negative on test data are nearly equal."
   ]
  },
  {
   "cell_type": "markdown",
   "metadata": {
    "id": "Yh4fSgV9gh2a"
   },
   "source": [
    "### Recall (Sensitivity)\n",
    "\\begin{align}\n",
    "Sensitivity = \\frac{TP}{TP+FN}\n",
    "\\end{align}"
   ]
  },
  {
   "cell_type": "code",
   "metadata": {
    "id": "GGBdDw9hgh2b"
   },
   "source": [
    "from sklearn.metrics import recall_score"
   ],
   "execution_count": 15,
   "outputs": []
  },
  {
   "cell_type": "code",
   "metadata": {
    "id": "Jk9ffog9gh2g",
    "colab": {
     "base_uri": "https://localhost:8080/",
     "height": 33
    },
    "outputId": "912d0b8a-4a36-49fb-e836-c7f62d10a468"
   },
   "source": [
    "recall_score(y_test, y_pred)"
   ],
   "execution_count": 16,
   "outputs": [
    {
     "data": {
      "text/plain": "0.46774193548387094"
     },
     "execution_count": 16,
     "metadata": {},
     "output_type": "execute_result"
    }
   ]
  },
  {
   "cell_type": "code",
   "execution_count": 17,
   "outputs": [
    {
     "name": "stdout",
     "output_type": "stream",
     "text": [
      "0.46774193548387094\n"
     ]
    }
   ],
   "source": [
    "print(tp/(tp+fn))"
   ],
   "metadata": {
    "collapsed": false
   }
  },
  {
   "cell_type": "markdown",
   "metadata": {
    "id": "WlQf5BUtgh2o"
   },
   "source": [
    "### Specificity\n",
    "sklearn does not have an inbuild function for Specificity. But by adding parameter pos_label =0 to the recall function, we treat that as the positive class, and hence gives the correct output\n",
    "\\begin{align}\n",
    "Specificity = \\frac{TN}{TN+FP}\n",
    "\\end{align}"
   ]
  },
  {
   "cell_type": "code",
   "metadata": {
    "id": "lHTxK6NHgh2q",
    "colab": {
     "base_uri": "https://localhost:8080/",
     "height": 33
    },
    "outputId": "017b4969-98b9-41d2-e5d2-6acf9abe7c7b"
   },
   "source": [
    "print(\"Specificity with recall pos label=0: \",recall_score(y_test, y_pred, pos_label=0))"
   ],
   "execution_count": 18,
   "outputs": [
    {
     "name": "stdout",
     "output_type": "stream",
     "text": [
      "Specificity with recall pos label=0:  0.8369565217391305\n"
     ]
    }
   ]
  },
  {
   "cell_type": "code",
   "execution_count": 19,
   "outputs": [
    {
     "name": "stdout",
     "output_type": "stream",
     "text": [
      "0.8369565217391305\n"
     ]
    }
   ],
   "source": [
    "print(tn/(tn+fp))"
   ],
   "metadata": {
    "collapsed": false
   }
  },
  {
   "cell_type": "markdown",
   "metadata": {
    "id": "6UAM0Kz2gh2u"
   },
   "source": [
    "**Checking with formulas (tn , fp from confusion matrix):**"
   ]
  },
  {
   "cell_type": "code",
   "metadata": {
    "id": "rrthV4dhgh2v",
    "colab": {
     "base_uri": "https://localhost:8080/",
     "height": 33
    },
    "outputId": "1ed220dc-0bf5-4d17-e539-867e3b757b5c"
   },
   "source": [
    "print(\"Specificity with Formulas: \", tn/(tn+fp))"
   ],
   "execution_count": 20,
   "outputs": [
    {
     "name": "stdout",
     "output_type": "stream",
     "text": [
      "Specificity with Formulas:  0.8369565217391305\n"
     ]
    }
   ]
  },
  {
   "cell_type": "markdown",
   "metadata": {
    "id": "A7QrITQBgh21"
   },
   "source": [
    "They are the same! You can use either one of them!"
   ]
  },
  {
   "cell_type": "markdown",
   "metadata": {
    "id": "plCwrQB_gh23"
   },
   "source": [
    "### Precision\n",
    "\\begin{align}\n",
    "Precision = \\frac{TP}{TP+FP}\n",
    "\\end{align}"
   ]
  },
  {
   "cell_type": "code",
   "metadata": {
    "id": "14pynqe6gh25",
    "colab": {
     "base_uri": "https://localhost:8080/",
     "height": 33
    },
    "outputId": "72dfd133-8680-447f-d843-1134cda93d5d"
   },
   "source": [
    "from sklearn.metrics import precision_score\n",
    "precision_score(y_test, y_pred)"
   ],
   "execution_count": 33,
   "outputs": [
    {
     "data": {
      "text/plain": "0.75"
     },
     "execution_count": 33,
     "metadata": {},
     "output_type": "execute_result"
    }
   ]
  },
  {
   "cell_type": "code",
   "metadata": {
    "id": "9ZOVR0Xt5D0w",
    "colab": {
     "base_uri": "https://localhost:8080/",
     "height": 33
    },
    "outputId": "45acff56-9a7b-4155-c02b-4a9f2f55651a"
   },
   "source": [
    "tp / (tp + fp)"
   ],
   "execution_count": 34,
   "outputs": [
    {
     "data": {
      "text/plain": "0.75"
     },
     "execution_count": 34,
     "metadata": {},
     "output_type": "execute_result"
    }
   ]
  },
  {
   "cell_type": "markdown",
   "metadata": {
    "id": "1_2Y9vQ9gh2_"
   },
   "source": [
    "### Imbalanced Datasets"
   ]
  },
  {
   "cell_type": "code",
   "metadata": {
    "id": "UwMwh4mhgh3A",
    "colab": {
     "base_uri": "https://localhost:8080/",
     "height": 68
    },
    "outputId": "f7e0da40-b05d-4108-e294-6c76789dd795"
   },
   "source": [
    "diabetes_data.iloc[:,-1].value_counts()"
   ],
   "execution_count": 21,
   "outputs": [
    {
     "data": {
      "text/plain": "0    500\n1    268\nName: diabetes, dtype: int64"
     },
     "execution_count": 21,
     "metadata": {},
     "output_type": "execute_result"
    }
   ]
  },
  {
   "cell_type": "markdown",
   "metadata": {
    "id": "zY7eJaxsgh3K"
   },
   "source": [
    "### Matthews Correlation Coefficient\n",
    "\\begin{align}\n",
    "MCC = \\frac{(TP*TN)-(FP*FN)}{\\sqrt{(TP+FP)(TP+FN)(TN+FP)(TN+FN)}}\n",
    "\\end{align}"
   ]
  },
  {
   "cell_type": "code",
   "metadata": {
    "id": "vr62zEHWgh3L",
    "colab": {
     "base_uri": "https://localhost:8080/",
     "height": 34
    },
    "outputId": "5fe8aac5-3a86-4692-ccc0-be548b68ab15"
   },
   "source": [
    "from sklearn.metrics import matthews_corrcoef\n",
    "print(\"MCC Score: \",matthews_corrcoef(y_test, y_pred))"
   ],
   "execution_count": 22,
   "outputs": [
    {
     "name": "stdout",
     "output_type": "stream",
     "text": [
      "MCC Score:  0.3307785452577072\n"
     ]
    }
   ]
  },
  {
   "cell_type": "markdown",
   "metadata": {
    "id": "hum7bVaAgh3P"
   },
   "source": [
    "### F1 Score\n",
    "It is the harmonic mean of Precision and recall\n",
    "\n",
    "\\begin{align}\n",
    "Precision = \\frac{2*Precision*Recall}{Precision+Recall}\n",
    "\\end{align}"
   ]
  },
  {
   "cell_type": "code",
   "metadata": {
    "id": "Q3A9uIKwgh3Q",
    "colab": {
     "base_uri": "https://localhost:8080/",
     "height": 34
    },
    "outputId": "60635cd0-26ff-43c3-eb73-7e3521a1b854"
   },
   "source": [
    "from sklearn.metrics import f1_score\n",
    "print(\"F1 Score: \",f1_score(y_test, y_pred))"
   ],
   "execution_count": 23,
   "outputs": [
    {
     "name": "stdout",
     "output_type": "stream",
     "text": [
      "F1 Score:  0.5471698113207547\n"
     ]
    }
   ]
  },
  {
   "cell_type": "markdown",
   "metadata": {
    "id": "JVcVsBEhgh3V"
   },
   "source": [
    "## Area Under the Curve (Reciever Operating Characterstics)"
   ]
  },
  {
   "cell_type": "code",
   "metadata": {
    "id": "YypfoTaVgh3X"
   },
   "source": [
    "from sklearn.metrics import roc_curve, roc_auc_score"
   ],
   "execution_count": 24,
   "outputs": []
  },
  {
   "cell_type": "code",
   "metadata": {
    "id": "ZZPwqn0Dgh3c",
    "colab": {
     "base_uri": "https://localhost:8080/",
     "height": 279
    },
    "outputId": "736cafda-0895-4db3-df99-e378f1294d57"
   },
   "source": [
    "y_pred_prob_yes=mlp.predict_proba(x_test)\n",
    "fpr, tpr, thresholds = roc_curve(y_test, y_pred_prob_yes[:,1])\n",
    "\n",
    "sns.lineplot(x = fpr, y = tpr).set(xlabel='AUC: ' +  str(roc_auc_score(y_test,y_pred_prob_yes[:,1])))\n",
    "\n"
   ],
   "execution_count": 25,
   "outputs": [
    {
     "data": {
      "text/plain": "[Text(0.5, 0, 'AUC: 0.6977559607293129')]"
     },
     "execution_count": 25,
     "metadata": {},
     "output_type": "execute_result"
    },
    {
     "data": {
      "text/plain": "<Figure size 640x480 with 1 Axes>",
      "image/png": "[encoded data removed]"
     },
     "metadata": {},
     "output_type": "display_data"
    }
   ]
  },
  {
   "cell_type": "markdown",
   "metadata": {
    "id": "rHrohQufgh3l"
   },
   "source": [
    "## 1.2 Regression Evaluation Metrics "
   ]
  },
  {
   "cell_type": "markdown",
   "metadata": {
    "id": "dUc_2Fz7gh3m"
   },
   "source": [
    "Wine Dataset  \n",
    "    <b> Predictor Variable: </b> Quality (Tells quality of wine)"
   ]
  },
  {
   "cell_type": "code",
   "metadata": {
    "id": "WMZbaFOcgh3o",
    "colab": {
     "base_uri": "https://localhost:8080/",
     "height": 204
    },
    "outputId": "a61c71e4-da89-4733-a334-e86fa4f32c0b"
   },
   "source": [
    "wine = pd.read_csv(\"https://raw.githubusercontent.com/dphi-official/ML_Models/master/Performance_Evaluation/winequality.csv\", sep=\";\")\n",
    "wine.head()"
   ],
   "execution_count": 26,
   "outputs": [
    {
     "data": {
      "text/plain": "   fixed acidity  volatile acidity  citric acid  residual sugar  chlorides  \\\n0            7.0              0.27         0.36            20.7      0.045   \n1            6.3              0.30         0.34             1.6      0.049   \n2            8.1              0.28         0.40             6.9      0.050   \n3            7.2              0.23         0.32             8.5      0.058   \n4            7.2              0.23         0.32             8.5      0.058   \n\n   free sulfur dioxide  total sulfur dioxide  density    pH  sulphates  \\\n0                 45.0                 170.0   1.0010  3.00       0.45   \n1                 14.0                 132.0   0.9940  3.30       0.49   \n2                 30.0                  97.0   0.9951  3.26       0.44   \n3                 47.0                 186.0   0.9956  3.19       0.40   \n4                 47.0                 186.0   0.9956  3.19       0.40   \n\n   alcohol  quality  \n0      8.8        6  \n1      9.5        6  \n2     10.1        6  \n3      9.9        6  \n4      9.9        6  ",
      "text/html": "<div>\n<style scoped>\n    .dataframe tbody tr th:only-of-type {\n        vertical-align: middle;\n    }\n\n    .dataframe tbody tr th {\n        vertical-align: top;\n    }\n\n    .dataframe thead th {\n        text-align: right;\n    }\n</style>\n<table border=\"1\" class=\"dataframe\">\n  <thead>\n    <tr style=\"text-align: right;\">\n      <th></th>\n      <th>fixed acidity</th>\n      <th>volatile acidity</th>\n      <th>citric acid</th>\n      <th>residual sugar</th>\n      <th>chlorides</th>\n      <th>free sulfur dioxide</th>\n      <th>total sulfur dioxide</th>\n      <th>density</th>\n      <th>pH</th>\n      <th>sulphates</th>\n      <th>alcohol</th>\n      <th>quality</th>\n    </tr>\n  </thead>\n  <tbody>\n    <tr>\n      <th>0</th>\n      <td>7.0</td>\n      <td>0.27</td>\n      <td>0.36</td>\n      <td>20.7</td>\n      <td>0.045</td>\n      <td>45.0</td>\n      <td>170.0</td>\n      <td>1.0010</td>\n      <td>3.00</td>\n      <td>0.45</td>\n      <td>8.8</td>\n      <td>6</td>\n    </tr>\n    <tr>\n      <th>1</th>\n      <td>6.3</td>\n      <td>0.30</td>\n      <td>0.34</td>\n      <td>1.6</td>\n      <td>0.049</td>\n      <td>14.0</td>\n      <td>132.0</td>\n      <td>0.9940</td>\n      <td>3.30</td>\n      <td>0.49</td>\n      <td>9.5</td>\n      <td>6</td>\n    </tr>\n    <tr>\n      <th>2</th>\n      <td>8.1</td>\n      <td>0.28</td>\n      <td>0.40</td>\n      <td>6.9</td>\n      <td>0.050</td>\n      <td>30.0</td>\n      <td>97.0</td>\n      <td>0.9951</td>\n      <td>3.26</td>\n      <td>0.44</td>\n      <td>10.1</td>\n      <td>6</td>\n    </tr>\n    <tr>\n      <th>3</th>\n      <td>7.2</td>\n      <td>0.23</td>\n      <td>0.32</td>\n      <td>8.5</td>\n      <td>0.058</td>\n      <td>47.0</td>\n      <td>186.0</td>\n      <td>0.9956</td>\n      <td>3.19</td>\n      <td>0.40</td>\n      <td>9.9</td>\n      <td>6</td>\n    </tr>\n    <tr>\n      <th>4</th>\n      <td>7.2</td>\n      <td>0.23</td>\n      <td>0.32</td>\n      <td>8.5</td>\n      <td>0.058</td>\n      <td>47.0</td>\n      <td>186.0</td>\n      <td>0.9956</td>\n      <td>3.19</td>\n      <td>0.40</td>\n      <td>9.9</td>\n      <td>6</td>\n    </tr>\n  </tbody>\n</table>\n</div>"
     },
     "execution_count": 26,
     "metadata": {},
     "output_type": "execute_result"
    }
   ]
  },
  {
   "cell_type": "code",
   "execution_count": 27,
   "outputs": [
    {
     "name": "stdout",
     "output_type": "stream",
     "text": [
      "<class 'pandas.core.frame.DataFrame'>\n",
      "RangeIndex: 4898 entries, 0 to 4897\n",
      "Data columns (total 12 columns):\n",
      " #   Column                Non-Null Count  Dtype  \n",
      "---  ------                --------------  -----  \n",
      " 0   fixed acidity         4898 non-null   float64\n",
      " 1   volatile acidity      4898 non-null   float64\n",
      " 2   citric acid           4898 non-null   float64\n",
      " 3   residual sugar        4898 non-null   float64\n",
      " 4   chlorides             4898 non-null   float64\n",
      " 5   free sulfur dioxide   4898 non-null   float64\n",
      " 6   total sulfur dioxide  4898 non-null   float64\n",
      " 7   density               4898 non-null   float64\n",
      " 8   pH                    4898 non-null   float64\n",
      " 9   sulphates             4898 non-null   float64\n",
      " 10  alcohol               4898 non-null   float64\n",
      " 11  quality               4898 non-null   int64  \n",
      "dtypes: float64(11), int64(1)\n",
      "memory usage: 459.3 KB\n"
     ]
    }
   ],
   "source": [
    "wine.info()"
   ],
   "metadata": {
    "collapsed": false
   }
  },
  {
   "cell_type": "code",
   "execution_count": 28,
   "outputs": [
    {
     "data": {
      "text/plain": "<Figure size 2000x1000 with 9 Axes>",
      "image/png": "[encoded data removed]"
     },
     "metadata": {},
     "output_type": "display_data"
    }
   ],
   "source": [
    "\n",
    "\n",
    "fig, ax = plt.subplots(nrows=3, ncols=3, figsize=(20, 10))\n",
    "\n",
    "for col, index in zip(wine, ax.flatten()):\n",
    "\n",
    "    sns.boxplot(y = wine[col], ax = index).set(xlabel=col, ylabel = 'value')\n"
   ],
   "metadata": {
    "collapsed": false
   }
  },
  {
   "cell_type": "markdown",
   "metadata": {
    "id": "K9dBEH_895Xx"
   },
   "source": [
    "### Separate Input and Output Variables"
   ]
  },
  {
   "cell_type": "code",
   "metadata": {
    "id": "OIuUR4Hy9459"
   },
   "source": [
    "X = wine.drop('quality', axis = 1)\n",
    "y = wine.quality"
   ],
   "execution_count": 29,
   "outputs": []
  },
  {
   "cell_type": "markdown",
   "metadata": {
    "id": "GP8EUDXTgh3s"
   },
   "source": [
    "#### Split into training and testing (80:20)"
   ]
  },
  {
   "cell_type": "code",
   "metadata": {
    "id": "GGgMF3Rzgh3t"
   },
   "source": [
    "# Here we are performing both separation of input and output variable and the splitting.\n",
    "from sklearn.model_selection import train_test_split\n",
    "x_train, x_test, y_train, y_test = train_test_split(X, y, test_size=0.2, random_state=3)"
   ],
   "execution_count": 40,
   "outputs": []
  },
  {
   "cell_type": "code",
   "execution_count": 37,
   "outputs": [
    {
     "ename": "TypeError",
     "evalue": "float() argument must be a string or a number, not 'StandardScaler'",
     "output_type": "error",
     "traceback": [
      "\u001B[1;31m---------------------------------------------------------------------------\u001B[0m",
      "\u001B[1;31mTypeError\u001B[0m                                 Traceback (most recent call last)",
      "Cell \u001B[1;32mIn [37], line 4\u001B[0m\n\u001B[0;32m      2\u001B[0m scaler \u001B[38;5;241m=\u001B[39m StandardScaler()\n\u001B[0;32m      3\u001B[0m x_train \u001B[38;5;241m=\u001B[39m scaler\u001B[38;5;241m.\u001B[39mfit(x_train)\n\u001B[1;32m----> 4\u001B[0m x_train \u001B[38;5;241m=\u001B[39m \u001B[43mscaler\u001B[49m\u001B[38;5;241;43m.\u001B[39;49m\u001B[43mtransform\u001B[49m\u001B[43m(\u001B[49m\u001B[43mx_train\u001B[49m\u001B[43m)\u001B[49m\n\u001B[0;32m      5\u001B[0m x_test \u001B[38;5;241m=\u001B[39m scaler\u001B[38;5;241m.\u001B[39mtransform(x_test)\n",
      "File \u001B[1;32m~\\anaconda3\\envs\\financevenv\\lib\\site-packages\\sklearn\\utils\\_set_output.py:140\u001B[0m, in \u001B[0;36m_wrap_method_output.<locals>.wrapped\u001B[1;34m(self, X, *args, **kwargs)\u001B[0m\n\u001B[0;32m    138\u001B[0m \u001B[38;5;129m@wraps\u001B[39m(f)\n\u001B[0;32m    139\u001B[0m \u001B[38;5;28;01mdef\u001B[39;00m \u001B[38;5;21mwrapped\u001B[39m(\u001B[38;5;28mself\u001B[39m, X, \u001B[38;5;241m*\u001B[39margs, \u001B[38;5;241m*\u001B[39m\u001B[38;5;241m*\u001B[39mkwargs):\n\u001B[1;32m--> 140\u001B[0m     data_to_wrap \u001B[38;5;241m=\u001B[39m \u001B[43mf\u001B[49m\u001B[43m(\u001B[49m\u001B[38;5;28;43mself\u001B[39;49m\u001B[43m,\u001B[49m\u001B[43m \u001B[49m\u001B[43mX\u001B[49m\u001B[43m,\u001B[49m\u001B[43m \u001B[49m\u001B[38;5;241;43m*\u001B[39;49m\u001B[43margs\u001B[49m\u001B[43m,\u001B[49m\u001B[43m \u001B[49m\u001B[38;5;241;43m*\u001B[39;49m\u001B[38;5;241;43m*\u001B[39;49m\u001B[43mkwargs\u001B[49m\u001B[43m)\u001B[49m\n\u001B[0;32m    141\u001B[0m     \u001B[38;5;28;01mif\u001B[39;00m \u001B[38;5;28misinstance\u001B[39m(data_to_wrap, \u001B[38;5;28mtuple\u001B[39m):\n\u001B[0;32m    142\u001B[0m         \u001B[38;5;66;03m# only wrap the first output for cross decomposition\u001B[39;00m\n\u001B[0;32m    143\u001B[0m         \u001B[38;5;28;01mreturn\u001B[39;00m (\n\u001B[0;32m    144\u001B[0m             _wrap_data_with_container(method, data_to_wrap[\u001B[38;5;241m0\u001B[39m], X, \u001B[38;5;28mself\u001B[39m),\n\u001B[0;32m    145\u001B[0m             \u001B[38;5;241m*\u001B[39mdata_to_wrap[\u001B[38;5;241m1\u001B[39m:],\n\u001B[0;32m    146\u001B[0m         )\n",
      "File \u001B[1;32m~\\anaconda3\\envs\\financevenv\\lib\\site-packages\\sklearn\\preprocessing\\_data.py:992\u001B[0m, in \u001B[0;36mStandardScaler.transform\u001B[1;34m(self, X, copy)\u001B[0m\n\u001B[0;32m    989\u001B[0m check_is_fitted(\u001B[38;5;28mself\u001B[39m)\n\u001B[0;32m    991\u001B[0m copy \u001B[38;5;241m=\u001B[39m copy \u001B[38;5;28;01mif\u001B[39;00m copy \u001B[38;5;129;01mis\u001B[39;00m \u001B[38;5;129;01mnot\u001B[39;00m \u001B[38;5;28;01mNone\u001B[39;00m \u001B[38;5;28;01melse\u001B[39;00m \u001B[38;5;28mself\u001B[39m\u001B[38;5;241m.\u001B[39mcopy\n\u001B[1;32m--> 992\u001B[0m X \u001B[38;5;241m=\u001B[39m \u001B[38;5;28;43mself\u001B[39;49m\u001B[38;5;241;43m.\u001B[39;49m\u001B[43m_validate_data\u001B[49m\u001B[43m(\u001B[49m\n\u001B[0;32m    993\u001B[0m \u001B[43m    \u001B[49m\u001B[43mX\u001B[49m\u001B[43m,\u001B[49m\n\u001B[0;32m    994\u001B[0m \u001B[43m    \u001B[49m\u001B[43mreset\u001B[49m\u001B[38;5;241;43m=\u001B[39;49m\u001B[38;5;28;43;01mFalse\u001B[39;49;00m\u001B[43m,\u001B[49m\n\u001B[0;32m    995\u001B[0m \u001B[43m    \u001B[49m\u001B[43maccept_sparse\u001B[49m\u001B[38;5;241;43m=\u001B[39;49m\u001B[38;5;124;43m\"\u001B[39;49m\u001B[38;5;124;43mcsr\u001B[39;49m\u001B[38;5;124;43m\"\u001B[39;49m\u001B[43m,\u001B[49m\n\u001B[0;32m    996\u001B[0m \u001B[43m    \u001B[49m\u001B[43mcopy\u001B[49m\u001B[38;5;241;43m=\u001B[39;49m\u001B[43mcopy\u001B[49m\u001B[43m,\u001B[49m\n\u001B[0;32m    997\u001B[0m \u001B[43m    \u001B[49m\u001B[43mdtype\u001B[49m\u001B[38;5;241;43m=\u001B[39;49m\u001B[43mFLOAT_DTYPES\u001B[49m\u001B[43m,\u001B[49m\n\u001B[0;32m    998\u001B[0m \u001B[43m    \u001B[49m\u001B[43mforce_all_finite\u001B[49m\u001B[38;5;241;43m=\u001B[39;49m\u001B[38;5;124;43m\"\u001B[39;49m\u001B[38;5;124;43mallow-nan\u001B[39;49m\u001B[38;5;124;43m\"\u001B[39;49m\u001B[43m,\u001B[49m\n\u001B[0;32m    999\u001B[0m \u001B[43m\u001B[49m\u001B[43m)\u001B[49m\n\u001B[0;32m   1001\u001B[0m \u001B[38;5;28;01mif\u001B[39;00m sparse\u001B[38;5;241m.\u001B[39missparse(X):\n\u001B[0;32m   1002\u001B[0m     \u001B[38;5;28;01mif\u001B[39;00m \u001B[38;5;28mself\u001B[39m\u001B[38;5;241m.\u001B[39mwith_mean:\n",
      "File \u001B[1;32m~\\anaconda3\\envs\\financevenv\\lib\\site-packages\\sklearn\\base.py:565\u001B[0m, in \u001B[0;36mBaseEstimator._validate_data\u001B[1;34m(self, X, y, reset, validate_separately, **check_params)\u001B[0m\n\u001B[0;32m    563\u001B[0m     \u001B[38;5;28;01mraise\u001B[39;00m \u001B[38;5;167;01mValueError\u001B[39;00m(\u001B[38;5;124m\"\u001B[39m\u001B[38;5;124mValidation should be done on X, y or both.\u001B[39m\u001B[38;5;124m\"\u001B[39m)\n\u001B[0;32m    564\u001B[0m \u001B[38;5;28;01melif\u001B[39;00m \u001B[38;5;129;01mnot\u001B[39;00m no_val_X \u001B[38;5;129;01mand\u001B[39;00m no_val_y:\n\u001B[1;32m--> 565\u001B[0m     X \u001B[38;5;241m=\u001B[39m \u001B[43mcheck_array\u001B[49m\u001B[43m(\u001B[49m\u001B[43mX\u001B[49m\u001B[43m,\u001B[49m\u001B[43m \u001B[49m\u001B[43minput_name\u001B[49m\u001B[38;5;241;43m=\u001B[39;49m\u001B[38;5;124;43m\"\u001B[39;49m\u001B[38;5;124;43mX\u001B[39;49m\u001B[38;5;124;43m\"\u001B[39;49m\u001B[43m,\u001B[49m\u001B[43m \u001B[49m\u001B[38;5;241;43m*\u001B[39;49m\u001B[38;5;241;43m*\u001B[39;49m\u001B[43mcheck_params\u001B[49m\u001B[43m)\u001B[49m\n\u001B[0;32m    566\u001B[0m     out \u001B[38;5;241m=\u001B[39m X\n\u001B[0;32m    567\u001B[0m \u001B[38;5;28;01melif\u001B[39;00m no_val_X \u001B[38;5;129;01mand\u001B[39;00m \u001B[38;5;129;01mnot\u001B[39;00m no_val_y:\n",
      "File \u001B[1;32m~\\anaconda3\\envs\\financevenv\\lib\\site-packages\\sklearn\\utils\\validation.py:879\u001B[0m, in \u001B[0;36mcheck_array\u001B[1;34m(array, accept_sparse, accept_large_sparse, dtype, order, copy, force_all_finite, ensure_2d, allow_nd, ensure_min_samples, ensure_min_features, estimator, input_name)\u001B[0m\n\u001B[0;32m    877\u001B[0m         array \u001B[38;5;241m=\u001B[39m xp\u001B[38;5;241m.\u001B[39mastype(array, dtype, copy\u001B[38;5;241m=\u001B[39m\u001B[38;5;28;01mFalse\u001B[39;00m)\n\u001B[0;32m    878\u001B[0m     \u001B[38;5;28;01melse\u001B[39;00m:\n\u001B[1;32m--> 879\u001B[0m         array \u001B[38;5;241m=\u001B[39m \u001B[43m_asarray_with_order\u001B[49m\u001B[43m(\u001B[49m\u001B[43marray\u001B[49m\u001B[43m,\u001B[49m\u001B[43m \u001B[49m\u001B[43morder\u001B[49m\u001B[38;5;241;43m=\u001B[39;49m\u001B[43morder\u001B[49m\u001B[43m,\u001B[49m\u001B[43m \u001B[49m\u001B[43mdtype\u001B[49m\u001B[38;5;241;43m=\u001B[39;49m\u001B[43mdtype\u001B[49m\u001B[43m,\u001B[49m\u001B[43m \u001B[49m\u001B[43mxp\u001B[49m\u001B[38;5;241;43m=\u001B[39;49m\u001B[43mxp\u001B[49m\u001B[43m)\u001B[49m\n\u001B[0;32m    880\u001B[0m \u001B[38;5;28;01mexcept\u001B[39;00m ComplexWarning \u001B[38;5;28;01mas\u001B[39;00m complex_warning:\n\u001B[0;32m    881\u001B[0m     \u001B[38;5;28;01mraise\u001B[39;00m \u001B[38;5;167;01mValueError\u001B[39;00m(\n\u001B[0;32m    882\u001B[0m         \u001B[38;5;124m\"\u001B[39m\u001B[38;5;124mComplex data not supported\u001B[39m\u001B[38;5;130;01m\\n\u001B[39;00m\u001B[38;5;132;01m{}\u001B[39;00m\u001B[38;5;130;01m\\n\u001B[39;00m\u001B[38;5;124m\"\u001B[39m\u001B[38;5;241m.\u001B[39mformat(array)\n\u001B[0;32m    883\u001B[0m     ) \u001B[38;5;28;01mfrom\u001B[39;00m \u001B[38;5;21;01mcomplex_warning\u001B[39;00m\n",
      "File \u001B[1;32m~\\anaconda3\\envs\\financevenv\\lib\\site-packages\\sklearn\\utils\\_array_api.py:185\u001B[0m, in \u001B[0;36m_asarray_with_order\u001B[1;34m(array, dtype, order, copy, xp)\u001B[0m\n\u001B[0;32m    182\u001B[0m     xp, _ \u001B[38;5;241m=\u001B[39m get_namespace(array)\n\u001B[0;32m    183\u001B[0m \u001B[38;5;28;01mif\u001B[39;00m xp\u001B[38;5;241m.\u001B[39m\u001B[38;5;18m__name__\u001B[39m \u001B[38;5;129;01min\u001B[39;00m {\u001B[38;5;124m\"\u001B[39m\u001B[38;5;124mnumpy\u001B[39m\u001B[38;5;124m\"\u001B[39m, \u001B[38;5;124m\"\u001B[39m\u001B[38;5;124mnumpy.array_api\u001B[39m\u001B[38;5;124m\"\u001B[39m}:\n\u001B[0;32m    184\u001B[0m     \u001B[38;5;66;03m# Use NumPy API to support order\u001B[39;00m\n\u001B[1;32m--> 185\u001B[0m     array \u001B[38;5;241m=\u001B[39m \u001B[43mnumpy\u001B[49m\u001B[38;5;241;43m.\u001B[39;49m\u001B[43masarray\u001B[49m\u001B[43m(\u001B[49m\u001B[43marray\u001B[49m\u001B[43m,\u001B[49m\u001B[43m \u001B[49m\u001B[43morder\u001B[49m\u001B[38;5;241;43m=\u001B[39;49m\u001B[43morder\u001B[49m\u001B[43m,\u001B[49m\u001B[43m \u001B[49m\u001B[43mdtype\u001B[49m\u001B[38;5;241;43m=\u001B[39;49m\u001B[43mdtype\u001B[49m\u001B[43m)\u001B[49m\n\u001B[0;32m    186\u001B[0m     \u001B[38;5;28;01mreturn\u001B[39;00m xp\u001B[38;5;241m.\u001B[39masarray(array, copy\u001B[38;5;241m=\u001B[39mcopy)\n\u001B[0;32m    187\u001B[0m \u001B[38;5;28;01melse\u001B[39;00m:\n",
      "\u001B[1;31mTypeError\u001B[0m: float() argument must be a string or a number, not 'StandardScaler'"
     ]
    }
   ],
   "source": [
    "\n",
    "\n",
    "from sklearn.preprocessing import StandardScaler\n",
    "scaler = StandardScaler()\n",
    "x_train = scaler.fit(x_train)\n",
    "x_train = scaler.transform(x_train)\n",
    "x_test = scaler.transform(x_test)\n"
   ],
   "metadata": {
    "collapsed": false
   }
  },
  {
   "cell_type": "markdown",
   "metadata": {
    "id": "DnuT2aaQgh3z"
   },
   "source": [
    "Creating a model"
   ]
  },
  {
   "cell_type": "code",
   "metadata": {
    "id": "bsRa3Pe0gh32"
   },
   "source": [
    "from sklearn.linear_model import LinearRegression"
   ],
   "execution_count": 38,
   "outputs": []
  },
  {
   "cell_type": "code",
   "metadata": {
    "id": "_PMAIOYRgh4B",
    "colab": {
     "base_uri": "https://localhost:8080/",
     "height": 51
    },
    "outputId": "7f35c4a9-bf95-4409-d2a8-0039f48e8d29"
   },
   "source": [
    "lr = LinearRegression()\n",
    "lr.fit(x_train, y_train)\n",
    "y_pred = lr.predict(x_test)\n",
    "y_pred[:10]"
   ],
   "execution_count": 41,
   "outputs": [
    {
     "data": {
      "text/plain": "array([5.44455619, 5.57868309, 5.99091469, 5.19864346, 6.0666099 ,\n       5.01639077, 5.68416174, 6.26611011, 5.97010538, 5.65519351])"
     },
     "execution_count": 41,
     "metadata": {},
     "output_type": "execute_result"
    }
   ]
  },
  {
   "cell_type": "markdown",
   "metadata": {
    "id": "HEQuSCzMgh4R"
   },
   "source": [
    "## Performance Measurement"
   ]
  },
  {
   "cell_type": "markdown",
   "metadata": {
    "id": "0FZ86Xpbgh4U"
   },
   "source": [
    "Let y = Actual Value,  $\\tilde{y}$ = Predicted Value"
   ]
  },
  {
   "cell_type": "markdown",
   "metadata": {
    "id": "AjIBhaItgh4X"
   },
   "source": [
    "### Mean Absolute Error  \n",
    "*  MAE is the absolute difference between the target value and the value predicted by the model.  \n",
    "*  The MAE is more robust to outliers and does not penalize the errors as extremely as mse\n",
    "\\begin{align}\n",
    "MAE  = \\frac{1}{n}\\sum|y-\\tilde{y}| \n",
    "\\end{align}"
   ]
  },
  {
   "cell_type": "code",
   "metadata": {
    "id": "ZNOb1yb2gh4Y",
    "colab": {
     "base_uri": "https://localhost:8080/",
     "height": 34
    },
    "outputId": "34c55745-8a56-418b-e2d0-3094280c6179"
   },
   "source": [
    "from sklearn.metrics import mean_absolute_error\n",
    "mean_absolute_error(y_test, y_pred)"
   ],
   "execution_count": 42,
   "outputs": [
    {
     "data": {
      "text/plain": "0.5972358558776449"
     },
     "execution_count": 42,
     "metadata": {},
     "output_type": "execute_result"
    }
   ]
  },
  {
   "cell_type": "markdown",
   "metadata": {
    "id": "RHrz_JZAgh4j"
   },
   "source": [
    "### Mean Squared Error\n",
    "*  It is simply the average of the squared difference between the target value and the value predicted by the regression model. \n",
    "*  As it squares the differences, it penalizes even a small error which leads to over-estimation of how bad the model is.\n",
    "*  MSE or Mean Squared Error is one of the most preferred metrics for regression tasks. \n",
    "\\begin{align}\n",
    "MSE & = \\frac{1}{n}\\sum(y-\\tilde{y})^2\n",
    "\\end{align}"
   ]
  },
  {
   "cell_type": "code",
   "metadata": {
    "id": "NHZcMiDrgh4k",
    "colab": {
     "base_uri": "https://localhost:8080/",
     "height": 34
    },
    "outputId": "93911077-2b6d-4b9f-d802-4c37c75ad6a5"
   },
   "source": [
    "from sklearn.metrics import mean_squared_error\n",
    "print(\"Mean Squared Error: \",mean_squared_error(y_test, y_pred))"
   ],
   "execution_count": 43,
   "outputs": [
    {
     "name": "stdout",
     "output_type": "stream",
     "text": [
      "Mean Squared Error:  0.5906658099548044\n"
     ]
    }
   ]
  },
  {
   "cell_type": "markdown",
   "metadata": {
    "id": "mx7Dtz5Wgh4r"
   },
   "source": [
    "### Root Mean Square Error\n",
    "*  RMSE is the square root of the averaged squared difference between the target value and the value predicted by the model. \n",
    "*  It is preferred more in some cases because the errors are first squared before averaging which poses a high penalty on large errors.\n",
    "*  This implies that RMSE is useful when large errors are undesired.\n",
    "\\begin{align}\n",
    "RMSE  = \\sqrt{\\frac{1}{n}\\sum(y-\\tilde{y})^2}\n",
    "\\end{align}"
   ]
  },
  {
   "cell_type": "code",
   "metadata": {
    "scrolled": false,
    "id": "EfQI1JFzgh4u",
    "colab": {
     "base_uri": "https://localhost:8080/",
     "height": 34
    },
    "outputId": "27d0cbec-1f3e-4478-8337-43e846dc27c4"
   },
   "source": [
    "print(\"Root Mean Squared Error: \",mean_squared_error(y_test, y_pred, squared=False))"
   ],
   "execution_count": 44,
   "outputs": [
    {
     "name": "stdout",
     "output_type": "stream",
     "text": [
      "Root Mean Squared Error:  0.7685478579469235\n"
     ]
    }
   ]
  },
  {
   "cell_type": "markdown",
   "metadata": {
    "id": "Onetrj_Agh5A"
   },
   "source": [
    "### R Squared\n",
    "<li>The metric helps us to compare our current model with a constant baseline and tells us how much our model is better\n",
    "\\begin{align}\n",
    "R^2 = 1 - \\frac{MSE(Model)}{MSE(Baseline)}\n",
    "\\end{align}"
   ]
  },
  {
   "cell_type": "code",
   "metadata": {
    "id": "XmTpqG2rgh5B",
    "colab": {
     "base_uri": "https://localhost:8080/",
     "height": 34
    },
    "outputId": "dee569dc-829b-4bd3-9c80-a78670c63190"
   },
   "source": [
    "from sklearn.metrics import r2_score\n",
    "r2_score(y_test, y_pred)"
   ],
   "execution_count": 45,
   "outputs": [
    {
     "data": {
      "text/plain": "0.2832037191111062"
     },
     "execution_count": 45,
     "metadata": {},
     "output_type": "execute_result"
    }
   ]
  },
  {
   "cell_type": "markdown",
   "metadata": {
    "id": "7VoVhiVKgh5H"
   },
   "source": [
    "# 2. Cross Validation\n",
    "Usually, our data is divided into Train and Test Sets.\n",
    "The Train set is further divided into Train and Validation set. \n",
    "\n",
    "The Validation Set helps us in selecting good parameters/tune the parameters for our model.\n",
    "\n",
    "This Three fold set can be seen in the figure below:\n",
    "\n",
    "![train-test-val](https://amueller.github.io/ml-training-intro/slides/images/threefold_split.png)\n",
    "\n",
    "Our dataset should be as large as possible to train the model and removing considerable part of it for validation poses a problem of losing valuable portion of data that we would prefer to be able to train. \n",
    "\n",
    "In order to address this issue, we use the Cross validation technique. Cross Validation has a number of types out of which we'll be using K-fold cross validation today.\n",
    "\n"
   ]
  },
  {
   "cell_type": "code",
   "metadata": {
    "id": "0dGdSReX-iFq"
   },
   "source": [
    "# Here the diabetes data is use\n",
    "# separate input and output vairables\n",
    "X = diabetes_data.drop('diabetes', axis = 1)\n",
    "y = diabetes_data.diabetes"
   ],
   "execution_count": 46,
   "outputs": []
  },
  {
   "cell_type": "markdown",
   "metadata": {
    "id": "gESg0k8_gh5H"
   },
   "source": [
    "### 2.1 K-Fold Cross Validation"
   ]
  },
  {
   "cell_type": "code",
   "metadata": {
    "id": "OKX8Gjyugh5I"
   },
   "source": [
    "from sklearn.model_selection import cross_validate"
   ],
   "execution_count": 47,
   "outputs": []
  },
  {
   "cell_type": "markdown",
   "metadata": {
    "id": "H7kl2Ah_gh5Q"
   },
   "source": [
    "<blockquote> We can also import cross_val_score from the same library, but it only allows a single scorer to be implemented. So we are using cross_validate </blockquote>"
   ]
  },
  {
   "cell_type": "code",
   "metadata": {
    "id": "4GiU8TBWgh5Q",
    "colab": {
     "base_uri": "https://localhost:8080/",
     "height": 187
    },
    "outputId": "c4a7721f-ee8e-4a58-e8a6-6ffed4a71b10"
   },
   "source": [
    "cv_results = cross_validate(mlp, X, y, cv=10, scoring=[\"accuracy\", \"precision\", \"recall\"])\n",
    "cv_results"
   ],
   "execution_count": 48,
   "outputs": [
    {
     "data": {
      "text/plain": "{'fit_time': array([0.13223529, 0.38896203, 0.12928414, 0.17933941, 0.10110569,\n        0.27227569, 0.12770247, 0.2752738 , 0.21192431, 0.16684198]),\n 'score_time': array([0.00422311, 0.00359774, 0.00418019, 0.00317597, 0.00415277,\n        0.00362039, 0.00363231, 0.00449014, 0.00316072, 0.00417542]),\n 'test_accuracy': array([0.66233766, 0.66233766, 0.64935065, 0.68831169, 0.63636364,\n        0.76623377, 0.74025974, 0.71428571, 0.69736842, 0.69736842]),\n 'test_precision': array([0.51851852, 0.51724138, 0.5       , 0.54545455, 0.46153846,\n        0.73684211, 0.66666667, 0.63157895, 0.63636364, 0.57894737]),\n 'test_recall': array([0.51851852, 0.55555556, 0.51851852, 0.66666667, 0.22222222,\n        0.51851852, 0.51851852, 0.44444444, 0.26923077, 0.42307692])}"
     },
     "execution_count": 48,
     "metadata": {},
     "output_type": "execute_result"
    }
   ]
  },
  {
   "cell_type": "markdown",
   "metadata": {
    "id": "C2N7yzQRgh5V"
   },
   "source": [
    "**cv=10 is provided, which means we are performing 10 fold cross validation**"
   ]
  },
  {
   "cell_type": "code",
   "metadata": {
    "id": "jxN-rYmigh5W",
    "colab": {
     "base_uri": "https://localhost:8080/",
     "height": 68
    },
    "outputId": "0b1f990c-9387-4746-f9be-c9f1dd1aff2b"
   },
   "source": [
    "print(\"Accuracy: \", cv_results[\"test_accuracy\"].mean())\n",
    "print(\"Precision: \", cv_results[\"test_precision\"].mean())\n",
    "print(\"Recall: \", cv_results[\"test_recall\"].mean())"
   ],
   "execution_count": 49,
   "outputs": [
    {
     "name": "stdout",
     "output_type": "stream",
     "text": [
      "Accuracy:  0.6914217361585783\n",
      "Precision:  0.5793151628904806\n",
      "Recall:  0.4655270655270655\n"
     ]
    }
   ]
  },
  {
   "cell_type": "markdown",
   "metadata": {
    "id": "NrNp0R93gh5a"
   },
   "source": [
    "**For all valid scoring options - use the following:**"
   ]
  },
  {
   "cell_type": "code",
   "metadata": {
    "id": "7mz4G3U5gh5e"
   },
   "source": [
    "import sklearn.metrics as m\n",
    "m.SCORERS.keys()\n"
   ],
   "execution_count": 50,
   "outputs": [
    {
     "data": {
      "text/plain": "dict_keys(['explained_variance', 'r2', 'max_error', 'matthews_corrcoef', 'neg_median_absolute_error', 'neg_mean_absolute_error', 'neg_mean_absolute_percentage_error', 'neg_mean_squared_error', 'neg_mean_squared_log_error', 'neg_root_mean_squared_error', 'neg_mean_poisson_deviance', 'neg_mean_gamma_deviance', 'accuracy', 'top_k_accuracy', 'roc_auc', 'roc_auc_ovr', 'roc_auc_ovo', 'roc_auc_ovr_weighted', 'roc_auc_ovo_weighted', 'balanced_accuracy', 'average_precision', 'neg_log_loss', 'neg_brier_score', 'positive_likelihood_ratio', 'neg_negative_likelihood_ratio', 'adjusted_rand_score', 'rand_score', 'homogeneity_score', 'completeness_score', 'v_measure_score', 'mutual_info_score', 'adjusted_mutual_info_score', 'normalized_mutual_info_score', 'fowlkes_mallows_score', 'precision', 'precision_macro', 'precision_micro', 'precision_samples', 'precision_weighted', 'recall', 'recall_macro', 'recall_micro', 'recall_samples', 'recall_weighted', 'f1', 'f1_macro', 'f1_micro', 'f1_samples', 'f1_weighted', 'jaccard', 'jaccard_macro', 'jaccard_micro', 'jaccard_samples', 'jaccard_weighted'])"
     },
     "execution_count": 50,
     "metadata": {},
     "output_type": "execute_result"
    }
   ]
  },
  {
   "cell_type": "markdown",
   "metadata": {
    "id": "ygp5tnDdgh5q"
   },
   "source": [
    "For more complicated scoring metrics (such as specificity, which isn't explicilty provided by sklearn), or to create your own metrics, \n",
    "http://scikit-learn.org/stable/modules/model_evaluation.html#using-multiple-metric-evaluation"
   ]
  },
  {
   "cell_type": "markdown",
   "metadata": {
    "id": "YoVnDQsigh5x"
   },
   "source": [
    "### 2.2 Leave One Out Cross Validation"
   ]
  },
  {
   "cell_type": "markdown",
   "metadata": {
    "id": "ZDxbxH6ggh5x"
   },
   "source": [
    "<blockquote>This code takes a long time to run, you can either skip running this part and directly just see the printed results, or wait for 10-15 mins for this to run </blockquote>"
   ]
  },
  {
   "cell_type": "code",
   "metadata": {
    "id": "BZEbpVaygh5y"
   },
   "source": [
    "from sklearn.model_selection import LeaveOneOut"
   ],
   "execution_count": 51,
   "outputs": []
  },
  {
   "cell_type": "code",
   "metadata": {
    "scrolled": true,
    "id": "vBvtai8Xgh55",
    "colab": {
     "base_uri": "https://localhost:8080/",
     "height": 1000
    },
    "outputId": "86cf758d-e7da-44d6-e566-5138c11c9254"
   },
   "source": [
    "cv_results = cross_validate(mlp, X, y,\n",
    "                            cv=LeaveOneOut(), scoring=[\"accuracy\"])\n",
    "cv_results"
   ],
   "execution_count": 52,
   "outputs": [
    {
     "data": {
      "text/plain": "{'fit_time': array([0.14069772, 0.15428138, 0.29200339, 0.24029088, 0.18135166,\n        0.13763738, 0.12516594, 0.18871045, 0.17964697, 0.31173635,\n        0.15267491, 0.23561645, 0.21041799, 0.21653914, 0.18815517,\n        0.14702964, 0.14030361, 0.25594974, 0.13966799, 0.1217401 ,\n        0.25637341, 0.1819458 , 0.22720122, 0.25492144, 0.33220863,\n        0.29930854, 0.29521966, 0.14692211, 0.24396586, 0.07088327,\n        0.21172714, 0.20238113, 0.23819709, 0.26693416, 0.17738008,\n        0.09707379, 0.19092107, 0.17930293, 0.24910021, 0.2408886 ,\n        0.27328634, 0.17097926, 0.24465847, 0.29428363, 0.10784316,\n        0.33876324, 0.15194917, 0.14651275, 0.1526947 , 0.34965062,\n        0.22630739, 0.27206206, 0.15070963, 0.1773634 , 0.15054679,\n        0.25993967, 0.15398955, 0.30915737, 0.25937748, 0.15567183,\n        0.23988867, 0.30199051, 0.12412071, 0.20474529, 0.20284557,\n        0.19578576, 0.19042134, 0.18563509, 0.2958312 , 0.11172223,\n        0.16039157, 0.10162401, 0.12640834, 0.13922143, 0.28893161,\n        0.12819004, 0.17894411, 0.2550962 , 0.17427182, 0.18863845,\n        0.3210175 , 0.23637962, 0.2535758 , 0.18857741, 0.28129482,\n        0.34181523, 0.289397  , 0.22714186, 0.18560028, 0.22148323,\n        0.23952174, 0.13116908, 0.21235704, 0.17496467, 0.14049864,\n        0.09505177, 0.28165054, 0.16181588, 0.1675837 , 0.14770293,\n        0.11324763, 0.16017818, 0.18238735, 0.17089581, 0.07083988,\n        0.28023696, 0.10313535, 0.19023252, 0.21136665, 0.22413659,\n        0.20845079, 0.18583131, 0.27893758, 0.19086695, 0.18427873,\n        0.16902447, 0.28103948, 0.15105247, 0.40138912, 0.38578129,\n        0.18974924, 0.25662422, 0.1440773 , 0.1909461 , 0.15003562,\n        0.23276162, 0.20703769, 0.12208557, 0.10558796, 0.15411377,\n        0.21761703, 0.21492362, 0.11367512, 0.29794431, 0.18542576,\n        0.33651948, 0.26532698, 0.11610532, 0.20337915, 0.30835938,\n        0.15581322, 0.19896531, 0.30366158, 0.14754629, 0.32246709,\n        0.14555192, 0.15835261, 0.14277124, 0.14310026, 0.16219783,\n        0.14109302, 0.09054375, 0.31902266, 0.2491169 , 0.28279972,\n        0.25667334, 0.18881392, 0.11032248, 0.22983885, 0.16434884,\n        0.2077117 , 0.14372969, 0.18822598, 0.11977887, 0.13652277,\n        0.1537292 , 0.21499157, 0.13049722, 0.14311934, 0.18518782,\n        0.15564799, 0.16911697, 0.16089106, 0.31568098, 0.23831797,\n        0.17806053, 0.21892071, 0.18490338, 0.2361722 , 0.30149341,\n        0.22644043, 0.21187472, 0.29344654, 0.15422273, 0.22528839,\n        0.14568043, 0.24150443, 0.13253593, 0.09295893, 0.20944405,\n        0.11328578, 0.09093904, 0.19223499, 0.13792229, 0.13216305,\n        0.2016685 , 0.15872765, 0.19721437, 0.21329427, 0.140697  ,\n        0.14854527, 0.21626806, 0.17067242, 0.17599869, 0.14177585,\n        0.29114318, 0.14080667, 0.17512369, 0.25932693, 0.13730693,\n        0.14594984, 0.28664398, 0.13514757, 0.18247175, 0.14712286,\n        0.24828625, 0.1690228 , 0.30339146, 0.31693983, 0.22002506,\n        0.13664913, 0.19078398, 0.28268361, 0.27774835, 0.27700591,\n        0.29928613, 0.18561363, 0.18035674, 0.27114153, 0.2023797 ,\n        0.24456167, 0.19610596, 0.07510924, 0.11527252, 0.2217586 ,\n        0.24551964, 0.14185667, 0.19136524, 0.19067121, 0.12812257,\n        0.10728717, 0.16700649, 0.24603677, 0.19655228, 0.20021081,\n        0.07039404, 0.17431164, 0.18353033, 0.19200444, 0.19082475,\n        0.34599686, 0.25179672, 0.26277542, 0.12548971, 0.20985913,\n        0.13924623, 0.11899686, 0.34102774, 0.2775116 , 0.17600822,\n        0.24249959, 0.15646887, 0.18193674, 0.37176728, 0.1213088 ,\n        0.17742157, 0.32251811, 0.1041739 , 0.17166162, 0.2193687 ,\n        0.16800427, 0.29988551, 0.19024873, 0.4379704 , 0.16919208,\n        0.09752631, 0.2256391 , 0.31136203, 0.17482972, 0.14891481,\n        0.12797737, 0.21812701, 0.12749314, 0.17461801, 0.19629407,\n        0.2559104 , 0.23197222, 0.20167279, 0.34710479, 0.1847496 ,\n        0.24258232, 0.17805362, 0.14355183, 0.07715964, 0.22369242,\n        0.09211159, 0.24824095, 0.22144175, 0.14586186, 0.10525966,\n        0.26858687, 0.29382992, 0.2067039 , 0.14579296, 0.14747858,\n        0.10626221, 0.2854774 , 0.202461  , 0.11296105, 0.16988587,\n        0.24795294, 0.19599175, 0.12615418, 0.17064023, 0.47173452,\n        0.17645764, 0.16257763, 0.30582309, 0.20801568, 0.10252976,\n        0.14140105, 0.24135137, 0.19766855, 0.18042016, 0.13837481,\n        0.21598077, 0.27828526, 0.24481845, 0.31439114, 0.13424015,\n        0.27685261, 0.19023848, 0.21236038, 0.18649578, 0.13170862,\n        0.25427508, 0.15880036, 0.10829353, 0.26669383, 0.257828  ,\n        0.19940782, 0.19526315, 0.26181054, 0.26849222, 0.26339912,\n        0.19100165, 0.11490154, 0.1045661 , 0.12618828, 0.34377885,\n        0.22219729, 0.25385237, 0.25383425, 0.18717813, 0.10227251,\n        0.25332236, 0.25890017, 0.20368934, 0.16686511, 0.14178252,\n        0.08892369, 0.16437864, 0.14887333, 0.19887924, 0.25258255,\n        0.24146461, 0.22079539, 0.13664913, 0.23257399, 0.25979042,\n        0.16902828, 0.17000747, 0.18865514, 0.23133492, 0.29334307,\n        0.42868233, 0.09220433, 0.09424758, 0.15355778, 0.26703286,\n        0.17237115, 0.21690655, 0.12480474, 0.26388717, 0.18395567,\n        0.24957442, 0.09589791, 0.22528172, 0.1985364 , 0.14035535,\n        0.15009832, 0.28246689, 0.19404769, 0.26468801, 0.26817608,\n        0.31918383, 0.11531901, 0.18576503, 0.2470901 , 0.21641159,\n        0.19366693, 0.1588037 , 0.11967826, 0.1755743 , 0.15433145,\n        0.14929485, 0.14442778, 0.21538663, 0.18039131, 0.22815514,\n        0.25524068, 0.22212148, 0.09177947, 0.17416525, 0.06042409,\n        0.23604226, 0.1809907 , 0.23260593, 0.17314172, 0.205369  ,\n        0.27212787, 0.21904564, 0.17518234, 0.23146176, 0.12397432,\n        0.0854702 , 0.18052387, 0.18684936, 0.2624228 , 0.39445066,\n        0.22159815, 0.23799205, 0.11275887, 0.15867329, 0.27729273,\n        0.12852669, 0.14294267, 0.25546288, 0.12935734, 0.13067889,\n        0.16744804, 0.18458056, 0.26942372, 0.18254662, 0.15095878,\n        0.26780891, 0.18153453, 0.27612805, 0.17851448, 0.21226668,\n        0.2168653 , 0.24453259, 0.27965283, 0.30829668, 0.24372768,\n        0.18869638, 0.19197488, 0.13688087, 0.20023274, 0.14136314,\n        0.16569948, 0.13109565, 0.43410015, 0.10628486, 0.14182687,\n        0.17895675, 0.23938107, 0.15926266, 0.34695745, 0.19839835,\n        0.32944417, 0.1814456 , 0.19910502, 0.29451227, 0.12606215,\n        0.329844  , 0.43124175, 0.1957345 , 0.13602352, 0.22656059,\n        0.19570756, 0.18356442, 0.26907468, 0.18856335, 0.13968658,\n        0.15263581, 0.19105339, 0.1815834 , 0.27468443, 0.19859767,\n        0.1543293 , 0.10048032, 0.14424777, 0.20542884, 0.12510753,\n        0.21955085, 0.28213215, 0.1455121 , 0.24575663, 0.09915805,\n        0.10537648, 0.183604  , 0.16183376, 0.22510338, 0.09001827,\n        0.08442283, 0.30145288, 0.22375989, 0.20540905, 0.16390347,\n        0.15187669, 0.16853118, 0.14645267, 0.23923326, 0.22229934,\n        0.24363565, 0.12768936, 0.10957122, 0.13976145, 0.33474851,\n        0.21589756, 0.14343739, 0.39989567, 0.22892332, 0.23942351,\n        0.21947718, 0.19357133, 0.23310351, 0.10741043, 0.12725329,\n        0.21640229, 0.11220574, 0.16584134, 0.19529033, 0.13430095,\n        0.2200737 , 0.21158648, 0.19071865, 0.3041203 , 0.20810509,\n        0.17049336, 0.18806314, 0.12103915, 0.26103783, 0.13287759,\n        0.37108588, 0.17633843, 0.1433363 , 0.12515283, 0.11998987,\n        0.1647613 , 0.11680579, 0.32738423, 0.23328733, 0.2448647 ,\n        0.15590024, 0.13666415, 0.14351463, 0.42278862, 0.16238451,\n        0.27550864, 0.14011097, 0.17894077, 0.18869662, 0.14080167,\n        0.20696735, 0.13097262, 0.20001721, 0.16059923, 0.20055556,\n        0.15590239, 0.14026451, 0.18315625, 0.16453934, 0.13066936,\n        0.19878054, 0.18640518, 0.20006704, 0.38009572, 0.16202354,\n        0.21150613, 0.17492771, 0.15467858, 0.15980315, 0.1038208 ,\n        0.07493806, 0.18875909, 0.16475916, 0.25663686, 0.18180394,\n        0.18973684, 0.2061305 , 0.23680687, 0.12427902, 0.13027072,\n        0.21886325, 0.27508307, 0.10147476, 0.10969591, 0.15200853,\n        0.22400665, 0.20645976, 0.29258299, 0.17030764, 0.17943525,\n        0.24498868, 0.17304277, 0.1969552 , 0.20181394, 0.13550401,\n        0.22147369, 0.1888237 , 0.20387697, 0.26763153, 0.21402192,\n        0.1566751 , 0.28025007, 0.18036938, 0.19107389, 0.23645282,\n        0.24572945, 0.11267471, 0.19475579, 0.1416924 , 0.40541649,\n        0.24201751, 0.23824859, 0.18628097, 0.1153419 , 0.22140646,\n        0.29798484, 0.27359319, 0.18143559, 0.31149983, 0.36675406,\n        0.27994514, 0.12217331, 0.20055461, 0.31050467, 0.1817627 ,\n        0.15921521, 0.33479834, 0.1680243 , 0.23405004, 0.16635156,\n        0.20531774, 0.19922948, 0.18213844, 0.19370914, 0.16074705,\n        0.22857904, 0.17049479, 0.32642746, 0.23415279, 0.14803576,\n        0.17610931, 0.20545983, 0.31065202, 0.14468074, 0.15807056,\n        0.15052223, 0.09373856, 0.33768082, 0.24102235, 0.32414961,\n        0.2079947 , 0.11173987, 0.11754322, 0.14241505, 0.19032955,\n        0.26455069, 0.16965866, 0.1829257 , 0.29923105, 0.1074214 ,\n        0.30105042, 0.21484804, 0.27725005, 0.3699441 , 0.22475839,\n        0.14531159, 0.18220329, 0.29226327, 0.32769179, 0.21938848,\n        0.28847814, 0.20231271, 0.29056311, 0.13630295, 0.26948047,\n        0.21210265, 0.41069937, 0.15855765, 0.13787746, 0.15168357,\n        0.21178555, 0.22911739, 0.21218371, 0.28471446, 0.15364838,\n        0.11615396, 0.11847162, 0.20052719, 0.06263804, 0.13132834,\n        0.14194393, 0.28021884, 0.14088225, 0.20828748, 0.15632176,\n        0.15755439, 0.06915116, 0.17737722, 0.26570153, 0.26659369,\n        0.25528669, 0.15318394, 0.29673338, 0.14432597, 0.33216214,\n        0.24324298, 0.27455664, 0.3018558 , 0.26165485, 0.1030004 ,\n        0.34176135, 0.20747876, 0.20900416, 0.2751472 , 0.16653848,\n        0.31241775, 0.21485114, 0.17966533, 0.22629905, 0.13848042,\n        0.25661516, 0.12167335, 0.28325891, 0.21635771, 0.1709156 ,\n        0.20637751, 0.41973495, 0.18769836, 0.20796132, 0.15686822,\n        0.12832999, 0.16998982, 0.20269156, 0.20361781, 0.15330791,\n        0.1894145 , 0.18785644, 0.334167  , 0.36739707, 0.2134459 ,\n        0.19478703, 0.22741389, 0.18618703, 0.12446356, 0.14203072,\n        0.33016467, 0.15604377, 0.13177252, 0.24090743, 0.28313565,\n        0.26553869, 0.32667279, 0.22272491]),\n 'score_time': array([0.00099993, 0.00204587, 0.00211239, 0.00161147, 0.00115275,\n        0.00100255, 0.00213957, 0.00224829, 0.0025394 , 0.00200009,\n        0.00200009, 0.00300097, 0.00250244, 0.00099993, 0.00199795,\n        0.00216413, 0.0010004 , 0.00204229, 0.00200129, 0.00200033,\n        0.00099993, 0.00210857, 0.00200057, 0.00150418, 0.00200438,\n        0.00214982, 0.0019815 , 0.00216579, 0.00213575, 0.0010016 ,\n        0.00200438, 0.00209856, 0.00163674, 0.00199986, 0.00200415,\n        0.00200129, 0.00200009, 0.00216389, 0.00121355, 0.00200272,\n        0.00200343, 0.00116301, 0.00228834, 0.00200081, 0.00200081,\n        0.00199962, 0.00203037, 0.00150704, 0.00400138, 0.00200057,\n        0.00200891, 0.00100017, 0.00201273, 0.00100017, 0.00200605,\n        0.00250578, 0.00100064, 0.00100017, 0.00200796, 0.0021801 ,\n        0.00200725, 0.00200057, 0.00150275, 0.0020051 , 0.00200653,\n        0.00222516, 0.00199986, 0.0010004 , 0.00200033, 0.00200009,\n        0.00099993, 0.0010004 , 0.00200176, 0.00100064, 0.00200486,\n        0.00201368, 0.00200009, 0.00101137, 0.00221491, 0.00208163,\n        0.00150275, 0.0010078 , 0.00200057, 0.00223231, 0.00207496,\n        0.0025146 , 0.00202656, 0.00100017, 0.00150418, 0.00100684,\n        0.00099945, 0.0025022 , 0.00200057, 0.00201106, 0.00100088,\n        0.00255394, 0.00099993, 0.00200009, 0.00100255, 0.00199986,\n        0.00203657, 0.00200009, 0.00200939, 0.002002  , 0.00200009,\n        0.00200033, 0.00150228, 0.00200176, 0.0015018 , 0.00200605,\n        0.00100017, 0.00216389, 0.00100327, 0.00100398, 0.00150394,\n        0.00250578, 0.00100017, 0.00100398, 0.00200033, 0.00150228,\n        0.00150228, 0.00200057, 0.00200129, 0.00150228, 0.00200033,\n        0.00142908, 0.00201344, 0.00101948, 0.0010066 , 0.00250793,\n        0.00250244, 0.00200105, 0.00200725, 0.00200009, 0.00201774,\n        0.00256515, 0.00108528, 0.00282907, 0.00200057, 0.00205588,\n        0.00200105, 0.00199914, 0.00251627, 0.00209308, 0.00100064,\n        0.00200725, 0.00216937, 0.00202131, 0.00200009, 0.00100231,\n        0.00200152, 0.00200534, 0.00100017, 0.00150442, 0.00201178,\n        0.0010004 , 0.00100207, 0.00200176, 0.00150251, 0.0010004 ,\n        0.00200033, 0.00200224, 0.00100017, 0.0010047 , 0.00251126,\n        0.00200033, 0.00251126, 0.00200033, 0.00200653, 0.00200129,\n        0.00200033, 0.00100017, 0.00100064, 0.00200081, 0.00150633,\n        0.00250244, 0.00200033, 0.00200033, 0.00200057, 0.00100017,\n        0.00100327, 0.00199962, 0.00209332, 0.00200081, 0.00209451,\n        0.0010004 , 0.00200033, 0.00200033, 0.00104141, 0.00200057,\n        0.00200462, 0.00200057, 0.00200057, 0.00200009, 0.00151181,\n        0.0020051 , 0.00100017, 0.00200033, 0.00150347, 0.00100064,\n        0.00200653, 0.00150251, 0.00201416, 0.0010004 , 0.0010004 ,\n        0.0010004 , 0.00200462, 0.00200891, 0.00200033, 0.0024035 ,\n        0.00100017, 0.0021069 , 0.00206614, 0.00201941, 0.00201654,\n        0.00100756, 0.00204039, 0.00189018, 0.00201058, 0.00099969,\n        0.00099969, 0.00245404, 0.00100088, 0.00200105, 0.00244379,\n        0.00100827, 0.00258374, 0.00264621, 0.00200057, 0.00150442,\n        0.00150347, 0.00226021, 0.00250363, 0.0026648 , 0.00197148,\n        0.00158143, 0.00199962, 0.00165367, 0.00117898, 0.00165391,\n        0.00210309, 0.00162768, 0.00099993, 0.00166893, 0.00099921,\n        0.00222206, 0.00185204, 0.00199986, 0.0010078 , 0.00253868,\n        0.00068426, 0.00114393, 0.00150752, 0.00101089, 0.00150299,\n        0.00100064, 0.00100613, 0.00200462, 0.00200295, 0.00216126,\n        0.00100803, 0.00250435, 0.00200057, 0.00099969, 0.00106025,\n        0.00100875, 0.00200009, 0.00100112, 0.00203061, 0.0020051 ,\n        0.00100398, 0.00102925, 0.00102139, 0.00099969, 0.00200033,\n        0.0010004 , 0.00200033, 0.00150299, 0.0010004 , 0.00100017,\n        0.00100064, 0.00300097, 0.00200057, 0.00100017, 0.00200057,\n        0.00200057, 0.00200009, 0.00100064, 0.00200057, 0.00200033,\n        0.00100017, 0.00200033, 0.00099969, 0.00150394, 0.00202751,\n        0.00102305, 0.00200057, 0.00100398, 0.00238204, 0.00200653,\n        0.00200033, 0.00204444, 0.00204444, 0.00200558, 0.00200009,\n        0.00200033, 0.00201178, 0.00203013, 0.00150394, 0.00200009,\n        0.00208592, 0.00100422, 0.00101447, 0.00200081, 0.00200582,\n        0.0010047 , 0.00200653, 0.00100017, 0.00200558, 0.00200176,\n        0.00200438, 0.00208235, 0.00200081, 0.00099969, 0.00100017,\n        0.00200057, 0.00100017, 0.00200009, 0.00200057, 0.00100374,\n        0.00100803, 0.00201964, 0.00206041, 0.00200081, 0.00100017,\n        0.00204635, 0.00150299, 0.00200844, 0.00116992, 0.00200295,\n        0.00200844, 0.00199962, 0.00101066, 0.00150204, 0.0010047 ,\n        0.00200033, 0.00204206, 0.00200081, 0.002002  , 0.00200033,\n        0.00133824, 0.00200534, 0.00200677, 0.00200033, 0.00200796,\n        0.00250387, 0.00215816, 0.00200438, 0.00184608, 0.00200176,\n        0.00182128, 0.00198078, 0.00200009, 0.00100112, 0.00200081,\n        0.00150251, 0.00185227, 0.00200057, 0.00200057, 0.00200033,\n        0.00200033, 0.00217319, 0.00216675, 0.00200081, 0.00200224,\n        0.00200081, 0.00150347, 0.0010004 , 0.0016582 , 0.00209212,\n        0.00101733, 0.00202179, 0.00200558, 0.00111675, 0.00132012,\n        0.00103664, 0.00100756, 0.00215173, 0.00266504, 0.00201654,\n        0.00100541, 0.00150561, 0.00201845, 0.00100017, 0.00200033,\n        0.00200415, 0.0010438 , 0.00100017, 0.00200105, 0.0010035 ,\n        0.00099993, 0.00200129, 0.00074625, 0.00099993, 0.00115776,\n        0.00205517, 0.00100231, 0.00200987, 0.00201225, 0.00220823,\n        0.00099945, 0.00200152, 0.00100207, 0.00100183, 0.00150609,\n        0.00206733, 0.00100231, 0.00202727, 0.00216222, 0.00099993,\n        0.00100017, 0.00200105, 0.00100017, 0.00216079, 0.00215125,\n        0.00111651, 0.0020206 , 0.00199986, 0.00201249, 0.00286531,\n        0.00201344, 0.00101852, 0.00200009, 0.00200057, 0.00203061,\n        0.00100327, 0.00200295, 0.00200343, 0.00150371, 0.00100064,\n        0.00104976, 0.00150299, 0.00136542, 0.0010004 , 0.00100064,\n        0.00150204, 0.00201893, 0.00100017, 0.00253391, 0.00200486,\n        0.00100231, 0.00150228, 0.00200009, 0.00100017, 0.00200033,\n        0.0021131 , 0.00200152, 0.00100017, 0.00202775, 0.00150228,\n        0.00201225, 0.00202227, 0.00215006, 0.00117564, 0.00250196,\n        0.00199986, 0.00200224, 0.00200105, 0.00099993, 0.00100017,\n        0.00200081, 0.00200033, 0.00101328, 0.00200272, 0.00200224,\n        0.00200033, 0.0025053 , 0.00200009, 0.00200009, 0.00210166,\n        0.00181293, 0.00100708, 0.00200248, 0.001302  , 0.00115561,\n        0.0018239 , 0.00101304, 0.002105  , 0.00228286, 0.00156975,\n        0.00100517, 0.00100064, 0.00166225, 0.00099993, 0.0021553 ,\n        0.00200152, 0.00100136, 0.0015018 , 0.00201893, 0.00200009,\n        0.00099993, 0.00212646, 0.00182605, 0.00200033, 0.00200248,\n        0.00201035, 0.00250268, 0.00205302, 0.0020268 , 0.0010016 ,\n        0.00200009, 0.00100017, 0.00137043, 0.00100017, 0.00200462,\n        0.00106835, 0.00100279, 0.00200033, 0.00200081, 0.0021801 ,\n        0.0020082 , 0.00251722, 0.00111651, 0.00200009, 0.00204849,\n        0.00100255, 0.00200486, 0.00264335, 0.00200963, 0.00100756,\n        0.00101137, 0.00214052, 0.00199914, 0.00200105, 0.00100732,\n        0.00200033, 0.00230074, 0.00150275, 0.00200391, 0.00200033,\n        0.00118732, 0.00289702, 0.00112844, 0.00207973, 0.00270033,\n        0.00101447, 0.00150299, 0.00112677, 0.00102472, 0.00211644,\n        0.00207734, 0.00201368, 0.00200033, 0.00302458, 0.00255132,\n        0.00200438, 0.00200367, 0.00150299, 0.00233412, 0.00199914,\n        0.00150228, 0.00099993, 0.00100136, 0.00206256, 0.00228429,\n        0.00201869, 0.00215793, 0.0021584 , 0.0020082 , 0.00200057,\n        0.00216913, 0.00263906, 0.00200796, 0.00203919, 0.00200129,\n        0.00200009, 0.00200653, 0.00200844, 0.00225425, 0.00200486,\n        0.00102019, 0.00202227, 0.00200295, 0.00200295, 0.00251317,\n        0.001513  , 0.00150251, 0.00200582, 0.00200057, 0.00099993,\n        0.00203991, 0.00100231, 0.0010004 , 0.00200725, 0.00201702,\n        0.00157166, 0.00251532, 0.00200057, 0.00200033, 0.00200033,\n        0.00210476, 0.00201225, 0.00213432, 0.00201178, 0.00201058,\n        0.00100541, 0.00200105, 0.00150299, 0.00251436, 0.00103092,\n        0.00100207, 0.00100017, 0.00200009, 0.00164342, 0.00187182,\n        0.00100207, 0.00100255, 0.00251937, 0.00248027, 0.00200105,\n        0.00201344, 0.00200057, 0.00187588, 0.0020082 , 0.00150323,\n        0.00201035, 0.0010035 , 0.00100303, 0.00204182, 0.00200033,\n        0.00100017, 0.00218797, 0.00100017, 0.0025239 , 0.00200438,\n        0.00200033, 0.00216031, 0.0005033 , 0.00207496, 0.00200367,\n        0.00200248, 0.00200152, 0.00215983, 0.00100064, 0.00200224,\n        0.0020287 , 0.00200963, 0.00201392, 0.00106311, 0.00200009,\n        0.00215697, 0.00200963, 0.00244355, 0.00200009, 0.00200105,\n        0.00240993, 0.00100017, 0.00200772, 0.00200057, 0.00100255,\n        0.00200415, 0.00153112, 0.00100279, 0.00200319, 0.00100136,\n        0.00150323, 0.00200725, 0.00251222, 0.00100017, 0.00200081,\n        0.00200033, 0.00200057, 0.00200367, 0.00200057, 0.00200129,\n        0.00150347, 0.00200582, 0.00200009, 0.00100279, 0.00100422,\n        0.00100541, 0.00100279, 0.00099969, 0.00101209, 0.0009985 ,\n        0.00150323, 0.00145769, 0.00100327, 0.0010004 , 0.00200105,\n        0.00100017, 0.00200081, 0.00200033, 0.0010004 , 0.00150585,\n        0.00209308, 0.00200057, 0.00099993, 0.00200057, 0.00200057,\n        0.00200009, 0.00200009, 0.00200033, 0.00101137, 0.00200081,\n        0.00200129, 0.00201035, 0.00099993, 0.00100017, 0.00200033,\n        0.00200033, 0.00100017, 0.00200081, 0.00211549, 0.00200462,\n        0.00099993, 0.00199938, 0.00199986, 0.00199986, 0.0010004 ,\n        0.00200152, 0.00110507, 0.00199986, 0.00205231, 0.00200725,\n        0.00100017, 0.0010004 , 0.00200391, 0.00100017, 0.0010004 ,\n        0.00106382, 0.00200033, 0.00203419, 0.00140715, 0.00100255,\n        0.00118089, 0.00200105, 0.00258255, 0.00099993, 0.00199962,\n        0.0021739 , 0.0020144 , 0.00100136, 0.00199962, 0.00100279,\n        0.00100017, 0.00200653, 0.00100207, 0.00200009, 0.00205159,\n        0.00102139, 0.00201893, 0.00100446, 0.00200248, 0.0020268 ,\n        0.00201154, 0.00210524, 0.00150275, 0.00200057, 0.00200939,\n        0.0020833 , 0.00200033, 0.00150299, 0.00135994, 0.00099945,\n        0.00200057, 0.00200653, 0.0010035 ]),\n 'test_accuracy': array([1., 1., 1., 1., 1., 1., 1., 0., 0., 0., 1., 1., 0., 0., 1., 0., 0.,\n        0., 0., 0., 1., 1., 1., 0., 1., 1., 1., 1., 1., 1., 1., 0., 1., 1.,\n        0., 0., 0., 0., 0., 1., 1., 0., 1., 1., 0., 1., 0., 1., 0., 1., 1.,\n        1., 1., 1., 0., 1., 0., 1., 0., 1., 1., 1., 1., 0., 1., 1., 0., 1.,\n        1., 1., 0., 0., 0., 1., 1., 1., 1., 1., 1., 1., 0., 1., 1., 1., 0.,\n        1., 0., 1., 1., 1., 1., 1., 1., 1., 1., 1., 1., 1., 0., 0., 1., 0.,\n        1., 1., 1., 0., 1., 1., 1., 0., 1., 1., 1., 1., 1., 0., 1., 1., 1.,\n        1., 1., 1., 1., 1., 0., 0., 1., 1., 0., 0., 1., 1., 1., 0., 1., 1.,\n        1., 1., 1., 0., 1., 1., 1., 1., 1., 1., 1., 1., 1., 1., 1., 1., 1.,\n        1., 1., 0., 1., 0., 1., 1., 1., 1., 1., 1., 0., 1., 0., 1., 1., 1.,\n        0., 0., 0., 1., 1., 1., 1., 0., 0., 1., 1., 1., 1., 1., 0., 1., 1.,\n        0., 0., 0., 1., 0., 1., 0., 1., 1., 1., 0., 0., 1., 1., 1., 1., 1.,\n        0., 1., 1., 1., 1., 0., 1., 1., 1., 0., 0., 1., 1., 0., 0., 1., 0.,\n        0., 1., 0., 1., 1., 1., 1., 0., 1., 0., 1., 1., 1., 1., 1., 1., 0.,\n        1., 1., 1., 1., 1., 1., 0., 1., 0., 1., 0., 1., 0., 1., 1., 1., 1.,\n        0., 0., 1., 0., 1., 0., 1., 1., 0., 1., 1., 1., 0., 1., 1., 0., 1.,\n        1., 1., 1., 1., 1., 1., 1., 1., 1., 0., 1., 1., 0., 0., 1., 0., 1.,\n        1., 1., 0., 0., 1., 1., 0., 1., 1., 1., 1., 1., 0., 1., 0., 1., 1.,\n        1., 1., 0., 0., 1., 1., 1., 1., 1., 1., 1., 1., 0., 1., 1., 0., 0.,\n        0., 1., 0., 0., 0., 0., 1., 0., 1., 1., 1., 1., 1., 1., 0., 1., 1.,\n        1., 1., 1., 1., 1., 1., 0., 1., 1., 0., 1., 1., 1., 1., 1., 1., 1.,\n        0., 1., 1., 1., 1., 1., 0., 1., 1., 0., 1., 1., 0., 1., 1., 1., 1.,\n        0., 0., 1., 1., 1., 1., 1., 1., 1., 1., 1., 1., 0., 0., 1., 1., 1.,\n        1., 0., 1., 1., 1., 0., 0., 1., 1., 0., 1., 0., 1., 0., 0., 0., 1.,\n        1., 0., 1., 1., 0., 1., 0., 0., 1., 0., 1., 1., 1., 1., 1., 1., 0.,\n        1., 1., 1., 1., 0., 0., 1., 1., 1., 1., 1., 0., 0., 1., 1., 0., 1.,\n        0., 1., 1., 1., 1., 1., 0., 1., 1., 1., 1., 1., 1., 1., 1., 1., 1.,\n        1., 1., 1., 1., 1., 1., 1., 1., 1., 0., 0., 1., 0., 1., 1., 1., 1.,\n        0., 1., 1., 1., 0., 1., 1., 1., 0., 0., 1., 1., 1., 0., 1., 1., 0.,\n        0., 1., 1., 0., 1., 1., 0., 1., 1., 1., 1., 1., 1., 0., 1., 1., 1.,\n        0., 1., 1., 1., 1., 0., 1., 1., 1., 0., 1., 1., 1., 1., 0., 1., 1.,\n        1., 1., 1., 1., 1., 1., 1., 1., 1., 1., 1., 1., 1., 1., 0., 0., 1.,\n        1., 1., 1., 1., 1., 1., 1., 1., 1., 1., 1., 0., 1., 1., 0., 1., 0.,\n        0., 1., 1., 1., 1., 1., 0., 1., 0., 1., 1., 1., 1., 1., 0., 0., 0.,\n        0., 0., 0., 1., 1., 1., 0., 1., 1., 0., 0., 1., 1., 1., 0., 0., 0.,\n        1., 1., 0., 1., 0., 1., 1., 1., 0., 1., 0., 0., 1., 1., 1., 1., 1.,\n        1., 1., 1., 1., 1., 1., 0., 1., 1., 1., 0., 1., 1., 1., 1., 1., 1.,\n        1., 1., 1., 1., 1., 1., 1., 1., 1., 0., 1., 1., 1., 1., 1., 1., 0.,\n        1., 1., 0., 1., 1., 1., 1., 1., 1., 1., 1., 1., 1., 0., 1., 1., 0.,\n        1., 1., 1., 0., 0., 0., 0., 0., 1., 1., 1., 1., 1., 0., 1., 1., 1.,\n        1., 0., 1., 0., 0., 1., 1., 0., 1., 0., 1., 0., 1., 0., 1., 0., 1.,\n        0., 1., 0., 1., 0., 0., 1., 1., 1., 0., 1., 1., 0., 1., 1., 1., 1.,\n        1., 1., 0., 1., 1., 0., 1., 1., 1., 1., 1., 1., 1., 1., 1., 1., 0.,\n        0., 0., 1., 1., 1., 1., 1., 1., 0., 0., 1., 1., 0., 0., 1., 0., 1.,\n        0., 0., 1., 1., 1., 0., 1., 0., 1., 1., 1., 0., 1., 1., 1., 0., 1.,\n        1., 1., 1.])}"
     },
     "execution_count": 52,
     "metadata": {},
     "output_type": "execute_result"
    }
   ]
  },
  {
   "cell_type": "code",
   "metadata": {
    "id": "5VXdvPbqgh6F",
    "colab": {
     "base_uri": "https://localhost:8080/",
     "height": 34
    },
    "outputId": "936c9d9c-426c-499f-d22a-44bcee1d4717"
   },
   "source": [
    "cv_results['test_accuracy'].mean()"
   ],
   "execution_count": null,
   "outputs": [
    {
     "output_type": "execute_result",
     "data": {
      "text/plain": [
       "0.7252604166666666"
      ]
     },
     "metadata": {
      "tags": []
     },
     "execution_count": 41
    }
   ]
  },
  {
   "cell_type": "markdown",
   "metadata": {
    "id": "oh7CwmWygh6b"
   },
   "source": [
    "We have not included precision and recall in the metrics here. Can you think why?  \n",
    "**<mark>Hint:</mark> Imagine the confusion matrix when the testing has only one sample**"
   ]
  },
  {
   "cell_type": "markdown",
   "metadata": {
    "id": "Y1GyHfC0gh6j"
   },
   "source": [
    "## 3. Hyperparameter Tuning\n",
    "Hyperparameters are important parts of the ML model and can make the model gold or trash. Here we have discussed one of the popular hyperparameter tunning method i.e. using Grid Search CV. "
   ]
  },
  {
   "cell_type": "markdown",
   "metadata": {
    "id": "XEHcCWcegh6l"
   },
   "source": [
    "## 3.1 Grid Search CV"
   ]
  },
  {
   "cell_type": "markdown",
   "metadata": {
    "id": "QQwxdMUkgh6m"
   },
   "source": [
    "### 3.1.1 Crime Rate- Linear Regression"
   ]
  },
  {
   "cell_type": "markdown",
   "metadata": {
    "id": "3qVEuJimgh6n"
   },
   "source": [
    "**Predictor Variable: Crime Rate (Regression Based)**"
   ]
  },
  {
   "cell_type": "code",
   "metadata": {
    "id": "2Wbh15ZTgh6p"
   },
   "source": [
    "from sklearn.model_selection import GridSearchCV"
   ],
   "execution_count": 53,
   "outputs": []
  },
  {
   "cell_type": "code",
   "metadata": {
    "id": "NamrnJjOgh6y"
   },
   "source": [
    "crime = pd.read_csv(\"https://raw.githubusercontent.com/dphi-official/ML_Models/master/Performance_Evaluation/Standard%20Metropolitan%20Areas%20Data%20-%20train_data.csv\")\n",
    "train, test = train_test_split(crime)\n",
    "x_train = train.drop('crime_rate', axis = 1)     \n",
    "y_train = train.crime_rate      \n",
    "x_test = test.drop('crime_rate', axis = 1)      \n",
    "y_test = test.crime_rate        "
   ],
   "execution_count": 54,
   "outputs": []
  },
  {
   "cell_type": "markdown",
   "metadata": {
    "id": "1DZvhZ0fgh66"
   },
   "source": [
    "Performance without grid search: "
   ]
  },
  {
   "cell_type": "code",
   "metadata": {
    "id": "_TjevVRegh67"
   },
   "source": [
    "from sklearn.linear_model import LinearRegression\n",
    "lr = LinearRegression()\n",
    "lr.fit(x_train, y_train)\n",
    "y_pred = lr.predict(x_test)"
   ],
   "execution_count": 55,
   "outputs": []
  },
  {
   "cell_type": "code",
   "metadata": {
    "id": "u2rzRQoBgh7D",
    "colab": {
     "base_uri": "https://localhost:8080/",
     "height": 34
    },
    "outputId": "5af611ce-027b-4ebb-dd2a-82590614b5fa"
   },
   "source": [
    "mean_squared_error(y_test, y_pred, squared=False)"
   ],
   "execution_count": 56,
   "outputs": [
    {
     "data": {
      "text/plain": "10.473712856340395"
     },
     "execution_count": 56,
     "metadata": {},
     "output_type": "execute_result"
    }
   ]
  },
  {
   "cell_type": "markdown",
   "metadata": {
    "id": "no8Vw1Qmgh7N"
   },
   "source": [
    "Performance with Grid Search"
   ]
  },
  {
   "cell_type": "markdown",
   "metadata": {
    "id": "2UPswE7Ogh7O"
   },
   "source": [
    "**Step 1:** Define a parameter Space"
   ]
  },
  {
   "cell_type": "code",
   "metadata": {
    "id": "6084pRAvgh7P"
   },
   "source": [
    "parameters = {'fit_intercept':[True,False], 'copy_X':[True, False], 'n_jobs':[-1,1,10,15]}"
   ],
   "execution_count": 60,
   "outputs": []
  },
  {
   "cell_type": "markdown",
   "metadata": {
    "id": "KPQl8cdHgh7Y"
   },
   "source": [
    "**Step 2:** Fit the model to find the best hyperparameters on training data, and select the scorer you want to select to optimise"
   ]
  },
  {
   "cell_type": "code",
   "metadata": {
    "id": "TSWCh9rDgh7Z",
    "colab": {
     "base_uri": "https://localhost:8080/",
     "height": 187
    },
    "outputId": "49a8d730-a8ee-4b0f-aeb4-ccfab7380562"
   },
   "source": [
    "grid = GridSearchCV(lr,parameters, cv=3)\n",
    "grid.fit(x_train, y_train)"
   ],
   "execution_count": 61,
   "outputs": [
    {
     "data": {
      "text/plain": "GridSearchCV(cv=3, estimator=LinearRegression(),\n             param_grid={'copy_X': [True, False],\n                         'fit_intercept': [True, False],\n                         'n_jobs': [-1, 1, 10, 15]})",
      "text/html": "<style>#sk-container-id-1 {color: black;background-color: white;}#sk-container-id-1 pre{padding: 0;}#sk-container-id-1 div.sk-toggleable {background-color: white;}#sk-container-id-1 label.sk-toggleable__label {cursor: pointer;display: block;width: 100%;margin-bottom: 0;padding: 0.3em;box-sizing: border-box;text-align: center;}#sk-container-id-1 label.sk-toggleable__label-arrow:before {content: \"▸\";float: left;margin-right: 0.25em;color: #696969;}#sk-container-id-1 label.sk-toggleable__label-arrow:hover:before {color: black;}#sk-container-id-1 div.sk-estimator:hover label.sk-toggleable__label-arrow:before {color: black;}#sk-container-id-1 div.sk-toggleable__content {max-height: 0;max-width: 0;overflow: hidden;text-align: left;background-color: #f0f8ff;}#sk-container-id-1 div.sk-toggleable__content pre {margin: 0.2em;color: black;border-radius: 0.25em;background-color: #f0f8ff;}#sk-container-id-1 input.sk-toggleable__control:checked~div.sk-toggleable__content {max-height: 200px;max-width: 100%;overflow: auto;}#sk-container-id-1 input.sk-toggleable__control:checked~label.sk-toggleable__label-arrow:before {content: \"▾\";}#sk-container-id-1 div.sk-estimator input.sk-toggleable__control:checked~label.sk-toggleable__label {background-color: #d4ebff;}#sk-container-id-1 div.sk-label input.sk-toggleable__control:checked~label.sk-toggleable__label {background-color: #d4ebff;}#sk-container-id-1 input.sk-hidden--visually {border: 0;clip: rect(1px 1px 1px 1px);clip: rect(1px, 1px, 1px, 1px);height: 1px;margin: -1px;overflow: hidden;padding: 0;position: absolute;width: 1px;}#sk-container-id-1 div.sk-estimator {font-family: monospace;background-color: #f0f8ff;border: 1px dotted black;border-radius: 0.25em;box-sizing: border-box;margin-bottom: 0.5em;}#sk-container-id-1 div.sk-estimator:hover {background-color: #d4ebff;}#sk-container-id-1 div.sk-parallel-item::after {content: \"\";width: 100%;border-bottom: 1px solid gray;flex-grow: 1;}#sk-container-id-1 div.sk-label:hover label.sk-toggleable__label {background-color: #d4ebff;}#sk-container-id-1 div.sk-serial::before {content: \"\";position: absolute;border-left: 1px solid gray;box-sizing: border-box;top: 0;bottom: 0;left: 50%;z-index: 0;}#sk-container-id-1 div.sk-serial {display: flex;flex-direction: column;align-items: center;background-color: white;padding-right: 0.2em;padding-left: 0.2em;position: relative;}#sk-container-id-1 div.sk-item {position: relative;z-index: 1;}#sk-container-id-1 div.sk-parallel {display: flex;align-items: stretch;justify-content: center;background-color: white;position: relative;}#sk-container-id-1 div.sk-item::before, #sk-container-id-1 div.sk-parallel-item::before {content: \"\";position: absolute;border-left: 1px solid gray;box-sizing: border-box;top: 0;bottom: 0;left: 50%;z-index: -1;}#sk-container-id-1 div.sk-parallel-item {display: flex;flex-direction: column;z-index: 1;position: relative;background-color: white;}#sk-container-id-1 div.sk-parallel-item:first-child::after {align-self: flex-end;width: 50%;}#sk-container-id-1 div.sk-parallel-item:last-child::after {align-self: flex-start;width: 50%;}#sk-container-id-1 div.sk-parallel-item:only-child::after {width: 0;}#sk-container-id-1 div.sk-dashed-wrapped {border: 1px dashed gray;margin: 0 0.4em 0.5em 0.4em;box-sizing: border-box;padding-bottom: 0.4em;background-color: white;}#sk-container-id-1 div.sk-label label {font-family: monospace;font-weight: bold;display: inline-block;line-height: 1.2em;}#sk-container-id-1 div.sk-label-container {text-align: center;}#sk-container-id-1 div.sk-container {/* jupyter's `normalize.less` sets `[hidden] { display: none; }` but bootstrap.min.css set `[hidden] { display: none !important; }` so we also need the `!important` here to be able to override the default hidden behavior on the sphinx rendered scikit-learn.org. See: https://github.com/scikit-learn/scikit-learn/issues/21755 */display: inline-block !important;position: relative;}#sk-container-id-1 div.sk-text-repr-fallback {display: none;}</style><div id=\"sk-container-id-1\" class=\"sk-top-container\"><div class=\"sk-text-repr-fallback\"><pre>GridSearchCV(cv=3, estimator=LinearRegression(),\n             param_grid={&#x27;copy_X&#x27;: [True, False],\n                         &#x27;fit_intercept&#x27;: [True, False],\n                         &#x27;n_jobs&#x27;: [-1, 1, 10, 15]})</pre><b>In a Jupyter environment, please rerun this cell to show the HTML representation or trust the notebook. <br />On GitHub, the HTML representation is unable to render, please try loading this page with nbviewer.org.</b></div><div class=\"sk-container\" hidden><div class=\"sk-item sk-dashed-wrapped\"><div class=\"sk-label-container\"><div class=\"sk-label sk-toggleable\"><input class=\"sk-toggleable__control sk-hidden--visually\" id=\"sk-estimator-id-1\" type=\"checkbox\" ><label for=\"sk-estimator-id-1\" class=\"sk-toggleable__label sk-toggleable__label-arrow\">GridSearchCV</label><div class=\"sk-toggleable__content\"><pre>GridSearchCV(cv=3, estimator=LinearRegression(),\n             param_grid={&#x27;copy_X&#x27;: [True, False],\n                         &#x27;fit_intercept&#x27;: [True, False],\n                         &#x27;n_jobs&#x27;: [-1, 1, 10, 15]})</pre></div></div></div><div class=\"sk-parallel\"><div class=\"sk-parallel-item\"><div class=\"sk-item\"><div class=\"sk-label-container\"><div class=\"sk-label sk-toggleable\"><input class=\"sk-toggleable__control sk-hidden--visually\" id=\"sk-estimator-id-2\" type=\"checkbox\" ><label for=\"sk-estimator-id-2\" class=\"sk-toggleable__label sk-toggleable__label-arrow\">estimator: LinearRegression</label><div class=\"sk-toggleable__content\"><pre>LinearRegression()</pre></div></div></div><div class=\"sk-serial\"><div class=\"sk-item\"><div class=\"sk-estimator sk-toggleable\"><input class=\"sk-toggleable__control sk-hidden--visually\" id=\"sk-estimator-id-3\" type=\"checkbox\" ><label for=\"sk-estimator-id-3\" class=\"sk-toggleable__label sk-toggleable__label-arrow\">LinearRegression</label><div class=\"sk-toggleable__content\"><pre>LinearRegression()</pre></div></div></div></div></div></div></div></div></div></div>"
     },
     "execution_count": 61,
     "metadata": {},
     "output_type": "execute_result"
    }
   ]
  },
  {
   "cell_type": "markdown",
   "metadata": {
    "id": "LTdZBb40gh7d"
   },
   "source": [
    "**Step 3:** Print the best obtained parameters"
   ]
  },
  {
   "cell_type": "code",
   "metadata": {
    "id": "mIonXbIogh7f",
    "colab": {
     "base_uri": "https://localhost:8080/",
     "height": 34
    },
    "outputId": "c8d7b1d6-5863-4d06-92c7-b50a8aa1d6b4"
   },
   "source": [
    "grid.best_estimator_"
   ],
   "execution_count": 62,
   "outputs": [
    {
     "data": {
      "text/plain": "LinearRegression(fit_intercept=False, n_jobs=-1)",
      "text/html": "<style>#sk-container-id-2 {color: black;background-color: white;}#sk-container-id-2 pre{padding: 0;}#sk-container-id-2 div.sk-toggleable {background-color: white;}#sk-container-id-2 label.sk-toggleable__label {cursor: pointer;display: block;width: 100%;margin-bottom: 0;padding: 0.3em;box-sizing: border-box;text-align: center;}#sk-container-id-2 label.sk-toggleable__label-arrow:before {content: \"▸\";float: left;margin-right: 0.25em;color: #696969;}#sk-container-id-2 label.sk-toggleable__label-arrow:hover:before {color: black;}#sk-container-id-2 div.sk-estimator:hover label.sk-toggleable__label-arrow:before {color: black;}#sk-container-id-2 div.sk-toggleable__content {max-height: 0;max-width: 0;overflow: hidden;text-align: left;background-color: #f0f8ff;}#sk-container-id-2 div.sk-toggleable__content pre {margin: 0.2em;color: black;border-radius: 0.25em;background-color: #f0f8ff;}#sk-container-id-2 input.sk-toggleable__control:checked~div.sk-toggleable__content {max-height: 200px;max-width: 100%;overflow: auto;}#sk-container-id-2 input.sk-toggleable__control:checked~label.sk-toggleable__label-arrow:before {content: \"▾\";}#sk-container-id-2 div.sk-estimator input.sk-toggleable__control:checked~label.sk-toggleable__label {background-color: #d4ebff;}#sk-container-id-2 div.sk-label input.sk-toggleable__control:checked~label.sk-toggleable__label {background-color: #d4ebff;}#sk-container-id-2 input.sk-hidden--visually {border: 0;clip: rect(1px 1px 1px 1px);clip: rect(1px, 1px, 1px, 1px);height: 1px;margin: -1px;overflow: hidden;padding: 0;position: absolute;width: 1px;}#sk-container-id-2 div.sk-estimator {font-family: monospace;background-color: #f0f8ff;border: 1px dotted black;border-radius: 0.25em;box-sizing: border-box;margin-bottom: 0.5em;}#sk-container-id-2 div.sk-estimator:hover {background-color: #d4ebff;}#sk-container-id-2 div.sk-parallel-item::after {content: \"\";width: 100%;border-bottom: 1px solid gray;flex-grow: 1;}#sk-container-id-2 div.sk-label:hover label.sk-toggleable__label {background-color: #d4ebff;}#sk-container-id-2 div.sk-serial::before {content: \"\";position: absolute;border-left: 1px solid gray;box-sizing: border-box;top: 0;bottom: 0;left: 50%;z-index: 0;}#sk-container-id-2 div.sk-serial {display: flex;flex-direction: column;align-items: center;background-color: white;padding-right: 0.2em;padding-left: 0.2em;position: relative;}#sk-container-id-2 div.sk-item {position: relative;z-index: 1;}#sk-container-id-2 div.sk-parallel {display: flex;align-items: stretch;justify-content: center;background-color: white;position: relative;}#sk-container-id-2 div.sk-item::before, #sk-container-id-2 div.sk-parallel-item::before {content: \"\";position: absolute;border-left: 1px solid gray;box-sizing: border-box;top: 0;bottom: 0;left: 50%;z-index: -1;}#sk-container-id-2 div.sk-parallel-item {display: flex;flex-direction: column;z-index: 1;position: relative;background-color: white;}#sk-container-id-2 div.sk-parallel-item:first-child::after {align-self: flex-end;width: 50%;}#sk-container-id-2 div.sk-parallel-item:last-child::after {align-self: flex-start;width: 50%;}#sk-container-id-2 div.sk-parallel-item:only-child::after {width: 0;}#sk-container-id-2 div.sk-dashed-wrapped {border: 1px dashed gray;margin: 0 0.4em 0.5em 0.4em;box-sizing: border-box;padding-bottom: 0.4em;background-color: white;}#sk-container-id-2 div.sk-label label {font-family: monospace;font-weight: bold;display: inline-block;line-height: 1.2em;}#sk-container-id-2 div.sk-label-container {text-align: center;}#sk-container-id-2 div.sk-container {/* jupyter's `normalize.less` sets `[hidden] { display: none; }` but bootstrap.min.css set `[hidden] { display: none !important; }` so we also need the `!important` here to be able to override the default hidden behavior on the sphinx rendered scikit-learn.org. See: https://github.com/scikit-learn/scikit-learn/issues/21755 */display: inline-block !important;position: relative;}#sk-container-id-2 div.sk-text-repr-fallback {display: none;}</style><div id=\"sk-container-id-2\" class=\"sk-top-container\"><div class=\"sk-text-repr-fallback\"><pre>LinearRegression(fit_intercept=False, n_jobs=-1)</pre><b>In a Jupyter environment, please rerun this cell to show the HTML representation or trust the notebook. <br />On GitHub, the HTML representation is unable to render, please try loading this page with nbviewer.org.</b></div><div class=\"sk-container\" hidden><div class=\"sk-item\"><div class=\"sk-estimator sk-toggleable\"><input class=\"sk-toggleable__control sk-hidden--visually\" id=\"sk-estimator-id-4\" type=\"checkbox\" checked><label for=\"sk-estimator-id-4\" class=\"sk-toggleable__label sk-toggleable__label-arrow\">LinearRegression</label><div class=\"sk-toggleable__content\"><pre>LinearRegression(fit_intercept=False, n_jobs=-1)</pre></div></div></div></div></div>"
     },
     "execution_count": 62,
     "metadata": {},
     "output_type": "execute_result"
    }
   ]
  },
  {
   "cell_type": "code",
   "metadata": {
    "id": "-Urv2jtngh7n",
    "colab": {
     "base_uri": "https://localhost:8080/",
     "height": 34
    },
    "outputId": "59100aaa-999d-4a36-8dce-0654edb6f1d3"
   },
   "source": [
    "grid_lr = LinearRegression(copy_X=True, fit_intercept=True, n_jobs=-1)\n",
    "grid_lr.fit(x_train, y_train)\n",
    "y_pred= grid_lr.predict(x_test)\n",
    "mean_squared_error(y_test, y_pred, squared=False)"
   ],
   "execution_count": 63,
   "outputs": [
    {
     "data": {
      "text/plain": "10.473712856340395"
     },
     "execution_count": 63,
     "metadata": {},
     "output_type": "execute_result"
    }
   ]
  },
  {
   "cell_type": "markdown",
   "metadata": {
    "id": "gwhEjnmGgh7v"
   },
   "source": [
    "**Performance does not vary that much!**\n",
    "\n",
    "The number of hyperparameters for Linear Regression is very less. Hence all of them give similar performance (in this specific dataset)\n",
    "\n",
    "Let us try another parameter for which the performance varies a lot!"
   ]
  },
  {
   "cell_type": "markdown",
   "metadata": {
    "id": "1gp-Po0wgh7w"
   },
   "source": [
    "### 3.1.2 Artificial Neural Network\n",
    "In Linear Regression, there are not many parameters to optimise, hence performance may not vary that much. In many other classifiers, there are a number of hyper parameters to tune, so let us see an example of how performance is improved using Grid Search. We take an example of **Artificial Neural Networks.**\n",
    "\n",
    "You need not understand the working behind ANN, so it is okay if you do not understand the parameter grid in detail. Let's just see how the performance improves by applying Grid Search."
   ]
  },
  {
   "cell_type": "code",
   "metadata": {
    "id": "K28nx24bNTMw"
   },
   "source": [
    "# Use diabetes data\n",
    "x_train, x_test, y_train, y_test = train_test_split(X, y, test_size=0.2, random_state=3)"
   ],
   "execution_count": 64,
   "outputs": []
  },
  {
   "cell_type": "markdown",
   "metadata": {
    "id": "U2W1Ei3Ugh7y"
   },
   "source": [
    "**Step 1:** Define a parameter Space"
   ]
  },
  {
   "cell_type": "code",
   "metadata": {
    "id": "SX_8tDiSgh7z"
   },
   "source": [
    "parameter_space = {\n",
    "    'hidden_layer_sizes': [(50,50,50), (50,100,50), (100,)],\n",
    "    'activation': ['tanh', 'relu', 'logistic'],\n",
    "    'solver': ['sgd', 'adam', 'lbfgs'],\n",
    "    'alpha': [0.0001, 0.01, 0.001, 0.05],\n",
    "    'learning_rate': ['constant','adaptive','invscaling'],\n",
    "}"
   ],
   "execution_count": 65,
   "outputs": []
  },
  {
   "cell_type": "markdown",
   "metadata": {
    "id": "Kcl_8hc6gh79"
   },
   "source": [
    "**Step 2:** Fit the model to find the best hyperparameters on training data, and select the scorer you want to select to optimise"
   ]
  },
  {
   "cell_type": "markdown",
   "metadata": {
    "id": "kc9VN84Ygh7-"
   },
   "source": [
    "<blockquote> <i>  This code takes a long time to run, you can either skip running this part and directly just see the printed results, or wait for 10-15 mins for this to run </blockquote>"
   ]
  },
  {
   "cell_type": "code",
   "metadata": {
    "id": "EBeiT6D1gh7_",
    "colab": {
     "base_uri": "https://localhost:8080/",
     "height": 391
    },
    "outputId": "09efbc4b-269e-4cbe-e44a-89117c9e163a"
   },
   "source": [
    "mlp_random = GridSearchCV(mlp, parameter_space, scoring = 'accuracy')\n",
    "mlp_random.fit(x_train, y_train)"
   ],
   "execution_count": 66,
   "outputs": [
    {
     "data": {
      "text/plain": "GridSearchCV(estimator=MLPClassifier(max_iter=1000),\n             param_grid={'activation': ['tanh', 'relu', 'logistic'],\n                         'alpha': [0.0001, 0.01, 0.001, 0.05],\n                         'hidden_layer_sizes': [(50, 50, 50), (50, 100, 50),\n                                                (100,)],\n                         'learning_rate': ['constant', 'adaptive',\n                                           'invscaling'],\n                         'solver': ['sgd', 'adam', 'lbfgs']},\n             scoring='accuracy')",
      "text/html": "<style>#sk-container-id-3 {color: black;background-color: white;}#sk-container-id-3 pre{padding: 0;}#sk-container-id-3 div.sk-toggleable {background-color: white;}#sk-container-id-3 label.sk-toggleable__label {cursor: pointer;display: block;width: 100%;margin-bottom: 0;padding: 0.3em;box-sizing: border-box;text-align: center;}#sk-container-id-3 label.sk-toggleable__label-arrow:before {content: \"▸\";float: left;margin-right: 0.25em;color: #696969;}#sk-container-id-3 label.sk-toggleable__label-arrow:hover:before {color: black;}#sk-container-id-3 div.sk-estimator:hover label.sk-toggleable__label-arrow:before {color: black;}#sk-container-id-3 div.sk-toggleable__content {max-height: 0;max-width: 0;overflow: hidden;text-align: left;background-color: #f0f8ff;}#sk-container-id-3 div.sk-toggleable__content pre {margin: 0.2em;color: black;border-radius: 0.25em;background-color: #f0f8ff;}#sk-container-id-3 input.sk-toggleable__control:checked~div.sk-toggleable__content {max-height: 200px;max-width: 100%;overflow: auto;}#sk-container-id-3 input.sk-toggleable__control:checked~label.sk-toggleable__label-arrow:before {content: \"▾\";}#sk-container-id-3 div.sk-estimator input.sk-toggleable__control:checked~label.sk-toggleable__label {background-color: #d4ebff;}#sk-container-id-3 div.sk-label input.sk-toggleable__control:checked~label.sk-toggleable__label {background-color: #d4ebff;}#sk-container-id-3 input.sk-hidden--visually {border: 0;clip: rect(1px 1px 1px 1px);clip: rect(1px, 1px, 1px, 1px);height: 1px;margin: -1px;overflow: hidden;padding: 0;position: absolute;width: 1px;}#sk-container-id-3 div.sk-estimator {font-family: monospace;background-color: #f0f8ff;border: 1px dotted black;border-radius: 0.25em;box-sizing: border-box;margin-bottom: 0.5em;}#sk-container-id-3 div.sk-estimator:hover {background-color: #d4ebff;}#sk-container-id-3 div.sk-parallel-item::after {content: \"\";width: 100%;border-bottom: 1px solid gray;flex-grow: 1;}#sk-container-id-3 div.sk-label:hover label.sk-toggleable__label {background-color: #d4ebff;}#sk-container-id-3 div.sk-serial::before {content: \"\";position: absolute;border-left: 1px solid gray;box-sizing: border-box;top: 0;bottom: 0;left: 50%;z-index: 0;}#sk-container-id-3 div.sk-serial {display: flex;flex-direction: column;align-items: center;background-color: white;padding-right: 0.2em;padding-left: 0.2em;position: relative;}#sk-container-id-3 div.sk-item {position: relative;z-index: 1;}#sk-container-id-3 div.sk-parallel {display: flex;align-items: stretch;justify-content: center;background-color: white;position: relative;}#sk-container-id-3 div.sk-item::before, #sk-container-id-3 div.sk-parallel-item::before {content: \"\";position: absolute;border-left: 1px solid gray;box-sizing: border-box;top: 0;bottom: 0;left: 50%;z-index: -1;}#sk-container-id-3 div.sk-parallel-item {display: flex;flex-direction: column;z-index: 1;position: relative;background-color: white;}#sk-container-id-3 div.sk-parallel-item:first-child::after {align-self: flex-end;width: 50%;}#sk-container-id-3 div.sk-parallel-item:last-child::after {align-self: flex-start;width: 50%;}#sk-container-id-3 div.sk-parallel-item:only-child::after {width: 0;}#sk-container-id-3 div.sk-dashed-wrapped {border: 1px dashed gray;margin: 0 0.4em 0.5em 0.4em;box-sizing: border-box;padding-bottom: 0.4em;background-color: white;}#sk-container-id-3 div.sk-label label {font-family: monospace;font-weight: bold;display: inline-block;line-height: 1.2em;}#sk-container-id-3 div.sk-label-container {text-align: center;}#sk-container-id-3 div.sk-container {/* jupyter's `normalize.less` sets `[hidden] { display: none; }` but bootstrap.min.css set `[hidden] { display: none !important; }` so we also need the `!important` here to be able to override the default hidden behavior on the sphinx rendered scikit-learn.org. See: https://github.com/scikit-learn/scikit-learn/issues/21755 */display: inline-block !important;position: relative;}#sk-container-id-3 div.sk-text-repr-fallback {display: none;}</style><div id=\"sk-container-id-3\" class=\"sk-top-container\"><div class=\"sk-text-repr-fallback\"><pre>GridSearchCV(estimator=MLPClassifier(max_iter=1000),\n             param_grid={&#x27;activation&#x27;: [&#x27;tanh&#x27;, &#x27;relu&#x27;, &#x27;logistic&#x27;],\n                         &#x27;alpha&#x27;: [0.0001, 0.01, 0.001, 0.05],\n                         &#x27;hidden_layer_sizes&#x27;: [(50, 50, 50), (50, 100, 50),\n                                                (100,)],\n                         &#x27;learning_rate&#x27;: [&#x27;constant&#x27;, &#x27;adaptive&#x27;,\n                                           &#x27;invscaling&#x27;],\n                         &#x27;solver&#x27;: [&#x27;sgd&#x27;, &#x27;adam&#x27;, &#x27;lbfgs&#x27;]},\n             scoring=&#x27;accuracy&#x27;)</pre><b>In a Jupyter environment, please rerun this cell to show the HTML representation or trust the notebook. <br />On GitHub, the HTML representation is unable to render, please try loading this page with nbviewer.org.</b></div><div class=\"sk-container\" hidden><div class=\"sk-item sk-dashed-wrapped\"><div class=\"sk-label-container\"><div class=\"sk-label sk-toggleable\"><input class=\"sk-toggleable__control sk-hidden--visually\" id=\"sk-estimator-id-5\" type=\"checkbox\" ><label for=\"sk-estimator-id-5\" class=\"sk-toggleable__label sk-toggleable__label-arrow\">GridSearchCV</label><div class=\"sk-toggleable__content\"><pre>GridSearchCV(estimator=MLPClassifier(max_iter=1000),\n             param_grid={&#x27;activation&#x27;: [&#x27;tanh&#x27;, &#x27;relu&#x27;, &#x27;logistic&#x27;],\n                         &#x27;alpha&#x27;: [0.0001, 0.01, 0.001, 0.05],\n                         &#x27;hidden_layer_sizes&#x27;: [(50, 50, 50), (50, 100, 50),\n                                                (100,)],\n                         &#x27;learning_rate&#x27;: [&#x27;constant&#x27;, &#x27;adaptive&#x27;,\n                                           &#x27;invscaling&#x27;],\n                         &#x27;solver&#x27;: [&#x27;sgd&#x27;, &#x27;adam&#x27;, &#x27;lbfgs&#x27;]},\n             scoring=&#x27;accuracy&#x27;)</pre></div></div></div><div class=\"sk-parallel\"><div class=\"sk-parallel-item\"><div class=\"sk-item\"><div class=\"sk-label-container\"><div class=\"sk-label sk-toggleable\"><input class=\"sk-toggleable__control sk-hidden--visually\" id=\"sk-estimator-id-6\" type=\"checkbox\" ><label for=\"sk-estimator-id-6\" class=\"sk-toggleable__label sk-toggleable__label-arrow\">estimator: MLPClassifier</label><div class=\"sk-toggleable__content\"><pre>MLPClassifier(max_iter=1000)</pre></div></div></div><div class=\"sk-serial\"><div class=\"sk-item\"><div class=\"sk-estimator sk-toggleable\"><input class=\"sk-toggleable__control sk-hidden--visually\" id=\"sk-estimator-id-7\" type=\"checkbox\" ><label for=\"sk-estimator-id-7\" class=\"sk-toggleable__label sk-toggleable__label-arrow\">MLPClassifier</label><div class=\"sk-toggleable__content\"><pre>MLPClassifier(max_iter=1000)</pre></div></div></div></div></div></div></div></div></div></div>"
     },
     "execution_count": 66,
     "metadata": {},
     "output_type": "execute_result"
    }
   ]
  },
  {
   "cell_type": "markdown",
   "metadata": {
    "id": "b8f-duE9gh8J"
   },
   "source": [
    "**Step 3:** Print the best obtained parameters"
   ]
  },
  {
   "cell_type": "code",
   "metadata": {
    "id": "V4bj3qClgh8K",
    "colab": {
     "base_uri": "https://localhost:8080/",
     "height": 102
    },
    "outputId": "3e1cbc01-6daf-4ca7-e301-a8b87563dc09"
   },
   "source": [
    "mlp_random.best_params_"
   ],
   "execution_count": 67,
   "outputs": [
    {
     "data": {
      "text/plain": "{'activation': 'logistic',\n 'alpha': 0.05,\n 'hidden_layer_sizes': (50, 50, 50),\n 'learning_rate': 'invscaling',\n 'solver': 'adam'}"
     },
     "execution_count": 67,
     "metadata": {},
     "output_type": "execute_result"
    }
   ]
  },
  {
   "cell_type": "markdown",
   "metadata": {
    "id": "tmHmS7Nfgh8S"
   },
   "source": [
    "**Step 4:** Train your model on these parameters"
   ]
  },
  {
   "cell_type": "code",
   "metadata": {
    "id": "2repqpLogh8U"
   },
   "source": [
    "mlp_grid = MLPClassifier(solver='adam', learning_rate='invscaling', hidden_layer_sizes=(50,50,50), alpha=0.05,\n",
    "                         activation='logistic',max_iter=2000)"
   ],
   "execution_count": 68,
   "outputs": []
  },
  {
   "cell_type": "code",
   "metadata": {
    "id": "lCXtKB2Ugh8a"
   },
   "source": [
    "mlp_grid.fit(x_train, y_train)\n",
    "y_pred = mlp_grid.predict(x_test)\n",
    "acc_tuned = accuracy_score(y_test, y_pred)"
   ],
   "execution_count": 69,
   "outputs": []
  },
  {
   "cell_type": "markdown",
   "metadata": {
    "id": "jZTgmXQogh8e"
   },
   "source": [
    "**Comparing with Accuracy from model without hyperparameter tuning**"
   ]
  },
  {
   "cell_type": "code",
   "metadata": {
    "scrolled": true,
    "id": "H-kojEW-gh8f",
    "colab": {
     "base_uri": "https://localhost:8080/",
     "height": 51
    },
    "outputId": "c11c2b2c-2248-4dca-a68e-5ccd21ebd515"
   },
   "source": [
    "print(\"Accuracy of Tuned model: \",np.round(acc_tuned,3))\n",
    "print(\"Accuracy of non-Tuned model: \",np.round(acc,3))"
   ],
   "execution_count": 70,
   "outputs": [
    {
     "name": "stdout",
     "output_type": "stream",
     "text": [
      "Accuracy of Tuned model:  0.708\n",
      "Accuracy of non-Tuned model:  0.688\n"
     ]
    }
   ]
  },
  {
   "cell_type": "markdown",
   "metadata": {
    "id": "HsGwxzNOgh8h"
   },
   "source": [
    "Approximately 5% difference in accuracy!  \n",
    "By including an even more exhaustive grid search, we can improve the performance even further"
   ]
  },
  {
   "cell_type": "code",
   "execution_count": null,
   "outputs": [],
   "source": [],
   "metadata": {
    "collapsed": false
   }
  }
 ]
}
