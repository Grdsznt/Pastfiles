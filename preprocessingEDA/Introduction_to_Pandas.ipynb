{
 "nbformat": 4,
 "nbformat_minor": 0,
 "metadata": {
  "colab": {
   "name": "Introduction_to_Pandas",
   "provenance": [],
   "collapsed_sections": [
    "sDKBErWbSFAI",
    "10YQkXh1Smjm",
    "-54odkZ5VsQw",
    "C_GMWdaPWK3P",
    "QrsnQQ33XIxD",
    "J9CIkU51YdET",
    "leTpYZAXa442",
    "bAVfBKEJbYxc",
    "L57zEGqtenG5",
    "3nI-tc-igqYV",
    "6uJo8zUKhjt7",
    "pqSmI4JXhx1Y",
    "8ryJN1THiIDO",
    "bJzFRnRVjQUo",
    "h5t9M5SNu3nb",
    "w9XGVvHUv72L"
   ]
  },
  "kernelspec": {
   "display_name": "Python 3",
   "language": "python",
   "name": "python3"
  },
  "language_info": {
   "codemirror_mode": {
    "name": "ipython",
    "version": 3
   },
   "file_extension": ".py",
   "mimetype": "text/x-python",
   "name": "python",
   "nbconvert_exporter": "python",
   "pygments_lexer": "ipython3",
   "version": "3.7.5"
  }
 },
 "cells": [
  {
   "cell_type": "markdown",
   "metadata": {
    "id": "v8JFOvfT4Yak"
   },
   "source": [
    "# Week 1\n",
    "# `Pandas`, Data Analysis library\n"
   ]
  },
  {
   "cell_type": "markdown",
   "metadata": {
    "id": "wrkhz-y-4Yax"
   },
   "source": [
    "`Pandas` is a data analysis library that provides a variety of data structures and data manipulation methods that allows to perform complex tasks with simple one-line commands.\n",
    "\n",
    "In the following sections, we will be working on the `Pandas` library and its uses. We will be reviewing how the objects are defined by `pandas`, operating their values and executing a series of important operations for data analysis. Let us begin!"
   ]
  },
  {
   "cell_type": "markdown",
   "metadata": {
    "id": "sDKBErWbSFAI"
   },
   "source": [
    "## 1. Installing and Using Pandas"
   ]
  },
  {
   "cell_type": "markdown",
   "metadata": {
    "id": "6MFFlPwB4YbA"
   },
   "source": [
    "The downloading and installation of `pandas` library process can be done through the `pip` standard package-management system, by executing in your local environment's console this single line:\n",
    "\n",
    "`pip install pandas`\n",
    "\n",
    "Once installed, we can import it in the following way:"
   ]
  },
  {
   "cell_type": "code",
   "metadata": {
    "id": "9YdVFFU9R-rB",
    "colab": {
     "base_uri": "https://localhost:8080/",
     "height": 34
    },
    "outputId": "6345bc61-65ca-444e-8487-9daeeef2d0b3"
   },
   "source": [
    "import pandas\n",
    "pandas.__version__"
   ],
   "execution_count": 1,
   "outputs": [
    {
     "data": {
      "text/plain": "'1.5.1'"
     },
     "execution_count": 1,
     "metadata": {},
     "output_type": "execute_result"
    }
   ]
  },
  {
   "cell_type": "markdown",
   "metadata": {
    "id": "w90rwwtb4Yb2"
   },
   "source": [
    "It is good practice to create the alias `pd` for `pandas`:"
   ]
  },
  {
   "cell_type": "code",
   "metadata": {
    "id": "eAPiNAf1SU0E"
   },
   "source": [
    "import pandas as pd"
   ],
   "execution_count": 2,
   "outputs": []
  },
  {
   "cell_type": "code",
   "execution_count": 30,
   "outputs": [
    {
     "data": {
      "text/plain": "(99, 10)"
     },
     "execution_count": 30,
     "metadata": {},
     "output_type": "execute_result"
    }
   ],
   "source": [
    "df = pd.read_csv('https://raw.githubusercontent.com/dphi-official/Datasets/master/Standard_Metropolitan_Areas_Data-data.csv')\n",
    "df.shape"
   ],
   "metadata": {
    "collapsed": false
   }
  },
  {
   "cell_type": "code",
   "execution_count": 5,
   "outputs": [
    {
     "data": {
      "text/plain": "   land_area  percent_city  percent_senior  physicians  hospital_beds  \\\n0       1384          78.1            12.3       25627          69678   \n1       3719          43.9             9.4       13326          43292   \n2       3553          37.4            10.7        9724          33731   \n3       3916          29.9             8.8        6402          24167   \n4       2480          31.5            10.5        8502          16751   \n\n   graduates  work_force  income  region  crime_rate  \n0       50.1      4083.9   72100       1       75.55  \n1       53.9      3305.9   54542       2       56.03  \n2       50.6      2066.3   33216       1       41.32  \n3       52.2      1966.7   32906       2       67.38  \n4       66.1      1514.5   26573       4       80.19  ",
      "text/html": "<div>\n<style scoped>\n    .dataframe tbody tr th:only-of-type {\n        vertical-align: middle;\n    }\n\n    .dataframe tbody tr th {\n        vertical-align: top;\n    }\n\n    .dataframe thead th {\n        text-align: right;\n    }\n</style>\n<table border=\"1\" class=\"dataframe\">\n  <thead>\n    <tr style=\"text-align: right;\">\n      <th></th>\n      <th>land_area</th>\n      <th>percent_city</th>\n      <th>percent_senior</th>\n      <th>physicians</th>\n      <th>hospital_beds</th>\n      <th>graduates</th>\n      <th>work_force</th>\n      <th>income</th>\n      <th>region</th>\n      <th>crime_rate</th>\n    </tr>\n  </thead>\n  <tbody>\n    <tr>\n      <th>0</th>\n      <td>1384</td>\n      <td>78.1</td>\n      <td>12.3</td>\n      <td>25627</td>\n      <td>69678</td>\n      <td>50.1</td>\n      <td>4083.9</td>\n      <td>72100</td>\n      <td>1</td>\n      <td>75.55</td>\n    </tr>\n    <tr>\n      <th>1</th>\n      <td>3719</td>\n      <td>43.9</td>\n      <td>9.4</td>\n      <td>13326</td>\n      <td>43292</td>\n      <td>53.9</td>\n      <td>3305.9</td>\n      <td>54542</td>\n      <td>2</td>\n      <td>56.03</td>\n    </tr>\n    <tr>\n      <th>2</th>\n      <td>3553</td>\n      <td>37.4</td>\n      <td>10.7</td>\n      <td>9724</td>\n      <td>33731</td>\n      <td>50.6</td>\n      <td>2066.3</td>\n      <td>33216</td>\n      <td>1</td>\n      <td>41.32</td>\n    </tr>\n    <tr>\n      <th>3</th>\n      <td>3916</td>\n      <td>29.9</td>\n      <td>8.8</td>\n      <td>6402</td>\n      <td>24167</td>\n      <td>52.2</td>\n      <td>1966.7</td>\n      <td>32906</td>\n      <td>2</td>\n      <td>67.38</td>\n    </tr>\n    <tr>\n      <th>4</th>\n      <td>2480</td>\n      <td>31.5</td>\n      <td>10.5</td>\n      <td>8502</td>\n      <td>16751</td>\n      <td>66.1</td>\n      <td>1514.5</td>\n      <td>26573</td>\n      <td>4</td>\n      <td>80.19</td>\n    </tr>\n  </tbody>\n</table>\n</div>"
     },
     "execution_count": 5,
     "metadata": {},
     "output_type": "execute_result"
    }
   ],
   "source": [
    "df.head()"
   ],
   "metadata": {
    "collapsed": false
   }
  },
  {
   "cell_type": "code",
   "execution_count": 7,
   "outputs": [
    {
     "data": {
      "text/plain": "land_area          4647.0\npercent_city         31.5\npercent_senior        9.2\nphysicians         3916.0\nhospital_beds     12815.0\ngraduates            65.1\nwork_force         1032.2\nincome            14542.0\nregion                2.0\ncrime_rate           55.3\nName: 9, dtype: float64"
     },
     "execution_count": 7,
     "metadata": {},
     "output_type": "execute_result"
    }
   ],
   "source": [
    "df.iloc[9, :]"
   ],
   "metadata": {
    "collapsed": false
   }
  },
  {
   "cell_type": "code",
   "execution_count": 11,
   "outputs": [
    {
     "data": {
      "text/plain": "140"
     },
     "execution_count": 11,
     "metadata": {},
     "output_type": "execute_result"
    }
   ],
   "source": [
    "df.iloc[-1, 3]"
   ],
   "metadata": {
    "collapsed": false
   }
  },
  {
   "cell_type": "code",
   "execution_count": 13,
   "outputs": [],
   "source": [
    "sample_data1 = df.loc[[1, 3, 5, 7, 9, 13], ['land_area', 'work_force', 'income', 'region', 'crime_rate']]"
   ],
   "metadata": {
    "collapsed": false
   }
  },
  {
   "cell_type": "code",
   "execution_count": 14,
   "outputs": [
    {
     "data": {
      "text/plain": "    land_area  work_force  income  region  crime_rate\n1        3719      3305.9   54542       2       56.03\n3        3916      1966.7   32906       2       67.38\n5        2815      1541.9   25663       3       58.48\n7        6794      1272.7   18221       3       64.88\n9        4647      1032.2   14542       2       55.30\n13        782       915.2   12591       4       63.20",
      "text/html": "<div>\n<style scoped>\n    .dataframe tbody tr th:only-of-type {\n        vertical-align: middle;\n    }\n\n    .dataframe tbody tr th {\n        vertical-align: top;\n    }\n\n    .dataframe thead th {\n        text-align: right;\n    }\n</style>\n<table border=\"1\" class=\"dataframe\">\n  <thead>\n    <tr style=\"text-align: right;\">\n      <th></th>\n      <th>land_area</th>\n      <th>work_force</th>\n      <th>income</th>\n      <th>region</th>\n      <th>crime_rate</th>\n    </tr>\n  </thead>\n  <tbody>\n    <tr>\n      <th>1</th>\n      <td>3719</td>\n      <td>3305.9</td>\n      <td>54542</td>\n      <td>2</td>\n      <td>56.03</td>\n    </tr>\n    <tr>\n      <th>3</th>\n      <td>3916</td>\n      <td>1966.7</td>\n      <td>32906</td>\n      <td>2</td>\n      <td>67.38</td>\n    </tr>\n    <tr>\n      <th>5</th>\n      <td>2815</td>\n      <td>1541.9</td>\n      <td>25663</td>\n      <td>3</td>\n      <td>58.48</td>\n    </tr>\n    <tr>\n      <th>7</th>\n      <td>6794</td>\n      <td>1272.7</td>\n      <td>18221</td>\n      <td>3</td>\n      <td>64.88</td>\n    </tr>\n    <tr>\n      <th>9</th>\n      <td>4647</td>\n      <td>1032.2</td>\n      <td>14542</td>\n      <td>2</td>\n      <td>55.30</td>\n    </tr>\n    <tr>\n      <th>13</th>\n      <td>782</td>\n      <td>915.2</td>\n      <td>12591</td>\n      <td>4</td>\n      <td>63.20</td>\n    </tr>\n  </tbody>\n</table>\n</div>"
     },
     "execution_count": 14,
     "metadata": {},
     "output_type": "execute_result"
    }
   ],
   "source": [
    "sample_data1"
   ],
   "metadata": {
    "collapsed": false
   }
  },
  {
   "cell_type": "code",
   "execution_count": 21,
   "outputs": [],
   "source": [
    "dsahodiasd = df[df.region == 3]"
   ],
   "metadata": {
    "collapsed": false
   }
  },
  {
   "cell_type": "code",
   "execution_count": 23,
   "outputs": [
    {
     "data": {
      "text/plain": "58.26555555555555"
     },
     "execution_count": 23,
     "metadata": {},
     "output_type": "execute_result"
    }
   ],
   "source": [
    "dsahodiasd.crime_rate.mean()"
   ],
   "metadata": {
    "collapsed": false
   }
  },
  {
   "cell_type": "code",
   "execution_count": 16,
   "outputs": [
    {
     "name": "stdout",
     "output_type": "stream",
     "text": [
      "6762.50505050505\n",
      "2615.7272727272725\n"
     ]
    }
   ],
   "source": [
    "print(df.income.mean())\n",
    "print(df.land_area.mean())"
   ],
   "metadata": {
    "collapsed": false
   }
  },
  {
   "cell_type": "code",
   "execution_count": 17,
   "outputs": [
    {
     "data": {
      "text/plain": "array([1, 2, 4, 3], dtype=int64)"
     },
     "execution_count": 17,
     "metadata": {},
     "output_type": "execute_result"
    }
   ],
   "source": [
    "df.region.unique()"
   ],
   "metadata": {
    "collapsed": false
   }
  },
  {
   "cell_type": "code",
   "execution_count": 19,
   "outputs": [
    {
     "data": {
      "text/plain": "          land_area  percent_city  percent_senior    physicians  \\\ncount     99.000000     99.000000       99.000000     99.000000   \nmean    2615.727273     42.518182        9.781818   1828.333333   \nstd     3045.826210     17.348277        2.524547   3192.199763   \nmin       47.000000     13.400000        3.900000    140.000000   \n25%     1408.000000     30.100000        8.350000    459.000000   \n50%     1951.000000     39.500000        9.700000    774.000000   \n75%     2890.500000     52.600000       10.750000   1911.500000   \nmax    27293.000000    100.000000       21.800000  25627.000000   \n\n       hospital_beds  graduates   work_force        income     region  \\\ncount      99.000000  99.000000    99.000000     99.000000  99.000000   \nmean     6345.868687  54.463636   449.366667   6762.505051   2.494949   \nstd      9136.202716   7.773286   610.990885  10393.349660   1.013921   \nmin       481.000000  30.300000    66.900000    769.000000   1.000000   \n25%      2390.000000  50.250000   150.300000   2003.000000   2.000000   \n50%      3472.000000  54.000000   257.200000   3510.000000   3.000000   \n75%      6386.500000  58.300000   436.500000   6283.500000   3.000000   \nmax     69678.000000  72.800000  4083.900000  72100.000000   4.000000   \n\n       crime_rate  \ncount   99.000000  \nmean    55.643030  \nstd     13.470943  \nmin     23.320000  \n25%     46.115000  \n50%     56.060000  \n75%     63.860000  \nmax     85.620000  ",
      "text/html": "<div>\n<style scoped>\n    .dataframe tbody tr th:only-of-type {\n        vertical-align: middle;\n    }\n\n    .dataframe tbody tr th {\n        vertical-align: top;\n    }\n\n    .dataframe thead th {\n        text-align: right;\n    }\n</style>\n<table border=\"1\" class=\"dataframe\">\n  <thead>\n    <tr style=\"text-align: right;\">\n      <th></th>\n      <th>land_area</th>\n      <th>percent_city</th>\n      <th>percent_senior</th>\n      <th>physicians</th>\n      <th>hospital_beds</th>\n      <th>graduates</th>\n      <th>work_force</th>\n      <th>income</th>\n      <th>region</th>\n      <th>crime_rate</th>\n    </tr>\n  </thead>\n  <tbody>\n    <tr>\n      <th>count</th>\n      <td>99.000000</td>\n      <td>99.000000</td>\n      <td>99.000000</td>\n      <td>99.000000</td>\n      <td>99.000000</td>\n      <td>99.000000</td>\n      <td>99.000000</td>\n      <td>99.000000</td>\n      <td>99.000000</td>\n      <td>99.000000</td>\n    </tr>\n    <tr>\n      <th>mean</th>\n      <td>2615.727273</td>\n      <td>42.518182</td>\n      <td>9.781818</td>\n      <td>1828.333333</td>\n      <td>6345.868687</td>\n      <td>54.463636</td>\n      <td>449.366667</td>\n      <td>6762.505051</td>\n      <td>2.494949</td>\n      <td>55.643030</td>\n    </tr>\n    <tr>\n      <th>std</th>\n      <td>3045.826210</td>\n      <td>17.348277</td>\n      <td>2.524547</td>\n      <td>3192.199763</td>\n      <td>9136.202716</td>\n      <td>7.773286</td>\n      <td>610.990885</td>\n      <td>10393.349660</td>\n      <td>1.013921</td>\n      <td>13.470943</td>\n    </tr>\n    <tr>\n      <th>min</th>\n      <td>47.000000</td>\n      <td>13.400000</td>\n      <td>3.900000</td>\n      <td>140.000000</td>\n      <td>481.000000</td>\n      <td>30.300000</td>\n      <td>66.900000</td>\n      <td>769.000000</td>\n      <td>1.000000</td>\n      <td>23.320000</td>\n    </tr>\n    <tr>\n      <th>25%</th>\n      <td>1408.000000</td>\n      <td>30.100000</td>\n      <td>8.350000</td>\n      <td>459.000000</td>\n      <td>2390.000000</td>\n      <td>50.250000</td>\n      <td>150.300000</td>\n      <td>2003.000000</td>\n      <td>2.000000</td>\n      <td>46.115000</td>\n    </tr>\n    <tr>\n      <th>50%</th>\n      <td>1951.000000</td>\n      <td>39.500000</td>\n      <td>9.700000</td>\n      <td>774.000000</td>\n      <td>3472.000000</td>\n      <td>54.000000</td>\n      <td>257.200000</td>\n      <td>3510.000000</td>\n      <td>3.000000</td>\n      <td>56.060000</td>\n    </tr>\n    <tr>\n      <th>75%</th>\n      <td>2890.500000</td>\n      <td>52.600000</td>\n      <td>10.750000</td>\n      <td>1911.500000</td>\n      <td>6386.500000</td>\n      <td>58.300000</td>\n      <td>436.500000</td>\n      <td>6283.500000</td>\n      <td>3.000000</td>\n      <td>63.860000</td>\n    </tr>\n    <tr>\n      <th>max</th>\n      <td>27293.000000</td>\n      <td>100.000000</td>\n      <td>21.800000</td>\n      <td>25627.000000</td>\n      <td>69678.000000</td>\n      <td>72.800000</td>\n      <td>4083.900000</td>\n      <td>72100.000000</td>\n      <td>4.000000</td>\n      <td>85.620000</td>\n    </tr>\n  </tbody>\n</table>\n</div>"
     },
     "execution_count": 19,
     "metadata": {},
     "output_type": "execute_result"
    }
   ],
   "source": [
    "df.describe()"
   ],
   "metadata": {
    "collapsed": false
   }
  },
  {
   "cell_type": "code",
   "execution_count": 38,
   "outputs": [
    {
     "data": {
      "text/plain": "Empty DataFrame\nColumns: [land_area, percent_city, percent_senior, physicians, hospital_beds, graduates, work_force, income, region, crime_rate]\nIndex: []",
      "text/html": "<div>\n<style scoped>\n    .dataframe tbody tr th:only-of-type {\n        vertical-align: middle;\n    }\n\n    .dataframe tbody tr th {\n        vertical-align: top;\n    }\n\n    .dataframe thead th {\n        text-align: right;\n    }\n</style>\n<table border=\"1\" class=\"dataframe\">\n  <thead>\n    <tr style=\"text-align: right;\">\n      <th></th>\n      <th>land_area</th>\n      <th>percent_city</th>\n      <th>percent_senior</th>\n      <th>physicians</th>\n      <th>hospital_beds</th>\n      <th>graduates</th>\n      <th>work_force</th>\n      <th>income</th>\n      <th>region</th>\n      <th>crime_rate</th>\n    </tr>\n  </thead>\n  <tbody>\n  </tbody>\n</table>\n</div>"
     },
     "execution_count": 38,
     "metadata": {},
     "output_type": "execute_result"
    }
   ],
   "source": [
    "df[(df['region'] == 4) & (df['crime_rate'] == 55.64)]"
   ],
   "metadata": {
    "collapsed": false
   }
  },
  {
   "cell_type": "code",
   "execution_count": 40,
   "outputs": [
    {
     "data": {
      "text/plain": "<matplotlib.collections.PathCollection at 0x21330144a00>"
     },
     "execution_count": 40,
     "metadata": {},
     "output_type": "execute_result"
    },
    {
     "data": {
      "text/plain": "<Figure size 640x480 with 1 Axes>",
      "image/png": "[encoded data removed]"
     },
     "metadata": {},
     "output_type": "display_data"
    }
   ],
   "source": [
    "import matplotlib.pyplot as plt\n",
    "plt.scatter(df.physicians, df.hospital_beds)"
   ],
   "metadata": {
    "collapsed": false
   }
  },
  {
   "cell_type": "code",
   "execution_count": 44,
   "outputs": [
    {
     "data": {
      "text/plain": "<AxesSubplot:xlabel='region', ylabel='count'>"
     },
     "execution_count": 44,
     "metadata": {},
     "output_type": "execute_result"
    },
    {
     "data": {
      "text/plain": "<Figure size 640x480 with 1 Axes>",
      "image/png": "[encoded data removed]"
     },
     "metadata": {},
     "output_type": "display_data"
    }
   ],
   "source": [
    "import seaborn as sns\n",
    "df.region.value_counts()\n",
    "sns.countplot(x = df.region)"
   ],
   "metadata": {
    "collapsed": false
   }
  },
  {
   "cell_type": "code",
   "execution_count": 46,
   "outputs": [
    {
     "data": {
      "text/plain": "<AxesSubplot:xlabel='income', ylabel='Count'>"
     },
     "execution_count": 46,
     "metadata": {},
     "output_type": "execute_result"
    },
    {
     "data": {
      "text/plain": "<Figure size 640x480 with 1 Axes>",
      "image/png": "[encoded data removed]"
     },
     "metadata": {},
     "output_type": "display_data"
    }
   ],
   "source": [
    "sns.histplot(data = df.income, bins = 10)"
   ],
   "metadata": {
    "collapsed": false
   }
  },
  {
   "cell_type": "markdown",
   "metadata": {
    "id": "10YQkXh1Smjm"
   },
   "source": [
    "## 2. Reviewing Pandas Objects"
   ]
  },
  {
   "cell_type": "markdown",
   "metadata": {
    "id": "WTZfSc5y4YcJ"
   },
   "source": [
    "At the core of the `` pandas`` library there are two fundamental data structures/objects:\n",
    "1. **`Series`**: stores single column data along with an **index**. An index is just a way to \"number\" the `Series` object.\n",
    "2. **`DataFrame`**: is a two-dimensional tabular data structure with labeled axes. It is conceptually useful to think of a `DataFrame` object as a collection of `Series` objects. That is, think of each column in a DataFrame as a single object in the `Series`, where each of these objects in the `Series` shares a common index: the index of the `DataFrame` object.\n",
    "\n",
    "Let's import the necessary libraries and we will delve into each of these `pandas` concepts:"
   ]
  },
  {
   "cell_type": "code",
   "metadata": {
    "id": "z-e4958eShTL"
   },
   "source": [
    "import numpy as np\n",
    "import pandas as pd"
   ],
   "execution_count": 1,
   "outputs": []
  },
  {
   "cell_type": "markdown",
   "metadata": {
    "id": "qZmjwNm4Tv3n"
   },
   "source": [
    "### 2.1. Pandas `Series` Object\n",
    "\n"
   ]
  },
  {
   "cell_type": "markdown",
   "metadata": {
    "id": "RQKyqlDMT6CW"
   },
   "source": [
    "A Pandas ``Series`` is a one-dimensional array of indexed data.\n",
    "It can be created from a list or array as follows:"
   ]
  },
  {
   "cell_type": "code",
   "metadata": {
    "id": "K9HLemZBTp8P",
    "colab": {
     "base_uri": "https://localhost:8080/",
     "height": 102
    },
    "outputId": "72ee936e-bbcc-413a-e280-579a3d0bb3a2"
   },
   "source": [
    "data = pd.Series([0.25, 0.5, 0.75, 1.0])\n",
    "data"
   ],
   "execution_count": 4,
   "outputs": [
    {
     "data": {
      "text/plain": "0    0.25\n1    0.50\n2    0.75\n3    1.00\ndtype: float64"
     },
     "execution_count": 4,
     "metadata": {},
     "output_type": "execute_result"
    }
   ]
  },
  {
   "cell_type": "markdown",
   "metadata": {
    "id": "c-RKCZxZUFc7"
   },
   "source": [
    "As we see in the output, the `Series` wraps both a sequence of values and a sequence of indices starting from 0 to the number of values added through the list, which we can access with the `values` and `index` attributes. The values are simply a familiar `NumPy` array:"
   ]
  },
  {
   "cell_type": "code",
   "metadata": {
    "id": "cBrmv_0nUE3n",
    "colab": {
     "base_uri": "https://localhost:8080/",
     "height": 34
    },
    "outputId": "42fdd9be-7c23-4453-d852-38870c71a9fc"
   },
   "source": [
    "data.values"
   ],
   "execution_count": 5,
   "outputs": [
    {
     "data": {
      "text/plain": "array([0.25, 0.5 , 0.75, 1.  ])"
     },
     "execution_count": 5,
     "metadata": {},
     "output_type": "execute_result"
    }
   ]
  },
  {
   "cell_type": "markdown",
   "metadata": {
    "id": "gOQTX-vbUOoJ"
   },
   "source": [
    "The index is an array-like object of type `pd.Index`."
   ]
  },
  {
   "cell_type": "code",
   "metadata": {
    "id": "js6OTpRsUMUF",
    "colab": {
     "base_uri": "https://localhost:8080/",
     "height": 34
    },
    "outputId": "bc674112-a9a4-47ce-fefa-1758a38ae8e5"
   },
   "source": [
    "data.index"
   ],
   "execution_count": 6,
   "outputs": [
    {
     "data": {
      "text/plain": "RangeIndex(start=0, stop=4, step=1)"
     },
     "execution_count": 6,
     "metadata": {},
     "output_type": "execute_result"
    }
   ]
  },
  {
   "cell_type": "markdown",
   "metadata": {
    "id": "3iq6Q7VqUUzH"
   },
   "source": [
    "Like with a NumPy array, data can be accessed by the associated index via the familiar Python square-bracket slicing notation:"
   ]
  },
  {
   "cell_type": "code",
   "metadata": {
    "id": "qr241H-CURiv",
    "colab": {
     "base_uri": "https://localhost:8080/",
     "height": 34
    },
    "outputId": "2e11fe8c-9aea-46aa-d5ca-de4a64bd634c"
   },
   "source": [
    "print(data[1])"
   ],
   "execution_count": 8,
   "outputs": [
    {
     "name": "stdout",
     "output_type": "stream",
     "text": [
      "0.5\n"
     ]
    }
   ]
  },
  {
   "cell_type": "code",
   "metadata": {
    "id": "P9C3vWHdUXh3",
    "colab": {
     "base_uri": "https://localhost:8080/",
     "height": 68
    },
    "outputId": "7930917f-f52d-4b39-ccf4-7f2c31c54350"
   },
   "source": [
    "data[1:3]"
   ],
   "execution_count": 9,
   "outputs": [
    {
     "data": {
      "text/plain": "1    0.50\n2    0.75\ndtype: float64"
     },
     "execution_count": 9,
     "metadata": {},
     "output_type": "execute_result"
    }
   ]
  },
  {
   "cell_type": "markdown",
   "metadata": {
    "id": "uBmCmljvUw3n"
   },
   "source": [
    "As we will see, the Pandas ``Series`` is much more general and flexible than the one-dimensional NumPy array that it emulates."
   ]
  },
  {
   "cell_type": "markdown",
   "metadata": {
    "id": "-54odkZ5VsQw"
   },
   "source": [
    "#### 2.1.1. `Series` as generalized NumPy array"
   ]
  },
  {
   "cell_type": "markdown",
   "metadata": {
    "id": "j-cCX95-V1Vx"
   },
   "source": [
    "`Numpy` Array has an implicitly defined integer index used to access the values. The Pandas `Series` has an explicitly defined `index` associated with the values."
   ]
  },
  {
   "cell_type": "markdown",
   "metadata": {
    "id": "_vqQfEH6V8QS"
   },
   "source": [
    "This explicit `index` definition gives the `Series` object additional capabilities. The `index` does not need an integer value mandatory, but can consist of values of any desired type, as we can see in the following example:"
   ]
  },
  {
   "cell_type": "code",
   "metadata": {
    "id": "-n6zOXzwUY70",
    "colab": {
     "base_uri": "https://localhost:8080/",
     "height": 102
    },
    "outputId": "62901f0b-ccaa-4d2c-a216-d27edcf892db"
   },
   "source": [
    "data = pd.Series([0.25, 0.5, 0.75, 1.0],\n",
    "                 index=['a', 'b', 'c', 'd'])\n",
    "data"
   ],
   "execution_count": 10,
   "outputs": [
    {
     "data": {
      "text/plain": "a    0.25\nb    0.50\nc    0.75\nd    1.00\ndtype: float64"
     },
     "execution_count": 10,
     "metadata": {},
     "output_type": "execute_result"
    }
   ]
  },
  {
   "cell_type": "markdown",
   "metadata": {
    "id": "-ecFAE3o4YeE"
   },
   "source": [
    "As we can see, we have defined the indices as characters of the English alphabet. One important fact is that the number of defined indices corresponds to the number of added values in the `Series`. When accessing the values associated with the indexes, we must consider the new index nomenclature and access the values with the common slicing:"
   ]
  },
  {
   "cell_type": "code",
   "metadata": {
    "id": "TVDgDkSsV0WJ",
    "colab": {
     "base_uri": "https://localhost:8080/",
     "height": 34
    },
    "outputId": "e982bfc7-6eb6-41df-bfb0-fdca83e31225"
   },
   "source": [
    "data['b']"
   ],
   "execution_count": 11,
   "outputs": [
    {
     "data": {
      "text/plain": "0.5"
     },
     "execution_count": 11,
     "metadata": {},
     "output_type": "execute_result"
    }
   ]
  },
  {
   "cell_type": "markdown",
   "metadata": {
    "id": "my2sw_TJWEVd"
   },
   "source": [
    "We can even use non-contiguous or non-sequential indices (index), considering the number of defined indices corresponds to the number of added values in the `Series`:"
   ]
  },
  {
   "cell_type": "code",
   "metadata": {
    "id": "PgtEPrZmWCPd",
    "colab": {
     "base_uri": "https://localhost:8080/",
     "height": 102
    },
    "outputId": "d66195ae-ec76-4de8-84b1-dc94d8607a23"
   },
   "source": [
    "data = pd.Series([0.25, 0.5, 0.75, 1.0],\n",
    "                 index=[2, 5, 3, 7])\n",
    "data"
   ],
   "execution_count": 12,
   "outputs": [
    {
     "data": {
      "text/plain": "2    0.25\n5    0.50\n3    0.75\n7    1.00\ndtype: float64"
     },
     "execution_count": 12,
     "metadata": {},
     "output_type": "execute_result"
    }
   ]
  },
  {
   "cell_type": "markdown",
   "metadata": {
    "id": "HZFMAd0V4YeZ"
   },
   "source": [
    "And we access the values by slicing the indices such as:"
   ]
  },
  {
   "cell_type": "code",
   "metadata": {
    "id": "l7ZzVQ0NWG0_",
    "colab": {
     "base_uri": "https://localhost:8080/",
     "height": 34
    },
    "outputId": "32f052b3-7a63-4935-e676-b822c2c3134d"
   },
   "source": [
    "data[5]"
   ],
   "execution_count": 16,
   "outputs": [
    {
     "data": {
      "text/plain": "0.5"
     },
     "execution_count": 16,
     "metadata": {},
     "output_type": "execute_result"
    }
   ]
  },
  {
   "cell_type": "markdown",
   "metadata": {
    "id": "C_GMWdaPWK3P"
   },
   "source": [
    "#### 2.1.2 `Series` as specialized dictionaries"
   ]
  },
  {
   "cell_type": "markdown",
   "metadata": {
    "id": "FvcZnAdGWf5S"
   },
   "source": [
    "A dictionary is a structure that maps arbitrary keys to a set of arbitrary values, and a `Series` is a structure which maps typed keys to a set of typed values. We can take advantage of these similarities to create a `Series` from a dictionary, where the `keys` are the `indices` of the `Series` and the `values` are those associated with these `indices`."
   ]
  },
  {
   "cell_type": "code",
   "metadata": {
    "id": "7redH09qWIUm",
    "colab": {
     "base_uri": "https://localhost:8080/",
     "height": 119
    },
    "outputId": "10f5c620-d940-473c-b47c-3f559c94a0c7"
   },
   "source": [
    "population_dict = {'California': 38332521,\n",
    "                   'Texas': 26448193,\n",
    "                   'New York': 19651127,\n",
    "                   'Florida': 19552860,\n",
    "                   'Illinois': 12882135}\n",
    "population = pd.Series(population_dict)\n",
    "population"
   ],
   "execution_count": 17,
   "outputs": [
    {
     "data": {
      "text/plain": "California    38332521\nTexas         26448193\nNew York      19651127\nFlorida       19552860\nIllinois      12882135\ndtype: int64"
     },
     "execution_count": 17,
     "metadata": {},
     "output_type": "execute_result"
    }
   ]
  },
  {
   "cell_type": "markdown",
   "metadata": {
    "id": "PX2-yPcwWp-g"
   },
   "source": [
    "From here, typical dictionary-style item access can be performed:"
   ]
  },
  {
   "cell_type": "code",
   "metadata": {
    "id": "J_1kNBEHWjU8",
    "colab": {
     "base_uri": "https://localhost:8080/",
     "height": 34
    },
    "outputId": "6baf6696-7905-4d83-9aff-eb63207aba07"
   },
   "source": [
    "population['California']"
   ],
   "execution_count": 20,
   "outputs": [
    {
     "data": {
      "text/plain": "38332521"
     },
     "execution_count": 20,
     "metadata": {},
     "output_type": "execute_result"
    }
   ]
  },
  {
   "cell_type": "markdown",
   "metadata": {
    "id": "vq38Yb8lW6q1"
   },
   "source": [
    "Unlike a dictionary, the ``Series`` also supports array-style operations such as slicing:"
   ]
  },
  {
   "cell_type": "code",
   "metadata": {
    "id": "7g1hqM_JWrsQ",
    "colab": {
     "base_uri": "https://localhost:8080/",
     "height": 119
    },
    "outputId": "2e26514f-1b9c-49e6-b151-5e49532e7fdb"
   },
   "source": [
    "population['California':'Illinois']"
   ],
   "execution_count": 21,
   "outputs": [
    {
     "data": {
      "text/plain": "California    38332521\nTexas         26448193\nNew York      19651127\nFlorida       19552860\nIllinois      12882135\ndtype: int64"
     },
     "execution_count": 21,
     "metadata": {},
     "output_type": "execute_result"
    }
   ]
  },
  {
   "cell_type": "markdown",
   "metadata": {
    "id": "QrsnQQ33XIxD"
   },
   "source": [
    "### 2.2. Pandas `DataFrame` Object"
   ]
  },
  {
   "cell_type": "markdown",
   "metadata": {
    "id": "csNIAbs0XWuA"
   },
   "source": [
    "A ``DataFrame`` is an analog of a two-dimensional array with both flexible row indices and flexible column names.\n",
    "Just as you might think of a two-dimensional array as an ordered sequence of aligned one-dimensional columns, you can think of a ``DataFrame`` as a sequence of aligned ``Series`` objects.\n",
    "Here, by \"aligned\" we mean that they share the same index.\n",
    "\n",
    "To demonstrate this, let's first construct a new ``Series`` listing the area of each of the five states discussed in the previous section:"
   ]
  },
  {
   "cell_type": "code",
   "metadata": {
    "id": "yxihQyz5W8s6",
    "colab": {
     "base_uri": "https://localhost:8080/",
     "height": 119
    },
    "outputId": "81b73001-a7a8-467a-e279-bcd7d4697f3b"
   },
   "source": [
    "area_dict = {'California': 423967, 'Texas': 695662, 'New York': 141297,\n",
    "             'Florida': 170312, 'Illinois': 149995}\n",
    "area = pd.Series(area_dict)\n",
    "area"
   ],
   "execution_count": 24,
   "outputs": [
    {
     "data": {
      "text/plain": "California    423967\nTexas         695662\nNew York      141297\nFlorida       170312\nIllinois      149995\ndtype: int64"
     },
     "execution_count": 24,
     "metadata": {},
     "output_type": "execute_result"
    }
   ]
  },
  {
   "cell_type": "markdown",
   "metadata": {
    "id": "YxznvrIRXj_F"
   },
   "source": [
    "Now that we have this along with the ``population`` Series from before, we can use a dictionary to construct a single two-dimensional object containing this information:"
   ]
  },
  {
   "cell_type": "code",
   "metadata": {
    "id": "4gIwq7f7XaUo",
    "colab": {
     "base_uri": "https://localhost:8080/",
     "height": 204
    },
    "outputId": "a24b692c-8c48-49aa-9709-c83ccc402b38"
   },
   "source": [
    "states = pd.DataFrame({'population': population,\n",
    "                       'area': area})\n",
    "states"
   ],
   "execution_count": 25,
   "outputs": [
    {
     "data": {
      "text/plain": "            population    area\nCalifornia    38332521  423967\nTexas         26448193  695662\nNew York      19651127  141297\nFlorida       19552860  170312\nIllinois      12882135  149995",
      "text/html": "<div>\n<style scoped>\n    .dataframe tbody tr th:only-of-type {\n        vertical-align: middle;\n    }\n\n    .dataframe tbody tr th {\n        vertical-align: top;\n    }\n\n    .dataframe thead th {\n        text-align: right;\n    }\n</style>\n<table border=\"1\" class=\"dataframe\">\n  <thead>\n    <tr style=\"text-align: right;\">\n      <th></th>\n      <th>population</th>\n      <th>area</th>\n    </tr>\n  </thead>\n  <tbody>\n    <tr>\n      <th>California</th>\n      <td>38332521</td>\n      <td>423967</td>\n    </tr>\n    <tr>\n      <th>Texas</th>\n      <td>26448193</td>\n      <td>695662</td>\n    </tr>\n    <tr>\n      <th>New York</th>\n      <td>19651127</td>\n      <td>141297</td>\n    </tr>\n    <tr>\n      <th>Florida</th>\n      <td>19552860</td>\n      <td>170312</td>\n    </tr>\n    <tr>\n      <th>Illinois</th>\n      <td>12882135</td>\n      <td>149995</td>\n    </tr>\n  </tbody>\n</table>\n</div>"
     },
     "execution_count": 25,
     "metadata": {},
     "output_type": "execute_result"
    }
   ]
  },
  {
   "cell_type": "markdown",
   "metadata": {
    "id": "aZPy1KcoXo2x"
   },
   "source": [
    "Like the ``Series`` object, the ``DataFrame`` has an ``index`` attribute that gives access to the index labels:"
   ]
  },
  {
   "cell_type": "code",
   "metadata": {
    "id": "Yvymj7g4Xl03",
    "colab": {
     "base_uri": "https://localhost:8080/",
     "height": 34
    },
    "outputId": "4f0d57a7-26b2-405f-8e9e-f9ef1753ff54"
   },
   "source": [
    "states.index"
   ],
   "execution_count": 26,
   "outputs": [
    {
     "data": {
      "text/plain": "Index(['California', 'Texas', 'New York', 'Florida', 'Illinois'], dtype='object')"
     },
     "execution_count": 26,
     "metadata": {},
     "output_type": "execute_result"
    }
   ]
  },
  {
   "cell_type": "markdown",
   "metadata": {
    "id": "AvgpnWh1Xtq_"
   },
   "source": [
    "Additionally, the ``DataFrame`` has a ``columns`` attribute, which is an ``Index`` object holding the column labels:"
   ]
  },
  {
   "cell_type": "code",
   "metadata": {
    "id": "Pf6XodkhXqW9",
    "colab": {
     "base_uri": "https://localhost:8080/",
     "height": 34
    },
    "outputId": "f8f58919-e311-4229-ec01-31d0bdd585e9"
   },
   "source": [
    "states.columns\n",
    "states.values"
   ],
   "execution_count": 29,
   "outputs": [
    {
     "data": {
      "text/plain": "array([[38332521,   423967],\n       [26448193,   695662],\n       [19651127,   141297],\n       [19552860,   170312],\n       [12882135,   149995]], dtype=int64)"
     },
     "execution_count": 29,
     "metadata": {},
     "output_type": "execute_result"
    }
   ]
  },
  {
   "cell_type": "markdown",
   "metadata": {
    "id": "3cXAlI-rX1je"
   },
   "source": [
    "Thus the ``DataFrame`` can be thought of as a generalization of a two-dimensional NumPy array, where both the rows and columns have a generalized index for accessing the data."
   ]
  },
  {
   "cell_type": "markdown",
   "metadata": {
    "id": "IihmEYCs4Yf6"
   },
   "source": [
    "There are some functions and attributes that allow us to observe basic information about the data stored in a `DataFrame` object:\n",
    "\n",
    "1. `DataFrame.head()` -> returns the content of the first 5 rows, by default\n",
    "2. `DataFrame.tail()` -> returns the content of the last 5 rows, by default\n",
    "3. `DataFrame.shape` -> returns a tuple of the form (num_rows, num_columns)\n",
    "4. `DataFrame.columns` -> returns the name of the columns\n",
    "5. `DataFrame.index` -> returns the index of the rows\n",
    "\n",
    "Using `` `data.head ()` `` and `` `data.tail ()` `` we can see the content of the data. Unless otherwise specified, `DataFrame` and `Series` objects have indexes starting from 0 and incrementing monotonically and incrementally as integers."
   ]
  },
  {
   "cell_type": "code",
   "metadata": {
    "id": "nZpzlJvr4Yf8",
    "outputId": "7c898304-9ddb-4654-a649-0076838a839a"
   },
   "source": [
    "states.head(6) # The first three rows"
   ],
   "execution_count": 31,
   "outputs": [
    {
     "data": {
      "text/plain": "            population    area\nCalifornia    38332521  423967\nTexas         26448193  695662\nNew York      19651127  141297\nFlorida       19552860  170312\nIllinois      12882135  149995",
      "text/html": "<div>\n<style scoped>\n    .dataframe tbody tr th:only-of-type {\n        vertical-align: middle;\n    }\n\n    .dataframe tbody tr th {\n        vertical-align: top;\n    }\n\n    .dataframe thead th {\n        text-align: right;\n    }\n</style>\n<table border=\"1\" class=\"dataframe\">\n  <thead>\n    <tr style=\"text-align: right;\">\n      <th></th>\n      <th>population</th>\n      <th>area</th>\n    </tr>\n  </thead>\n  <tbody>\n    <tr>\n      <th>California</th>\n      <td>38332521</td>\n      <td>423967</td>\n    </tr>\n    <tr>\n      <th>Texas</th>\n      <td>26448193</td>\n      <td>695662</td>\n    </tr>\n    <tr>\n      <th>New York</th>\n      <td>19651127</td>\n      <td>141297</td>\n    </tr>\n    <tr>\n      <th>Florida</th>\n      <td>19552860</td>\n      <td>170312</td>\n    </tr>\n    <tr>\n      <th>Illinois</th>\n      <td>12882135</td>\n      <td>149995</td>\n    </tr>\n  </tbody>\n</table>\n</div>"
     },
     "execution_count": 31,
     "metadata": {},
     "output_type": "execute_result"
    }
   ]
  },
  {
   "cell_type": "code",
   "metadata": {
    "id": "dGbPhrX-4YgE",
    "outputId": "a99370d1-c00d-4624-ce98-a8d762d0e832"
   },
   "source": [
    "states.tail(3) # The last three rows\n",
    "states.shape"
   ],
   "execution_count": 32,
   "outputs": [
    {
     "data": {
      "text/plain": "(5, 2)"
     },
     "execution_count": 32,
     "metadata": {},
     "output_type": "execute_result"
    }
   ]
  },
  {
   "cell_type": "markdown",
   "metadata": {
    "id": "J9CIkU51YdET"
   },
   "source": [
    "### 2.3. Pandas `Index` Object\n",
    "\n",
    "This ``Index`` object is an interesting structure itself, and it can be thought as an *immutable array*:"
   ]
  },
  {
   "cell_type": "code",
   "metadata": {
    "id": "VBFPXJ_1Xwyj",
    "colab": {
     "base_uri": "https://localhost:8080/",
     "height": 34
    },
    "outputId": "732f535e-89d3-4a90-8604-d70f58e65ecf"
   },
   "source": [
    "ind = pd.Index([2, 3, 5, 7, 11])\n",
    "ind"
   ],
   "execution_count": 33,
   "outputs": [
    {
     "data": {
      "text/plain": "Int64Index([2, 3, 5, 7, 11], dtype='int64')"
     },
     "execution_count": 33,
     "metadata": {},
     "output_type": "execute_result"
    }
   ]
  },
  {
   "cell_type": "markdown",
   "metadata": {
    "id": "bcpiAVRj4YgS"
   },
   "source": [
    "This index object can be sliced as a list or a numpy array:"
   ]
  },
  {
   "cell_type": "code",
   "metadata": {
    "id": "YL0A6HoiYno4",
    "colab": {
     "base_uri": "https://localhost:8080/",
     "height": 34
    },
    "outputId": "fb3fe240-90eb-445b-e442-dc92ef39eda5"
   },
   "source": [
    "ind[1] # Accessing element in position 1"
   ],
   "execution_count": 34,
   "outputs": [
    {
     "data": {
      "text/plain": "3"
     },
     "execution_count": 34,
     "metadata": {},
     "output_type": "execute_result"
    }
   ]
  },
  {
   "cell_type": "code",
   "metadata": {
    "id": "_w6Gkc1nYpB1",
    "colab": {
     "base_uri": "https://localhost:8080/",
     "height": 34
    },
    "outputId": "79c8e54f-47ea-4ef8-d9ba-ee457477c3f3"
   },
   "source": [
    "ind[::2] # Accessing elements starting from position 0 through all the elements two by two."
   ],
   "execution_count": 35,
   "outputs": [
    {
     "data": {
      "text/plain": "Int64Index([2, 5, 11], dtype='int64')"
     },
     "execution_count": 35,
     "metadata": {},
     "output_type": "execute_result"
    }
   ]
  },
  {
   "cell_type": "markdown",
   "metadata": {
    "id": "STd6x0Zw4Ygf"
   },
   "source": [
    "Some common attributes with `Numpy` arrays:"
   ]
  },
  {
   "cell_type": "code",
   "metadata": {
    "id": "SdPm35JMYqju",
    "colab": {
     "base_uri": "https://localhost:8080/",
     "height": 34
    },
    "outputId": "4643ce78-6d2d-42b6-a3fe-c9d6c6de7d66"
   },
   "source": [
    "print(' Size:',ind.size,'\\n',\n",
    "      'Shape:',ind.shape,'\\n',\n",
    "      'Dimension:',ind.ndim,'\\n', \n",
    "      'Data type:',ind.dtype)"
   ],
   "execution_count": 36,
   "outputs": [
    {
     "name": "stdout",
     "output_type": "stream",
     "text": [
      " Size: 5 \n",
      " Shape: (5,) \n",
      " Dimension: 1 \n",
      " Data type: int64\n"
     ]
    }
   ]
  },
  {
   "cell_type": "markdown",
   "metadata": {
    "id": "AOB8_VkqYyB8"
   },
   "source": [
    "One difference between ``Index`` objects and `Numpy` arrays is that indices are **immutable**. That is, they cannot be modified via the normal means, which will cause an error:"
   ]
  },
  {
   "cell_type": "code",
   "metadata": {
    "id": "HFy9E1v1YtEY",
    "colab": {
     "base_uri": "https://localhost:8080/",
     "height": 283
    },
    "outputId": "b73c3c18-823c-43af-d574-95c802de056e"
   },
   "source": [
    "ind[1] = 0"
   ],
   "execution_count": 37,
   "outputs": [
    {
     "ename": "TypeError",
     "evalue": "Index does not support mutable operations",
     "output_type": "error",
     "traceback": [
      "\u001B[1;31m---------------------------------------------------------------------------\u001B[0m",
      "\u001B[1;31mTypeError\u001B[0m                                 Traceback (most recent call last)",
      "Cell \u001B[1;32mIn [37], line 1\u001B[0m\n\u001B[1;32m----> 1\u001B[0m ind[\u001B[38;5;241m1\u001B[39m] \u001B[38;5;241m=\u001B[39m \u001B[38;5;241m0\u001B[39m\n",
      "File \u001B[1;32m~\\anaconda3\\envs\\financevenv\\lib\\site-packages\\pandas\\core\\indexes\\base.py:5343\u001B[0m, in \u001B[0;36mIndex.__setitem__\u001B[1;34m(self, key, value)\u001B[0m\n\u001B[0;32m   5341\u001B[0m \u001B[38;5;129m@final\u001B[39m\n\u001B[0;32m   5342\u001B[0m \u001B[38;5;28;01mdef\u001B[39;00m \u001B[38;5;21m__setitem__\u001B[39m(\u001B[38;5;28mself\u001B[39m, key, value):\n\u001B[1;32m-> 5343\u001B[0m     \u001B[38;5;28;01mraise\u001B[39;00m \u001B[38;5;167;01mTypeError\u001B[39;00m(\u001B[38;5;124m\"\u001B[39m\u001B[38;5;124mIndex does not support mutable operations\u001B[39m\u001B[38;5;124m\"\u001B[39m)\n",
      "\u001B[1;31mTypeError\u001B[0m: Index does not support mutable operations"
     ]
    }
   ]
  },
  {
   "cell_type": "markdown",
   "metadata": {
    "id": "NlKz6ms_azwG"
   },
   "source": [
    "## 3. Data Indexing and Selection"
   ]
  },
  {
   "cell_type": "markdown",
   "metadata": {
    "id": "QwSgdcxm4Ygw"
   },
   "source": [
    "Let's see in detail how to access the elements of the `Series` and `DataFrames` objects."
   ]
  },
  {
   "cell_type": "markdown",
   "metadata": {
    "id": "leTpYZAXa442"
   },
   "source": [
    "### 3.1. Data Selection in `Series`"
   ]
  },
  {
   "cell_type": "markdown",
   "metadata": {
    "id": "a7uKXu1W4Yg1"
   },
   "source": [
    "Let's redefine a `Series` object for explanatory purposes:"
   ]
  },
  {
   "cell_type": "code",
   "metadata": {
    "id": "IwqXVDfyYz0S",
    "colab": {
     "base_uri": "https://localhost:8080/",
     "height": 102
    },
    "outputId": "e7cd844a-f0bf-4a4f-9265-1264a4186fdb"
   },
   "source": [
    "data = pd.Series([0.25, 0.5, 0.75, 1.0],\n",
    "                 index=['a', 'b', 'c', 'd'])\n",
    "data"
   ],
   "execution_count": 38,
   "outputs": [
    {
     "data": {
      "text/plain": "a    0.25\nb    0.50\nc    0.75\nd    1.00\ndtype: float64"
     },
     "execution_count": 38,
     "metadata": {},
     "output_type": "execute_result"
    }
   ]
  },
  {
   "cell_type": "markdown",
   "metadata": {
    "id": "E2rAGgy_4Yg7"
   },
   "source": [
    "In addition to accessing the elements of a `Series` through slicing the indexes, we can update the values associated with them as:"
   ]
  },
  {
   "cell_type": "code",
   "metadata": {
    "id": "N4GEiF3Q4Yg8",
    "outputId": "53b9997a-9c3c-4788-9a94-537a88564720"
   },
   "source": [
    "data['d'] = 0.95 # updating the value associated with 'd' index in Series object\n",
    "data"
   ],
   "execution_count": 39,
   "outputs": [
    {
     "data": {
      "text/plain": "a    0.25\nb    0.50\nc    0.75\nd    0.95\ndtype: float64"
     },
     "execution_count": 39,
     "metadata": {},
     "output_type": "execute_result"
    }
   ]
  },
  {
   "cell_type": "markdown",
   "metadata": {
    "id": "wbDAa1WJ4YhA"
   },
   "source": [
    "We can also add a new value using the same procedure, just as we would do with a dictionary:"
   ]
  },
  {
   "cell_type": "code",
   "metadata": {
    "id": "LI3ZI3DibAc8",
    "colab": {
     "base_uri": "https://localhost:8080/",
     "height": 119
    },
    "outputId": "bbf5da64-71a5-4108-d922-9e5aed41f7be"
   },
   "source": [
    "data['e'] = 1.25 # New value added with 'e' index in Series object\n",
    "data"
   ],
   "execution_count": null,
   "outputs": [
    {
     "output_type": "execute_result",
     "data": {
      "text/plain": [
       "a    0.25\n",
       "b    0.50\n",
       "c    0.75\n",
       "d    0.95\n",
       "e    1.25\n",
       "dtype: float64"
      ]
     },
     "metadata": {
      "tags": []
     },
     "execution_count": 56
    }
   ]
  },
  {
   "cell_type": "markdown",
   "metadata": {
    "id": "sG5WWUqB4YhJ"
   },
   "source": [
    "Slicing access can be done *explicitly* or *implicitly* through a range, such that:"
   ]
  },
  {
   "cell_type": "code",
   "metadata": {
    "id": "z0-Eh-lebFL8",
    "colab": {
     "base_uri": "https://localhost:8080/",
     "height": 85
    },
    "outputId": "e5eebbbf-6500-4235-c372-0d18f37c19eb"
   },
   "source": [
    "# slicing by explicit index\n",
    "data['a':'c']"
   ],
   "execution_count": 42,
   "outputs": [
    {
     "data": {
      "text/plain": "a    0.25\nb    0.50\nc    0.75\ndtype: float64"
     },
     "execution_count": 42,
     "metadata": {},
     "output_type": "execute_result"
    }
   ]
  },
  {
   "cell_type": "code",
   "metadata": {
    "id": "h8uwmr0HbLvh",
    "colab": {
     "base_uri": "https://localhost:8080/",
     "height": 68
    },
    "outputId": "2a943e1b-2820-4d0d-80a3-5554d8b0a7eb"
   },
   "source": [
    "# slicing by implicit integer index\n",
    "data[0:2]"
   ],
   "execution_count": 43,
   "outputs": [
    {
     "data": {
      "text/plain": "a    0.25\nb    0.50\ndtype: float64"
     },
     "execution_count": 43,
     "metadata": {},
     "output_type": "execute_result"
    }
   ]
  },
  {
   "cell_type": "markdown",
   "metadata": {
    "id": "RhaWB93v4YhZ"
   },
   "source": [
    "We can access a group of specific indices by including these indices in a list, in such a way that access is done as follows:"
   ]
  },
  {
   "cell_type": "code",
   "metadata": {
    "id": "2960iQtybM2v",
    "colab": {
     "base_uri": "https://localhost:8080/",
     "height": 68
    },
    "outputId": "81177db6-8bfb-470e-e240-c590d0c754eb"
   },
   "source": [
    "# express indexing\n",
    "data[['a', 'e']]"
   ],
   "execution_count": null,
   "outputs": [
    {
     "output_type": "execute_result",
     "data": {
      "text/plain": [
       "a    0.25\n",
       "e    1.25\n",
       "dtype: float64"
      ]
     },
     "metadata": {
      "tags": []
     },
     "execution_count": 59
    }
   ]
  },
  {
   "cell_type": "markdown",
   "metadata": {
    "id": "ERgbiCCSbVhp"
   },
   "source": [
    "Notice that when slicing with an explicit index (i.e., `data ['a':'c']`), the final index is included in the slice, while when slicing with an implicit index (i.e., `data[0:2]`), the final index is excluded from the slice. When we slicing through a list (i.e., `data [['a', 'e']]`), all indices are equally accessed."
   ]
  },
  {
   "cell_type": "markdown",
   "metadata": {
    "id": "bAVfBKEJbYxc"
   },
   "source": [
    "### 3.2. Indexers: loc, iloc for `Series`"
   ]
  },
  {
   "cell_type": "markdown",
   "metadata": {
    "id": "y3heiMk34Yhh"
   },
   "source": [
    "We are going to review two ways to access the elements of a `Series`, using two attributes determined for this: `.loc[]` and `.iloc[]`. Let's first define a `Series` of three string elements and character indices:"
   ]
  },
  {
   "cell_type": "code",
   "metadata": {
    "id": "Zsue-7dcbPn8",
    "colab": {
     "base_uri": "https://localhost:8080/",
     "height": 85
    },
    "outputId": "fd1eb40d-e5c7-431b-e3bd-bcfbde1c76e7"
   },
   "source": [
    "data = pd.Series(['Hello', 'DPhi', 'world'], index=['a', 'b', 'c'])\n",
    "data\n",
    "\n",
    "data2 = pd.Series(['Bye', 'goodbye', 'bye'], index=[1, 2, 3])\n",
    "dataframe = pd.DataFrame({\"first\": data, \"second\": data2})\n",
    "dataframe"
   ],
   "execution_count": 51,
   "outputs": [
    {
     "data": {
      "text/plain": "   first   second\na  Hello      NaN\nb   DPhi      NaN\nc  world      NaN\n1    NaN      Bye\n2    NaN  goodbye\n3    NaN      bye",
      "text/html": "<div>\n<style scoped>\n    .dataframe tbody tr th:only-of-type {\n        vertical-align: middle;\n    }\n\n    .dataframe tbody tr th {\n        vertical-align: top;\n    }\n\n    .dataframe thead th {\n        text-align: right;\n    }\n</style>\n<table border=\"1\" class=\"dataframe\">\n  <thead>\n    <tr style=\"text-align: right;\">\n      <th></th>\n      <th>first</th>\n      <th>second</th>\n    </tr>\n  </thead>\n  <tbody>\n    <tr>\n      <th>a</th>\n      <td>Hello</td>\n      <td>NaN</td>\n    </tr>\n    <tr>\n      <th>b</th>\n      <td>DPhi</td>\n      <td>NaN</td>\n    </tr>\n    <tr>\n      <th>c</th>\n      <td>world</td>\n      <td>NaN</td>\n    </tr>\n    <tr>\n      <th>1</th>\n      <td>NaN</td>\n      <td>Bye</td>\n    </tr>\n    <tr>\n      <th>2</th>\n      <td>NaN</td>\n      <td>goodbye</td>\n    </tr>\n    <tr>\n      <th>3</th>\n      <td>NaN</td>\n      <td>bye</td>\n    </tr>\n  </tbody>\n</table>\n</div>"
     },
     "execution_count": 51,
     "metadata": {},
     "output_type": "execute_result"
    }
   ]
  },
  {
   "cell_type": "markdown",
   "metadata": {
    "id": "DE-cLr7C4Yho"
   },
   "source": [
    "#### 3.2.1. `loc` attribute"
   ]
  },
  {
   "cell_type": "markdown",
   "metadata": {
    "id": "0On5fbdLdUs_"
   },
   "source": [
    "The ``loc`` attribute allows indexing and slicing that always references the explicit index (the explicit name of the index):"
   ]
  },
  {
   "cell_type": "code",
   "metadata": {
    "id": "ug4ownUTdQHn",
    "colab": {
     "base_uri": "https://localhost:8080/",
     "height": 34
    },
    "outputId": "38e6b546-b41f-436c-bb06-0414864f466b"
   },
   "source": [
    "dataframe.loc['a']"
   ],
   "execution_count": 56,
   "outputs": [
    {
     "data": {
      "text/plain": "first     Hello\nsecond      NaN\nName: a, dtype: object"
     },
     "execution_count": 56,
     "metadata": {},
     "output_type": "execute_result"
    }
   ]
  },
  {
   "cell_type": "code",
   "metadata": {
    "id": "xxEkJjcqdYoA",
    "colab": {
     "base_uri": "https://localhost:8080/",
     "height": 68
    },
    "outputId": "d81d9e80-8b41-416d-aa02-c7406cbcfa32"
   },
   "source": [
    "data.loc['a':'c']"
   ],
   "execution_count": 57,
   "outputs": [
    {
     "data": {
      "text/plain": "a    Hello\nb     DPhi\nc    world\ndtype: object"
     },
     "execution_count": 57,
     "metadata": {},
     "output_type": "execute_result"
    }
   ]
  },
  {
   "cell_type": "markdown",
   "metadata": {
    "id": "TjRjxJMc4Yh0"
   },
   "source": [
    "#### 3.2.2. `iloc` attribute"
   ]
  },
  {
   "cell_type": "markdown",
   "metadata": {
    "id": "e7fxH_KIddJM"
   },
   "source": [
    "The ``iloc`` attribute allows indexing and slicing that always references the implicit Python-style index (the direct row number of the values monotonically increasing from 0 to 3):"
   ]
  },
  {
   "cell_type": "code",
   "metadata": {
    "id": "8H3LFd1VdZuQ",
    "colab": {
     "base_uri": "https://localhost:8080/",
     "height": 34
    },
    "outputId": "b538fedf-c955-4d27-f548-7214bac9d380"
   },
   "source": [
    "data.iloc[1]"
   ],
   "execution_count": null,
   "outputs": [
    {
     "output_type": "execute_result",
     "data": {
      "text/plain": [
       "'DPhi'"
      ]
     },
     "metadata": {
      "tags": []
     },
     "execution_count": 64
    }
   ]
  },
  {
   "cell_type": "code",
   "metadata": {
    "id": "0nS4PzRqdfDk",
    "colab": {
     "base_uri": "https://localhost:8080/",
     "height": 68
    },
    "outputId": "168e9cae-73e7-4c5e-978a-de417d732ce5"
   },
   "source": [
    "data.iloc[1:3]"
   ],
   "execution_count": null,
   "outputs": [
    {
     "output_type": "execute_result",
     "data": {
      "text/plain": [
       "b     DPhi\n",
       "c    world\n",
       "dtype: object"
      ]
     },
     "metadata": {
      "tags": []
     },
     "execution_count": 65
    }
   ]
  },
  {
   "cell_type": "markdown",
   "metadata": {
    "id": "Wf7N69xM4YiA"
   },
   "source": [
    "## Exercise 1\n",
    "\n",
    "Consider the following lists:\n",
    "```\n",
    "lst1 = [1, 2, 3, 5, 8]\n",
    "lst2 = [8, 5, 3, 2, 1]\n",
    "```\n",
    "\n",
    "1. Create and display two individual `Series` objects `s1` and `s2` from the data available on each list.\n",
    "\n",
    "\n",
    "2. Perform the following operations with the two series (element-wise):\n",
    "    1. Add `s1` and `s2` and store the result in a new variable `s3_add`\n",
    "    2. Subtract `s2` from `s1` and store the result in a new variable `s3_sub`\n",
    "    3. Multiply `s1` and `s2` and store the result in a new variable `s3_mul`\n",
    "    4. Divide `s1` by `s2` and store the result in a new variable `s3_div`"
   ]
  },
  {
   "cell_type": "code",
   "metadata": {
    "id": "2AWgOpXA4YiB"
   },
   "source": [
    "lst1 = [1, 2, 3, 5, 8]\n",
    "lst2 = [8, 5, 3, 2, 1]\n",
    "s1 = pd.Series(lst1)\n",
    "s2 = pd.Series(lst2)\n"
   ],
   "execution_count": 58,
   "outputs": []
  },
  {
   "cell_type": "code",
   "execution_count": 60,
   "outputs": [],
   "source": [
    "s3_add = np.add(s1, s2)"
   ],
   "metadata": {
    "collapsed": false
   }
  },
  {
   "cell_type": "code",
   "execution_count": null,
   "outputs": [],
   "source": [
    "m"
   ],
   "metadata": {
    "collapsed": false
   }
  },
  {
   "cell_type": "code",
   "metadata": {
    "id": "mNqlJvJL4YiG"
   },
   "source": [
    "# Answer 2"
   ],
   "execution_count": null,
   "outputs": []
  },
  {
   "cell_type": "markdown",
   "metadata": {
    "id": "q2k--y9l4YiK"
   },
   "source": [
    "## Exercise 2\n",
    "\n",
    "Consider the following `Series` object:\n",
    "```\n",
    "0    45000\n",
    "1    37872\n",
    "2    57923\n",
    "3    68979\n",
    "4    78934\n",
    "5    69897\n",
    "6    56701\n",
    "Name: Amazon_Reviews, dtype: int64\n",
    "```\n",
    "\n",
    "1. Create and display the `Amazon_Reviews` Series.\n",
    "\n",
    "2. Get the last three values from `Amazon_Reviews` using negative indexing."
   ]
  },
  {
   "cell_type": "code",
   "metadata": {
    "id": "tIR8kNzT4YiK"
   },
   "source": [
    "Amazon_Reviews = pd.Series([45000, 37872, 57923, 68979, 78934, 69897, 56701], dtype = \"int64\")"
   ],
   "execution_count": 61,
   "outputs": []
  },
  {
   "cell_type": "code",
   "metadata": {
    "id": "mivpP0G-4YiQ"
   },
   "source": [
    "Amazon_Reviews[-3:]"
   ],
   "execution_count": 64,
   "outputs": [
    {
     "data": {
      "text/plain": "4    78934\n5    69897\n6    56701\ndtype: int64"
     },
     "execution_count": 64,
     "metadata": {},
     "output_type": "execute_result"
    }
   ]
  },
  {
   "cell_type": "markdown",
   "metadata": {
    "id": "UUJmepUT4YiV"
   },
   "source": [
    "## Exercise 3\n",
    "\n",
    "Consider the following dictionary which is relating the area in sq units of some USA states: \n",
    "```\n",
    "    area_dict = {'California': 423967, 'Texas': 695662, 'New York': 141297,\n",
    "             'Florida': 170312, 'Illinois': 149995}\n",
    "```\n",
    "\n",
    "1. Create a `Series` using the given dictionary\n",
    "2. Extract areas for 'Texas', 'New York',  and 'Florida' from the created series"
   ]
  },
  {
   "cell_type": "code",
   "metadata": {
    "id": "rFwk8IFW4YiX"
   },
   "source": [
    "area_dict = {'California': 423967, 'Texas': 695662, 'New York': 141297,\n",
    "             'Florida': 170312, 'Illinois': 149995}\n",
    "area_dict"
   ],
   "execution_count": 68,
   "outputs": [
    {
     "data": {
      "text/plain": "{'California': 423967,\n 'Texas': 695662,\n 'New York': 141297,\n 'Florida': 170312,\n 'Illinois': 149995}"
     },
     "execution_count": 68,
     "metadata": {},
     "output_type": "execute_result"
    }
   ]
  },
  {
   "cell_type": "code",
   "metadata": {
    "id": "jqrxzuw_4Yid"
   },
   "source": [
    "series = pd.Series(area_dict)"
   ],
   "execution_count": 66,
   "outputs": []
  },
  {
   "cell_type": "code",
   "execution_count": 70,
   "outputs": [
    {
     "data": {
      "text/plain": "Texas       695662\nNew York    141297\nFlorida     170312\ndtype: int64"
     },
     "execution_count": 70,
     "metadata": {},
     "output_type": "execute_result"
    }
   ],
   "source": [
    "series.loc['Texas':'Florida']"
   ],
   "metadata": {
    "collapsed": false
   }
  },
  {
   "cell_type": "markdown",
   "metadata": {
    "id": "L57zEGqtenG5"
   },
   "source": [
    "### 3.3. Data Selection in `DataFrame`"
   ]
  },
  {
   "cell_type": "markdown",
   "metadata": {
    "id": "vRAutQdn4Yiq"
   },
   "source": [
    "Let's see in detail how to access the elements of the `DataFrame` objects, redefine a `DataFrame` object for explanatory purposes:"
   ]
  },
  {
   "cell_type": "code",
   "metadata": {
    "id": "x9ax5WMldgDc",
    "colab": {
     "base_uri": "https://localhost:8080/",
     "height": 204
    },
    "outputId": "90f0e65e-0b0c-40d6-ad6c-9bc343b159d2"
   },
   "source": [
    "area = pd.Series({'California': 423967, 'Texas': 695662,\n",
    "                  'New York': 141297, 'Florida': 170312,\n",
    "                  'Illinois': 149995})\n",
    "pop = pd.Series({'California': 38332521, 'Texas': 26448193,\n",
    "                 'New York': 19651127, 'Florida': 19552860,\n",
    "                 'Illinois': 12882135})\n",
    "data = pd.DataFrame({'area':area, 'pop':pop})\n",
    "data"
   ],
   "execution_count": 71,
   "outputs": [
    {
     "data": {
      "text/plain": "              area       pop\nCalifornia  423967  38332521\nTexas       695662  26448193\nNew York    141297  19651127\nFlorida     170312  19552860\nIllinois    149995  12882135",
      "text/html": "<div>\n<style scoped>\n    .dataframe tbody tr th:only-of-type {\n        vertical-align: middle;\n    }\n\n    .dataframe tbody tr th {\n        vertical-align: top;\n    }\n\n    .dataframe thead th {\n        text-align: right;\n    }\n</style>\n<table border=\"1\" class=\"dataframe\">\n  <thead>\n    <tr style=\"text-align: right;\">\n      <th></th>\n      <th>area</th>\n      <th>pop</th>\n    </tr>\n  </thead>\n  <tbody>\n    <tr>\n      <th>California</th>\n      <td>423967</td>\n      <td>38332521</td>\n    </tr>\n    <tr>\n      <th>Texas</th>\n      <td>695662</td>\n      <td>26448193</td>\n    </tr>\n    <tr>\n      <th>New York</th>\n      <td>141297</td>\n      <td>19651127</td>\n    </tr>\n    <tr>\n      <th>Florida</th>\n      <td>170312</td>\n      <td>19552860</td>\n    </tr>\n    <tr>\n      <th>Illinois</th>\n      <td>149995</td>\n      <td>12882135</td>\n    </tr>\n  </tbody>\n</table>\n</div>"
     },
     "execution_count": 71,
     "metadata": {},
     "output_type": "execute_result"
    }
   ]
  },
  {
   "cell_type": "markdown",
   "metadata": {
    "id": "Y6V7L6dFesh8"
   },
   "source": [
    "The individual ``Series`` that make up the columns of the ``DataFrame`` can be accessed via dictionary-style indexing of the column name:"
   ]
  },
  {
   "cell_type": "code",
   "metadata": {
    "id": "eGABmVWSeprS",
    "colab": {
     "base_uri": "https://localhost:8080/",
     "height": 119
    },
    "outputId": "7e36b468-e301-4286-978a-5be8444855f8"
   },
   "source": [
    "data['area'] # Accessing the 'area' column of the data DataFrame"
   ],
   "execution_count": 72,
   "outputs": [
    {
     "data": {
      "text/plain": "California    423967\nTexas         695662\nNew York      141297\nFlorida       170312\nIllinois      149995\nName: area, dtype: int64"
     },
     "execution_count": 72,
     "metadata": {},
     "output_type": "execute_result"
    }
   ]
  },
  {
   "cell_type": "code",
   "metadata": {
    "id": "MAusC4y14Yi0",
    "outputId": "f04f7a23-08ff-4c2d-c18c-7a0488b7b2f4"
   },
   "source": [
    "data['pop'] # Accessing the 'pop' column of the data DataFrame"
   ],
   "execution_count": 73,
   "outputs": [
    {
     "data": {
      "text/plain": "California    38332521\nTexas         26448193\nNew York      19651127\nFlorida       19552860\nIllinois      12882135\nName: pop, dtype: int64"
     },
     "execution_count": 73,
     "metadata": {},
     "output_type": "execute_result"
    }
   ]
  },
  {
   "cell_type": "markdown",
   "metadata": {
    "id": "BZUAgmMUe0LX"
   },
   "source": [
    "Equivalently, we can use attribute-style access with column names that are strings, which will result in the exact same `Series` output:"
   ]
  },
  {
   "cell_type": "code",
   "metadata": {
    "id": "TVe3LNpLerhv",
    "colab": {
     "base_uri": "https://localhost:8080/",
     "height": 119
    },
    "outputId": "5c16a56a-a382-4af3-f4f5-4dd353fa71bb"
   },
   "source": [
    "data.area # Equivalent to data['area']"
   ],
   "execution_count": 74,
   "outputs": [
    {
     "data": {
      "text/plain": "California    423967\nTexas         695662\nNew York      141297\nFlorida       170312\nIllinois      149995\nName: area, dtype: int64"
     },
     "execution_count": 74,
     "metadata": {},
     "output_type": "execute_result"
    }
   ]
  },
  {
   "cell_type": "markdown",
   "metadata": {
    "id": "dY3Is2CQe6aT"
   },
   "source": [
    "Like with the ``Series`` objects discussed earlier, this dictionary-style syntax can also be used to modify the object, in this case adding a new column:"
   ]
  },
  {
   "cell_type": "code",
   "metadata": {
    "id": "QlxFQv-ae16T",
    "colab": {
     "base_uri": "https://localhost:8080/",
     "height": 204
    },
    "outputId": "0abb7e29-5454-457d-e4b9-a82bd58a4947"
   },
   "source": [
    "data['density'] = data['pop']/data['area']\n",
    "data"
   ],
   "execution_count": 75,
   "outputs": [
    {
     "data": {
      "text/plain": "              area       pop     density\nCalifornia  423967  38332521   90.413926\nTexas       695662  26448193   38.018740\nNew York    141297  19651127  139.076746\nFlorida     170312  19552860  114.806121\nIllinois    149995  12882135   85.883763",
      "text/html": "<div>\n<style scoped>\n    .dataframe tbody tr th:only-of-type {\n        vertical-align: middle;\n    }\n\n    .dataframe tbody tr th {\n        vertical-align: top;\n    }\n\n    .dataframe thead th {\n        text-align: right;\n    }\n</style>\n<table border=\"1\" class=\"dataframe\">\n  <thead>\n    <tr style=\"text-align: right;\">\n      <th></th>\n      <th>area</th>\n      <th>pop</th>\n      <th>density</th>\n    </tr>\n  </thead>\n  <tbody>\n    <tr>\n      <th>California</th>\n      <td>423967</td>\n      <td>38332521</td>\n      <td>90.413926</td>\n    </tr>\n    <tr>\n      <th>Texas</th>\n      <td>695662</td>\n      <td>26448193</td>\n      <td>38.018740</td>\n    </tr>\n    <tr>\n      <th>New York</th>\n      <td>141297</td>\n      <td>19651127</td>\n      <td>139.076746</td>\n    </tr>\n    <tr>\n      <th>Florida</th>\n      <td>170312</td>\n      <td>19552860</td>\n      <td>114.806121</td>\n    </tr>\n    <tr>\n      <th>Illinois</th>\n      <td>149995</td>\n      <td>12882135</td>\n      <td>85.883763</td>\n    </tr>\n  </tbody>\n</table>\n</div>"
     },
     "execution_count": 75,
     "metadata": {},
     "output_type": "execute_result"
    }
   ]
  },
  {
   "cell_type": "markdown",
   "metadata": {
    "id": "_MOeJGiv4YjG"
   },
   "source": [
    "As you can see, when the `Series` 'pop' is accessed and divided over the `Series` 'area', the arithmetic operation becomes element-wise and the result is assigned to the new `Series` 'density', which becomes the third column of the `DataFrame` `data`."
   ]
  },
  {
   "cell_type": "markdown",
   "metadata": {
    "id": "YyAP8ug0fKHw"
   },
   "source": [
    "We can also view the ``DataFrame`` as an enhanced two-dimensional array.\n",
    "We can examine the raw underlying data array using the ``values`` attribute, which will return a two-dimensional array in which each row corresponds to a row of `DataFrame` values:"
   ]
  },
  {
   "cell_type": "code",
   "metadata": {
    "id": "i0APM5L9e8YT",
    "colab": {
     "base_uri": "https://localhost:8080/",
     "height": 102
    },
    "outputId": "00d06299-5730-4148-9ff5-dda3b68641a1"
   },
   "source": [
    "data.values\n",
    "data.index\n",
    "data.columns"
   ],
   "execution_count": 78,
   "outputs": [
    {
     "data": {
      "text/plain": "Index(['area', 'pop', 'density'], dtype='object')"
     },
     "execution_count": 78,
     "metadata": {},
     "output_type": "execute_result"
    }
   ]
  },
  {
   "cell_type": "markdown",
   "metadata": {
    "id": "j03HjPyJ4YjP"
   },
   "source": [
    "### 3.4. Indexers: loc, iloc for `DataFrame`"
   ]
  },
  {
   "cell_type": "markdown",
   "metadata": {
    "id": "RxpcQ-Bm4YjQ"
   },
   "source": [
    "We are going to review two ways to access the elements of a `DataFrame`, using two attributes determined for this: `.loc[]` and `.iloc[]`:"
   ]
  },
  {
   "cell_type": "markdown",
   "metadata": {
    "id": "XGws49kM4YjQ"
   },
   "source": [
    "#### 3.4.1. `loc` attribute"
   ]
  },
  {
   "cell_type": "markdown",
   "metadata": {
    "id": "Ssjo7pr04YjR"
   },
   "source": [
    "The ``loc`` attribute allows indexing and slicing that always references the explicit index (the explicit name of the index):"
   ]
  },
  {
   "cell_type": "code",
   "metadata": {
    "id": "c8kPXGCCfNX1",
    "colab": {
     "base_uri": "https://localhost:8080/",
     "height": 204
    },
    "outputId": "d2320b0c-30b1-43f2-bdde-3a465d3a079b"
   },
   "source": [
    "data.loc[:'Illinois', :'pop']"
   ],
   "execution_count": 79,
   "outputs": [
    {
     "data": {
      "text/plain": "              area       pop\nCalifornia  423967  38332521\nTexas       695662  26448193\nNew York    141297  19651127\nFlorida     170312  19552860\nIllinois    149995  12882135",
      "text/html": "<div>\n<style scoped>\n    .dataframe tbody tr th:only-of-type {\n        vertical-align: middle;\n    }\n\n    .dataframe tbody tr th {\n        vertical-align: top;\n    }\n\n    .dataframe thead th {\n        text-align: right;\n    }\n</style>\n<table border=\"1\" class=\"dataframe\">\n  <thead>\n    <tr style=\"text-align: right;\">\n      <th></th>\n      <th>area</th>\n      <th>pop</th>\n    </tr>\n  </thead>\n  <tbody>\n    <tr>\n      <th>California</th>\n      <td>423967</td>\n      <td>38332521</td>\n    </tr>\n    <tr>\n      <th>Texas</th>\n      <td>695662</td>\n      <td>26448193</td>\n    </tr>\n    <tr>\n      <th>New York</th>\n      <td>141297</td>\n      <td>19651127</td>\n    </tr>\n    <tr>\n      <th>Florida</th>\n      <td>170312</td>\n      <td>19552860</td>\n    </tr>\n    <tr>\n      <th>Illinois</th>\n      <td>149995</td>\n      <td>12882135</td>\n    </tr>\n  </tbody>\n</table>\n</div>"
     },
     "execution_count": 79,
     "metadata": {},
     "output_type": "execute_result"
    }
   ]
  },
  {
   "cell_type": "code",
   "execution_count": 80,
   "outputs": [],
   "source": [
    "a = [1, 2, 3, 4]"
   ],
   "metadata": {
    "collapsed": false
   }
  },
  {
   "cell_type": "code",
   "execution_count": 83,
   "outputs": [
    {
     "data": {
      "text/plain": "[1, 2]"
     },
     "execution_count": 83,
     "metadata": {},
     "output_type": "execute_result"
    }
   ],
   "source": [
    "a[:2]"
   ],
   "metadata": {
    "collapsed": false
   }
  },
  {
   "cell_type": "markdown",
   "metadata": {
    "id": "j-nMK9ym4YjW"
   },
   "source": [
    "In this example we are slicing on the indices starting with the first by default and ending in 'Illinois', as well as by the columns starting with the first by default, and ending in 'pop'."
   ]
  },
  {
   "cell_type": "markdown",
   "metadata": {
    "id": "8t64Og0V4YjW"
   },
   "source": [
    "#### 3.4.2. `iloc` attribute"
   ]
  },
  {
   "cell_type": "markdown",
   "metadata": {
    "id": "eyIhQv7b4YjX"
   },
   "source": [
    "The ``iloc`` attribute allows indexing and slicing that always references the implicit Python-style index (the direct row number of the values monotonically increasing from 0 to 3):"
   ]
  },
  {
   "cell_type": "code",
   "metadata": {
    "id": "2B-P38C7e_86",
    "colab": {
     "base_uri": "https://localhost:8080/",
     "height": 142
    },
    "outputId": "e15b461e-428a-4886-a54a-c6945138a8d2"
   },
   "source": [
    "data.iloc[:3, :2]"
   ],
   "execution_count": 82,
   "outputs": [
    {
     "data": {
      "text/plain": "              area       pop\nCalifornia  423967  38332521\nTexas       695662  26448193\nNew York    141297  19651127",
      "text/html": "<div>\n<style scoped>\n    .dataframe tbody tr th:only-of-type {\n        vertical-align: middle;\n    }\n\n    .dataframe tbody tr th {\n        vertical-align: top;\n    }\n\n    .dataframe thead th {\n        text-align: right;\n    }\n</style>\n<table border=\"1\" class=\"dataframe\">\n  <thead>\n    <tr style=\"text-align: right;\">\n      <th></th>\n      <th>area</th>\n      <th>pop</th>\n    </tr>\n  </thead>\n  <tbody>\n    <tr>\n      <th>California</th>\n      <td>423967</td>\n      <td>38332521</td>\n    </tr>\n    <tr>\n      <th>Texas</th>\n      <td>695662</td>\n      <td>26448193</td>\n    </tr>\n    <tr>\n      <th>New York</th>\n      <td>141297</td>\n      <td>19651127</td>\n    </tr>\n  </tbody>\n</table>\n</div>"
     },
     "execution_count": 82,
     "metadata": {},
     "output_type": "execute_result"
    }
   ]
  },
  {
   "cell_type": "markdown",
   "metadata": {
    "id": "3lvk2LdE4Yjb"
   },
   "source": [
    "In this example we are slicing the `DataFrame` from index 0 by default to 3 exlusive, and from column 0 by default to 2 exlusive."
   ]
  },
  {
   "cell_type": "markdown",
   "metadata": {
    "id": "bW8WtyPf4Yjc"
   },
   "source": [
    "## Exercise 4\n",
    "\n",
    "Consider below DPhi Bootcamp's information about different batches:\n",
    "\n",
    "```\n",
    "Total_Candidates = {'absolute_beginners': 785, 'beginners': 825, 'intermediat_advanced': 602} # this is true data\n",
    "Active_Candidates = {'absolute_beginners': 500, 'beginners': 425, 'intermediat_advanced': 300}  # this is hypothetical data\n",
    "```\n",
    "    \n",
    "1. Create a Pandas `DataFrame` using above information (name your Dataframe as `DPhi`)\n",
    "2. Get all the columns in DPhi.\n",
    "3. Get the information of total candidates present in each batches using dictionary-style indexing.\n",
    "4. Find the number of candidates for each batches who are not active and add this information to the dataframe DPhi.\n",
    "5. Also, find the percent of candidates that are active in each batches and add this information to the `DPhi` dataframe (hint: $percent = (active / total)* 100$)\n",
    "6. Get all the batches where percentage of active candidates are greater than 60%"
   ]
  },
  {
   "cell_type": "code",
   "metadata": {
    "id": "bo9YmD0k4Yjc"
   },
   "source": [
    "# Answer 1"
   ],
   "execution_count": null,
   "outputs": []
  },
  {
   "cell_type": "code",
   "metadata": {
    "id": "RQTdS_Gz4Yjg"
   },
   "source": [
    "# Answer 2"
   ],
   "execution_count": null,
   "outputs": []
  },
  {
   "cell_type": "code",
   "metadata": {
    "id": "9ncJeYFD4Yjm"
   },
   "source": [
    "# Answer 3"
   ],
   "execution_count": null,
   "outputs": []
  },
  {
   "cell_type": "code",
   "metadata": {
    "id": "AQxVWqRg4Yjr"
   },
   "source": [
    "# Answer 4"
   ],
   "execution_count": null,
   "outputs": []
  },
  {
   "cell_type": "code",
   "metadata": {
    "id": "PcRQNPqP4Yjv"
   },
   "source": [
    "# Answer 5"
   ],
   "execution_count": null,
   "outputs": []
  },
  {
   "cell_type": "code",
   "metadata": {
    "id": "iM2NQ_wD4Yjy"
   },
   "source": [
    "# Answer 6"
   ],
   "execution_count": null,
   "outputs": []
  },
  {
   "cell_type": "markdown",
   "metadata": {
    "id": "hvWWojeT4Yj1"
   },
   "source": [
    "### 3.5. Subsetting a `Dataframe`"
   ]
  },
  {
   "cell_type": "markdown",
   "metadata": {
    "id": "dcYHSBCg4Yj1"
   },
   "source": [
    "**Subsetting** a `DataFrame` is a way of filtering which allows to extract portions of interest. Subsetting can be done using comparison operators and logical operators inside a pair of square brackets `[]` as shown in the following example:"
   ]
  },
  {
   "cell_type": "code",
   "metadata": {
    "id": "V4Wd7z9VfpTU",
    "colab": {
     "base_uri": "https://localhost:8080/",
     "height": 111
    },
    "outputId": "4ddbd90a-8015-41c9-8f57-0cd3b1b4c7ca"
   },
   "source": [
    "data[data['density'] < 100]"
   ],
   "execution_count": 87,
   "outputs": [
    {
     "data": {
      "text/plain": "              area       pop    density\nCalifornia  423967  38332521  90.413926\nTexas       695662  26448193  38.018740\nIllinois    149995  12882135  85.883763",
      "text/html": "<div>\n<style scoped>\n    .dataframe tbody tr th:only-of-type {\n        vertical-align: middle;\n    }\n\n    .dataframe tbody tr th {\n        vertical-align: top;\n    }\n\n    .dataframe thead th {\n        text-align: right;\n    }\n</style>\n<table border=\"1\" class=\"dataframe\">\n  <thead>\n    <tr style=\"text-align: right;\">\n      <th></th>\n      <th>area</th>\n      <th>pop</th>\n      <th>density</th>\n    </tr>\n  </thead>\n  <tbody>\n    <tr>\n      <th>California</th>\n      <td>423967</td>\n      <td>38332521</td>\n      <td>90.413926</td>\n    </tr>\n    <tr>\n      <th>Texas</th>\n      <td>695662</td>\n      <td>26448193</td>\n      <td>38.018740</td>\n    </tr>\n    <tr>\n      <th>Illinois</th>\n      <td>149995</td>\n      <td>12882135</td>\n      <td>85.883763</td>\n    </tr>\n  </tbody>\n</table>\n</div>"
     },
     "execution_count": 87,
     "metadata": {},
     "output_type": "execute_result"
    }
   ]
  },
  {
   "cell_type": "markdown",
   "metadata": {
    "id": "ovv6OdAM4Yj9"
   },
   "source": [
    "In the above example, we are extracting the rows for which it is `True` that the population density is greater than 100 units. For more clarification on the logical operation concept, take a look to the following extract of the above example:"
   ]
  },
  {
   "cell_type": "code",
   "metadata": {
    "id": "ECH4sISH4Yj-",
    "outputId": "f5933cd3-28e0-4b5e-a890-bf883543a93a"
   },
   "source": [
    "data['density'] > 100"
   ],
   "execution_count": null,
   "outputs": [
    {
     "output_type": "execute_result",
     "data": {
      "text/plain": [
       "California    False\n",
       "Texas         False\n",
       "New York       True\n",
       "Florida        True\n",
       "Illinois      False\n",
       "Name: density, dtype: bool"
      ]
     },
     "metadata": {
      "tags": []
     },
     "execution_count": 101
    }
   ]
  },
  {
   "cell_type": "markdown",
   "metadata": {
    "id": "fP3mrwdL4YkQ"
   },
   "source": [
    "Since there are only two rows where the density is greater than 100, the result will be a boolean-values `DataFrame` in which the `True` values correspond to the rows that accomplish the locigal expression, and the `False` values to the ones that do not.\n",
    "\n",
    "Let's see an example in which we include a second logical operation to select those rows in which the population density is greater than 100 units `data['density'] > 100` and (`&`) the area is less than 150,000 units `data['area'] < 150000`:"
   ]
  },
  {
   "cell_type": "code",
   "metadata": {
    "id": "CIqUWhFJ4YkQ",
    "outputId": "b8242008-7baa-4f10-ccc5-46e01868ab5c"
   },
   "source": [
    "data[(data['density'] > 100) & (data['area'] < 150000)]"
   ],
   "execution_count": 90,
   "outputs": [
    {
     "data": {
      "text/plain": "            area       pop     density\nNew York  141297  19651127  139.076746",
      "text/html": "<div>\n<style scoped>\n    .dataframe tbody tr th:only-of-type {\n        vertical-align: middle;\n    }\n\n    .dataframe tbody tr th {\n        vertical-align: top;\n    }\n\n    .dataframe thead th {\n        text-align: right;\n    }\n</style>\n<table border=\"1\" class=\"dataframe\">\n  <thead>\n    <tr style=\"text-align: right;\">\n      <th></th>\n      <th>area</th>\n      <th>pop</th>\n      <th>density</th>\n    </tr>\n  </thead>\n  <tbody>\n    <tr>\n      <th>New York</th>\n      <td>141297</td>\n      <td>19651127</td>\n      <td>139.076746</td>\n    </tr>\n  </tbody>\n</table>\n</div>"
     },
     "execution_count": 90,
     "metadata": {},
     "output_type": "execute_result"
    }
   ]
  },
  {
   "cell_type": "markdown",
   "metadata": {
    "id": "0JDphJAh4Ykf"
   },
   "source": [
    "We could also select those records in which the population density is less than 90 units `data['density'] < 90` or (`|`) greater than 120 `data['density'] > 120`:"
   ]
  },
  {
   "cell_type": "markdown",
   "source": [],
   "metadata": {
    "collapsed": false
   }
  },
  {
   "cell_type": "code",
   "metadata": {
    "id": "tXg6SXwl4Ykg",
    "outputId": "2a6ae244-3107-4006-a4f4-4c23c07a49d0"
   },
   "source": [
    "data[(data['density'] < 90) | (data['density'] > 120)]"
   ],
   "execution_count": null,
   "outputs": [
    {
     "output_type": "execute_result",
     "data": {
      "text/html": [
       "<div>\n",
       "<style scoped>\n",
       "    .dataframe tbody tr th:only-of-type {\n",
       "        vertical-align: middle;\n",
       "    }\n",
       "\n",
       "    .dataframe tbody tr th {\n",
       "        vertical-align: top;\n",
       "    }\n",
       "\n",
       "    .dataframe thead th {\n",
       "        text-align: right;\n",
       "    }\n",
       "</style>\n",
       "<table border=\"1\" class=\"dataframe\">\n",
       "  <thead>\n",
       "    <tr style=\"text-align: right;\">\n",
       "      <th></th>\n",
       "      <th>area</th>\n",
       "      <th>pop</th>\n",
       "      <th>density</th>\n",
       "    </tr>\n",
       "  </thead>\n",
       "  <tbody>\n",
       "    <tr>\n",
       "      <th>Texas</th>\n",
       "      <td>695662</td>\n",
       "      <td>26448193</td>\n",
       "      <td>38.018740</td>\n",
       "    </tr>\n",
       "    <tr>\n",
       "      <th>New York</th>\n",
       "      <td>141297</td>\n",
       "      <td>19651127</td>\n",
       "      <td>139.076746</td>\n",
       "    </tr>\n",
       "    <tr>\n",
       "      <th>Illinois</th>\n",
       "      <td>149995</td>\n",
       "      <td>12882135</td>\n",
       "      <td>85.883763</td>\n",
       "    </tr>\n",
       "  </tbody>\n",
       "</table>\n",
       "</div>"
      ],
      "text/plain": [
       "            area       pop     density\n",
       "Texas     695662  26448193   38.018740\n",
       "New York  141297  19651127  139.076746\n",
       "Illinois  149995  12882135   85.883763"
      ]
     },
     "metadata": {
      "tags": []
     },
     "execution_count": 98
    }
   ]
  },
  {
   "cell_type": "markdown",
   "metadata": {
    "id": "8v4Qip0V4Ykj"
   },
   "source": [
    "The previous example can be rewritten to express the negation of the above condition, select those records that do not have a population density greater than or equal to 90 units and less than or equal to 120 units `~((data['density'] >= 90) & (data['density'] <= 120))`:"
   ]
  },
  {
   "cell_type": "code",
   "metadata": {
    "id": "hjgao8sS4Ykm",
    "outputId": "2c1f0c5d-af31-44b3-9732-5595a3010105"
   },
   "source": [
    "data[~((data['density'] >= 90) & (data['density'] <= 120))]\n",
    "\n",
    "data[~((data['density'] >= 90) & (data['density']<= 120))]"
   ],
   "execution_count": 97,
   "outputs": [
    {
     "data": {
      "text/plain": "            area       pop     density\nTexas     695662  26448193   38.018740\nNew York  141297  19651127  139.076746\nIllinois  149995  12882135   85.883763",
      "text/html": "<div>\n<style scoped>\n    .dataframe tbody tr th:only-of-type {\n        vertical-align: middle;\n    }\n\n    .dataframe tbody tr th {\n        vertical-align: top;\n    }\n\n    .dataframe thead th {\n        text-align: right;\n    }\n</style>\n<table border=\"1\" class=\"dataframe\">\n  <thead>\n    <tr style=\"text-align: right;\">\n      <th></th>\n      <th>area</th>\n      <th>pop</th>\n      <th>density</th>\n    </tr>\n  </thead>\n  <tbody>\n    <tr>\n      <th>Texas</th>\n      <td>695662</td>\n      <td>26448193</td>\n      <td>38.018740</td>\n    </tr>\n    <tr>\n      <th>New York</th>\n      <td>141297</td>\n      <td>19651127</td>\n      <td>139.076746</td>\n    </tr>\n    <tr>\n      <th>Illinois</th>\n      <td>149995</td>\n      <td>12882135</td>\n      <td>85.883763</td>\n    </tr>\n  </tbody>\n</table>\n</div>"
     },
     "execution_count": 97,
     "metadata": {},
     "output_type": "execute_result"
    }
   ]
  },
  {
   "cell_type": "markdown",
   "metadata": {
    "id": "bSoPEfV-4Ykw"
   },
   "source": [
    "As we can see, the results of the last two examples are the same, since we are expressing the same condition in different ways."
   ]
  },
  {
   "cell_type": "markdown",
   "metadata": {
    "id": "IetLY6DI4Yky"
   },
   "source": [
    "## 4. Data Wrangling"
   ]
  },
  {
   "cell_type": "markdown",
   "metadata": {
    "id": "GlFIkoE0hWFO"
   },
   "source": [
    "The difference between data found in many tutorials and data from the real world is that real-world data is rarely clean and homogeneous. In particular, many interesting datasets will have some amount of data missing. To make matters even more complicated, different data sources may indicate missing data in different ways. \n",
    "\n",
    "In this way, we need to define methods that allow us to structure, clean and enrich the data acquired from the real world, which are the main steps for **Data Wrangling**. Before continuing, let's see what is the difference between these three steps and expand their definition:\n",
    "\n",
    "**1. Data structuring:** \n",
    "\n",
    "The first step in the data wrangling process is to separate the relevant data into multiple columns, so that the analysis can be run grouping by common values in a separate way. In turn, if there are columns that are not desired or that will not be relevant to the analysis, this is the phase to filter the data or mix together some of their columns.\n",
    "\n",
    "**2. Data Cleaning**\n",
    "\n",
    "In this step, the data is cleaned up for high-quality analysis. `Null values` are handled, and the data format is standardized. We will enter this process in the following weeks.\n",
    "\n",
    "**3. Data Enriching**\n",
    "\n",
    "After cleaning, the data is enriched by increasing some variables in what is known as *Data Augmentation* and using additional sources to enrich them for the following stages of processing.\n",
    "\n",
    "For now, we will review how to handle missing values, a fundamental step for data cleaning."
   ]
  },
  {
   "cell_type": "markdown",
   "metadata": {
    "id": "3nI-tc-igqYV"
   },
   "source": [
    "## 5. Handling Missing Data"
   ]
  },
  {
   "cell_type": "markdown",
   "metadata": {
    "id": "BifKbk8y4Yk0"
   },
   "source": [
    "This is a fundamental step in data cleaning. It is common that during the data acquisition processes, there are lost records, either due to the difficulties of acquiring them, due to errors in the source or destination, or because we simply could not acquire the data. There are three types of missing data:\n",
    "\n",
    "- Missing completely at random (MCAR): when the fact that the data is missing is independent of the observed and unobserved data.\n",
    "- Missing at random (MAR): when the fact that the data is missing is systematically related to the observed but not the unobserved data.\n",
    "- Missing not at random (MNAR): when the missingness of data is related to events or factors which are not measured by the researcher.\n",
    "\n",
    "We will go into these types in detail later. For now, we'll look at the fundamentals of handling missing data in pandas:"
   ]
  },
  {
   "cell_type": "markdown",
   "metadata": {
    "id": "6uJo8zUKhjt7"
   },
   "source": [
    "### 5.1. `NaN` and `None` in Pandas\n",
    "\n",
    "Missing data is handled in Pandas as `NaN` values placeholders. `NaN` value is a IEEE 754 floating point representation of *Not a Number (NaN)*. One of the main reasons to handle missing data as `NaN` rather than `Null` in Pandas is that `NaN` (from `np.nan`) allows for vectorized operations, since it is a float value. `None`, by definition, forces object type, which basically disables all efficiency in Numpy and Pandas.\n",
    "\n",
    "``NaN`` and ``None`` are handled nearly interchangeably by `Pandas`, converting between them where appropriate:"
   ]
  },
  {
   "cell_type": "code",
   "metadata": {
    "id": "DldHcdFlhn4H",
    "colab": {
     "base_uri": "https://localhost:8080/",
     "height": 102
    },
    "outputId": "7eb2775a-0ba3-401d-db87-776e92c09657"
   },
   "source": [
    "import numpy as np\n",
    "\n",
    "pd.Series([1, np.nan, 2, None])"
   ],
   "execution_count": 2,
   "outputs": [
    {
     "data": {
      "text/plain": "0    1.0\n1    NaN\n2    2.0\n3    NaN\ndtype: float64"
     },
     "execution_count": 2,
     "metadata": {},
     "output_type": "execute_result"
    }
   ]
  },
  {
   "cell_type": "markdown",
   "metadata": {
    "id": "pqSmI4JXhx1Y"
   },
   "source": [
    "### 5.2. Operations on Missing Values\n",
    "\n",
    "There are several useful methods for detecting, removing, and replacing missing values in Pandas data structures:\n",
    "\n",
    "- ``isnull()``: generates a boolean mask indicating missing values\n",
    "- ``notnull()``: generates a boolean mask of non-missing values. Is the opposite of ``isnull()``.\n",
    "- ``dropna()``: returns a filtered version of the data, without missing values.\n",
    "- ``fillna()``: returns a copy of the data with missing values filled or imputed with a desired strategy.\n",
    "\n",
    "Let's review some examples of the first two functions `isnull()` and `notnull()`:"
   ]
  },
  {
   "cell_type": "code",
   "metadata": {
    "id": "slqzJonWhoS_",
    "outputId": "3895b095-5b77-4c64-d715-3958f3843aa4"
   },
   "source": [
    "data = pd.Series([1, np.nan, 'hello', None])\n",
    "data"
   ],
   "execution_count": 3,
   "outputs": [
    {
     "data": {
      "text/plain": "0        1\n1      NaN\n2    hello\n3     None\ndtype: object"
     },
     "execution_count": 3,
     "metadata": {},
     "output_type": "execute_result"
    }
   ]
  },
  {
   "cell_type": "code",
   "metadata": {
    "id": "rGO3h34qh97l",
    "colab": {
     "base_uri": "https://localhost:8080/",
     "height": 102
    },
    "outputId": "47bff3a5-1f8a-4cad-ff04-db4328dd6116"
   },
   "source": [
    "data.isnull()"
   ],
   "execution_count": 4,
   "outputs": [
    {
     "data": {
      "text/plain": "0    False\n1     True\n2    False\n3     True\ndtype: bool"
     },
     "execution_count": 4,
     "metadata": {},
     "output_type": "execute_result"
    }
   ]
  },
  {
   "cell_type": "code",
   "metadata": {
    "id": "u_4Vt-7k4YlR",
    "outputId": "5bd37e97-333c-464c-c74a-00249c8154ab"
   },
   "source": [
    "data.notnull()"
   ],
   "execution_count": null,
   "outputs": [
    {
     "output_type": "execute_result",
     "data": {
      "text/plain": [
       "0     True\n",
       "1    False\n",
       "2     True\n",
       "3    False\n",
       "dtype: bool"
      ]
     },
     "metadata": {
      "tags": []
     },
     "execution_count": 104
    }
   ]
  },
  {
   "cell_type": "markdown",
   "metadata": {
    "id": "tbqGpJzV4Ylf"
   },
   "source": [
    "As you can see, the `.isnull()` function returns a Dataframe with boolean values, where `False` denotes a present value and `True` denotes a missing value. Conversely, the `.notnull()` function returns a Dataframe with boolean values, where `True` denotes a present value and `False` denotes a missing value.\n",
    "\n",
    "With this boolean result we can make a subsetting to filter those missing values:"
   ]
  },
  {
   "cell_type": "code",
   "metadata": {
    "id": "utfaW2xoh_0Z",
    "colab": {
     "base_uri": "https://localhost:8080/",
     "height": 68
    },
    "outputId": "335092e8-85c7-4103-dbc5-3d228bde811e"
   },
   "source": [
    "data[data.notnull()]"
   ],
   "execution_count": null,
   "outputs": [
    {
     "output_type": "execute_result",
     "data": {
      "text/plain": [
       "0        1\n",
       "2    hello\n",
       "dtype: object"
      ]
     },
     "metadata": {
      "tags": []
     },
     "execution_count": 105
    }
   ]
  },
  {
   "cell_type": "code",
   "metadata": {
    "id": "S3PVa2NN4Ylj",
    "outputId": "ceb1c7d6-e5e1-43a0-f896-707f1e382ce6"
   },
   "source": [
    "data"
   ],
   "execution_count": 5,
   "outputs": [
    {
     "data": {
      "text/plain": "0        1\n1      NaN\n2    hello\n3     None\ndtype: object"
     },
     "execution_count": 5,
     "metadata": {},
     "output_type": "execute_result"
    }
   ]
  },
  {
   "cell_type": "markdown",
   "metadata": {
    "id": "rxSv_Aqe4Ylm"
   },
   "source": [
    "Although we have filtered the missing data, if we review the content of the variable again, we will see that the missing data persists. This is because no subsetting operation is done inplace. Now let's see how we remove missing data from our dataset."
   ]
  },
  {
   "cell_type": "markdown",
   "metadata": {
    "id": "8ryJN1THiIDO"
   },
   "source": [
    "### 5.3. Dropping missing values\n",
    "\n",
    "The basic function to remove any missing values from a `Series` object is as follows, although the function is not executed inplace:"
   ]
  },
  {
   "cell_type": "code",
   "metadata": {
    "id": "vbGhWLdxiESs",
    "colab": {
     "base_uri": "https://localhost:8080/",
     "height": 68
    },
    "outputId": "fdc6d942-8c49-4a3f-9bac-696c67875703"
   },
   "source": [
    "data = data.dropna()"
   ],
   "execution_count": 10,
   "outputs": []
  },
  {
   "cell_type": "code",
   "metadata": {
    "id": "JCYW3K1i4Ylr",
    "outputId": "67cff150-5086-47b0-a94c-a0307580fbd5"
   },
   "source": [
    "data"
   ],
   "execution_count": 11,
   "outputs": [
    {
     "data": {
      "text/plain": "0        1\n2    hello\ndtype: object"
     },
     "execution_count": 11,
     "metadata": {},
     "output_type": "execute_result"
    }
   ]
  },
  {
   "cell_type": "markdown",
   "metadata": {
    "id": "MDS7T1AYiUoS"
   },
   "source": [
    "For a ``DataFrame``, there are more options.\n",
    "Consider the following ``DataFrame``:"
   ]
  },
  {
   "cell_type": "code",
   "metadata": {
    "id": "z0JKzK1piP3D",
    "colab": {
     "base_uri": "https://localhost:8080/",
     "height": 142
    },
    "outputId": "30b9ac69-1e5c-41d0-9275-cce33cece442"
   },
   "source": [
    "df = pd.DataFrame([[1,      np.nan, 2],\n",
    "                   [2,      3,      5],\n",
    "                   [np.nan, 4,      6]])\n",
    "df"
   ],
   "execution_count": 12,
   "outputs": [
    {
     "data": {
      "text/plain": "     0    1  2\n0  1.0  NaN  2\n1  2.0  3.0  5\n2  NaN  4.0  6",
      "text/html": "<div>\n<style scoped>\n    .dataframe tbody tr th:only-of-type {\n        vertical-align: middle;\n    }\n\n    .dataframe tbody tr th {\n        vertical-align: top;\n    }\n\n    .dataframe thead th {\n        text-align: right;\n    }\n</style>\n<table border=\"1\" class=\"dataframe\">\n  <thead>\n    <tr style=\"text-align: right;\">\n      <th></th>\n      <th>0</th>\n      <th>1</th>\n      <th>2</th>\n    </tr>\n  </thead>\n  <tbody>\n    <tr>\n      <th>0</th>\n      <td>1.0</td>\n      <td>NaN</td>\n      <td>2</td>\n    </tr>\n    <tr>\n      <th>1</th>\n      <td>2.0</td>\n      <td>3.0</td>\n      <td>5</td>\n    </tr>\n    <tr>\n      <th>2</th>\n      <td>NaN</td>\n      <td>4.0</td>\n      <td>6</td>\n    </tr>\n  </tbody>\n</table>\n</div>"
     },
     "execution_count": 12,
     "metadata": {},
     "output_type": "execute_result"
    }
   ]
  },
  {
   "cell_type": "markdown",
   "metadata": {
    "id": "G_m-crjHia3f"
   },
   "source": [
    "We cannot drop single values from a ``DataFrame``; we can only drop full rows or full columns.\n",
    "Depending on the application, you might want one or the other, so ``dropna()`` gives a number of options for a ``DataFrame``.\n",
    "\n",
    "By default, ``dropna()`` will drop all rows in which *any* missing value is present:"
   ]
  },
  {
   "cell_type": "code",
   "metadata": {
    "id": "Kk9cwOY8iWtf",
    "colab": {
     "base_uri": "https://localhost:8080/",
     "height": 80
    },
    "outputId": "b5aa9503-da17-4df7-dcb7-0a98b69b985e"
   },
   "source": [
    "df.dropna()"
   ],
   "execution_count": null,
   "outputs": [
    {
     "output_type": "execute_result",
     "data": {
      "text/html": [
       "<div>\n",
       "<style scoped>\n",
       "    .dataframe tbody tr th:only-of-type {\n",
       "        vertical-align: middle;\n",
       "    }\n",
       "\n",
       "    .dataframe tbody tr th {\n",
       "        vertical-align: top;\n",
       "    }\n",
       "\n",
       "    .dataframe thead th {\n",
       "        text-align: right;\n",
       "    }\n",
       "</style>\n",
       "<table border=\"1\" class=\"dataframe\">\n",
       "  <thead>\n",
       "    <tr style=\"text-align: right;\">\n",
       "      <th></th>\n",
       "      <th>0</th>\n",
       "      <th>1</th>\n",
       "      <th>2</th>\n",
       "    </tr>\n",
       "  </thead>\n",
       "  <tbody>\n",
       "    <tr>\n",
       "      <th>1</th>\n",
       "      <td>2.0</td>\n",
       "      <td>3.0</td>\n",
       "      <td>5</td>\n",
       "    </tr>\n",
       "  </tbody>\n",
       "</table>\n",
       "</div>"
      ],
      "text/plain": [
       "     0    1  2\n",
       "1  2.0  3.0  5"
      ]
     },
     "metadata": {
      "tags": []
     },
     "execution_count": 51
    }
   ]
  },
  {
   "cell_type": "markdown",
   "metadata": {
    "id": "5c-N5KhgigFR"
   },
   "source": [
    "Alternatively, you can drop missing values along a different axis; `axis=1` drops all columns containing a missing value:"
   ]
  },
  {
   "cell_type": "code",
   "metadata": {
    "id": "RccLI6QZic5h",
    "colab": {
     "base_uri": "https://localhost:8080/",
     "height": 142
    },
    "outputId": "81e405ab-2cf7-43cc-fb73-7e3c8f272222"
   },
   "source": [
    "df.dropna(axis='columns')"
   ],
   "execution_count": 13,
   "outputs": [
    {
     "data": {
      "text/plain": "   2\n0  2\n1  5\n2  6",
      "text/html": "<div>\n<style scoped>\n    .dataframe tbody tr th:only-of-type {\n        vertical-align: middle;\n    }\n\n    .dataframe tbody tr th {\n        vertical-align: top;\n    }\n\n    .dataframe thead th {\n        text-align: right;\n    }\n</style>\n<table border=\"1\" class=\"dataframe\">\n  <thead>\n    <tr style=\"text-align: right;\">\n      <th></th>\n      <th>2</th>\n    </tr>\n  </thead>\n  <tbody>\n    <tr>\n      <th>0</th>\n      <td>2</td>\n    </tr>\n    <tr>\n      <th>1</th>\n      <td>5</td>\n    </tr>\n    <tr>\n      <th>2</th>\n      <td>6</td>\n    </tr>\n  </tbody>\n</table>\n</div>"
     },
     "execution_count": 13,
     "metadata": {},
     "output_type": "execute_result"
    }
   ]
  },
  {
   "cell_type": "markdown",
   "metadata": {
    "id": "F1AZmZXAiqU3"
   },
   "source": [
    "But this drops some good data as well; you might rather be interested in dropping rows or columns with *all* `NaN` values, or a majority of `NaN` values. This can be specified through the ``how`` or ``thresh`` parameters, which allow fine control of the number of nulls to allow through.\n",
    "\n",
    "The default is ``how='any'``, such that any row or column (depending on the ``axis`` keyword) containing a null value will be dropped. You can also specify ``how='all'``, which will only drop rows/columns that are *all* null values:"
   ]
  },
  {
   "cell_type": "code",
   "metadata": {
    "id": "jKYG2VHniiUN",
    "colab": {
     "base_uri": "https://localhost:8080/",
     "height": 142
    },
    "outputId": "83dbbb53-b0f2-42ca-e711-faeb013f26c9"
   },
   "source": [
    "df = pd.DataFrame([[1,      np.nan, 2, np.nan],\n",
    "                   [2,      3,      5, np.nan],\n",
    "                   [np.nan, 4,      6, np.nan]])\n",
    "df"
   ],
   "execution_count": null,
   "outputs": [
    {
     "output_type": "execute_result",
     "data": {
      "text/html": [
       "<div>\n",
       "<style scoped>\n",
       "    .dataframe tbody tr th:only-of-type {\n",
       "        vertical-align: middle;\n",
       "    }\n",
       "\n",
       "    .dataframe tbody tr th {\n",
       "        vertical-align: top;\n",
       "    }\n",
       "\n",
       "    .dataframe thead th {\n",
       "        text-align: right;\n",
       "    }\n",
       "</style>\n",
       "<table border=\"1\" class=\"dataframe\">\n",
       "  <thead>\n",
       "    <tr style=\"text-align: right;\">\n",
       "      <th></th>\n",
       "      <th>0</th>\n",
       "      <th>1</th>\n",
       "      <th>2</th>\n",
       "      <th>3</th>\n",
       "    </tr>\n",
       "  </thead>\n",
       "  <tbody>\n",
       "    <tr>\n",
       "      <th>0</th>\n",
       "      <td>1.0</td>\n",
       "      <td>NaN</td>\n",
       "      <td>2</td>\n",
       "      <td>NaN</td>\n",
       "    </tr>\n",
       "    <tr>\n",
       "      <th>1</th>\n",
       "      <td>2.0</td>\n",
       "      <td>3.0</td>\n",
       "      <td>5</td>\n",
       "      <td>NaN</td>\n",
       "    </tr>\n",
       "    <tr>\n",
       "      <th>2</th>\n",
       "      <td>NaN</td>\n",
       "      <td>4.0</td>\n",
       "      <td>6</td>\n",
       "      <td>NaN</td>\n",
       "    </tr>\n",
       "  </tbody>\n",
       "</table>\n",
       "</div>"
      ],
      "text/plain": [
       "     0    1  2   3\n",
       "0  1.0  NaN  2 NaN\n",
       "1  2.0  3.0  5 NaN\n",
       "2  NaN  4.0  6 NaN"
      ]
     },
     "metadata": {
      "tags": []
     },
     "execution_count": 108
    }
   ]
  },
  {
   "cell_type": "code",
   "metadata": {
    "id": "kAeoH8l6iwZg",
    "colab": {
     "base_uri": "https://localhost:8080/",
     "height": 142
    },
    "outputId": "9dea1397-72dd-4771-e7ef-8b0c8e7aef7f"
   },
   "source": [
    "df.dropna(axis='columns', how='all')"
   ],
   "execution_count": 14,
   "outputs": [
    {
     "data": {
      "text/plain": "     0    1  2\n0  1.0  NaN  2\n1  2.0  3.0  5\n2  NaN  4.0  6",
      "text/html": "<div>\n<style scoped>\n    .dataframe tbody tr th:only-of-type {\n        vertical-align: middle;\n    }\n\n    .dataframe tbody tr th {\n        vertical-align: top;\n    }\n\n    .dataframe thead th {\n        text-align: right;\n    }\n</style>\n<table border=\"1\" class=\"dataframe\">\n  <thead>\n    <tr style=\"text-align: right;\">\n      <th></th>\n      <th>0</th>\n      <th>1</th>\n      <th>2</th>\n    </tr>\n  </thead>\n  <tbody>\n    <tr>\n      <th>0</th>\n      <td>1.0</td>\n      <td>NaN</td>\n      <td>2</td>\n    </tr>\n    <tr>\n      <th>1</th>\n      <td>2.0</td>\n      <td>3.0</td>\n      <td>5</td>\n    </tr>\n    <tr>\n      <th>2</th>\n      <td>NaN</td>\n      <td>4.0</td>\n      <td>6</td>\n    </tr>\n  </tbody>\n</table>\n</div>"
     },
     "execution_count": 14,
     "metadata": {},
     "output_type": "execute_result"
    }
   ]
  },
  {
   "cell_type": "markdown",
   "metadata": {
    "id": "bJzFRnRVjQUo"
   },
   "source": [
    "### 5.4. Filling null values\n",
    "\n",
    "Sometimes rather than dropping `NaN` values, you'd rather replace them with a valid value.\n",
    "This value might be a single number like zero, or it might be some sort of imputation or interpolation from the good values.\n",
    "\n",
    "There are four types of treatment that can be given, in that order, to unwanted non-existent or missing data:\n",
    "\n",
    "1. **Treatment 1:** Ignore the missing or unwanted data in some columns, considering that in other columns of the same rows there are important or relevant data for the study.\n",
    "2. **Treatment 2:** Replace the missing or unwanted data with values that represent an indicator of nullity.\n",
    "3. **Treatment 3:** Replace the missing, nonexistent or unwanted data with interpolated values that are related to the trend of the data that is present.\n",
    "4. **Treatment 4:** Delete the missing data, with the certainty that valuable information will not be lost when analyzing the data.\n",
    "\n",
    "You can apply **Treatment 2** and **Treatment 3** in-place using the ``isnull()`` method as a mask, but because it is such a common operation `Pandas` provides the ``fillna()`` method, which returns a copy of the array with the missing values replaced.\n",
    "\n",
    "Consider the following ``Series``:"
   ]
  },
  {
   "cell_type": "code",
   "metadata": {
    "id": "brtx-2TFi5-H",
    "colab": {
     "base_uri": "https://localhost:8080/",
     "height": 119
    },
    "outputId": "e832cdc7-b47a-4154-c076-58c47356d53e"
   },
   "source": [
    "data = pd.Series([1, np.nan, 2, None, 3], index=list('abcde'))\n",
    "data"
   ],
   "execution_count": 15,
   "outputs": [
    {
     "data": {
      "text/plain": "a    1.0\nb    NaN\nc    2.0\nd    NaN\ne    3.0\ndtype: float64"
     },
     "execution_count": 15,
     "metadata": {},
     "output_type": "execute_result"
    }
   ]
  },
  {
   "cell_type": "markdown",
   "metadata": {
    "id": "8nmvNbMI4YmM"
   },
   "source": [
    "To replace the missing values of the Series with a null value, we can do the following:"
   ]
  },
  {
   "cell_type": "code",
   "metadata": {
    "id": "ZE4gEWacjXcf",
    "colab": {
     "base_uri": "https://localhost:8080/",
     "height": 119
    },
    "outputId": "1f40d1be-ecf3-43a5-9271-188cda002169"
   },
   "source": [
    "data.fillna(0)"
   ],
   "execution_count": 16,
   "outputs": [
    {
     "data": {
      "text/plain": "a    1.0\nb    0.0\nc    2.0\nd    0.0\ne    3.0\ndtype: float64"
     },
     "execution_count": 16,
     "metadata": {},
     "output_type": "execute_result"
    }
   ]
  },
  {
   "cell_type": "markdown",
   "metadata": {
    "id": "wV8dHLAcjfHq"
   },
   "source": [
    "We can specify a forward-fill to propagate the previous value forward:"
   ]
  },
  {
   "cell_type": "code",
   "metadata": {
    "id": "JaSxaabNjaT7",
    "colab": {
     "base_uri": "https://localhost:8080/",
     "height": 119
    },
    "outputId": "36fdf9d5-658c-4c67-b6d3-ad8c0da0ed6f"
   },
   "source": [
    "# forward-fill\n",
    "data.fillna(method='ffill')"
   ],
   "execution_count": 17,
   "outputs": [
    {
     "data": {
      "text/plain": "a    1.0\nb    1.0\nc    2.0\nd    2.0\ne    3.0\ndtype: float64"
     },
     "execution_count": 17,
     "metadata": {},
     "output_type": "execute_result"
    }
   ]
  },
  {
   "cell_type": "markdown",
   "metadata": {
    "id": "e89lgDwnjj5d"
   },
   "source": [
    "Or we can specify a back-fill to propagate the next values backward:"
   ]
  },
  {
   "cell_type": "code",
   "metadata": {
    "id": "ecKI6evKjdG_",
    "colab": {
     "base_uri": "https://localhost:8080/",
     "height": 119
    },
    "outputId": "625664a1-3c04-4d7c-fe1b-a420e96111cb"
   },
   "source": [
    "# back-fill\n",
    "data.fillna(method='bfill')"
   ],
   "execution_count": 18,
   "outputs": [
    {
     "data": {
      "text/plain": "a    1.0\nb    2.0\nc    2.0\nd    3.0\ne    3.0\ndtype: float64"
     },
     "execution_count": 18,
     "metadata": {},
     "output_type": "execute_result"
    }
   ]
  },
  {
   "cell_type": "markdown",
   "metadata": {
    "id": "emsOW59kjyAX"
   },
   "source": [
    "For ``DataFrame`` objects the options are similar, but we can also specify an ``axis`` along which the fills take place:"
   ]
  },
  {
   "cell_type": "code",
   "metadata": {
    "id": "gwy6t-xEjlw8",
    "colab": {
     "base_uri": "https://localhost:8080/",
     "height": 142
    },
    "outputId": "bc5c1fd9-291f-4092-decd-82921b4db131"
   },
   "source": [
    "df"
   ],
   "execution_count": 19,
   "outputs": [
    {
     "data": {
      "text/plain": "     0    1  2\n0  1.0  NaN  2\n1  2.0  3.0  5\n2  NaN  4.0  6",
      "text/html": "<div>\n<style scoped>\n    .dataframe tbody tr th:only-of-type {\n        vertical-align: middle;\n    }\n\n    .dataframe tbody tr th {\n        vertical-align: top;\n    }\n\n    .dataframe thead th {\n        text-align: right;\n    }\n</style>\n<table border=\"1\" class=\"dataframe\">\n  <thead>\n    <tr style=\"text-align: right;\">\n      <th></th>\n      <th>0</th>\n      <th>1</th>\n      <th>2</th>\n    </tr>\n  </thead>\n  <tbody>\n    <tr>\n      <th>0</th>\n      <td>1.0</td>\n      <td>NaN</td>\n      <td>2</td>\n    </tr>\n    <tr>\n      <th>1</th>\n      <td>2.0</td>\n      <td>3.0</td>\n      <td>5</td>\n    </tr>\n    <tr>\n      <th>2</th>\n      <td>NaN</td>\n      <td>4.0</td>\n      <td>6</td>\n    </tr>\n  </tbody>\n</table>\n</div>"
     },
     "execution_count": 19,
     "metadata": {},
     "output_type": "execute_result"
    }
   ]
  },
  {
   "cell_type": "code",
   "metadata": {
    "id": "mu29vP-7jzku",
    "colab": {
     "base_uri": "https://localhost:8080/",
     "height": 142
    },
    "outputId": "26584781-b7ad-4320-a341-caf5a71af777"
   },
   "source": [
    "df.fillna(method='ffill', axis=1) # forward-fill along the columns"
   ],
   "execution_count": 22,
   "outputs": [
    {
     "data": {
      "text/plain": "     0    1    2\n0  1.0  1.0  2.0\n1  2.0  3.0  5.0\n2  NaN  4.0  6.0",
      "text/html": "<div>\n<style scoped>\n    .dataframe tbody tr th:only-of-type {\n        vertical-align: middle;\n    }\n\n    .dataframe tbody tr th {\n        vertical-align: top;\n    }\n\n    .dataframe thead th {\n        text-align: right;\n    }\n</style>\n<table border=\"1\" class=\"dataframe\">\n  <thead>\n    <tr style=\"text-align: right;\">\n      <th></th>\n      <th>0</th>\n      <th>1</th>\n      <th>2</th>\n    </tr>\n  </thead>\n  <tbody>\n    <tr>\n      <th>0</th>\n      <td>1.0</td>\n      <td>1.0</td>\n      <td>2.0</td>\n    </tr>\n    <tr>\n      <th>1</th>\n      <td>2.0</td>\n      <td>3.0</td>\n      <td>5.0</td>\n    </tr>\n    <tr>\n      <th>2</th>\n      <td>NaN</td>\n      <td>4.0</td>\n      <td>6.0</td>\n    </tr>\n  </tbody>\n</table>\n</div>"
     },
     "execution_count": 22,
     "metadata": {},
     "output_type": "execute_result"
    }
   ]
  },
  {
   "cell_type": "code",
   "metadata": {
    "id": "U0tvtejJ4Ymr",
    "outputId": "5dee27bd-7e7d-4cba-a573-149c22d67616"
   },
   "source": [
    "df.fillna(method='ffill', axis=0) # forward-fill along the rows\n",
    "df.fillna(method='bfill', axis = 'rows')"
   ],
   "execution_count": 25,
   "outputs": [
    {
     "data": {
      "text/plain": "     0    1  2\n0  1.0  3.0  2\n1  2.0  3.0  5\n2  NaN  4.0  6",
      "text/html": "<div>\n<style scoped>\n    .dataframe tbody tr th:only-of-type {\n        vertical-align: middle;\n    }\n\n    .dataframe tbody tr th {\n        vertical-align: top;\n    }\n\n    .dataframe thead th {\n        text-align: right;\n    }\n</style>\n<table border=\"1\" class=\"dataframe\">\n  <thead>\n    <tr style=\"text-align: right;\">\n      <th></th>\n      <th>0</th>\n      <th>1</th>\n      <th>2</th>\n    </tr>\n  </thead>\n  <tbody>\n    <tr>\n      <th>0</th>\n      <td>1.0</td>\n      <td>3.0</td>\n      <td>2</td>\n    </tr>\n    <tr>\n      <th>1</th>\n      <td>2.0</td>\n      <td>3.0</td>\n      <td>5</td>\n    </tr>\n    <tr>\n      <th>2</th>\n      <td>NaN</td>\n      <td>4.0</td>\n      <td>6</td>\n    </tr>\n  </tbody>\n</table>\n</div>"
     },
     "execution_count": 25,
     "metadata": {},
     "output_type": "execute_result"
    }
   ]
  },
  {
   "cell_type": "markdown",
   "metadata": {
    "id": "SkWQkZvIj4Ux"
   },
   "source": [
    "Notice that if a previous value is not available during a forward fill, the `NaN` value remains."
   ]
  },
  {
   "cell_type": "markdown",
   "metadata": {
    "id": "h5t9M5SNu3nb"
   },
   "source": [
    "## 6. `Pandas` String Operations"
   ]
  },
  {
   "cell_type": "markdown",
   "metadata": {
    "id": "bo3gO8WV4Ymx"
   },
   "source": [
    "When a `Pandas` object stores string data, `Pandas` provides certain operations to facilitate its manipulation. Let's see what would happen if a classic data storage structure like a list had missing data and a string operation was executed. Firstly, we define a list with four string values:"
   ]
  },
  {
   "cell_type": "code",
   "metadata": {
    "id": "xasAeBYDj0x_",
    "colab": {
     "base_uri": "https://localhost:8080/",
     "height": 34
    },
    "outputId": "305b1118-f458-4403-f1d5-f6b15b677286"
   },
   "source": [
    "data = ['peter', 'Paul', 'MARY', 'gUIDO']\n",
    "[s.capitalize() for s in data]"
   ],
   "execution_count": 26,
   "outputs": [
    {
     "data": {
      "text/plain": "['Peter', 'Paul', 'Mary', 'Guido']"
     },
     "execution_count": 26,
     "metadata": {},
     "output_type": "execute_result"
    }
   ]
  },
  {
   "cell_type": "markdown",
   "metadata": {
    "id": "RXk_o8GDvF7D"
   },
   "source": [
    "This is perhaps sufficient to work with some data, but it will break if there are any missing values:"
   ]
  },
  {
   "cell_type": "code",
   "metadata": {
    "id": "BSdSRFSXvDg7",
    "colab": {
     "base_uri": "https://localhost:8080/",
     "height": 249
    },
    "outputId": "2d2002af-29b7-4bea-a904-fa7043d4f505"
   },
   "source": [
    "data = ['peter', 'Paul', None, 'MARY', 'gUIDO'] #this has a missing value None hence the error below\n",
    "[s.capitalize() for s in data]"
   ],
   "execution_count": 2,
   "outputs": [
    {
     "ename": "AttributeError",
     "evalue": "'NoneType' object has no attribute 'capitalize'",
     "output_type": "error",
     "traceback": [
      "\u001B[1;31m---------------------------------------------------------------------------\u001B[0m",
      "\u001B[1;31mAttributeError\u001B[0m                            Traceback (most recent call last)",
      "Cell \u001B[1;32mIn [2], line 2\u001B[0m\n\u001B[0;32m      1\u001B[0m data \u001B[38;5;241m=\u001B[39m [\u001B[38;5;124m'\u001B[39m\u001B[38;5;124mpeter\u001B[39m\u001B[38;5;124m'\u001B[39m, \u001B[38;5;124m'\u001B[39m\u001B[38;5;124mPaul\u001B[39m\u001B[38;5;124m'\u001B[39m, \u001B[38;5;28;01mNone\u001B[39;00m, \u001B[38;5;124m'\u001B[39m\u001B[38;5;124mMARY\u001B[39m\u001B[38;5;124m'\u001B[39m, \u001B[38;5;124m'\u001B[39m\u001B[38;5;124mgUIDO\u001B[39m\u001B[38;5;124m'\u001B[39m] \u001B[38;5;66;03m#this has a missing value None hence the error below\u001B[39;00m\n\u001B[1;32m----> 2\u001B[0m [s\u001B[38;5;241m.\u001B[39mcapitalize() \u001B[38;5;28;01mfor\u001B[39;00m s \u001B[38;5;129;01min\u001B[39;00m data]\n",
      "Cell \u001B[1;32mIn [2], line 2\u001B[0m, in \u001B[0;36m<listcomp>\u001B[1;34m(.0)\u001B[0m\n\u001B[0;32m      1\u001B[0m data \u001B[38;5;241m=\u001B[39m [\u001B[38;5;124m'\u001B[39m\u001B[38;5;124mpeter\u001B[39m\u001B[38;5;124m'\u001B[39m, \u001B[38;5;124m'\u001B[39m\u001B[38;5;124mPaul\u001B[39m\u001B[38;5;124m'\u001B[39m, \u001B[38;5;28;01mNone\u001B[39;00m, \u001B[38;5;124m'\u001B[39m\u001B[38;5;124mMARY\u001B[39m\u001B[38;5;124m'\u001B[39m, \u001B[38;5;124m'\u001B[39m\u001B[38;5;124mgUIDO\u001B[39m\u001B[38;5;124m'\u001B[39m] \u001B[38;5;66;03m#this has a missing value None hence the error below\u001B[39;00m\n\u001B[1;32m----> 2\u001B[0m [\u001B[43ms\u001B[49m\u001B[38;5;241;43m.\u001B[39;49m\u001B[43mcapitalize\u001B[49m() \u001B[38;5;28;01mfor\u001B[39;00m s \u001B[38;5;129;01min\u001B[39;00m data]\n",
      "\u001B[1;31mAttributeError\u001B[0m: 'NoneType' object has no attribute 'capitalize'"
     ]
    }
   ]
  },
  {
   "cell_type": "markdown",
   "metadata": {
    "id": "2qwp6ZUL4Ym6"
   },
   "source": [
    "Now let's look at a Pandas `Series`:"
   ]
  },
  {
   "cell_type": "code",
   "metadata": {
    "id": "PJs2RvhkvHYH",
    "colab": {
     "base_uri": "https://localhost:8080/",
     "height": 119
    },
    "outputId": "cf9538b4-4ddd-416d-94c1-c40622257d7d"
   },
   "source": [
    "import pandas as pd\n",
    "names = pd.Series(data)\n",
    "names"
   ],
   "execution_count": 3,
   "outputs": [
    {
     "data": {
      "text/plain": "0    peter\n1     Paul\n2     None\n3     MARY\n4    gUIDO\ndtype: object"
     },
     "execution_count": 3,
     "metadata": {},
     "output_type": "execute_result"
    }
   ]
  },
  {
   "cell_type": "markdown",
   "metadata": {
    "id": "IDgsV07tvM0v"
   },
   "source": [
    "We can now call a single method that will capitalize all the entries, while skipping over any missing values or non-string values:"
   ]
  },
  {
   "cell_type": "code",
   "metadata": {
    "id": "zqyNJLWBvKQG",
    "colab": {
     "base_uri": "https://localhost:8080/",
     "height": 119
    },
    "outputId": "4aa3eb48-8347-410e-9373-cf257c740eb9"
   },
   "source": [
    "names.str.capitalize()"
   ],
   "execution_count": 4,
   "outputs": [
    {
     "data": {
      "text/plain": "0    Peter\n1     Paul\n2     None\n3     Mary\n4    Guido\ndtype: object"
     },
     "execution_count": 4,
     "metadata": {},
     "output_type": "execute_result"
    }
   ]
  },
  {
   "cell_type": "markdown",
   "metadata": {
    "id": "53WRpcIB4YnA"
   },
   "source": [
    "We have accessed the `str` attribute that parses the values stored in the `Series` to string."
   ]
  },
  {
   "cell_type": "markdown",
   "metadata": {
    "id": "sqCVYZFevoFa"
   },
   "source": [
    "### 6.1. String Methods"
   ]
  },
  {
   "cell_type": "markdown",
   "metadata": {
    "id": "8sfY_mCMvlFz"
   },
   "source": [
    "Here is a list of Pandas ``str`` methods that mirror Python string methods:\n",
    "\n",
    "|             |                  |                  |                  |\n",
    "|-------------|------------------|------------------|------------------|\n",
    "|``len()``    | ``lower()``      | ``translate()``  | ``islower()``    | \n",
    "|``ljust()``  | ``upper()``      | ``startswith()`` | ``isupper()``    | \n",
    "|``rjust()``  | ``find()``       | ``endswith()``   | ``isnumeric()``  | \n",
    "|``center()`` | ``rfind()``      | ``isalnum()``    | ``isdecimal()``  | \n",
    "|``zfill()``  | ``index()``      | ``isalpha()``    | ``split()``      | \n",
    "|``strip()``  | ``rindex()``     | ``isdigit()``    | ``rsplit()``     | \n",
    "|``rstrip()`` | ``capitalize()`` | ``isspace()``    | ``partition()``  | \n",
    "|``lstrip()`` |  ``swapcase()``  |  ``istitle()``   | ``rpartition()`` |"
   ]
  },
  {
   "cell_type": "markdown",
   "metadata": {
    "id": "rHqEu4e24YnD"
   },
   "source": [
    "Let's see some examples of string methods for Pandas `Series` with the `monte` Series:"
   ]
  },
  {
   "cell_type": "code",
   "metadata": {
    "id": "LyevXtCovOj7"
   },
   "source": [
    "monte = pd.Series(['Graham Chapman', 'John Cleese', 'Terry Gilliam',\n",
    "                   'Eric Idle', 'Terry Jones', 'Michael Palin'])"
   ],
   "execution_count": 5,
   "outputs": []
  },
  {
   "cell_type": "code",
   "metadata": {
    "id": "zM8-rywYvUj0",
    "colab": {
     "base_uri": "https://localhost:8080/",
     "height": 136
    },
    "outputId": "b6934639-d542-418a-cc57-6ea3b9ca84dc"
   },
   "source": [
    "monte.str.lower() # Parse values to string and transform all characters to lowercase"
   ],
   "execution_count": 6,
   "outputs": [
    {
     "data": {
      "text/plain": "0    graham chapman\n1       john cleese\n2     terry gilliam\n3         eric idle\n4       terry jones\n5     michael palin\ndtype: object"
     },
     "execution_count": 6,
     "metadata": {},
     "output_type": "execute_result"
    }
   ]
  },
  {
   "cell_type": "code",
   "metadata": {
    "id": "3pWQ-VWkvYBB",
    "colab": {
     "base_uri": "https://localhost:8080/",
     "height": 136
    },
    "outputId": "9382773c-5a18-4175-ca60-d8dcefc4ab42"
   },
   "source": [
    "import numpy as np\n",
    "monte.str.len() # Parse values to string and calculates their length"
   ],
   "execution_count": 7,
   "outputs": [
    {
     "data": {
      "text/plain": "0    14\n1    11\n2    13\n3     9\n4    11\n5    13\ndtype: int64"
     },
     "execution_count": 7,
     "metadata": {},
     "output_type": "execute_result"
    }
   ]
  },
  {
   "cell_type": "code",
   "metadata": {
    "id": "TVgUpU8hvaF_",
    "colab": {
     "base_uri": "https://localhost:8080/",
     "height": 136
    },
    "outputId": "f0665ff9-e669-44e0-ec51-b13d1a31f62d"
   },
   "source": [
    "# Parse values to string and calculates a mask of string values starting by 'T'\n",
    "monte.str.startswith('T')"
   ],
   "execution_count": null,
   "outputs": [
    {
     "output_type": "execute_result",
     "data": {
      "text/plain": [
       "0    False\n",
       "1    False\n",
       "2     True\n",
       "3    False\n",
       "4     True\n",
       "5    False\n",
       "dtype: bool"
      ]
     },
     "metadata": {
      "tags": []
     },
     "execution_count": 116
    }
   ]
  },
  {
   "cell_type": "code",
   "metadata": {
    "id": "L5vyaS90vcBc",
    "colab": {
     "base_uri": "https://localhost:8080/",
     "height": 136
    },
    "outputId": "375a1086-6e9d-4f33-e66d-948a51f1c3de"
   },
   "source": [
    "monte.str.split() # Parse values to string and splits them by ' ' character, by default"
   ],
   "execution_count": null,
   "outputs": [
    {
     "output_type": "execute_result",
     "data": {
      "text/plain": [
       "0    [Graham, Chapman]\n",
       "1       [John, Cleese]\n",
       "2     [Terry, Gilliam]\n",
       "3         [Eric, Idle]\n",
       "4       [Terry, Jones]\n",
       "5     [Michael, Palin]\n",
       "dtype: object"
      ]
     },
     "metadata": {
      "tags": []
     },
     "execution_count": 73
    }
   ]
  },
  {
   "cell_type": "markdown",
   "metadata": {
    "id": "bYuKRLP04Ynn"
   },
   "source": [
    "## Exercise 5\n",
    "\n",
    "Consider the following lists:\n",
    "\n",
    "```\n",
    "country = ['Netherland', 'Germany', 'Peru', 'Israel', 'Madagascar']\n",
    "year = [2002, 2002, 1957, 2007, 1967]\n",
    "population = [16122830.0, np.nan, 9146100.0, 6426679.0, 6334556.0]\n",
    "continent = ['Europe', 'europe', 'Americas', 'asia', 'Africa']\n",
    "```\n",
    "\n",
    "1. Create a Dataframe object which contains all the lists values as Series. The final DataFrame should be named as `country_info`, containing 4 columns and 5 rows.\n",
    "2. Delete the rows which contains missing values\n",
    "3. Capitalize all the continents in continent column.\n",
    "4. Get the length of each country's names."
   ]
  },
  {
   "cell_type": "code",
   "metadata": {
    "id": "dJFC4dMf4Ynn"
   },
   "source": [
    "country = ['Netherland', 'Germany', 'Peru', 'Israel', 'Madagascar']\n",
    "year = [2002, 2002, 1957, 2007, 1967]\n",
    "population = [16122830.0, np.nan, 9146100.0, 6426679.0, 6334556.0]\n",
    "continent = ['Europe', 'europe', 'Americas', 'asia', 'Africa']"
   ],
   "execution_count": 8,
   "outputs": []
  },
  {
   "cell_type": "code",
   "metadata": {
    "id": "ICuJOMpi4Ynp"
   },
   "source": [
    "country_info = pd.DataFrame({'country': country, 'year': year, 'population': population, 'continent': continent})\n",
    "country_info"
   ],
   "execution_count": 10,
   "outputs": [
    {
     "data": {
      "text/plain": "      country  year  population continent\n0  Netherland  2002  16122830.0    Europe\n1     Germany  2002         NaN    europe\n2        Peru  1957   9146100.0  Americas\n3      Israel  2007   6426679.0      asia\n4  Madagascar  1967   6334556.0    Africa",
      "text/html": "<div>\n<style scoped>\n    .dataframe tbody tr th:only-of-type {\n        vertical-align: middle;\n    }\n\n    .dataframe tbody tr th {\n        vertical-align: top;\n    }\n\n    .dataframe thead th {\n        text-align: right;\n    }\n</style>\n<table border=\"1\" class=\"dataframe\">\n  <thead>\n    <tr style=\"text-align: right;\">\n      <th></th>\n      <th>country</th>\n      <th>year</th>\n      <th>population</th>\n      <th>continent</th>\n    </tr>\n  </thead>\n  <tbody>\n    <tr>\n      <th>0</th>\n      <td>Netherland</td>\n      <td>2002</td>\n      <td>16122830.0</td>\n      <td>Europe</td>\n    </tr>\n    <tr>\n      <th>1</th>\n      <td>Germany</td>\n      <td>2002</td>\n      <td>NaN</td>\n      <td>europe</td>\n    </tr>\n    <tr>\n      <th>2</th>\n      <td>Peru</td>\n      <td>1957</td>\n      <td>9146100.0</td>\n      <td>Americas</td>\n    </tr>\n    <tr>\n      <th>3</th>\n      <td>Israel</td>\n      <td>2007</td>\n      <td>6426679.0</td>\n      <td>asia</td>\n    </tr>\n    <tr>\n      <th>4</th>\n      <td>Madagascar</td>\n      <td>1967</td>\n      <td>6334556.0</td>\n      <td>Africa</td>\n    </tr>\n  </tbody>\n</table>\n</div>"
     },
     "execution_count": 10,
     "metadata": {},
     "output_type": "execute_result"
    }
   ]
  },
  {
   "cell_type": "code",
   "metadata": {
    "id": "Q84vnGv14Ynr"
   },
   "source": [
    "country_info = country_info.dropna()"
   ],
   "execution_count": 12,
   "outputs": []
  },
  {
   "cell_type": "code",
   "metadata": {
    "id": "DbVMFCGg4Ynt"
   },
   "source": [
    "country_info['continent'].str.capitalize()"
   ],
   "execution_count": 13,
   "outputs": [
    {
     "data": {
      "text/plain": "0      Europe\n2    Americas\n3        Asia\n4      Africa\nName: continent, dtype: object"
     },
     "execution_count": 13,
     "metadata": {},
     "output_type": "execute_result"
    }
   ]
  },
  {
   "cell_type": "code",
   "execution_count": 14,
   "outputs": [
    {
     "data": {
      "text/plain": "0    10\n2     4\n3     6\n4    10\nName: country, dtype: int64"
     },
     "execution_count": 14,
     "metadata": {},
     "output_type": "execute_result"
    }
   ],
   "source": [
    "country_info['country'].str.len()"
   ],
   "metadata": {
    "collapsed": false
   }
  },
  {
   "cell_type": "markdown",
   "metadata": {
    "id": "w9XGVvHUv72L"
   },
   "source": [
    "## 7. Concatenate `Series`\n",
    "\n",
    "Here we'll take a look at simple concatenation of `Series` and `DataFrame` objects with the `pd.concat()` function:"
   ]
  },
  {
   "cell_type": "code",
   "metadata": {
    "id": "UhPWz7G9veUr",
    "colab": {
     "base_uri": "https://localhost:8080/",
     "height": 136
    },
    "outputId": "66f94037-9706-4afa-b71c-d2cdb53d312f"
   },
   "source": [
    "ser1 = pd.Series(['A', 'B', 'C'], index=[1, 2, 3])\n",
    "ser2 = pd.Series(['D', 'E', 'F'], index=[4, 5, 6])\n",
    "pd.concat([ser1, ser2], axis='rows')"
   ],
   "execution_count": 16,
   "outputs": [
    {
     "data": {
      "text/plain": "1    A\n2    B\n3    C\n4    D\n5    E\n6    F\ndtype: object"
     },
     "execution_count": 16,
     "metadata": {},
     "output_type": "execute_result"
    }
   ]
  },
  {
   "cell_type": "code",
   "metadata": {
    "id": "y_3FrZpP4Yn9",
    "outputId": "6ad4126b-9aed-449e-82ec-2cbfd4f8c594"
   },
   "source": [
    "pd.concat([ser1, ser2], axis=1)"
   ],
   "execution_count": null,
   "outputs": [
    {
     "output_type": "execute_result",
     "data": {
      "text/html": [
       "<div>\n",
       "<style scoped>\n",
       "    .dataframe tbody tr th:only-of-type {\n",
       "        vertical-align: middle;\n",
       "    }\n",
       "\n",
       "    .dataframe tbody tr th {\n",
       "        vertical-align: top;\n",
       "    }\n",
       "\n",
       "    .dataframe thead th {\n",
       "        text-align: right;\n",
       "    }\n",
       "</style>\n",
       "<table border=\"1\" class=\"dataframe\">\n",
       "  <thead>\n",
       "    <tr style=\"text-align: right;\">\n",
       "      <th></th>\n",
       "      <th>0</th>\n",
       "      <th>1</th>\n",
       "    </tr>\n",
       "  </thead>\n",
       "  <tbody>\n",
       "    <tr>\n",
       "      <th>1</th>\n",
       "      <td>A</td>\n",
       "      <td>NaN</td>\n",
       "    </tr>\n",
       "    <tr>\n",
       "      <th>2</th>\n",
       "      <td>B</td>\n",
       "      <td>NaN</td>\n",
       "    </tr>\n",
       "    <tr>\n",
       "      <th>3</th>\n",
       "      <td>C</td>\n",
       "      <td>NaN</td>\n",
       "    </tr>\n",
       "    <tr>\n",
       "      <th>4</th>\n",
       "      <td>NaN</td>\n",
       "      <td>D</td>\n",
       "    </tr>\n",
       "    <tr>\n",
       "      <th>5</th>\n",
       "      <td>NaN</td>\n",
       "      <td>E</td>\n",
       "    </tr>\n",
       "    <tr>\n",
       "      <th>6</th>\n",
       "      <td>NaN</td>\n",
       "      <td>F</td>\n",
       "    </tr>\n",
       "  </tbody>\n",
       "</table>\n",
       "</div>"
      ],
      "text/plain": [
       "     0    1\n",
       "1    A  NaN\n",
       "2    B  NaN\n",
       "3    C  NaN\n",
       "4  NaN    D\n",
       "5  NaN    E\n",
       "6  NaN    F"
      ]
     },
     "metadata": {
      "tags": []
     },
     "execution_count": 120
    }
   ]
  },
  {
   "cell_type": "markdown",
   "metadata": {
    "id": "yW_23Rto4YoA"
   },
   "source": [
    "By default, the concatenation takes place row-wise within the ``DataFrame`` (i.e., ``axis=0``). However, as you can see, the concatenation of `Series` in a `DataFrame` can be done in contiguous rows or columns by specifying the `axis` parameter. In the case where they are columns, care must be taken to define the same index values, so that the columns are placed contiguously without `NaN` values."
   ]
  },
  {
   "cell_type": "markdown",
   "metadata": {
    "id": "07hetTOW4YoB"
   },
   "source": [
    "## Exercise 6\n",
    "\n",
    "Consider the following lists:\n",
    "\n",
    "```\n",
    "country = ['Netherland', 'Germany', 'Peru', 'Israel', 'Madagascar']\n",
    "gdp_per_cap = [33724.757780, 30035.801980, 4245.256698, 25523.277100, 1634.047282]\n",
    "```\n",
    "\n",
    "1. Create a Dataframe object which contains all the lists values as Series. The final DataFrame should be named as `country_gdp`, containing 2 columns and 5 rows.\n",
    "2. Concatenate the two dataframes: `country_info` and `country_gdp` with `axis=0` and name it `concat_data`\n",
    "3. Check if there are any null values in `concat_data`\n",
    "4. Find total numer of missing values in each column. *hint: Use `.isnull()` and `.sum()` functions*"
   ]
  },
  {
   "cell_type": "code",
   "metadata": {
    "id": "2Eb10iyS9Bdh"
   },
   "source": [
    "country = ['Netherland', 'Germany', 'Peru', 'Israel', 'Madagascar']\n",
    "gdp_per_cap = [33724.757780, 30035.801980, 4245.256698, 25523.277100, 1634.047282]\n",
    "\n",
    "country_gdp = pd.DataFrame({'country': country, 'gdp_per_cap': gdp_per_cap}, index=[1, 2, 3, 4, 5])\n",
    "country_gdp\n"
   ],
   "execution_count": 23,
   "outputs": [
    {
     "data": {
      "text/plain": "      country   gdp_per_cap\n1  Netherland  33724.757780\n2     Germany  30035.801980\n3        Peru   4245.256698\n4      Israel  25523.277100\n5  Madagascar   1634.047282",
      "text/html": "<div>\n<style scoped>\n    .dataframe tbody tr th:only-of-type {\n        vertical-align: middle;\n    }\n\n    .dataframe tbody tr th {\n        vertical-align: top;\n    }\n\n    .dataframe thead th {\n        text-align: right;\n    }\n</style>\n<table border=\"1\" class=\"dataframe\">\n  <thead>\n    <tr style=\"text-align: right;\">\n      <th></th>\n      <th>country</th>\n      <th>gdp_per_cap</th>\n    </tr>\n  </thead>\n  <tbody>\n    <tr>\n      <th>1</th>\n      <td>Netherland</td>\n      <td>33724.757780</td>\n    </tr>\n    <tr>\n      <th>2</th>\n      <td>Germany</td>\n      <td>30035.801980</td>\n    </tr>\n    <tr>\n      <th>3</th>\n      <td>Peru</td>\n      <td>4245.256698</td>\n    </tr>\n    <tr>\n      <th>4</th>\n      <td>Israel</td>\n      <td>25523.277100</td>\n    </tr>\n    <tr>\n      <th>5</th>\n      <td>Madagascar</td>\n      <td>1634.047282</td>\n    </tr>\n  </tbody>\n</table>\n</div>"
     },
     "execution_count": 23,
     "metadata": {},
     "output_type": "execute_result"
    }
   ]
  },
  {
   "cell_type": "code",
   "metadata": {
    "id": "ks1yCkmy9D1f"
   },
   "source": [
    "concat_data = pd.concat([country_gdp, country_info], axis = 0)\n",
    "# concat_data = pd.concat((country_gdp, country_info), axis = 0)\n",
    "concat_data"
   ],
   "execution_count": 30,
   "outputs": [
    {
     "data": {
      "text/plain": "      country   gdp_per_cap    year  population continent\n1  Netherland  33724.757780     NaN         NaN       NaN\n2     Germany  30035.801980     NaN         NaN       NaN\n3        Peru   4245.256698     NaN         NaN       NaN\n4      Israel  25523.277100     NaN         NaN       NaN\n5  Madagascar   1634.047282     NaN         NaN       NaN\n0  Netherland           NaN  2002.0  16122830.0    Europe\n2        Peru           NaN  1957.0   9146100.0  Americas\n3      Israel           NaN  2007.0   6426679.0      asia\n4  Madagascar           NaN  1967.0   6334556.0    Africa",
      "text/html": "<div>\n<style scoped>\n    .dataframe tbody tr th:only-of-type {\n        vertical-align: middle;\n    }\n\n    .dataframe tbody tr th {\n        vertical-align: top;\n    }\n\n    .dataframe thead th {\n        text-align: right;\n    }\n</style>\n<table border=\"1\" class=\"dataframe\">\n  <thead>\n    <tr style=\"text-align: right;\">\n      <th></th>\n      <th>country</th>\n      <th>gdp_per_cap</th>\n      <th>year</th>\n      <th>population</th>\n      <th>continent</th>\n    </tr>\n  </thead>\n  <tbody>\n    <tr>\n      <th>1</th>\n      <td>Netherland</td>\n      <td>33724.757780</td>\n      <td>NaN</td>\n      <td>NaN</td>\n      <td>NaN</td>\n    </tr>\n    <tr>\n      <th>2</th>\n      <td>Germany</td>\n      <td>30035.801980</td>\n      <td>NaN</td>\n      <td>NaN</td>\n      <td>NaN</td>\n    </tr>\n    <tr>\n      <th>3</th>\n      <td>Peru</td>\n      <td>4245.256698</td>\n      <td>NaN</td>\n      <td>NaN</td>\n      <td>NaN</td>\n    </tr>\n    <tr>\n      <th>4</th>\n      <td>Israel</td>\n      <td>25523.277100</td>\n      <td>NaN</td>\n      <td>NaN</td>\n      <td>NaN</td>\n    </tr>\n    <tr>\n      <th>5</th>\n      <td>Madagascar</td>\n      <td>1634.047282</td>\n      <td>NaN</td>\n      <td>NaN</td>\n      <td>NaN</td>\n    </tr>\n    <tr>\n      <th>0</th>\n      <td>Netherland</td>\n      <td>NaN</td>\n      <td>2002.0</td>\n      <td>16122830.0</td>\n      <td>Europe</td>\n    </tr>\n    <tr>\n      <th>2</th>\n      <td>Peru</td>\n      <td>NaN</td>\n      <td>1957.0</td>\n      <td>9146100.0</td>\n      <td>Americas</td>\n    </tr>\n    <tr>\n      <th>3</th>\n      <td>Israel</td>\n      <td>NaN</td>\n      <td>2007.0</td>\n      <td>6426679.0</td>\n      <td>asia</td>\n    </tr>\n    <tr>\n      <th>4</th>\n      <td>Madagascar</td>\n      <td>NaN</td>\n      <td>1967.0</td>\n      <td>6334556.0</td>\n      <td>Africa</td>\n    </tr>\n  </tbody>\n</table>\n</div>"
     },
     "execution_count": 30,
     "metadata": {},
     "output_type": "execute_result"
    }
   ]
  },
  {
   "cell_type": "code",
   "metadata": {
    "id": "ZsIq27Oy9E3X"
   },
   "source": [
    "concat_data['country'].isnull()# Answer 3"
   ],
   "execution_count": 40,
   "outputs": [
    {
     "data": {
      "text/plain": "1    False\n2    False\n3    False\n4    False\n5    False\n0    False\n2    False\n3    False\n4    False\nName: country, dtype: bool"
     },
     "execution_count": 40,
     "metadata": {},
     "output_type": "execute_result"
    }
   ]
  },
  {
   "cell_type": "code",
   "metadata": {
    "id": "SUWP8Wj29Fg3"
   },
   "source": [
    "for column in concat_data.columns:\n",
    "    sum = 0\n",
    "    for row in concat_data[column].isnull():\n",
    "        if row:\n",
    "            sum += 1\n",
    "    print(sum)\n",
    "\n",
    "\n",
    "# for indx, x in enumerate(concat_data.keys()):\n",
    "#     sum = 0\n",
    "#     for y in concat_data[x].isnull():\n",
    "#         if concat_data.at(x, y):\n",
    "#             sum += 1\n",
    "# print(sum)\n",
    "\n",
    "# for column in concat_data.columns:\n",
    "#     print(column)"
   ],
   "execution_count": 42,
   "outputs": [
    {
     "name": "stdout",
     "output_type": "stream",
     "text": [
      "0\n",
      "4\n",
      "5\n",
      "5\n",
      "5\n"
     ]
    }
   ]
  },
  {
   "cell_type": "markdown",
   "metadata": {
    "id": "_uwL4BbE4YoB"
   },
   "source": [
    "## 8. `DataFrame` fancy table printing"
   ]
  },
  {
   "cell_type": "markdown",
   "metadata": {
    "id": "P_yOZvv84YoC"
   },
   "source": [
    "In the next two cells we are going to define a fancy way to visualize the data of multiple `DataFrame` objects. Let's first use the `IPython.display` library, which allows us to view the contents of `DataFrame` objects individually, in a table fancy way:"
   ]
  },
  {
   "cell_type": "code",
   "metadata": {
    "id": "EAnbkqF34YoC",
    "outputId": "804c6f16-2a31-4cec-a2e3-b507d0c15e45"
   },
   "source": [
    "from IPython.display import display, HTML\n",
    "\n",
    "display(pd.concat([ser1, ser2], axis=1))"
   ],
   "execution_count": 43,
   "outputs": [
    {
     "data": {
      "text/plain": "     0    1\n1    A  NaN\n2    B  NaN\n3    C  NaN\n4  NaN    D\n5  NaN    E\n6  NaN    F",
      "text/html": "<div>\n<style scoped>\n    .dataframe tbody tr th:only-of-type {\n        vertical-align: middle;\n    }\n\n    .dataframe tbody tr th {\n        vertical-align: top;\n    }\n\n    .dataframe thead th {\n        text-align: right;\n    }\n</style>\n<table border=\"1\" class=\"dataframe\">\n  <thead>\n    <tr style=\"text-align: right;\">\n      <th></th>\n      <th>0</th>\n      <th>1</th>\n    </tr>\n  </thead>\n  <tbody>\n    <tr>\n      <th>1</th>\n      <td>A</td>\n      <td>NaN</td>\n    </tr>\n    <tr>\n      <th>2</th>\n      <td>B</td>\n      <td>NaN</td>\n    </tr>\n    <tr>\n      <th>3</th>\n      <td>C</td>\n      <td>NaN</td>\n    </tr>\n    <tr>\n      <th>4</th>\n      <td>NaN</td>\n      <td>D</td>\n    </tr>\n    <tr>\n      <th>5</th>\n      <td>NaN</td>\n      <td>E</td>\n    </tr>\n    <tr>\n      <th>6</th>\n      <td>NaN</td>\n      <td>F</td>\n    </tr>\n  </tbody>\n</table>\n</div>"
     },
     "metadata": {},
     "output_type": "display_data"
    }
   ]
  },
  {
   "cell_type": "markdown",
   "metadata": {
    "id": "9Yw_Dp2o4YoG"
   },
   "source": [
    "Now let's look at a function defined by us, which allows us to evidence the data of multiple `DataFrame` objects. It is not necessary for now to have a complete understanding of the following function. What is important at this time is knowing how to use it."
   ]
  },
  {
   "cell_type": "code",
   "metadata": {
    "id": "W5eEZIU8wqlj"
   },
   "source": [
    "class display(object):\n",
    "    \"\"\"Display HTML representation of multiple objects\"\"\"\n",
    "    template = \"\"\"<div style=\"float: left; padding: 10px;\">\n",
    "    <p style='font-family:\"Courier New\", Courier, monospace'>{0}</p>{1}\n",
    "    </div>\"\"\"\n",
    "    def __init__(self, *args):\n",
    "        self.args = args\n",
    "        \n",
    "    def _repr_html_(self):\n",
    "        return '\\n'.join(self.template.format(a, eval(a)._repr_html_())\n",
    "                         for a in self.args)\n",
    "    \n",
    "    def __repr__(self):\n",
    "        return '\\n\\n'.join(a + '\\n' + repr(eval(a))\n",
    "                           for a in self.args)"
   ],
   "execution_count": 44,
   "outputs": []
  },
  {
   "cell_type": "markdown",
   "metadata": {
    "id": "8TSJlkZ94YoJ"
   },
   "source": [
    "Let's also define a user function that allows us to create a `DataFrame` quickly using *Dictionary Comprehension*. This function transforms an input string into a square array that is later converted to a `DataFrame` where the column names are each of the characters in the string:"
   ]
  },
  {
   "cell_type": "code",
   "metadata": {
    "id": "TBMdkEUuwF5Q",
    "colab": {
     "base_uri": "https://localhost:8080/",
     "height": 142
    },
    "outputId": "63ffaec3-edbe-42ad-aa06-ba4f9cd67cf9"
   },
   "source": [
    "def make_df(cols, ind):\n",
    "    \"\"\"Quickly make a DataFrame\"\"\"\n",
    "    data = {c: [str(c) + str(i) for i in ind]\n",
    "            for c in cols}\n",
    "    return pd.DataFrame(data, ind)\n",
    "\n",
    "# example DataFrame\n",
    "make_df('ABC', range(3))"
   ],
   "execution_count": 45,
   "outputs": [
    {
     "data": {
      "text/plain": "    A   B   C\n0  A0  B0  C0\n1  A1  B1  C1\n2  A2  B2  C2",
      "text/html": "<div>\n<style scoped>\n    .dataframe tbody tr th:only-of-type {\n        vertical-align: middle;\n    }\n\n    .dataframe tbody tr th {\n        vertical-align: top;\n    }\n\n    .dataframe thead th {\n        text-align: right;\n    }\n</style>\n<table border=\"1\" class=\"dataframe\">\n  <thead>\n    <tr style=\"text-align: right;\">\n      <th></th>\n      <th>A</th>\n      <th>B</th>\n      <th>C</th>\n    </tr>\n  </thead>\n  <tbody>\n    <tr>\n      <th>0</th>\n      <td>A0</td>\n      <td>B0</td>\n      <td>C0</td>\n    </tr>\n    <tr>\n      <th>1</th>\n      <td>A1</td>\n      <td>B1</td>\n      <td>C1</td>\n    </tr>\n    <tr>\n      <th>2</th>\n      <td>A2</td>\n      <td>B2</td>\n      <td>C2</td>\n    </tr>\n  </tbody>\n</table>\n</div>"
     },
     "execution_count": 45,
     "metadata": {},
     "output_type": "execute_result"
    }
   ]
  },
  {
   "cell_type": "markdown",
   "metadata": {
    "id": "dJlt7pLAwbJV"
   },
   "source": [
    "The function also allows us to concatenate higher-dimensional objects, such as ``DataFrame`` objects:"
   ]
  },
  {
   "cell_type": "code",
   "metadata": {
    "id": "byfgkY19wYCP",
    "colab": {
     "base_uri": "https://localhost:8080/",
     "height": 222
    },
    "outputId": "5ac87b7b-3b29-4169-e63f-8cb82c8674c5"
   },
   "source": [
    "df1 = make_df('AB', [1, 2])\n",
    "df2 = make_df('AB', [3, 4])\n",
    "display('df1', 'df2', 'pd.concat([df1, df2], axis = 0)')"
   ],
   "execution_count": 48,
   "outputs": [
    {
     "data": {
      "text/plain": "df1\n    A   B\n1  A1  B1\n2  A2  B2\n\ndf2\n    A   B\n3  A3  B3\n4  A4  B4\n\npd.concat([df1, df2], axis = 0)\n    A   B\n1  A1  B1\n2  A2  B2\n3  A3  B3\n4  A4  B4",
      "text/html": "<div style=\"float: left; padding: 10px;\">\n    <p style='font-family:\"Courier New\", Courier, monospace'>df1</p><div>\n<style scoped>\n    .dataframe tbody tr th:only-of-type {\n        vertical-align: middle;\n    }\n\n    .dataframe tbody tr th {\n        vertical-align: top;\n    }\n\n    .dataframe thead th {\n        text-align: right;\n    }\n</style>\n<table border=\"1\" class=\"dataframe\">\n  <thead>\n    <tr style=\"text-align: right;\">\n      <th></th>\n      <th>A</th>\n      <th>B</th>\n    </tr>\n  </thead>\n  <tbody>\n    <tr>\n      <th>1</th>\n      <td>A1</td>\n      <td>B1</td>\n    </tr>\n    <tr>\n      <th>2</th>\n      <td>A2</td>\n      <td>B2</td>\n    </tr>\n  </tbody>\n</table>\n</div>\n    </div>\n<div style=\"float: left; padding: 10px;\">\n    <p style='font-family:\"Courier New\", Courier, monospace'>df2</p><div>\n<style scoped>\n    .dataframe tbody tr th:only-of-type {\n        vertical-align: middle;\n    }\n\n    .dataframe tbody tr th {\n        vertical-align: top;\n    }\n\n    .dataframe thead th {\n        text-align: right;\n    }\n</style>\n<table border=\"1\" class=\"dataframe\">\n  <thead>\n    <tr style=\"text-align: right;\">\n      <th></th>\n      <th>A</th>\n      <th>B</th>\n    </tr>\n  </thead>\n  <tbody>\n    <tr>\n      <th>3</th>\n      <td>A3</td>\n      <td>B3</td>\n    </tr>\n    <tr>\n      <th>4</th>\n      <td>A4</td>\n      <td>B4</td>\n    </tr>\n  </tbody>\n</table>\n</div>\n    </div>\n<div style=\"float: left; padding: 10px;\">\n    <p style='font-family:\"Courier New\", Courier, monospace'>pd.concat([df1, df2], axis = 0)</p><div>\n<style scoped>\n    .dataframe tbody tr th:only-of-type {\n        vertical-align: middle;\n    }\n\n    .dataframe tbody tr th {\n        vertical-align: top;\n    }\n\n    .dataframe thead th {\n        text-align: right;\n    }\n</style>\n<table border=\"1\" class=\"dataframe\">\n  <thead>\n    <tr style=\"text-align: right;\">\n      <th></th>\n      <th>A</th>\n      <th>B</th>\n    </tr>\n  </thead>\n  <tbody>\n    <tr>\n      <th>1</th>\n      <td>A1</td>\n      <td>B1</td>\n    </tr>\n    <tr>\n      <th>2</th>\n      <td>A2</td>\n      <td>B2</td>\n    </tr>\n    <tr>\n      <th>3</th>\n      <td>A3</td>\n      <td>B3</td>\n    </tr>\n    <tr>\n      <th>4</th>\n      <td>A4</td>\n      <td>B4</td>\n    </tr>\n  </tbody>\n</table>\n</div>\n    </div>"
     },
     "execution_count": 48,
     "metadata": {},
     "output_type": "execute_result"
    }
   ]
  },
  {
   "cell_type": "code",
   "metadata": {
    "id": "RULRT3vewaji",
    "colab": {
     "base_uri": "https://localhost:8080/",
     "height": 160
    },
    "outputId": "4c0dc9ed-5f2b-4491-8d51-bd226f428e11"
   },
   "source": [
    "df3 = make_df('AB', [0, 1])\n",
    "df4 = make_df('CD', [0, 1])\n",
    "display('df3', 'df4', \"pd.concat([df3, df4], axis=1)\")"
   ],
   "execution_count": null,
   "outputs": [
    {
     "output_type": "execute_result",
     "data": {
      "text/html": [
       "<div style=\"float: left; padding: 10px;\">\n",
       "    <p style='font-family:\"Courier New\", Courier, monospace'>df3</p><div>\n",
       "<style scoped>\n",
       "    .dataframe tbody tr th:only-of-type {\n",
       "        vertical-align: middle;\n",
       "    }\n",
       "\n",
       "    .dataframe tbody tr th {\n",
       "        vertical-align: top;\n",
       "    }\n",
       "\n",
       "    .dataframe thead th {\n",
       "        text-align: right;\n",
       "    }\n",
       "</style>\n",
       "<table border=\"1\" class=\"dataframe\">\n",
       "  <thead>\n",
       "    <tr style=\"text-align: right;\">\n",
       "      <th></th>\n",
       "      <th>A</th>\n",
       "      <th>B</th>\n",
       "    </tr>\n",
       "  </thead>\n",
       "  <tbody>\n",
       "    <tr>\n",
       "      <th>0</th>\n",
       "      <td>A0</td>\n",
       "      <td>B0</td>\n",
       "    </tr>\n",
       "    <tr>\n",
       "      <th>1</th>\n",
       "      <td>A1</td>\n",
       "      <td>B1</td>\n",
       "    </tr>\n",
       "  </tbody>\n",
       "</table>\n",
       "</div>\n",
       "    </div>\n",
       "<div style=\"float: left; padding: 10px;\">\n",
       "    <p style='font-family:\"Courier New\", Courier, monospace'>df4</p><div>\n",
       "<style scoped>\n",
       "    .dataframe tbody tr th:only-of-type {\n",
       "        vertical-align: middle;\n",
       "    }\n",
       "\n",
       "    .dataframe tbody tr th {\n",
       "        vertical-align: top;\n",
       "    }\n",
       "\n",
       "    .dataframe thead th {\n",
       "        text-align: right;\n",
       "    }\n",
       "</style>\n",
       "<table border=\"1\" class=\"dataframe\">\n",
       "  <thead>\n",
       "    <tr style=\"text-align: right;\">\n",
       "      <th></th>\n",
       "      <th>C</th>\n",
       "      <th>D</th>\n",
       "    </tr>\n",
       "  </thead>\n",
       "  <tbody>\n",
       "    <tr>\n",
       "      <th>0</th>\n",
       "      <td>C0</td>\n",
       "      <td>D0</td>\n",
       "    </tr>\n",
       "    <tr>\n",
       "      <th>1</th>\n",
       "      <td>C1</td>\n",
       "      <td>D1</td>\n",
       "    </tr>\n",
       "  </tbody>\n",
       "</table>\n",
       "</div>\n",
       "    </div>\n",
       "<div style=\"float: left; padding: 10px;\">\n",
       "    <p style='font-family:\"Courier New\", Courier, monospace'>pd.concat([df3, df4], axis=1)</p><div>\n",
       "<style scoped>\n",
       "    .dataframe tbody tr th:only-of-type {\n",
       "        vertical-align: middle;\n",
       "    }\n",
       "\n",
       "    .dataframe tbody tr th {\n",
       "        vertical-align: top;\n",
       "    }\n",
       "\n",
       "    .dataframe thead th {\n",
       "        text-align: right;\n",
       "    }\n",
       "</style>\n",
       "<table border=\"1\" class=\"dataframe\">\n",
       "  <thead>\n",
       "    <tr style=\"text-align: right;\">\n",
       "      <th></th>\n",
       "      <th>A</th>\n",
       "      <th>B</th>\n",
       "      <th>C</th>\n",
       "      <th>D</th>\n",
       "    </tr>\n",
       "  </thead>\n",
       "  <tbody>\n",
       "    <tr>\n",
       "      <th>0</th>\n",
       "      <td>A0</td>\n",
       "      <td>B0</td>\n",
       "      <td>C0</td>\n",
       "      <td>D0</td>\n",
       "    </tr>\n",
       "    <tr>\n",
       "      <th>1</th>\n",
       "      <td>A1</td>\n",
       "      <td>B1</td>\n",
       "      <td>C1</td>\n",
       "      <td>D1</td>\n",
       "    </tr>\n",
       "  </tbody>\n",
       "</table>\n",
       "</div>\n",
       "    </div>"
      ],
      "text/plain": [
       "df3\n",
       "    A   B\n",
       "0  A0  B0\n",
       "1  A1  B1\n",
       "\n",
       "df4\n",
       "    C   D\n",
       "0  C0  D0\n",
       "1  C1  D1\n",
       "\n",
       "pd.concat([df3, df4], axis=1)\n",
       "    A   B   C   D\n",
       "0  A0  B0  C0  D0\n",
       "1  A1  B1  C1  D1"
      ]
     },
     "metadata": {
      "tags": []
     },
     "execution_count": 82
    }
   ]
  },
  {
   "cell_type": "markdown",
   "metadata": {
    "id": "S2kEJlDN4YoU"
   },
   "source": [
    "## Conclusions"
   ]
  },
  {
   "cell_type": "markdown",
   "metadata": {
    "id": "oL4uLFAN4YoW"
   },
   "source": [
    "We have learned the fundamentals of the `pandas` library for data analysis, which allows us to execute operations with stored data efficiently, add records and handle missing data. We also highlighted some of the most important functions of Pandas' `Series` and `DataFrame` objects, as well as following a Data Wrangling procedure.\n",
    "\n",
    "In the next case study, we will review the fundamentals of data visualization libraries, so that we can identify visual patterns in our data."
   ]
  }
 ]
}
