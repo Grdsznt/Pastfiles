{
 "cells": [
  {
   "cell_type": "code",
   "execution_count": 1,
   "id": "initial_id",
   "metadata": {
    "collapsed": true,
    "ExecuteTime": {
     "end_time": "2023-09-01T14:48:49.593841100Z",
     "start_time": "2023-09-01T14:48:49.530977300Z"
    }
   },
   "outputs": [],
   "source": [
    "import pandas as pd\n",
    "import numpy as np\n",
    "\n",
    "import matplotlib.pyplot as plt\n",
    "from statsmodels.tsa.ar_model import AutoReg"
   ]
  },
  {
   "cell_type": "code",
   "execution_count": 4,
   "outputs": [
    {
     "name": "stdout",
     "output_type": "stream",
     "text": [
      "Requirement already satisfied: statsmodels in c:\\users\\edwin\\anaconda3\\envs\\financevenv\\lib\\site-packages (0.14.0)\n",
      "Requirement already satisfied: packaging>=21.3 in c:\\users\\edwin\\anaconda3\\envs\\financevenv\\lib\\site-packages (from statsmodels) (21.3)\n",
      "Requirement already satisfied: numpy>=1.18 in c:\\users\\edwin\\anaconda3\\envs\\financevenv\\lib\\site-packages (from statsmodels) (1.23.4)\n",
      "Requirement already satisfied: pandas>=1.0 in c:\\users\\edwin\\anaconda3\\envs\\financevenv\\lib\\site-packages (from statsmodels) (1.5.1)\n",
      "Requirement already satisfied: scipy!=1.9.2,>=1.4 in c:\\users\\edwin\\anaconda3\\envs\\financevenv\\lib\\site-packages (from statsmodels) (1.9.3)\n",
      "Requirement already satisfied: patsy>=0.5.2 in c:\\users\\edwin\\anaconda3\\envs\\financevenv\\lib\\site-packages (from statsmodels) (0.5.3)\n",
      "Requirement already satisfied: pyparsing!=3.0.5,>=2.0.2 in c:\\users\\edwin\\anaconda3\\envs\\financevenv\\lib\\site-packages (from packaging>=21.3->statsmodels) (3.0.9)\n",
      "Requirement already satisfied: python-dateutil>=2.8.1 in c:\\users\\edwin\\anaconda3\\envs\\financevenv\\lib\\site-packages (from pandas>=1.0->statsmodels) (2.8.2)\n",
      "Requirement already satisfied: pytz>=2020.1 in c:\\users\\edwin\\anaconda3\\envs\\financevenv\\lib\\site-packages (from pandas>=1.0->statsmodels) (2022.1)\n",
      "Requirement already satisfied: six in c:\\users\\edwin\\anaconda3\\envs\\financevenv\\lib\\site-packages (from patsy>=0.5.2->statsmodels) (1.16.0)\n"
     ]
    }
   ],
   "source": [
    "!pip install statsmodels --upgrade"
   ],
   "metadata": {
    "collapsed": false,
    "ExecuteTime": {
     "end_time": "2023-09-01T14:49:26.371448600Z",
     "start_time": "2023-09-01T14:49:23.727358300Z"
    }
   },
   "id": "8036ace510632c77"
  },
  {
   "cell_type": "code",
   "execution_count": null,
   "outputs": [],
   "source": [
    "df = pd.read_csv('', index_col=0, parse_dates=True) #index col 0 makes dates the index\n",
    "X = df.values\n",
    "\n",
    "print(df.shape) # shape\n",
    "print(df.head()) #orig\n",
    "print(X) # Only temp"
   ],
   "metadata": {
    "collapsed": false
   },
   "id": "7f07681db9d16780"
  },
  {
   "cell_type": "code",
   "execution_count": null,
   "outputs": [],
   "source": [
    "df.plot()"
   ],
   "metadata": {
    "collapsed": false
   },
   "id": "a0cc7ad7beaaf8d4"
  },
  {
   "cell_type": "code",
   "execution_count": 5,
   "outputs": [
    {
     "ename": "NameError",
     "evalue": "name 'X' is not defined",
     "output_type": "error",
     "traceback": [
      "\u001B[1;31m---------------------------------------------------------------------------\u001B[0m",
      "\u001B[1;31mNameError\u001B[0m                                 Traceback (most recent call last)",
      "Cell \u001B[1;32mIn [5], line 3\u001B[0m\n\u001B[0;32m      1\u001B[0m \u001B[38;5;28;01mfrom\u001B[39;00m \u001B[38;5;21;01mstatsmodels\u001B[39;00m\u001B[38;5;21;01m.\u001B[39;00m\u001B[38;5;21;01mtsa\u001B[39;00m\u001B[38;5;21;01m.\u001B[39;00m\u001B[38;5;21;01mstattools\u001B[39;00m \u001B[38;5;28;01mimport\u001B[39;00m kpss\n\u001B[1;32m----> 3\u001B[0m dftest \u001B[38;5;241m=\u001B[39m kpss(\u001B[43mX\u001B[49m, \u001B[38;5;124m'\u001B[39m\u001B[38;5;124mc\u001B[39m\u001B[38;5;124m'\u001B[39m)\n\u001B[0;32m      5\u001B[0m \u001B[38;5;28mprint\u001B[39m(dftest[\u001B[38;5;241m0\u001B[39m]) \u001B[38;5;66;03m# KPSS SCORE\u001B[39;00m\n\u001B[0;32m      6\u001B[0m \u001B[38;5;28mprint\u001B[39m(dftest[\u001B[38;5;241m1\u001B[39m]) \u001B[38;5;66;03m# P val\u001B[39;00m\n",
      "\u001B[1;31mNameError\u001B[0m: name 'X' is not defined"
     ]
    }
   ],
   "source": [
    "from statsmodels.tsa.stattools import kpss\n",
    "\n",
    "dftest = kpss(X, 'c')\n",
    "\n",
    "print(dftest[0]) # KPSS SCORE\n",
    "print(dftest[1]) # P val\n",
    "print(dftest[2]) #Lags\n",
    "print(dftest[3]) # observations\n",
    "print(dftest[4]) #Critical values"
   ],
   "metadata": {
    "collapsed": false,
    "ExecuteTime": {
     "end_time": "2023-09-01T14:57:50.874928600Z",
     "start_time": "2023-09-01T14:57:50.824341900Z"
    }
   },
   "id": "dc42d79182c009cf"
  },
  {
   "cell_type": "code",
   "execution_count": null,
   "outputs": [],
   "source": [
    "from statsmodels.graphics.tsaplots import plot_acf, plot_pacf\n",
    "\n",
    "acf = plot_acf(X, lags = 50)\n",
    "pacf = plot_pacf(X, lags=50)\n"
   ],
   "metadata": {
    "collapsed": false
   },
   "id": "9a82be90a3c55a8d"
  },
  {
   "cell_type": "code",
   "execution_count": null,
   "outputs": [],
   "source": [
    "train = X[:len(X)-7]\n",
    "test = X[len(X)-7:]\n",
    "\n",
    "model = AutoReg(train, lags=10).fit()\n"
   ],
   "metadata": {
    "collapsed": false
   },
   "id": "b1230ee6ce9cdde"
  },
  {
   "cell_type": "code",
   "execution_count": null,
   "outputs": [],
   "source": [
    "model.summary()"
   ],
   "metadata": {
    "collapsed": false
   },
   "id": "ece1fc5bf7afde1b"
  },
  {
   "cell_type": "code",
   "execution_count": null,
   "outputs": [],
   "source": [
    "pred = model.predict(start=len(train), end = len(X)-1, dynamic = False)\n"
   ],
   "metadata": {
    "collapsed": false
   },
   "id": "d9226f9af37179ca"
  },
  {
   "cell_type": "code",
   "execution_count": null,
   "outputs": [],
   "source": [
    "plt.plot(pred)\n",
    "plt.plot(test, color = 'red')\n"
   ],
   "metadata": {
    "collapsed": false
   },
   "id": "5a8f06010f5b9611"
  },
  {
   "cell_type": "code",
   "execution_count": null,
   "outputs": [],
   "source": [
    "from sklearn.metrics import mean_squared_error\n",
    "\n",
    "print(mean_squared_error(test, pred, squared=False))\n"
   ],
   "metadata": {
    "collapsed": false
   },
   "id": "b2f7322e6e05d82d"
  },
  {
   "cell_type": "code",
   "execution_count": null,
   "outputs": [],
   "source": [
    "pred = model.predict(start=len(train), end = len(X)+10, dynamic = False)"
   ],
   "metadata": {
    "collapsed": false
   },
   "id": "5e228e55f956a647"
  }
 ],
 "metadata": {
  "kernelspec": {
   "display_name": "Python 3",
   "language": "python",
   "name": "python3"
  },
  "language_info": {
   "codemirror_mode": {
    "name": "ipython",
    "version": 2
   },
   "file_extension": ".py",
   "mimetype": "text/x-python",
   "name": "python",
   "nbconvert_exporter": "python",
   "pygments_lexer": "ipython2",
   "version": "2.7.6"
  }
 },
 "nbformat": 4,
 "nbformat_minor": 5
}
